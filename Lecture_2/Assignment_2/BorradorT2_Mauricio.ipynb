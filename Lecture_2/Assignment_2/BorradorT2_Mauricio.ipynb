{
 "cells": [
  {
   "cell_type": "markdown",
   "metadata": {},
   "source": [
    "# 1 Assignment\n",
    "\n",
    "It is totally prohibited to use any kind of loop. You can use stackoverflow. If you copy codes from previous answers, explain each step. No explanation is `0 points`."
   ]
  },
  {
   "cell_type": "markdown",
   "metadata": {},
   "source": [
    "## 1.1 Tuple\n",
    "\n",
    "\n",
    "\n",
    "1. Print the first item of the second item of `tuple1` object. **Hint: Use indexing**<br><br>\n",
    "2. Print the last item of the `tuple1` object.**Hint: Use indexing**<br><br>\n",
    "3. Change the value \"orange\" for \"pink grapefruit\". Comment the output. **Hint: Is it possible?** <br><br>\n",
    "4. Print the length of `tuple1`. **Hint: Length function**<br><br>\n",
    "5. Sum all the elements of tuple2 and describe your steps and explain each of them. **Hint: Use `map` function.**<br><br>\n",
    "6. Generate a new tuple object named as `tuple3` with the half values of `tuple2`. This tuple should be similar as `tuple2`, tuple of lists.  **Hint: Use `map` funciont.**<br><br>"
   ]
  },
  {
   "cell_type": "code",
   "execution_count": 1,
   "metadata": {},
   "outputs": [],
   "source": [
    "tuple1 = (\"Orange\", [10, 20, 30], (5, 15, 25))\n",
    "tuple2 = ([7, 8], [9, 1], [10, 7])"
   ]
  },
  {
   "cell_type": "code",
   "execution_count": 4,
   "metadata": {},
   "outputs": [
    {
     "name": "stdout",
     "output_type": "stream",
     "text": [
      "10\n"
     ]
    }
   ],
   "source": [
    "#1\n",
    "print(tuple1[1][0])"
   ]
  },
  {
   "cell_type": "code",
   "execution_count": 5,
   "metadata": {},
   "outputs": [
    {
     "name": "stdout",
     "output_type": "stream",
     "text": [
      "(5, 15, 25)\n"
     ]
    }
   ],
   "source": [
    "#2\n",
    "print(tuple1[-1])"
   ]
  },
  {
   "cell_type": "code",
   "execution_count": 6,
   "metadata": {},
   "outputs": [
    {
     "ename": "TypeError",
     "evalue": "'tuple' object does not support item assignment",
     "output_type": "error",
     "traceback": [
      "\u001b[1;31m---------------------------------------------------------------------------\u001b[0m",
      "\u001b[1;31mTypeError\u001b[0m                                 Traceback (most recent call last)",
      "Cell \u001b[1;32mIn[6], line 2\u001b[0m\n\u001b[0;32m      1\u001b[0m \u001b[38;5;66;03m#3\u001b[39;00m\n\u001b[1;32m----> 2\u001b[0m tuple1[\u001b[38;5;241m0\u001b[39m] \u001b[38;5;241m=\u001b[39m \u001b[38;5;124m\"\u001b[39m\u001b[38;5;124mpink grapefruit\u001b[39m\u001b[38;5;124m\"\u001b[39m\n",
      "\u001b[1;31mTypeError\u001b[0m: 'tuple' object does not support item assignment"
     ]
    }
   ],
   "source": [
    "#3\n",
    "tuple1[0] = \"pink grapefruit\"\n",
    "#As the object it's a tuple, it cannot be modified. That's why an error appears in the output."
   ]
  },
  {
   "cell_type": "code",
   "execution_count": 16,
   "metadata": {},
   "outputs": [
    {
     "name": "stdout",
     "output_type": "stream",
     "text": [
      "3\n"
     ]
    }
   ],
   "source": [
    "#4\n",
    "print(len(tuple1))"
   ]
  },
  {
   "cell_type": "code",
   "execution_count": 18,
   "metadata": {},
   "outputs": [
    {
     "name": "stdout",
     "output_type": "stream",
     "text": [
      "42\n"
     ]
    }
   ],
   "source": [
    "#5\n",
    "tuple2_sum = sum(map(sum, tuple2))\n",
    "print(tuple2_sum)\n",
    "# \"map()\" generates an iterator based on the function applied to an iterable (here, a tuple, although it could also be a list, dictionary, etc.).\n",
    "# \"map\" syntax is map(a, b), where a = function-to-execute, and b = object-to-iterate. In this case, a = sum, and b = tuple2.\n",
    "# So the inner function sums the numbers in each of the three lists encompassed in tuple2.\n",
    "# Then, we applied \"sum\" to the result (the list: [15, 10, 17]). Finally, we print the result."
   ]
  },
  {
   "cell_type": "code",
   "execution_count": 7,
   "metadata": {},
   "outputs": [
    {
     "name": "stdout",
     "output_type": "stream",
     "text": [
      "([3.5, 4.0], [4.5, 0.5], [5.0, 3.5])\n"
     ]
    }
   ],
   "source": [
    "#6a\n",
    "tuple3 = tuple(map(lambda x: list(map(lambda y: y/2, x)), tuple2))\n",
    "print(tuple3)"
   ]
  },
  {
   "cell_type": "code",
   "execution_count": 22,
   "metadata": {},
   "outputs": [
    {
     "name": "stdout",
     "output_type": "stream",
     "text": [
      "([3.5, 4.0], [4.5, 0.5], [5.0, 3.5])\n"
     ]
    }
   ],
   "source": [
    "#6b\n",
    "def half(nested_list):\n",
    "    return [item / 2 for item in nested_list]\n",
    "\n",
    "# Aplicando la función a cada sublista de tuple2\n",
    "tuple3 = tuple(map(half, tuple2))\n",
    "print(tuple3)"
   ]
  },
  {
   "cell_type": "markdown",
   "metadata": {},
   "source": [
    "## 1.2 Lists\n",
    "1. Show the indices of the `np.nan` values  in the `f_list` list. We want to see this output: `The indices 0, 1, 4, 7 have np.nan values.` **Hint: Use print function and [f-strings](https://realpython.com/python-f-strings/) to insert the indices values.**<br><br>\n",
    "\n",
    "2. Replicate 4 times the values of the list `p2_list`. We expect an ouput like this: `[ 2 , 3, 4, 5, 2 , 3, 4, 5, 2 , 3, 4, 5, 2 , 3, 4, 5]`.  **Hint: Use multiplication function in `lists`and see the output.**<br><br>\n",
    "3. Print the length of `f_list`. **Hint: Length function**<br><br>\n",
    "4. Print `My teacher assistant is so boring.` using `text1` list. **Hint: Use the [`join` function](https://stackoverflow.com/questions/493819/why-is-it-string-joinlist-instead-of-list-joinstring)**<br><br>\n",
    "5. Print `My TA is so boring, but is very funny.` using `text1` list.**Hint: Use the `join` function, and `extend` method.**<br><br>\n",
    "6. Print <br>\n",
    "`The max value of values1 is 86 and is located in the 0 index. ` <br>\n",
    "`The min value of values1 is 0 and is located in the 7 index. ` <br> **Hint: Use the `f-string`, `min`, and `max` functions.**\n",
    "<br>\n",
    "7. Get two lists: `names` and `last_names` using `last_and_name` list. **Hint: Use `map` and `split`.**\n",
    "<br>\n",
    "8. Give only the last names of students who do not have email. Use the `emails` and `last_names` listt. **Hint: Use `map` and `split`.**\n",
    "<br>"
   ]
  },
  {
   "cell_type": "code",
   "execution_count": 9,
   "metadata": {},
   "outputs": [],
   "source": [
    "import numpy as np"
   ]
  },
  {
   "cell_type": "code",
   "execution_count": 11,
   "metadata": {},
   "outputs": [],
   "source": [
    "f_list = [np.nan , np.nan, \"Austria\", \"Germany\", np.nan, \"Pakistan\", \"np.nan\", np.nan ]"
   ]
  },
  {
   "cell_type": "code",
   "execution_count": 6,
   "metadata": {},
   "outputs": [
    {
     "name": "stdout",
     "output_type": "stream",
     "text": [
      "The indices 0, 1, 4, 7 have np.nan values.\n"
     ]
    }
   ],
   "source": [
    "#1\n",
    "\n",
    "import pandas as pd\n",
    "\n",
    "# Convertir la lista en un objeto Series de pandas\n",
    "f_series = pd.Series(f_list)\n",
    "\n",
    "# Usar pandas para encontrar los índices [.index] de los elementos np.nan [.isna()] e ir añadiéndolos a una lista [.tolist()]\n",
    "nan_indices = f_series[pd.isna(f_series)].index.tolist()\n",
    "\n",
    "# Imprimir los índices de los valores np.nan usando map e indicando a la coma (,) como elemento de separación al juntarlos [.join()].\n",
    "print(f\"The indices {', '.join(map(str, nan_indices))} have np.nan values.\")\n",
    "#print(f\"The indices {nan_indices} have np.nan values.\")"
   ]
  },
  {
   "cell_type": "code",
   "execution_count": 8,
   "metadata": {},
   "outputs": [],
   "source": [
    "p2_list = [ 2 , 3, 4, 5 ]"
   ]
  },
  {
   "cell_type": "code",
   "execution_count": 10,
   "metadata": {},
   "outputs": [
    {
     "data": {
      "text/plain": [
       "[2, 3, 4, 5, 2, 3, 4, 5, 2, 3, 4, 5, 2, 3, 4, 5]"
      ]
     },
     "execution_count": 10,
     "metadata": {},
     "output_type": "execute_result"
    }
   ],
   "source": [
    "#2a\n",
    "p2_list*4\n",
    "\n",
    "#2b\n",
    "#p2_list.extend(p2_list*3)\n",
    "#p2_list"
   ]
  },
  {
   "cell_type": "code",
   "execution_count": 12,
   "metadata": {},
   "outputs": [
    {
     "name": "stdout",
     "output_type": "stream",
     "text": [
      "8\n"
     ]
    }
   ],
   "source": [
    "print(len(f_list))"
   ]
  },
  {
   "cell_type": "code",
   "execution_count": 14,
   "metadata": {},
   "outputs": [],
   "source": [
    "text1 = ['My', 'teacher', 'assistant', 'is', 'so', 'boring.']"
   ]
  },
  {
   "cell_type": "code",
   "execution_count": 16,
   "metadata": {},
   "outputs": [
    {
     "name": "stdout",
     "output_type": "stream",
     "text": [
      "My teacher assistant is so boring.\n"
     ]
    }
   ],
   "source": [
    "#4\n",
    "print(' '.join(text1))"
   ]
  },
  {
   "cell_type": "code",
   "execution_count": 18,
   "metadata": {},
   "outputs": [
    {
     "name": "stdout",
     "output_type": "stream",
     "text": [
      "My TA is so boring. but is very funny.\n"
     ]
    }
   ],
   "source": [
    "#5\n",
    "text1[1:3] = ['TA']\n",
    "text1.extend(['but', 'is', 'very', 'funny.'])\n",
    "print(' '.join(text1))"
   ]
  },
  {
   "cell_type": "code",
   "execution_count": 20,
   "metadata": {},
   "outputs": [],
   "source": [
    "values1 = [ 86, 86, 85, 85, 85, 83, 23, 0, 84, 1 ]"
   ]
  },
  {
   "cell_type": "code",
   "execution_count": 22,
   "metadata": {},
   "outputs": [
    {
     "name": "stdout",
     "output_type": "stream",
     "text": [
      "The max value of values1 is 86 and is located in the 0 index.\n",
      "The min value of values1 is 0 and is located in the 7 index.\n"
     ]
    }
   ],
   "source": [
    "#6\n",
    "values1_max = max(values1)\n",
    "maxv_index = values1.index(values1_max)\n",
    "values1_min = min(values1)\n",
    "minv_index = values1.index(values1_min)\n",
    "\n",
    "print(f\"The max value of values1 is {values1_max} and is located in the {maxv_index} index.\")\n",
    "print(f\"The min value of values1 is {values1_min} and is located in the {minv_index} index.\")"
   ]
  },
  {
   "cell_type": "code",
   "execution_count": 32,
   "metadata": {},
   "outputs": [],
   "source": [
    "# These two lists a\n",
    "last_and_name = [ \"CORNEJO SANCHEZ, CHRISTIAN SANTOS\", \"ORELLANA QUISPE, CRISTIAN NASSER\", \"MORALES CHOQUEHUANCA, ANGELICA KARINA\", \"GUIMARAY RIBEYRO, JOSE ROBERTO\", \"CAMACHO GAVIDIA, ABEL FERNANDO\", \"TINTAYA ORIHUELA, MEIR ALVARO\", \"CHAVEZ MARTINEZ, JOSELIN ALEXANDRA\", \"FIGUEROA MURO, LEONEL ARTURO\", \"GOMEZ CRIBILLERO, JOSE FELIPE\", \"PALOMINO SEGUÍN, AFRANIA\", \"LUZON CUEVA, BIANCA MARIETTE\", \"SUAÑA ZEGARRA, ADRIAN ANDRE\", \"SOTO POMACHAGUA, DORKAS YOMIRA JHERMY\", \"FIORENTINO MARTINEZ, LADY ALY\", \"LAMA MAVILA, HECTOR ANDRE\", \"MEZA HINOJO, GUSTAVO\", \"LOZADA MURILLO, PERSEO MARCELO\", \"ZAMBRANO JIMENEZ, MIGUEL ALONZO\", \"JACOBS LUQUE, NICOLAS\", \"VIDAL VIDAL, ROCIO GABRIELA\", \"TORRES ANICAMA, JANE CAMILA\", \"LOPEZ ESTRADA, MARIA ELISA\", \"BOYCO ORAMS, ALEJANDRO\", \"DIAZ BERROSPI, KARLINE ROSMELI\", \"RIEGA ESCALANTE, STEPHY ROSARIO\", \"LEVANO TORRES, VALERIA CECILIA\", \"ESQUIVES BRAVO, SEBASTIAN RENATO\", \"PEREZ GONZALES, JUAN CARLOS\", \"OTERO MAGUIÑA, MARIANA\", \"CLAVO CAMPOS, ANDREA BRIZETH\", \"AGUILAR GARCIA, ERICK JOSUE\", \"CALDAS VELASQUEZ, JOSUE DANIEL\", \"SALAS NUÑEZ BORJA, FABIO MANUEL\", \"PIZARRO VILLANES, FERNANDA NICOLLE\", \"QUILLATUPA MORALES, ANGELA ADELINA\", \"HUANCAYA IDONE, CESAR DANTE\", \"CALVO PORTOCARRERO, GABRIELA ISABEL\", \"IBAÑEZ ABANTO, ANGEL MAURICIO\", \"MELÉNDEZ APONTE, JUAN DIEGO\", \"CRISTIAN SERRANO, ARONE\", \"HINOJOSA CAHUANA, PERCY ALBERTH\", \"ANGLAS GARCÍA, KEVIN ARTURO\", \"ALDAVE ACOSTA, CESAR ERNESTO\", \"NÚÑEZ HUAMÁN, CÉSAR AGUSTO\", \"OBREGON HUAMAN, DIANA EDITH\", \"SOTO PACHERRES, RODRIGO FRANCO\", \"INGARUCA RIVERA, GRETTEL ALEXANDRA\", \"ROJAS HUAMAN, ROSA ANGELA\", \"NEYRA SALAS, DANTE OMAR\", \"HUERTA ESPINOZA, YAJAIRA ALEXANDRA\", \"HUANCA MARTINEZ, JORGE ALBERTO\", \"FLORES CADILLO, ALEXIS\" ]\n",
    "emails = [\"cscornejo@pucp.edu.pe\", \"orellana.cn@pucp.edu.pe\", \"karina.morales@pucp.edu.pe\", \"a20083223@pucp.pe\", \"abel.camacho@pucp.pe\", \"mtintaya@pucp.edu.pe\", \"joselin.chavez@pucp.edu.pe\", \"a20105737@pucp.pe\", \"jfgomezc@pucp.pe\", \"afrania.palomino@pucp.pe\", \"luzon.bianca@pucp.pe\", \"adrian.suanaz@pucp.pe\", \"soto.y@pucp.edu.pe\", \"a20132766@pucp.pe\", \"andre.lama@pucp.edu.pe\", \"gustavo.meza@pucp.edu.pe\", \"pmlozada@pucp.edu.pe\", \"m.zambranoj@pucp.edu.pe\", \"nicolas.jacobs@pucp.edu.pe\", \"gvidal@pucp.edu.pe\", \"jane.torres@pucp.edu.pe\", \"m.lopez@pucp.edu.pe\", \"alejandro.boyco@pucp.edu.pe\", \"a20167070@pucp.edu.pe\", \"riega.stephy@pucp.edu.pe\", \"vlevanot@pucp.edu.pe\", \"sesquives@pucp.edu.pe\", \"perez.juanc@pucp.edu.pe\", \"mariana.otero@pucp.edu.pe\", \"aclavo@pucp.edu.pe\", \"a20182474@pucp.edu.pe\", \"josue.caldas@pucp.edu.pe\", \"fabio.salas@pucp.edu.pe\", \"fernanda.pizarro@pucp.edu.pe\", \"aquillatupa@pucp.pe\", \"\", \"\", \"\", \"\", \"\", \"f0873079@pucp.edu.pe\", \"\", \"\", \"\", \"\", \"\", \"\", \"\", \"\", \"\", \"\", \"flores.alexis@pucp.edu.pe\", ]"
   ]
  },
  {
   "cell_type": "code",
   "execution_count": 34,
   "metadata": {},
   "outputs": [
    {
     "name": "stdout",
     "output_type": "stream",
     "text": [
      "['CHRISTIAN SANTOS', 'CRISTIAN NASSER', 'ANGELICA KARINA', 'JOSE ROBERTO', 'ABEL FERNANDO', 'MEIR ALVARO', 'JOSELIN ALEXANDRA', 'LEONEL ARTURO', 'JOSE FELIPE', 'AFRANIA', 'BIANCA MARIETTE', 'ADRIAN ANDRE', 'DORKAS YOMIRA JHERMY', 'LADY ALY', 'HECTOR ANDRE', 'GUSTAVO', 'PERSEO MARCELO', 'MIGUEL ALONZO', 'NICOLAS', 'ROCIO GABRIELA', 'JANE CAMILA', 'MARIA ELISA', 'ALEJANDRO', 'KARLINE ROSMELI', 'STEPHY ROSARIO', 'VALERIA CECILIA', 'SEBASTIAN RENATO', 'JUAN CARLOS', 'MARIANA', 'ANDREA BRIZETH', 'ERICK JOSUE', 'JOSUE DANIEL', 'FABIO MANUEL', 'FERNANDA NICOLLE', 'ANGELA ADELINA', 'CESAR DANTE', 'GABRIELA ISABEL', 'ANGEL MAURICIO', 'JUAN DIEGO', 'ARONE', 'PERCY ALBERTH', 'KEVIN ARTURO', 'CESAR ERNESTO', 'CÉSAR AGUSTO', 'DIANA EDITH', 'RODRIGO FRANCO', 'GRETTEL ALEXANDRA', 'ROSA ANGELA', 'DANTE OMAR', 'YAJAIRA ALEXANDRA', 'JORGE ALBERTO', 'ALEXIS']\n",
      "['CORNEJO SANCHEZ', 'ORELLANA QUISPE', 'MORALES CHOQUEHUANCA', 'GUIMARAY RIBEYRO', 'CAMACHO GAVIDIA', 'TINTAYA ORIHUELA', 'CHAVEZ MARTINEZ', 'FIGUEROA MURO', 'GOMEZ CRIBILLERO', 'PALOMINO SEGUÍN', 'LUZON CUEVA', 'SUAÑA ZEGARRA', 'SOTO POMACHAGUA', 'FIORENTINO MARTINEZ', 'LAMA MAVILA', 'MEZA HINOJO', 'LOZADA MURILLO', 'ZAMBRANO JIMENEZ', 'JACOBS LUQUE', 'VIDAL VIDAL', 'TORRES ANICAMA', 'LOPEZ ESTRADA', 'BOYCO ORAMS', 'DIAZ BERROSPI', 'RIEGA ESCALANTE', 'LEVANO TORRES', 'ESQUIVES BRAVO', 'PEREZ GONZALES', 'OTERO MAGUIÑA', 'CLAVO CAMPOS', 'AGUILAR GARCIA', 'CALDAS VELASQUEZ', 'SALAS NUÑEZ BORJA', 'PIZARRO VILLANES', 'QUILLATUPA MORALES', 'HUANCAYA IDONE', 'CALVO PORTOCARRERO', 'IBAÑEZ ABANTO', 'MELÉNDEZ APONTE', 'CRISTIAN SERRANO', 'HINOJOSA CAHUANA', 'ANGLAS GARCÍA', 'ALDAVE ACOSTA', 'NÚÑEZ HUAMÁN', 'OBREGON HUAMAN', 'SOTO PACHERRES', 'INGARUCA RIVERA', 'ROJAS HUAMAN', 'NEYRA SALAS', 'HUERTA ESPINOZA', 'HUANCA MARTINEZ', 'FLORES CADILLO']\n"
     ]
    }
   ],
   "source": [
    "#7\n",
    "# Separar nombres y apellidos usando map y split\n",
    "split_list = list(map(lambda x: x.split(\", \"), last_and_name))\n",
    "\n",
    "# Obtener los nombres\n",
    "names = list(map(lambda x: x[1], split_list))\n",
    "\n",
    "# Obtener los apellidos\n",
    "last_names = list(map(lambda x: x[0], split_list))\n",
    "\n",
    "# Imprimir las listas\n",
    "print(names)\n",
    "print(last_names)"
   ]
  },
  {
   "cell_type": "code",
   "execution_count": 40,
   "metadata": {},
   "outputs": [
    {
     "name": "stdout",
     "output_type": "stream",
     "text": [
      "52\n",
      "52\n",
      "['HUANCAYA IDONE', 'CALVO PORTOCARRERO', 'IBAÑEZ ABANTO', 'MELÉNDEZ APONTE', 'CRISTIAN SERRANO', 'ANGLAS GARCÍA', 'ALDAVE ACOSTA', 'NÚÑEZ HUAMÁN', 'OBREGON HUAMAN', 'SOTO PACHERRES', 'INGARUCA RIVERA', 'ROJAS HUAMAN', 'NEYRA SALAS', 'HUERTA ESPINOZA', 'HUANCA MARTINEZ']\n"
     ]
    }
   ],
   "source": [
    "#8\n",
    "print(len(last_names))\n",
    "print(len(emails))\n",
    "\n",
    "# Generar el diccionario y obtener los apellidos de estudiantes sin email usando filter\n",
    "students_and_emails = dict(zip(last_names, emails))\n",
    "no_email = list(filter(lambda k: not students_and_emails[k], students_and_emails))\n",
    "\n",
    "print(no_email)\n",
    "\n"
   ]
  },
  {
   "cell_type": "markdown",
   "metadata": {},
   "source": [
    "## 1.3 Strings\n",
    "\n",
    "\n",
    "1. Drop the duplicated blank spaces in `str1`. Do not use the regular expresions. Do not use the code shown in class. Explain your steps.**Hint: Use `split` method and `join` function.**\n",
    "\n",
    "2. Get the number of letters in the string .**Hint: Use `len`function.**\n",
    "\n",
    "3. Get the number of blank spaces (all of them) in the string .**Hint: Use `len`function.**\n",
    "\n",
    "4. Get the position of `@` in each string in the emails list. **Hint: Use `map`function and `find` method.**\n",
    "\n",
    "5. Identifies if exists `.edu.`  in each string in the `emails` list. Get a list of Booleans. **Hint: Use `map`function and `find` method.**\n",
    "\n",
    "6. Get all the strings before the first dot `.`in each string in the `emails` list. Identifies how many of them has `@`. **Hint: Use `map`function and `find` method.**"
   ]
  },
  {
   "cell_type": "code",
   "execution_count": 42,
   "metadata": {},
   "outputs": [],
   "source": [
    "str1 = 'I am                            too                                                        old'"
   ]
  },
  {
   "cell_type": "code",
   "execution_count": 46,
   "metadata": {},
   "outputs": [
    {
     "name": "stdout",
     "output_type": "stream",
     "text": [
      "I am too old\n"
     ]
    }
   ],
   "source": [
    "#1\n",
    "# Usar split y join para eliminar los espacios duplicados\n",
    "new_str1 = ' '.join(str1.split())\n",
    "\n",
    "print(new_str1)"
   ]
  },
  {
   "cell_type": "code",
   "execution_count": 60,
   "metadata": {},
   "outputs": [
    {
     "name": "stdout",
     "output_type": "stream",
     "text": [
      "9\n"
     ]
    }
   ],
   "source": [
    "#2\n",
    "letters_count = len(list(filter(str.isalpha, str1)))\n",
    "print(letters_count)"
   ]
  },
  {
   "cell_type": "code",
   "execution_count": 64,
   "metadata": {},
   "outputs": [
    {
     "name": "stdout",
     "output_type": "stream",
     "text": [
      "85\n"
     ]
    }
   ],
   "source": [
    "#3\n",
    "space_count = len(list(filter(str.isspace, str1)))\n",
    "print(space_count)"
   ]
  },
  {
   "cell_type": "code",
   "execution_count": 72,
   "metadata": {},
   "outputs": [],
   "source": [
    "emails = [\"cscornejo@pucp.edu.pe\", \"orellana.cn@pucp.edu.pe\", \"karina.morales@pucp.edu.pe\", \"a20083223@pucp.pe\", \"abel.camacho@pucp.pe\", \"mtintaya@pucp.edu.pe\", \"joselin.chavez@pucp.edu.pe\", \"a20105737@pucp.pe\", \"jfgomezc@pucp.pe\", \"afrania.palomino@pucp.pe\", \"luzon.bianca@pucp.pe\", \"adrian.suanaz@pucp.pe\", \"soto.y@pucp.edu.pe\", \"a20132766@pucp.pe\", \"andre.lama@pucp.edu.pe\", \"gustavo.meza@pucp.edu.pe\", \"pmlozada@pucp.edu.pe\", \"m.zambranoj@pucp.edu.pe\", \"nicolas.jacobs@pucp.edu.pe\", \"gvidal@pucp.edu.pe\", \"jane.torres@pucp.edu.pe\", \"m.lopez@pucp.edu.pe\", \"alejandro.boyco@pucp.edu.pe\", \"a20167070@pucp.edu.pe\", \"riega.stephy@pucp.edu.pe\", \"vlevanot@pucp.edu.pe\", \"sesquives@pucp.edu.pe\", \"perez.juanc@pucp.edu.pe\", \"mariana.otero@pucp.edu.pe\", \"aclavo@pucp.edu.pe\", \"a20182474@pucp.edu.pe\", \"josue.caldas@pucp.edu.pe\", \"fabio.salas@pucp.edu.pe\", \"fernanda.pizarro@pucp.edu.pe\", \"aquillatupa@pucp.pe\"]"
   ]
  },
  {
   "cell_type": "code",
   "execution_count": 74,
   "metadata": {},
   "outputs": [
    {
     "name": "stdout",
     "output_type": "stream",
     "text": [
      "[9, 11, 14, 9, 12, 8, 14, 9, 8, 16, 12, 13, 6, 9, 10, 12, 8, 11, 14, 6, 11, 7, 15, 9, 12, 8, 9, 11, 13, 6, 9, 12, 11, 16, 11]\n"
     ]
    }
   ],
   "source": [
    "#4\n",
    "at_positions = list(map(lambda email: email.find('@'), emails))\n",
    "print(at_positions)"
   ]
  },
  {
   "cell_type": "code",
   "execution_count": 78,
   "metadata": {},
   "outputs": [
    {
     "name": "stdout",
     "output_type": "stream",
     "text": [
      "[True, True, True, False, False, True, True, False, False, False, False, False, True, False, True, True, True, True, True, True, True, True, True, True, True, True, True, True, True, True, True, True, True, True, False]\n"
     ]
    }
   ],
   "source": [
    "#5\n",
    "edu_exists = list(map(lambda email: email.find('.edu') != -1, emails))\n",
    "print(edu_exists)"
   ]
  },
  {
   "cell_type": "code",
   "execution_count": 82,
   "metadata": {},
   "outputs": [
    {
     "name": "stdout",
     "output_type": "stream",
     "text": [
      "14\n"
     ]
    }
   ],
   "source": [
    "#6\n",
    "before_dot = list(map(lambda email: email[:email.find('.')], emails))\n",
    "contains_at_count = sum(map(lambda s: s.find('@') != -1, before_dot))\n",
    "print(contains_at_count)"
   ]
  },
  {
   "cell_type": "markdown",
   "metadata": {},
   "source": [
    "## 1.4 Pandas"
   ]
  },
  {
   "cell_type": "markdown",
   "metadata": {},
   "source": [
    "1. Import this dataset new_up_data_sysdif_block_lvl_ver2.csv located in the `_data` folder.\n",
    "2. Import this dataset ESA_CLIMATE_CHANGE_tree_layers.csv located in the `_data` folder.\n",
    "3. Merge both datasets using the key variables `pc11_s_id`,\t`pc11_d_id,`\t`pc11_sd_id`, `year`. \n",
    "4. Generate a descriptive statistics for `per_TREES-BD`, `per_TREES-BE`, `per_TREES-ND`, `per_TREES-NE`.\n",
    "5. Sum these 4 columns and name the new column as `sum_tree` and get a histogram.\n",
    "6. Generate the histogram of these 4 columns `per_TREES-BD`, `per_TREES-BE`, `per_TREES-ND`, `per_TREES-NE` for the above and below median dataset filtered by the sum_tree variable.\n",
    "\n",
    "Do not forget to use relative paths."
   ]
  },
  {
   "cell_type": "code",
   "execution_count": 1,
   "metadata": {},
   "outputs": [],
   "source": [
    "import pandas as pd\n",
    "import numpy as np"
   ]
  },
  {
   "cell_type": "code",
   "execution_count": 3,
   "metadata": {},
   "outputs": [],
   "source": [
    "#1\n",
    "# Importar los datasets usando rutas relativas\n",
    "data_path_1 = '../../_data/new_up_data_sysdif_block_lvl_ver2.csv'"
   ]
  },
  {
   "cell_type": "code",
   "execution_count": 5,
   "metadata": {},
   "outputs": [],
   "source": [
    "#2\n",
    "data_path_2 = '../../_data/ESA_CLIMATE_CHANGE_tree_layers.csv'"
   ]
  },
  {
   "cell_type": "code",
   "execution_count": 7,
   "metadata": {},
   "outputs": [],
   "source": [
    "sysdif_df = pd.read_csv(data_path_1)\n",
    "climate_df = pd.read_csv(data_path_2)"
   ]
  },
  {
   "cell_type": "code",
   "execution_count": 92,
   "metadata": {},
   "outputs": [
    {
     "data": {
      "text/html": [
       "<div>\n",
       "<style scoped>\n",
       "    .dataframe tbody tr th:only-of-type {\n",
       "        vertical-align: middle;\n",
       "    }\n",
       "\n",
       "    .dataframe tbody tr th {\n",
       "        vertical-align: top;\n",
       "    }\n",
       "\n",
       "    .dataframe thead th {\n",
       "        text-align: right;\n",
       "    }\n",
       "</style>\n",
       "<table border=\"1\" class=\"dataframe\">\n",
       "  <thead>\n",
       "    <tr style=\"text-align: right;\">\n",
       "      <th></th>\n",
       "      <th>pc11_s_id</th>\n",
       "      <th>pc11_d_id</th>\n",
       "      <th>pc11_sd_id</th>\n",
       "      <th>year</th>\n",
       "      <th>post_ror_data_entry_block_any</th>\n",
       "      <th>post_ror_dist_softw_available_block_any</th>\n",
       "      <th>post_ror_aadhaar_link_block_any</th>\n",
       "      <th>post_mutation_computerized_block_any</th>\n",
       "      <th>post_digital_ror_issued_block_any</th>\n",
       "      <th>block_id</th>\n",
       "      <th>mean_night</th>\n",
       "      <th>count_night</th>\n",
       "      <th>sum_night</th>\n",
       "      <th>sd_name</th>\n",
       "      <th>frac_12</th>\n",
       "      <th>per_aggriculture</th>\n",
       "      <th>per_treecover</th>\n",
       "      <th>per_greencover</th>\n",
       "      <th>per_built</th>\n",
       "    </tr>\n",
       "  </thead>\n",
       "  <tbody>\n",
       "    <tr>\n",
       "      <th>0</th>\n",
       "      <td>1</td>\n",
       "      <td>1</td>\n",
       "      <td>1</td>\n",
       "      <td>2000</td>\n",
       "      <td>0</td>\n",
       "      <td>0</td>\n",
       "      <td>0</td>\n",
       "      <td>0</td>\n",
       "      <td>0</td>\n",
       "      <td>1</td>\n",
       "      <td>0.002703</td>\n",
       "      <td>8192</td>\n",
       "      <td>22.144901</td>\n",
       "      <td>Kupwara</td>\n",
       "      <td>NaN</td>\n",
       "      <td>NaN</td>\n",
       "      <td>31.286381</td>\n",
       "      <td>47.388935</td>\n",
       "      <td>21.324677</td>\n",
       "    </tr>\n",
       "    <tr>\n",
       "      <th>1</th>\n",
       "      <td>1</td>\n",
       "      <td>1</td>\n",
       "      <td>1</td>\n",
       "      <td>2001</td>\n",
       "      <td>0</td>\n",
       "      <td>0</td>\n",
       "      <td>0</td>\n",
       "      <td>0</td>\n",
       "      <td>0</td>\n",
       "      <td>1</td>\n",
       "      <td>0.002703</td>\n",
       "      <td>8192</td>\n",
       "      <td>22.144901</td>\n",
       "      <td>Kupwara</td>\n",
       "      <td>0.064216</td>\n",
       "      <td>6.421551</td>\n",
       "      <td>33.507698</td>\n",
       "      <td>42.900303</td>\n",
       "      <td>23.592001</td>\n",
       "    </tr>\n",
       "    <tr>\n",
       "      <th>2</th>\n",
       "      <td>1</td>\n",
       "      <td>1</td>\n",
       "      <td>1</td>\n",
       "      <td>2002</td>\n",
       "      <td>0</td>\n",
       "      <td>0</td>\n",
       "      <td>0</td>\n",
       "      <td>0</td>\n",
       "      <td>0</td>\n",
       "      <td>1</td>\n",
       "      <td>0.002703</td>\n",
       "      <td>8192</td>\n",
       "      <td>22.144901</td>\n",
       "      <td>Kupwara</td>\n",
       "      <td>0.076860</td>\n",
       "      <td>7.685976</td>\n",
       "      <td>28.036722</td>\n",
       "      <td>49.964584</td>\n",
       "      <td>21.998692</td>\n",
       "    </tr>\n",
       "    <tr>\n",
       "      <th>3</th>\n",
       "      <td>1</td>\n",
       "      <td>1</td>\n",
       "      <td>1</td>\n",
       "      <td>2003</td>\n",
       "      <td>0</td>\n",
       "      <td>0</td>\n",
       "      <td>0</td>\n",
       "      <td>0</td>\n",
       "      <td>0</td>\n",
       "      <td>1</td>\n",
       "      <td>0.002703</td>\n",
       "      <td>8192</td>\n",
       "      <td>22.144901</td>\n",
       "      <td>Kupwara</td>\n",
       "      <td>0.072095</td>\n",
       "      <td>7.209489</td>\n",
       "      <td>32.680721</td>\n",
       "      <td>45.621540</td>\n",
       "      <td>21.697739</td>\n",
       "    </tr>\n",
       "    <tr>\n",
       "      <th>4</th>\n",
       "      <td>1</td>\n",
       "      <td>1</td>\n",
       "      <td>1</td>\n",
       "      <td>2004</td>\n",
       "      <td>0</td>\n",
       "      <td>0</td>\n",
       "      <td>0</td>\n",
       "      <td>0</td>\n",
       "      <td>0</td>\n",
       "      <td>1</td>\n",
       "      <td>0.003113</td>\n",
       "      <td>8192</td>\n",
       "      <td>25.503809</td>\n",
       "      <td>Kupwara</td>\n",
       "      <td>0.052910</td>\n",
       "      <td>5.290961</td>\n",
       "      <td>31.404015</td>\n",
       "      <td>41.732754</td>\n",
       "      <td>26.863232</td>\n",
       "    </tr>\n",
       "    <tr>\n",
       "      <th>...</th>\n",
       "      <td>...</td>\n",
       "      <td>...</td>\n",
       "      <td>...</td>\n",
       "      <td>...</td>\n",
       "      <td>...</td>\n",
       "      <td>...</td>\n",
       "      <td>...</td>\n",
       "      <td>...</td>\n",
       "      <td>...</td>\n",
       "      <td>...</td>\n",
       "      <td>...</td>\n",
       "      <td>...</td>\n",
       "      <td>...</td>\n",
       "      <td>...</td>\n",
       "      <td>...</td>\n",
       "      <td>...</td>\n",
       "      <td>...</td>\n",
       "      <td>...</td>\n",
       "      <td>...</td>\n",
       "    </tr>\n",
       "    <tr>\n",
       "      <th>131537</th>\n",
       "      <td>9</td>\n",
       "      <td>202</td>\n",
       "      <td>1012</td>\n",
       "      <td>2018</td>\n",
       "      <td>1</td>\n",
       "      <td>1</td>\n",
       "      <td>0</td>\n",
       "      <td>1</td>\n",
       "      <td>1</td>\n",
       "      <td>5965</td>\n",
       "      <td>0.267226</td>\n",
       "      <td>4315</td>\n",
       "      <td>1153.080078</td>\n",
       "      <td>Patiyali</td>\n",
       "      <td>0.953928</td>\n",
       "      <td>95.392793</td>\n",
       "      <td>5.095272</td>\n",
       "      <td>53.366138</td>\n",
       "      <td>41.401382</td>\n",
       "    </tr>\n",
       "    <tr>\n",
       "      <th>131538</th>\n",
       "      <td>9</td>\n",
       "      <td>202</td>\n",
       "      <td>1012</td>\n",
       "      <td>2019</td>\n",
       "      <td>1</td>\n",
       "      <td>1</td>\n",
       "      <td>0</td>\n",
       "      <td>1</td>\n",
       "      <td>1</td>\n",
       "      <td>5965</td>\n",
       "      <td>0.212258</td>\n",
       "      <td>4303</td>\n",
       "      <td>913.344971</td>\n",
       "      <td>Patiyali</td>\n",
       "      <td>0.961914</td>\n",
       "      <td>96.191359</td>\n",
       "      <td>4.311493</td>\n",
       "      <td>59.983742</td>\n",
       "      <td>35.600212</td>\n",
       "    </tr>\n",
       "    <tr>\n",
       "      <th>131539</th>\n",
       "      <td>9</td>\n",
       "      <td>202</td>\n",
       "      <td>1012</td>\n",
       "      <td>2020</td>\n",
       "      <td>1</td>\n",
       "      <td>1</td>\n",
       "      <td>0</td>\n",
       "      <td>1</td>\n",
       "      <td>1</td>\n",
       "      <td>5965</td>\n",
       "      <td>0.196405</td>\n",
       "      <td>4303</td>\n",
       "      <td>845.130005</td>\n",
       "      <td>Patiyali</td>\n",
       "      <td>0.961640</td>\n",
       "      <td>96.163976</td>\n",
       "      <td>8.594394</td>\n",
       "      <td>54.553619</td>\n",
       "      <td>36.757240</td>\n",
       "    </tr>\n",
       "    <tr>\n",
       "      <th>131540</th>\n",
       "      <td>9</td>\n",
       "      <td>202</td>\n",
       "      <td>1012</td>\n",
       "      <td>2021</td>\n",
       "      <td>1</td>\n",
       "      <td>1</td>\n",
       "      <td>0</td>\n",
       "      <td>1</td>\n",
       "      <td>1</td>\n",
       "      <td>5965</td>\n",
       "      <td>0.204011</td>\n",
       "      <td>4303</td>\n",
       "      <td>877.859985</td>\n",
       "      <td>Patiyali</td>\n",
       "      <td>0.964120</td>\n",
       "      <td>96.411973</td>\n",
       "      <td>5.193740</td>\n",
       "      <td>57.827095</td>\n",
       "      <td>36.744907</td>\n",
       "    </tr>\n",
       "    <tr>\n",
       "      <th>131541</th>\n",
       "      <td>9</td>\n",
       "      <td>202</td>\n",
       "      <td>1012</td>\n",
       "      <td>2022</td>\n",
       "      <td>1</td>\n",
       "      <td>1</td>\n",
       "      <td>0</td>\n",
       "      <td>1</td>\n",
       "      <td>1</td>\n",
       "      <td>5965</td>\n",
       "      <td>0.216364</td>\n",
       "      <td>4303</td>\n",
       "      <td>931.015015</td>\n",
       "      <td>Patiyali</td>\n",
       "      <td>0.970185</td>\n",
       "      <td>97.018504</td>\n",
       "      <td>7.170661</td>\n",
       "      <td>60.158665</td>\n",
       "      <td>32.470570</td>\n",
       "    </tr>\n",
       "  </tbody>\n",
       "</table>\n",
       "<p>131542 rows × 19 columns</p>\n",
       "</div>"
      ],
      "text/plain": [
       "        pc11_s_id  pc11_d_id  pc11_sd_id  year  post_ror_data_entry_block_any  \\\n",
       "0               1          1           1  2000                              0   \n",
       "1               1          1           1  2001                              0   \n",
       "2               1          1           1  2002                              0   \n",
       "3               1          1           1  2003                              0   \n",
       "4               1          1           1  2004                              0   \n",
       "...           ...        ...         ...   ...                            ...   \n",
       "131537          9        202        1012  2018                              1   \n",
       "131538          9        202        1012  2019                              1   \n",
       "131539          9        202        1012  2020                              1   \n",
       "131540          9        202        1012  2021                              1   \n",
       "131541          9        202        1012  2022                              1   \n",
       "\n",
       "        post_ror_dist_softw_available_block_any  \\\n",
       "0                                             0   \n",
       "1                                             0   \n",
       "2                                             0   \n",
       "3                                             0   \n",
       "4                                             0   \n",
       "...                                         ...   \n",
       "131537                                        1   \n",
       "131538                                        1   \n",
       "131539                                        1   \n",
       "131540                                        1   \n",
       "131541                                        1   \n",
       "\n",
       "        post_ror_aadhaar_link_block_any  post_mutation_computerized_block_any  \\\n",
       "0                                     0                                     0   \n",
       "1                                     0                                     0   \n",
       "2                                     0                                     0   \n",
       "3                                     0                                     0   \n",
       "4                                     0                                     0   \n",
       "...                                 ...                                   ...   \n",
       "131537                                0                                     1   \n",
       "131538                                0                                     1   \n",
       "131539                                0                                     1   \n",
       "131540                                0                                     1   \n",
       "131541                                0                                     1   \n",
       "\n",
       "        post_digital_ror_issued_block_any  block_id  mean_night  count_night  \\\n",
       "0                                       0         1    0.002703         8192   \n",
       "1                                       0         1    0.002703         8192   \n",
       "2                                       0         1    0.002703         8192   \n",
       "3                                       0         1    0.002703         8192   \n",
       "4                                       0         1    0.003113         8192   \n",
       "...                                   ...       ...         ...          ...   \n",
       "131537                                  1      5965    0.267226         4315   \n",
       "131538                                  1      5965    0.212258         4303   \n",
       "131539                                  1      5965    0.196405         4303   \n",
       "131540                                  1      5965    0.204011         4303   \n",
       "131541                                  1      5965    0.216364         4303   \n",
       "\n",
       "          sum_night   sd_name   frac_12  per_aggriculture  per_treecover  \\\n",
       "0         22.144901   Kupwara       NaN               NaN      31.286381   \n",
       "1         22.144901   Kupwara  0.064216          6.421551      33.507698   \n",
       "2         22.144901   Kupwara  0.076860          7.685976      28.036722   \n",
       "3         22.144901   Kupwara  0.072095          7.209489      32.680721   \n",
       "4         25.503809   Kupwara  0.052910          5.290961      31.404015   \n",
       "...             ...       ...       ...               ...            ...   \n",
       "131537  1153.080078  Patiyali  0.953928         95.392793       5.095272   \n",
       "131538   913.344971  Patiyali  0.961914         96.191359       4.311493   \n",
       "131539   845.130005  Patiyali  0.961640         96.163976       8.594394   \n",
       "131540   877.859985  Patiyali  0.964120         96.411973       5.193740   \n",
       "131541   931.015015  Patiyali  0.970185         97.018504       7.170661   \n",
       "\n",
       "        per_greencover  per_built  \n",
       "0            47.388935  21.324677  \n",
       "1            42.900303  23.592001  \n",
       "2            49.964584  21.998692  \n",
       "3            45.621540  21.697739  \n",
       "4            41.732754  26.863232  \n",
       "...                ...        ...  \n",
       "131537       53.366138  41.401382  \n",
       "131538       59.983742  35.600212  \n",
       "131539       54.553619  36.757240  \n",
       "131540       57.827095  36.744907  \n",
       "131541       60.158665  32.470570  \n",
       "\n",
       "[131542 rows x 19 columns]"
      ]
     },
     "execution_count": 92,
     "metadata": {},
     "output_type": "execute_result"
    }
   ],
   "source": [
    "sysdif_df"
   ]
  },
  {
   "cell_type": "code",
   "execution_count": 106,
   "metadata": {},
   "outputs": [
    {
     "data": {
      "text/html": [
       "<div>\n",
       "<style scoped>\n",
       "    .dataframe tbody tr th:only-of-type {\n",
       "        vertical-align: middle;\n",
       "    }\n",
       "\n",
       "    .dataframe tbody tr th {\n",
       "        vertical-align: top;\n",
       "    }\n",
       "\n",
       "    .dataframe thead th {\n",
       "        text-align: right;\n",
       "    }\n",
       "</style>\n",
       "<table border=\"1\" class=\"dataframe\">\n",
       "  <thead>\n",
       "    <tr style=\"text-align: right;\">\n",
       "      <th></th>\n",
       "      <th>pc11_s_id</th>\n",
       "      <th>pc11_d_id</th>\n",
       "      <th>pc11_sd_id</th>\n",
       "      <th>sd_name</th>\n",
       "      <th>per_TREES-BD</th>\n",
       "      <th>year</th>\n",
       "      <th>per_TREES-BE</th>\n",
       "      <th>per_TREES-ND</th>\n",
       "      <th>per_TREES-NE</th>\n",
       "    </tr>\n",
       "  </thead>\n",
       "  <tbody>\n",
       "    <tr>\n",
       "      <th>0</th>\n",
       "      <td>24</td>\n",
       "      <td>468</td>\n",
       "      <td>0</td>\n",
       "      <td>Rann Of Kachchh</td>\n",
       "      <td>0.020038</td>\n",
       "      <td>2006</td>\n",
       "      <td>0.000000</td>\n",
       "      <td>0.035410</td>\n",
       "      <td>0.003214</td>\n",
       "    </tr>\n",
       "    <tr>\n",
       "      <th>1</th>\n",
       "      <td>24</td>\n",
       "      <td>468</td>\n",
       "      <td>3722</td>\n",
       "      <td>Lakhpat</td>\n",
       "      <td>1.768032</td>\n",
       "      <td>2006</td>\n",
       "      <td>0.000000</td>\n",
       "      <td>0.186592</td>\n",
       "      <td>0.002453</td>\n",
       "    </tr>\n",
       "    <tr>\n",
       "      <th>2</th>\n",
       "      <td>24</td>\n",
       "      <td>468</td>\n",
       "      <td>3723</td>\n",
       "      <td>Rapar</td>\n",
       "      <td>0.001384</td>\n",
       "      <td>2006</td>\n",
       "      <td>0.000000</td>\n",
       "      <td>0.000000</td>\n",
       "      <td>0.000000</td>\n",
       "    </tr>\n",
       "    <tr>\n",
       "      <th>3</th>\n",
       "      <td>24</td>\n",
       "      <td>468</td>\n",
       "      <td>3724</td>\n",
       "      <td>Bhachau</td>\n",
       "      <td>0.005311</td>\n",
       "      <td>2006</td>\n",
       "      <td>0.000000</td>\n",
       "      <td>0.013269</td>\n",
       "      <td>0.000000</td>\n",
       "    </tr>\n",
       "    <tr>\n",
       "      <th>4</th>\n",
       "      <td>24</td>\n",
       "      <td>468</td>\n",
       "      <td>3725</td>\n",
       "      <td>Anjar</td>\n",
       "      <td>0.010257</td>\n",
       "      <td>2006</td>\n",
       "      <td>0.000000</td>\n",
       "      <td>0.018871</td>\n",
       "      <td>0.000000</td>\n",
       "    </tr>\n",
       "    <tr>\n",
       "      <th>...</th>\n",
       "      <td>...</td>\n",
       "      <td>...</td>\n",
       "      <td>...</td>\n",
       "      <td>...</td>\n",
       "      <td>...</td>\n",
       "      <td>...</td>\n",
       "      <td>...</td>\n",
       "      <td>...</td>\n",
       "      <td>...</td>\n",
       "    </tr>\n",
       "    <tr>\n",
       "      <th>125344</th>\n",
       "      <td>35</td>\n",
       "      <td>639</td>\n",
       "      <td>5921</td>\n",
       "      <td>Rangat</td>\n",
       "      <td>1.323027</td>\n",
       "      <td>2003</td>\n",
       "      <td>79.195435</td>\n",
       "      <td>0.000000</td>\n",
       "      <td>0.197154</td>\n",
       "    </tr>\n",
       "    <tr>\n",
       "      <th>125345</th>\n",
       "      <td>35</td>\n",
       "      <td>640</td>\n",
       "      <td>5923</td>\n",
       "      <td>Port Blair</td>\n",
       "      <td>0.000000</td>\n",
       "      <td>2003</td>\n",
       "      <td>68.636780</td>\n",
       "      <td>0.000000</td>\n",
       "      <td>0.321329</td>\n",
       "    </tr>\n",
       "    <tr>\n",
       "      <th>125346</th>\n",
       "      <td>35</td>\n",
       "      <td>640</td>\n",
       "      <td>5924</td>\n",
       "      <td>Little Andaman</td>\n",
       "      <td>3.892228</td>\n",
       "      <td>2003</td>\n",
       "      <td>78.234627</td>\n",
       "      <td>0.000000</td>\n",
       "      <td>0.000000</td>\n",
       "    </tr>\n",
       "    <tr>\n",
       "      <th>125347</th>\n",
       "      <td>35</td>\n",
       "      <td>640</td>\n",
       "      <td>5922</td>\n",
       "      <td>Ferrargunj</td>\n",
       "      <td>0.187679</td>\n",
       "      <td>2003</td>\n",
       "      <td>82.064636</td>\n",
       "      <td>0.000000</td>\n",
       "      <td>0.362423</td>\n",
       "    </tr>\n",
       "    <tr>\n",
       "      <th>125348</th>\n",
       "      <td>1</td>\n",
       "      <td>0</td>\n",
       "      <td>0</td>\n",
       "      <td>NaN</td>\n",
       "      <td>0.134543</td>\n",
       "      <td>2003</td>\n",
       "      <td>0.032157</td>\n",
       "      <td>0.000140</td>\n",
       "      <td>0.978852</td>\n",
       "    </tr>\n",
       "  </tbody>\n",
       "</table>\n",
       "<p>125349 rows × 9 columns</p>\n",
       "</div>"
      ],
      "text/plain": [
       "        pc11_s_id  pc11_d_id  pc11_sd_id          sd_name  per_TREES-BD  year  \\\n",
       "0              24        468           0  Rann Of Kachchh      0.020038  2006   \n",
       "1              24        468        3722          Lakhpat      1.768032  2006   \n",
       "2              24        468        3723            Rapar      0.001384  2006   \n",
       "3              24        468        3724          Bhachau      0.005311  2006   \n",
       "4              24        468        3725            Anjar      0.010257  2006   \n",
       "...           ...        ...         ...              ...           ...   ...   \n",
       "125344         35        639        5921           Rangat      1.323027  2003   \n",
       "125345         35        640        5923       Port Blair      0.000000  2003   \n",
       "125346         35        640        5924   Little Andaman      3.892228  2003   \n",
       "125347         35        640        5922       Ferrargunj      0.187679  2003   \n",
       "125348          1          0           0              NaN      0.134543  2003   \n",
       "\n",
       "        per_TREES-BE  per_TREES-ND  per_TREES-NE  \n",
       "0           0.000000      0.035410      0.003214  \n",
       "1           0.000000      0.186592      0.002453  \n",
       "2           0.000000      0.000000      0.000000  \n",
       "3           0.000000      0.013269      0.000000  \n",
       "4           0.000000      0.018871      0.000000  \n",
       "...              ...           ...           ...  \n",
       "125344     79.195435      0.000000      0.197154  \n",
       "125345     68.636780      0.000000      0.321329  \n",
       "125346     78.234627      0.000000      0.000000  \n",
       "125347     82.064636      0.000000      0.362423  \n",
       "125348      0.032157      0.000140      0.978852  \n",
       "\n",
       "[125349 rows x 9 columns]"
      ]
     },
     "execution_count": 106,
     "metadata": {},
     "output_type": "execute_result"
    }
   ],
   "source": [
    "climate_df"
   ]
  },
  {
   "cell_type": "code",
   "execution_count": 9,
   "metadata": {},
   "outputs": [
    {
     "data": {
      "text/html": [
       "<div>\n",
       "<style scoped>\n",
       "    .dataframe tbody tr th:only-of-type {\n",
       "        vertical-align: middle;\n",
       "    }\n",
       "\n",
       "    .dataframe tbody tr th {\n",
       "        vertical-align: top;\n",
       "    }\n",
       "\n",
       "    .dataframe thead th {\n",
       "        text-align: right;\n",
       "    }\n",
       "</style>\n",
       "<table border=\"1\" class=\"dataframe\">\n",
       "  <thead>\n",
       "    <tr style=\"text-align: right;\">\n",
       "      <th></th>\n",
       "      <th>pc11_s_id</th>\n",
       "      <th>pc11_d_id</th>\n",
       "      <th>pc11_sd_id</th>\n",
       "      <th>year</th>\n",
       "      <th>post_ror_data_entry_block_any</th>\n",
       "      <th>post_ror_dist_softw_available_block_any</th>\n",
       "      <th>post_ror_aadhaar_link_block_any</th>\n",
       "      <th>post_mutation_computerized_block_any</th>\n",
       "      <th>post_digital_ror_issued_block_any</th>\n",
       "      <th>block_id</th>\n",
       "      <th>...</th>\n",
       "      <th>frac_12</th>\n",
       "      <th>per_aggriculture</th>\n",
       "      <th>per_treecover</th>\n",
       "      <th>per_greencover</th>\n",
       "      <th>per_built</th>\n",
       "      <th>sd_name_y</th>\n",
       "      <th>per_TREES-BD</th>\n",
       "      <th>per_TREES-BE</th>\n",
       "      <th>per_TREES-ND</th>\n",
       "      <th>per_TREES-NE</th>\n",
       "    </tr>\n",
       "  </thead>\n",
       "  <tbody>\n",
       "    <tr>\n",
       "      <th>0</th>\n",
       "      <td>1</td>\n",
       "      <td>1</td>\n",
       "      <td>1</td>\n",
       "      <td>2000</td>\n",
       "      <td>0</td>\n",
       "      <td>0</td>\n",
       "      <td>0</td>\n",
       "      <td>0</td>\n",
       "      <td>0</td>\n",
       "      <td>1</td>\n",
       "      <td>...</td>\n",
       "      <td>NaN</td>\n",
       "      <td>NaN</td>\n",
       "      <td>31.286381</td>\n",
       "      <td>47.388935</td>\n",
       "      <td>21.324677</td>\n",
       "      <td>Kupwara</td>\n",
       "      <td>1.964613</td>\n",
       "      <td>1.117632</td>\n",
       "      <td>0.0</td>\n",
       "      <td>29.015697</td>\n",
       "    </tr>\n",
       "    <tr>\n",
       "      <th>1</th>\n",
       "      <td>1</td>\n",
       "      <td>1</td>\n",
       "      <td>1</td>\n",
       "      <td>2001</td>\n",
       "      <td>0</td>\n",
       "      <td>0</td>\n",
       "      <td>0</td>\n",
       "      <td>0</td>\n",
       "      <td>0</td>\n",
       "      <td>1</td>\n",
       "      <td>...</td>\n",
       "      <td>0.064216</td>\n",
       "      <td>6.421551</td>\n",
       "      <td>33.507698</td>\n",
       "      <td>42.900303</td>\n",
       "      <td>23.592001</td>\n",
       "      <td>Kupwara</td>\n",
       "      <td>1.956872</td>\n",
       "      <td>1.117632</td>\n",
       "      <td>0.0</td>\n",
       "      <td>28.908140</td>\n",
       "    </tr>\n",
       "    <tr>\n",
       "      <th>2</th>\n",
       "      <td>1</td>\n",
       "      <td>1</td>\n",
       "      <td>1</td>\n",
       "      <td>2002</td>\n",
       "      <td>0</td>\n",
       "      <td>0</td>\n",
       "      <td>0</td>\n",
       "      <td>0</td>\n",
       "      <td>0</td>\n",
       "      <td>1</td>\n",
       "      <td>...</td>\n",
       "      <td>0.076860</td>\n",
       "      <td>7.685976</td>\n",
       "      <td>28.036722</td>\n",
       "      <td>49.964584</td>\n",
       "      <td>21.998692</td>\n",
       "      <td>Kupwara</td>\n",
       "      <td>1.969693</td>\n",
       "      <td>1.117632</td>\n",
       "      <td>0.0</td>\n",
       "      <td>28.930830</td>\n",
       "    </tr>\n",
       "    <tr>\n",
       "      <th>3</th>\n",
       "      <td>1</td>\n",
       "      <td>1</td>\n",
       "      <td>1</td>\n",
       "      <td>2003</td>\n",
       "      <td>0</td>\n",
       "      <td>0</td>\n",
       "      <td>0</td>\n",
       "      <td>0</td>\n",
       "      <td>0</td>\n",
       "      <td>1</td>\n",
       "      <td>...</td>\n",
       "      <td>0.072095</td>\n",
       "      <td>7.209489</td>\n",
       "      <td>32.680721</td>\n",
       "      <td>45.621540</td>\n",
       "      <td>21.697739</td>\n",
       "      <td>Kupwara</td>\n",
       "      <td>1.968723</td>\n",
       "      <td>1.117632</td>\n",
       "      <td>0.0</td>\n",
       "      <td>28.954021</td>\n",
       "    </tr>\n",
       "    <tr>\n",
       "      <th>4</th>\n",
       "      <td>1</td>\n",
       "      <td>1</td>\n",
       "      <td>1</td>\n",
       "      <td>2004</td>\n",
       "      <td>0</td>\n",
       "      <td>0</td>\n",
       "      <td>0</td>\n",
       "      <td>0</td>\n",
       "      <td>0</td>\n",
       "      <td>1</td>\n",
       "      <td>...</td>\n",
       "      <td>0.052910</td>\n",
       "      <td>5.290961</td>\n",
       "      <td>31.404015</td>\n",
       "      <td>41.732754</td>\n",
       "      <td>26.863232</td>\n",
       "      <td>Kupwara</td>\n",
       "      <td>1.972254</td>\n",
       "      <td>1.140225</td>\n",
       "      <td>0.0</td>\n",
       "      <td>29.136803</td>\n",
       "    </tr>\n",
       "    <tr>\n",
       "      <th>...</th>\n",
       "      <td>...</td>\n",
       "      <td>...</td>\n",
       "      <td>...</td>\n",
       "      <td>...</td>\n",
       "      <td>...</td>\n",
       "      <td>...</td>\n",
       "      <td>...</td>\n",
       "      <td>...</td>\n",
       "      <td>...</td>\n",
       "      <td>...</td>\n",
       "      <td>...</td>\n",
       "      <td>...</td>\n",
       "      <td>...</td>\n",
       "      <td>...</td>\n",
       "      <td>...</td>\n",
       "      <td>...</td>\n",
       "      <td>...</td>\n",
       "      <td>...</td>\n",
       "      <td>...</td>\n",
       "      <td>...</td>\n",
       "      <td>...</td>\n",
       "    </tr>\n",
       "    <tr>\n",
       "      <th>125260</th>\n",
       "      <td>9</td>\n",
       "      <td>202</td>\n",
       "      <td>1012</td>\n",
       "      <td>2016</td>\n",
       "      <td>1</td>\n",
       "      <td>1</td>\n",
       "      <td>0</td>\n",
       "      <td>1</td>\n",
       "      <td>1</td>\n",
       "      <td>5965</td>\n",
       "      <td>...</td>\n",
       "      <td>0.954903</td>\n",
       "      <td>95.490319</td>\n",
       "      <td>3.570984</td>\n",
       "      <td>54.682835</td>\n",
       "      <td>41.631336</td>\n",
       "      <td>Patiyali</td>\n",
       "      <td>0.015884</td>\n",
       "      <td>0.000000</td>\n",
       "      <td>0.0</td>\n",
       "      <td>0.000000</td>\n",
       "    </tr>\n",
       "    <tr>\n",
       "      <th>125261</th>\n",
       "      <td>9</td>\n",
       "      <td>202</td>\n",
       "      <td>1012</td>\n",
       "      <td>2017</td>\n",
       "      <td>1</td>\n",
       "      <td>1</td>\n",
       "      <td>0</td>\n",
       "      <td>1</td>\n",
       "      <td>1</td>\n",
       "      <td>5965</td>\n",
       "      <td>...</td>\n",
       "      <td>0.956646</td>\n",
       "      <td>95.664638</td>\n",
       "      <td>6.060174</td>\n",
       "      <td>62.668755</td>\n",
       "      <td>31.177742</td>\n",
       "      <td>Patiyali</td>\n",
       "      <td>0.015884</td>\n",
       "      <td>0.000000</td>\n",
       "      <td>0.0</td>\n",
       "      <td>0.000000</td>\n",
       "    </tr>\n",
       "    <tr>\n",
       "      <th>125262</th>\n",
       "      <td>9</td>\n",
       "      <td>202</td>\n",
       "      <td>1012</td>\n",
       "      <td>2018</td>\n",
       "      <td>1</td>\n",
       "      <td>1</td>\n",
       "      <td>0</td>\n",
       "      <td>1</td>\n",
       "      <td>1</td>\n",
       "      <td>5965</td>\n",
       "      <td>...</td>\n",
       "      <td>0.953928</td>\n",
       "      <td>95.392793</td>\n",
       "      <td>5.095272</td>\n",
       "      <td>53.366138</td>\n",
       "      <td>41.401382</td>\n",
       "      <td>Patiyali</td>\n",
       "      <td>0.015884</td>\n",
       "      <td>0.000000</td>\n",
       "      <td>0.0</td>\n",
       "      <td>0.000000</td>\n",
       "    </tr>\n",
       "    <tr>\n",
       "      <th>125263</th>\n",
       "      <td>9</td>\n",
       "      <td>202</td>\n",
       "      <td>1012</td>\n",
       "      <td>2019</td>\n",
       "      <td>1</td>\n",
       "      <td>1</td>\n",
       "      <td>0</td>\n",
       "      <td>1</td>\n",
       "      <td>1</td>\n",
       "      <td>5965</td>\n",
       "      <td>...</td>\n",
       "      <td>0.961914</td>\n",
       "      <td>96.191359</td>\n",
       "      <td>4.311493</td>\n",
       "      <td>59.983742</td>\n",
       "      <td>35.600212</td>\n",
       "      <td>Patiyali</td>\n",
       "      <td>0.015884</td>\n",
       "      <td>0.000000</td>\n",
       "      <td>0.0</td>\n",
       "      <td>0.000000</td>\n",
       "    </tr>\n",
       "    <tr>\n",
       "      <th>125264</th>\n",
       "      <td>9</td>\n",
       "      <td>202</td>\n",
       "      <td>1012</td>\n",
       "      <td>2020</td>\n",
       "      <td>1</td>\n",
       "      <td>1</td>\n",
       "      <td>0</td>\n",
       "      <td>1</td>\n",
       "      <td>1</td>\n",
       "      <td>5965</td>\n",
       "      <td>...</td>\n",
       "      <td>0.961640</td>\n",
       "      <td>96.163976</td>\n",
       "      <td>8.594394</td>\n",
       "      <td>54.553619</td>\n",
       "      <td>36.757240</td>\n",
       "      <td>Patiyali</td>\n",
       "      <td>0.015884</td>\n",
       "      <td>0.000000</td>\n",
       "      <td>0.0</td>\n",
       "      <td>0.000000</td>\n",
       "    </tr>\n",
       "  </tbody>\n",
       "</table>\n",
       "<p>125265 rows × 24 columns</p>\n",
       "</div>"
      ],
      "text/plain": [
       "        pc11_s_id  pc11_d_id  pc11_sd_id  year  post_ror_data_entry_block_any  \\\n",
       "0               1          1           1  2000                              0   \n",
       "1               1          1           1  2001                              0   \n",
       "2               1          1           1  2002                              0   \n",
       "3               1          1           1  2003                              0   \n",
       "4               1          1           1  2004                              0   \n",
       "...           ...        ...         ...   ...                            ...   \n",
       "125260          9        202        1012  2016                              1   \n",
       "125261          9        202        1012  2017                              1   \n",
       "125262          9        202        1012  2018                              1   \n",
       "125263          9        202        1012  2019                              1   \n",
       "125264          9        202        1012  2020                              1   \n",
       "\n",
       "        post_ror_dist_softw_available_block_any  \\\n",
       "0                                             0   \n",
       "1                                             0   \n",
       "2                                             0   \n",
       "3                                             0   \n",
       "4                                             0   \n",
       "...                                         ...   \n",
       "125260                                        1   \n",
       "125261                                        1   \n",
       "125262                                        1   \n",
       "125263                                        1   \n",
       "125264                                        1   \n",
       "\n",
       "        post_ror_aadhaar_link_block_any  post_mutation_computerized_block_any  \\\n",
       "0                                     0                                     0   \n",
       "1                                     0                                     0   \n",
       "2                                     0                                     0   \n",
       "3                                     0                                     0   \n",
       "4                                     0                                     0   \n",
       "...                                 ...                                   ...   \n",
       "125260                                0                                     1   \n",
       "125261                                0                                     1   \n",
       "125262                                0                                     1   \n",
       "125263                                0                                     1   \n",
       "125264                                0                                     1   \n",
       "\n",
       "        post_digital_ror_issued_block_any  block_id  ...   frac_12  \\\n",
       "0                                       0         1  ...       NaN   \n",
       "1                                       0         1  ...  0.064216   \n",
       "2                                       0         1  ...  0.076860   \n",
       "3                                       0         1  ...  0.072095   \n",
       "4                                       0         1  ...  0.052910   \n",
       "...                                   ...       ...  ...       ...   \n",
       "125260                                  1      5965  ...  0.954903   \n",
       "125261                                  1      5965  ...  0.956646   \n",
       "125262                                  1      5965  ...  0.953928   \n",
       "125263                                  1      5965  ...  0.961914   \n",
       "125264                                  1      5965  ...  0.961640   \n",
       "\n",
       "        per_aggriculture  per_treecover per_greencover  per_built  sd_name_y  \\\n",
       "0                    NaN      31.286381      47.388935  21.324677    Kupwara   \n",
       "1               6.421551      33.507698      42.900303  23.592001    Kupwara   \n",
       "2               7.685976      28.036722      49.964584  21.998692    Kupwara   \n",
       "3               7.209489      32.680721      45.621540  21.697739    Kupwara   \n",
       "4               5.290961      31.404015      41.732754  26.863232    Kupwara   \n",
       "...                  ...            ...            ...        ...        ...   \n",
       "125260         95.490319       3.570984      54.682835  41.631336   Patiyali   \n",
       "125261         95.664638       6.060174      62.668755  31.177742   Patiyali   \n",
       "125262         95.392793       5.095272      53.366138  41.401382   Patiyali   \n",
       "125263         96.191359       4.311493      59.983742  35.600212   Patiyali   \n",
       "125264         96.163976       8.594394      54.553619  36.757240   Patiyali   \n",
       "\n",
       "        per_TREES-BD  per_TREES-BE  per_TREES-ND per_TREES-NE  \n",
       "0           1.964613      1.117632           0.0    29.015697  \n",
       "1           1.956872      1.117632           0.0    28.908140  \n",
       "2           1.969693      1.117632           0.0    28.930830  \n",
       "3           1.968723      1.117632           0.0    28.954021  \n",
       "4           1.972254      1.140225           0.0    29.136803  \n",
       "...              ...           ...           ...          ...  \n",
       "125260      0.015884      0.000000           0.0     0.000000  \n",
       "125261      0.015884      0.000000           0.0     0.000000  \n",
       "125262      0.015884      0.000000           0.0     0.000000  \n",
       "125263      0.015884      0.000000           0.0     0.000000  \n",
       "125264      0.015884      0.000000           0.0     0.000000  \n",
       "\n",
       "[125265 rows x 24 columns]"
      ]
     },
     "execution_count": 9,
     "metadata": {},
     "output_type": "execute_result"
    }
   ],
   "source": [
    "#3\n",
    "# Merge ambos DataFrames usando las variables clave\n",
    "merged_df = pd.merge(sysdif_df, climate_df, on=['pc11_s_id', 'pc11_d_id', 'pc11_sd_id', 'year'])\n",
    "merged_df"
   ]
  },
  {
   "cell_type": "code",
   "execution_count": 116,
   "metadata": {},
   "outputs": [
    {
     "name": "stdout",
     "output_type": "stream",
     "text": [
      "       per_TREES-BD  per_TREES-BE  per_TREES-ND  per_TREES-NE\n",
      "count     125265.00     125265.00     125265.00     125265.00\n",
      "mean           2.35          4.27          0.01          1.97\n",
      "std            5.02         13.57          0.15          6.66\n",
      "min            0.00          0.00          0.00          0.00\n",
      "25%            0.01          0.00          0.00          0.00\n",
      "50%            0.28          0.00          0.00          0.00\n",
      "75%            2.24          0.07          0.00          0.04\n",
      "max           48.70         86.32         10.14         55.18\n"
     ]
    }
   ],
   "source": [
    "#4\n",
    "stats = merged_df[['per_TREES-BD', 'per_TREES-BE', 'per_TREES-ND', 'per_TREES-NE']].describe().round(2)\n",
    "print(stats)"
   ]
  },
  {
   "cell_type": "code",
   "execution_count": 15,
   "metadata": {},
   "outputs": [
    {
     "data": {
      "text/plain": [
       "<Axes: >"
      ]
     },
     "execution_count": 15,
     "metadata": {},
     "output_type": "execute_result"
    },
    {
     "data": {
      "image/png": "[encoded data removed]",
      "text/plain": [
       "<Figure size 640x480 with 1 Axes>"
      ]
     },
     "metadata": {},
     "output_type": "display_data"
    }
   ],
   "source": [
    "#5\n",
    "# Sumar las columnas y crear una nueva columna 'sum_tree'\n",
    "merged_df['sum_tree'] = merged_df[['per_TREES-BD', 'per_TREES-BE', 'per_TREES-ND', 'per_TREES-NE']].sum(axis=1)\n",
    "\n",
    "#merged_df['sum_tree'] = merged_df[[regex=(\"per_TREES-*\")]].sum(axis=1)\n",
    "\n",
    "# Generar un histograma para la nueva columna 'sum_tree'\n",
    "merged_df['sum_tree'].hist()"
   ]
  },
  {
   "cell_type": "code",
   "execution_count": 17,
   "metadata": {},
   "outputs": [
    {
     "data": {
      "image/png": "[encoded data removed]",
      "text/plain": [
       "<Figure size 1000x800 with 4 Axes>"
      ]
     },
     "metadata": {},
     "output_type": "display_data"
    },
    {
     "data": {
      "image/png": "[encoded data removed]",
      "text/plain": [
       "<Figure size 1000x800 with 4 Axes>"
      ]
     },
     "metadata": {},
     "output_type": "display_data"
    }
   ],
   "source": [
    "#6\n",
    "import matplotlib.pyplot as plt\n",
    "\n",
    "# Calcular la mediana de la columna 'sum_tree'\n",
    "median_value = merged_df['sum_tree'].median()\n",
    "\n",
    "# Filtrar los DataFrames\n",
    "above_median_df = merged_df[merged_df['sum_tree'] > median_value]\n",
    "below_median_df = merged_df[merged_df['sum_tree'] <= median_value]\n",
    "\n",
    "# Columnas a considerar\n",
    "columns_to_plot = ['per_TREES-BD', 'per_TREES-BE', 'per_TREES-ND', 'per_TREES-NE']\n",
    "\n",
    "# Generar histogramas para el subconjunto por encima de la mediana\n",
    "above_median_df[columns_to_plot].hist(alpha=0.5, figsize=(10, 8))\n",
    "plt.suptitle('Histograms for Above Median sum_tree')\n",
    "plt.show()\n",
    "\n",
    "# Generar histogramas para el subconjunto por debajo de la mediana\n",
    "below_median_df[columns_to_plot].hist(alpha=0.5, figsize=(10, 8))\n",
    "plt.suptitle('Histograms for Below Median sum_tree')\n",
    "plt.show()"
   ]
  },
  {
   "cell_type": "code",
   "execution_count": null,
   "metadata": {},
   "outputs": [],
   "source": []
  }
 ],
 "metadata": {
  "hide_input": false,
  "kernelspec": {
   "display_name": "Python 3 (ipykernel)",
   "language": "python",
   "name": "python3"
  },
  "language_info": {
   "codemirror_mode": {
    "name": "ipython",
    "version": 3
   },
   "file_extension": ".py",
   "mimetype": "text/x-python",
   "name": "python",
   "nbconvert_exporter": "python",
   "pygments_lexer": "ipython3",
   "version": "3.12.4"
  },
  "toc": {
   "base_numbering": 1,
   "nav_menu": {},
   "number_sections": true,
   "sideBar": true,
   "skip_h1_title": false,
   "title_cell": "Table of Contents",
   "title_sidebar": "Contents",
   "toc_cell": false,
   "toc_position": {},
   "toc_section_display": true,
   "toc_window_display": false
  }
 },
 "nbformat": 4,
 "nbformat_minor": 4
}
