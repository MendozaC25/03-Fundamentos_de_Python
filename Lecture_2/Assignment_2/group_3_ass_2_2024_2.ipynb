{
 "cells": [
  {
   "cell_type": "markdown",
   "metadata": {},
   "source": [
    "# 1 Assignment\n",
    "\n",
    "It is totally prohibited to use any kind of loop. You can use stackoverflow. If you copy codes from previous answers, explain each step. No explanation is `0 points`."
   ]
  },
  {
   "cell_type": "markdown",
   "metadata": {},
   "source": [
    "## 1.1 Tuple\n",
    "\n",
    "\n",
    "\n",
    "1. Print the first item of the second item of `tuple1` object. **Hint: Use indexing**<br><br>\n",
    "2. Print the last item of the `tuple1` object.**Hint: Use indexing**<br><br>\n",
    "3. Change the value \"orange\" for \"pink grapefruit\". Comment the output. **Hint: Is it possible?** <br><br>\n",
    "4. Print the length of `tuple1`. **Hint: Length function**<br><br>\n",
    "5. Sum all the elements of `tuple2` and describe your steps and explain each of them. **Hint: Use `map` function.**<br><br>\n",
    "6. Generate a new tuple object named as `tuple3` with the half values of `tuple2`. This tuple should be similar as `tuple2`, tuple of lists.  **Hint: Use `map` funciont.**<br><br>"
   ]
  },
  {
   "cell_type": "code",
   "execution_count": 131,
   "metadata": {},
   "outputs": [],
   "source": [
    "tuple1 = (\"Orange\", [10, 20, 30], (5, 15, 25))\n",
    "tuple2 = ([7, 8], [9, 1], [10, 7])"
   ]
  },
  {
   "cell_type": "code",
   "execution_count": 132,
   "metadata": {},
   "outputs": [
    {
     "name": "stdout",
     "output_type": "stream",
     "text": [
      "10\n"
     ]
    }
   ],
   "source": [
    "#1.1.1 Print the first item of the second item of tuple1 object. Hint: Use indexing\n",
    "#We index two times, using the corresponding indexing for each item\n",
    "print(tuple1[1][0])"
   ]
  },
  {
   "cell_type": "code",
   "execution_count": 133,
   "metadata": {},
   "outputs": [
    {
     "name": "stdout",
     "output_type": "stream",
     "text": [
      "(5, 15, 25)\n"
     ]
    }
   ],
   "source": [
    "#1.1.2 Print the last item of the tuple1 object.Hint: Use indexing\n",
    "#To print the last item we call for -1\n",
    "print(tuple1[-1])"
   ]
  },
  {
   "cell_type": "code",
   "execution_count": 187,
   "metadata": {},
   "outputs": [
    {
     "ename": "TypeError",
     "evalue": "'tuple' object does not support item assignment",
     "output_type": "error",
     "traceback": [
      "\u001b[1;31m---------------------------------------------------------------------------\u001b[0m",
      "\u001b[1;31mTypeError\u001b[0m                                 Traceback (most recent call last)",
      "Cell \u001b[1;32mIn[187], line 2\u001b[0m\n\u001b[0;32m      1\u001b[0m \u001b[38;5;66;03m#1.1.3 Change the value \"orange\" for \"pink grapefruit\". Comment the output. Hint: Is it possible?\u001b[39;00m\n\u001b[1;32m----> 2\u001b[0m \u001b[43mtuple1\u001b[49m\u001b[43m[\u001b[49m\u001b[38;5;241;43m0\u001b[39;49m\u001b[43m]\u001b[49m \u001b[38;5;241m=\u001b[39m \u001b[38;5;124m\"\u001b[39m\u001b[38;5;124mpink grapefruit\u001b[39m\u001b[38;5;124m\"\u001b[39m\n\u001b[0;32m      3\u001b[0m \u001b[38;5;66;03m#Result: 'tuple' object does not support item assignment\u001b[39;00m\n\u001b[0;32m      4\u001b[0m \u001b[38;5;66;03m#This happens because tuples' items can not be mutated\u001b[39;00m\n",
      "\u001b[1;31mTypeError\u001b[0m: 'tuple' object does not support item assignment"
     ]
    }
   ],
   "source": [
    "#1.1.3 Change the value \"orange\" for \"pink grapefruit\". Comment the output. Hint: Is it possible?\n",
    "tuple1[0] = \"pink grapefruit\"\n",
    "#Result: 'tuple' object does not support item assignment\n",
    "#This happens because tuples' items can not be mutated"
   ]
  },
  {
   "cell_type": "code",
   "execution_count": 135,
   "metadata": {},
   "outputs": [
    {
     "name": "stdout",
     "output_type": "stream",
     "text": [
      "3\n"
     ]
    }
   ],
   "source": [
    "#1.1.4 Print the length of tuple1. Hint: Length function\n",
    "print(len(tuple1))"
   ]
  },
  {
   "cell_type": "code",
   "execution_count": 136,
   "metadata": {},
   "outputs": [
    {
     "name": "stdout",
     "output_type": "stream",
     "text": [
      "([3.5, 4.0], [4.5, 0.5], [5.0, 3.5])\n"
     ]
    }
   ],
   "source": [
    "#1.1.6 Generate a new tuple object named as tuple3 with the half values of tuple2. This tuple should be similar as tuple2, tuple of lists. \n",
    "# We use map and lambda to divide by two each element and keep it in a tuple. We also use \"tuple\" to mantain that class.\n",
    "\n",
    "tuple3 = tuple(map(lambda lst: list(map(lambda x: x / 2, lst)), tuple2))\n",
    "print(tuple3)  "
   ]
  },
  {
   "cell_type": "code",
   "execution_count": 137,
   "metadata": {},
   "outputs": [
    {
     "name": "stdout",
     "output_type": "stream",
     "text": [
      "42\n"
     ]
    }
   ],
   "source": [
    "#1.1.5 Sum all the elements of tuple2 and describe your steps and explain each of them. Hint: Use map function.\n",
    "#We use map and sum twice to sum all the elements.\n",
    "total_sum = sum(map(sum, tuple2))\n",
    "print(total_sum)\n",
    "# Output: 42"
   ]
  },
  {
   "cell_type": "markdown",
   "metadata": {},
   "source": [
    "## 1.2 Lists\n",
    "1. Show the indices of the `np.nan` values  in the `f_list` list. We want to see this output: `The indices 0, 1, 4, 7 have np.nan values.` **Hint: Use print function and [f-strings](https://realpython.com/python-f-strings/) to insert the indices values.**<br><br>\n",
    "\n",
    "2. Replicate 4 times the values of the list `p2_list`. We expect an ouput like this: `[ 2 , 3, 4, 5, 2 , 3, 4, 5, 2 , 3, 4, 5, 2 , 3, 4, 5]`.  **Hint: Use multiplication function in `lists`and see the output.**<br><br>\n",
    "3. Print the length of `f_list`. **Hint: Length function**<br><br>\n",
    "4. Print `My teacher assistant is so boring.` using `text1` list. **Hint: Use the [`join` function](https://stackoverflow.com/questions/493819/why-is-it-string-joinlist-instead-of-list-joinstring)**<br><br>\n",
    "5. Print `My TA is so boring, but is very funny.` using `text1` list.**Hint: Use the `join` function, and `extend` method.**<br><br>\n",
    "6. Print <br>\n",
    "`The max value of values1 is 86 and is located in the 0 index. ` <br>\n",
    "`The min value of values1 is 0 and is located in the 7 index. ` <br> **Hint: Use the `f-string`, `min`, and `max` functions.**\n",
    "<br>\n",
    "7. Get two lists: `names` and `last_names` using `last_and_name` list. **Hint: Use `map` and `split`.**\n",
    "<br>\n",
    "8. Give only the last names of students who do not have email. Use the `emails` and `last_names` listt. **Hint: Use `map` and `split`.**\n",
    "<br>"
   ]
  },
  {
   "cell_type": "code",
   "execution_count": 138,
   "metadata": {},
   "outputs": [],
   "source": [
    "## 1.2.1 Show the indices of the np.nan values in the f_list list. "
   ]
  },
  {
   "cell_type": "code",
   "execution_count": 139,
   "metadata": {},
   "outputs": [],
   "source": [
    "###I imported the NumPy module, which provides the np.isnan function to check if a value is  NaN\n",
    "###Then, I defined the list f_list containing NaN values\n",
    "###Then, I used a list comprehension with enumerate to create a list of indexes where the values are NaN\n",
    "###And I converted the indices to a comma separated string with join function. Then I printed it using f-strings."
   ]
  },
  {
   "cell_type": "code",
   "execution_count": 140,
   "metadata": {},
   "outputs": [],
   "source": [
    "import numpy as np"
   ]
  },
  {
   "cell_type": "code",
   "execution_count": 141,
   "metadata": {},
   "outputs": [
    {
     "name": "stdout",
     "output_type": "stream",
     "text": [
      "The indices 0, 1, 4, 7 have np.nan values.\n"
     ]
    }
   ],
   "source": [
    "f_list = [np.nan , np.nan, \"Austria\", \"Germany\", np.nan, \"Pakistan\", \"np.nan\", np.nan ]\n",
    "nan_indices = [index for index, value in enumerate(f_list) if isinstance(value,float) and np.isnan(value)]\n",
    "print(f\"The indices {', '.join(map(str, nan_indices))} have np.nan values.\")"
   ]
  },
  {
   "cell_type": "code",
   "execution_count": 142,
   "metadata": {},
   "outputs": [],
   "source": [
    "## 1.2.2 Replicate 4 times the values of the list p2_list"
   ]
  },
  {
   "cell_type": "code",
   "execution_count": 143,
   "metadata": {},
   "outputs": [],
   "source": [
    "###Define the list p2_list: p2_list = [2, 3, 4, 5]\n",
    "###I replicated the list by multiplying it by 4: replicated_list = p2_list * 4 \n",
    "###I printed the replicated list: print(replicated_list)"
   ]
  },
  {
   "cell_type": "code",
   "execution_count": 144,
   "metadata": {},
   "outputs": [
    {
     "name": "stdout",
     "output_type": "stream",
     "text": [
      "[2, 3, 4, 5, 2, 3, 4, 5, 2, 3, 4, 5, 2, 3, 4, 5]\n"
     ]
    }
   ],
   "source": [
    "p2_list = [2, 3, 4, 5]\n",
    "replicated_list = p2_list * 4\n",
    "print(replicated_list)"
   ]
  },
  {
   "cell_type": "code",
   "execution_count": 145,
   "metadata": {},
   "outputs": [],
   "source": [
    "## 1.2.3 Print the length of f_list"
   ]
  },
  {
   "cell_type": "code",
   "execution_count": 146,
   "metadata": {},
   "outputs": [],
   "source": [
    "###I used the len function to get the length of f_list and print it: print(len(f_list))"
   ]
  },
  {
   "cell_type": "code",
   "execution_count": 147,
   "metadata": {},
   "outputs": [
    {
     "name": "stdout",
     "output_type": "stream",
     "text": [
      "8\n"
     ]
    }
   ],
   "source": [
    "print(len(f_list))"
   ]
  },
  {
   "cell_type": "code",
   "execution_count": 148,
   "metadata": {},
   "outputs": [],
   "source": [
    "## 1.2.4 Print My teacher assistant is so boring"
   ]
  },
  {
   "cell_type": "code",
   "execution_count": 149,
   "metadata": {},
   "outputs": [],
   "source": [
    "###I defined the list text1: text1 = ['My', 'teacher', 'assistant', 'is', 'so', 'boring.']\n",
    "###I used the join method to join the list elements into a space-separated string and printed it: print(' '.join(text1))"
   ]
  },
  {
   "cell_type": "code",
   "execution_count": 150,
   "metadata": {},
   "outputs": [
    {
     "name": "stdout",
     "output_type": "stream",
     "text": [
      "My teacher assistant is so boring.\n"
     ]
    }
   ],
   "source": [
    "text1 = ['My', 'teacher', 'assistant', 'is', 'so', 'boring.']\n",
    "print(' '.join(text1))"
   ]
  },
  {
   "cell_type": "code",
   "execution_count": 151,
   "metadata": {},
   "outputs": [],
   "source": [
    "## 1.2.5 Print My TA is so boring, but is very funny"
   ]
  },
  {
   "cell_type": "code",
   "execution_count": 152,
   "metadata": {},
   "outputs": [],
   "source": [
    "###I replaced the word \"teacher\" of text1 list with this other element \"TA\".\n",
    "###I replaced the last item \"boring.\" of text1 list with this other element \"boring,\". \n",
    "###Then, I defined an additional list additional_text: additional_text = ['but', 'is', 'very', 'funny.']\n",
    "###I used the extend method to add the additional_text elements to text1: text1.extend(additional_text) \n",
    "###Join the list elements into a space-separated string and print it: print(' '.join(text1))"
   ]
  },
  {
   "cell_type": "code",
   "execution_count": 153,
   "metadata": {},
   "outputs": [],
   "source": [
    "text1[1] = \"TA\"\n",
    "text1[-1] = \"boring,\""
   ]
  },
  {
   "cell_type": "code",
   "execution_count": 154,
   "metadata": {},
   "outputs": [
    {
     "name": "stdout",
     "output_type": "stream",
     "text": [
      "My TA assistant is so boring, but is very funny.\n"
     ]
    }
   ],
   "source": [
    "additional_text = ['but', 'is', 'very', 'funny.']\n",
    "text1.extend(additional_text)\n",
    "print(' '.join(text1))"
   ]
  },
  {
   "cell_type": "code",
   "execution_count": 155,
   "metadata": {},
   "outputs": [],
   "source": [
    "## 1.2.6 Print: The max value of values1 is 86 and is located in the 0 index and The min value of values1 is 0 and is located in the 7 index"
   ]
  },
  {
   "cell_type": "code",
   "execution_count": 156,
   "metadata": {},
   "outputs": [],
   "source": [
    "###I defined the list values1\n",
    "###I found the maximum value in values1 using max: max_value = max(values1)\n",
    "###I found the minimum value in values1 using min: min_value = min(values1)\n",
    "###Found the index of the maximum value: max_index = values1.index(max_value)\n",
    "###Found the index of the minimum value: min_index = values1.index(min_value)\n",
    "###Print the maximum value and its index: print(f\"The max value of values1 is {max_value} and is located in the {max_index} index.\")\n",
    "###I printed the minimum value and its index: print(f\"The min value of values1 is {min_value} and is located in the {min_index} index.\")"
   ]
  },
  {
   "cell_type": "code",
   "execution_count": 157,
   "metadata": {},
   "outputs": [
    {
     "name": "stdout",
     "output_type": "stream",
     "text": [
      "The max value of values1 is 86 and is located in the 0 index.\n",
      "The min value of values1 is 0 and is located in the 7 index.\n"
     ]
    }
   ],
   "source": [
    "values1 = [ 86, 86, 85, 85, 85, 83, 23, 0, 84, 1 ] \n",
    "max_value = max(values1)\n",
    "min_value = min(values1)\n",
    "max_index = values1.index(max_value)\n",
    "min_index = values1.index(min_value)\n",
    "print(f\"The max value of values1 is {max_value} and is located in the {max_index} index.\")\n",
    "print(f\"The min value of values1 is {min_value} and is located in the {min_index} index.\")"
   ]
  },
  {
   "cell_type": "code",
   "execution_count": 158,
   "metadata": {},
   "outputs": [],
   "source": [
    "##1.2.7 Get two lists: names and last_names using last_and_name list"
   ]
  },
  {
   "cell_type": "code",
   "execution_count": 159,
   "metadata": {},
   "outputs": [],
   "source": [
    "###In this activity, I need to create two separate lists from a combined list of names and last names. I use the map and split functions to achieve this:\n",
    "####Define the Combined List: I start with a list called last_and_name that contains strings of combined last names and first names, separated by a comma and a space.\n",
    "####Use map and split to Separate Names and Last Names: I apply the map function along with a lambda function to split each string in the last_and_name list by the comma and space (\", \"). The result is two lists: one for names and one for last names: lambda x: x.split(\", \")[1] splits each string and takes the second part (the first name) y lambda x: x.split(\", \")[0] splits each string and takes the first part (the last name).\n",
    "####Print the Resulting Lists: Finally, I print the names and last_names lists to verify the results."
   ]
  },
  {
   "cell_type": "code",
   "execution_count": 160,
   "metadata": {},
   "outputs": [
    {
     "name": "stdout",
     "output_type": "stream",
     "text": [
      "Names: ['CHRISTIAN SANTOS', 'CRISTIAN NASSER', 'ANGELICA KARINA', 'JOSE ROBERTO', 'ABEL FERNANDO', 'MEIR ALVARO', 'JOSELIN ALEXANDRA', 'LEONEL ARTURO', 'JOSE FELIPE', 'AFRANIA', 'BIANCA MARIETTE', 'ADRIAN ANDRE', 'DORKAS YOMIRA JHERMY', 'LADY ALY', 'HECTOR ANDRE', 'GUSTAVO', 'PERSEO MARCELO', 'MIGUEL ALONZO', 'NICOLÁS', 'ROCIO GABRIELA', 'JANE CAMILA', 'MARIA ELISA', 'ALEJANDRO', 'KARLINE ROSMELI', 'VALERIA CECILIA', 'SEBASTIAN RENATO', 'JUAN CARLOS', 'MARIANA', 'ANDREA BRIZETH', 'ERICK JOSUE', 'JOSUE DANIEL', 'FABIO MANUEL', 'FERNANDA NICOLLE', 'ANGELA ADELINA', 'CESAR DANTE', 'GABRIELA ISABEL', 'ANGEL MAURICIO', 'JUAN DIEGO', 'ARONE', 'PERCY ALBERTH', 'KEVIN ARTURO', 'CESAR ERNESTO', 'CÉSAR AUGUSTO', 'DIANA EDITH', 'RODRIGO FRANCO', 'GRETEL ALEXANDRA', 'ROSA ANGELA', 'DANTE OMAR', 'YAJAIRA ALEXANDRA', 'JORGE ALBERTO', 'ALEXIS']\n",
      "Last Names: ['CORNEJO SANCHEZ', 'ORELLANA QUISPE', 'MORALES CHOQUEHUANCA', 'GUIMARAY RIBEYRO', 'CAMACHO GAVIDIA', 'TINTAYA ORIHUELA', 'CHAVEZ MARTINEZ', 'FIGUEROA MURO', 'GOMEZ CRIBILERO', 'PALOMINO SEGUÍN', 'LUZON CUEVA', 'SUAÑA ZEGARRA', 'SOTO POMACHAGUA', 'FIORENTINO MARTINEZ', 'LAMA MAVILA', 'MEZA HINOJO', 'LOZADA MURILLO', 'ZAMBRANO JIMENEZ', 'JACOBS LUQUE', 'VIDAL VIDAL', 'TORRES ANICAMA', 'LOPEZ ESTRADA', 'BOYCO ORAMS', 'DIAZ BERROSPI', 'RIEGAÑO TORRES', 'ESQUIVES BRAVO', 'PEREZ GONZALES', 'OTERO MAGUIÑA', 'CLAVO CAMPOS', 'AGUILAR GARCIA', 'CALDAS VELASQUEZ', 'SALAS NUÑEZ BORJA', 'PIZARRO VILLANES', 'QUILLATUPA MORALES', 'HUANCAYA IDONE', 'CALVO PORTOCARRERO', 'IBAÑEZ ABANTO', 'MELÉNDEZ APONTE', 'CRISTIAN SERRANO', 'HIÑOJOSA CAHUANA', 'ANGELES GARCÍA', 'ALDAVE ACOSTA', 'NUÑEZ HUAMÁN', 'OBREGON HUAMAN', 'SOTO PACHERRES', 'INGARUCA RIVERA', 'ROJAS HUAMAN', 'NEYRA SALAS', 'HUERTA ESPINOZA', 'HUANCA MARTINEZ', 'FLORES CADILLO']\n"
     ]
    }
   ],
   "source": [
    "last_and_name = [\"CORNEJO SANCHEZ, CHRISTIAN SANTOS\", \"ORELLANA QUISPE, CRISTIAN NASSER\", \"MORALES CHOQUEHUANCA, ANGELICA KARINA\", \"GUIMARAY RIBEYRO, JOSE ROBERTO\", \"CAMACHO GAVIDIA, ABEL FERNANDO\", \"TINTAYA ORIHUELA, MEIR ALVARO\", \"CHAVEZ MARTINEZ, JOSELIN ALEXANDRA\", \"FIGUEROA MURO, LEONEL ARTURO\", \"GOMEZ CRIBILERO, JOSE FELIPE\", \"PALOMINO SEGUÍN, AFRANIA\", \"LUZON CUEVA, BIANCA MARIETTE\", \"SUAÑA ZEGARRA, ADRIAN ANDRE\", \"SOTO POMACHAGUA, DORKAS YOMIRA JHERMY\", \"FIORENTINO MARTINEZ, LADY ALY\", \"LAMA MAVILA, HECTOR ANDRE\", \"MEZA HINOJO, GUSTAVO\", \"LOZADA MURILLO, PERSEO MARCELO\", \"ZAMBRANO JIMENEZ, MIGUEL ALONZO\", \"JACOBS LUQUE, NICOLÁS\", \"VIDAL VIDAL, ROCIO GABRIELA\", \"TORRES ANICAMA, JANE CAMILA\", \"LOPEZ ESTRADA, MARIA ELISA\", \"BOYCO ORAMS, ALEJANDRO\", \"DIAZ BERROSPI, KARLINE ROSMELI\", \"RIEGAÑO TORRES, VALERIA CECILIA\", \"ESQUIVES BRAVO, SEBASTIAN RENATO\", \"PEREZ GONZALES, JUAN CARLOS\", \"OTERO MAGUIÑA, MARIANA\", \"CLAVO CAMPOS, ANDREA BRIZETH\", \"AGUILAR GARCIA, ERICK JOSUE\", \"CALDAS VELASQUEZ, JOSUE DANIEL\", \"SALAS NUÑEZ BORJA, FABIO MANUEL\", \"PIZARRO VILLANES, FERNANDA NICOLLE\", \"QUILLATUPA MORALES, ANGELA ADELINA\", \"HUANCAYA IDONE, CESAR DANTE\", \"CALVO PORTOCARRERO, GABRIELA ISABEL\", \"IBAÑEZ ABANTO, ANGEL MAURICIO\", \"MELÉNDEZ APONTE, JUAN DIEGO\", \"CRISTIAN SERRANO, ARONE\", \"HIÑOJOSA CAHUANA, PERCY ALBERTH\", \"ANGELES GARCÍA, KEVIN ARTURO\", \"ALDAVE ACOSTA, CESAR ERNESTO\", \"NUÑEZ HUAMÁN, CÉSAR AUGUSTO\", \"OBREGON HUAMAN, DIANA EDITH\", \"SOTO PACHERRES, RODRIGO FRANCO\", \"INGARUCA RIVERA, GRETEL ALEXANDRA\", \"ROJAS HUAMAN, ROSA ANGELA\", \"NEYRA SALAS, DANTE OMAR\", \"HUERTA ESPINOZA, YAJAIRA ALEXANDRA\", \"HUANCA MARTINEZ, JORGE ALBERTO\", \"FLORES CADILLO, ALEXIS\"]\n",
    "\n",
    "# I used map and split to get names and last_names lists.\n",
    "names, last_names = zip(*map(lambda x: x.split(\", \")[::-1], last_and_name))\n",
    "print(f\"Names: {list(names)}\")\n",
    "print(f\"Last Names: {list(last_names)}\")"
   ]
  },
  {
   "cell_type": "code",
   "execution_count": 161,
   "metadata": {},
   "outputs": [],
   "source": [
    "## 1.2.8 Give only the last names of students who do not have email. Use the emails and last_names lists"
   ]
  },
  {
   "cell_type": "code",
   "execution_count": 162,
   "metadata": {},
   "outputs": [],
   "source": [
    "###In this activity, we need to identify and list the last names of students who do not have an email address. We use the map and split functions to achieve this.\n",
    "####I defined the emails and last_names lists.\n",
    "####I used the zip function to pair each email with its corresponding last name.\n",
    "####I used a list comprehension to filter out the last names of students who do not have email addresses.\n",
    "####I printed the resulting list of last names."
   ]
  },
  {
   "cell_type": "code",
   "execution_count": 163,
   "metadata": {},
   "outputs": [
    {
     "name": "stdout",
     "output_type": "stream",
     "text": [
      "Apellidos sin correo electrónico: ['CALVO PORTOCARRERO', 'IBAÑEZ ABANTO', 'MELÉNDEZ APONTE', 'CRISTIAN SERRANO', 'HIÑOJOSA CAHUANA', 'ALDAVE ACOSTA', 'NUÑEZ HUAMÁN', 'OBREGON HUAMAN', 'SOTO PACHERRES', 'INGARUCA RIVERA', 'ROJAS HUAMAN', 'NEYRA SALAS', 'HUERTA ESPINOZA', 'HUANCA MARTINEZ', 'FLORES CADILLO']\n"
     ]
    }
   ],
   "source": [
    "emails = [\"cscornejo@pucp.edu.pe\", \"orellana.cn@pucp.edu.pe\", \"karina.morales@pucp.edu.pe\", \"a20083223@pucp.pe\", \"abel.camacho@pucp.pe\", \"mtintaya@pucp.edu.pe\", \"joselin.chavez@pucp.edu.pe\", \"a20105737@pucp.pe\", \"jfgomezc@pucp.pe\", \"afrania.palomino@pucp.pe\", \"luzon.bianca@pucp.pe\", \"adrian.suanaz@pucp.pe\", \"soto.y@pucp.edu.pe\", \"a20132766@pucp.pe\", \"andre.lama@pucp.edu.pe\", \"gustavo.meza@pucp.edu.pe\", \"pmlozada@pucp.edu.pe\", \"m.zambranoj@pucp.edu.pe\", \"nicolas.jacobs@pucp.edu.pe\", \"gvidal@pucp.edu.pe\", \"jane.torres@pucp.edu.pe\", \"m.lopez@pucp.edu.pe\", \"alejandro.boyco@pucp.edu.pe\", \"a20167070@pucp.edu.pe\", \"riega.stephy@pucp.edu.pe\", \"vlevanot@pucp.edu.pe\", \"sesquives@pucp.edu.pe\", \"perez.juanc@pucp.edu.pe\", \"mariana.otero@pucp.edu.pe\", \"aclavo@pucp.edu.pe\", \"a20182474@pucp.edu.pe\", \"josue.caldas@pucp.edu.pe\", \"fabio.salas@pucp.edu.pe\", \"fernanda.pizarro@pucp.edu.pe\", \"aquillatupa@pucp.pe\", \"\", \"\", \"\", \"\", \"\", \"f0873079@pucp.edu.pe\", \"\", \"\", \"\", \"\", \"\", \"\", \"\", \"\", \"\", \"\", \"flores.alexis@pucp.edu.pe\"]\n",
    "\n",
    "# Obtener apellidos de estudiantes que no tienen correo electrónico\n",
    "no_email_last_names = [lastname for email, lastname in zip(emails, last_names) if not email]\n",
    "\n",
    "print(f\"Apellidos sin correo electrónico: {no_email_last_names}\")"
   ]
  },
  {
   "cell_type": "markdown",
   "metadata": {},
   "source": [
    "## 1.3 Strings\n",
    "\n",
    "\n",
    "1. Drop the duplicated blank spaces in `str1`. Do not use the regular expresions. Do not use the code shown in class. Explain your steps.**Hint: Use `split` method and `join` function.**\n",
    "\n",
    "2. Get the number of letters in the string .**Hint: Use `len`function.**\n",
    "\n",
    "3. Get the number of blank spaces (all of them) in the string .**Hint: Use `len`function.**\n",
    "\n",
    "4. Get the position of `@` in each string in the emails list. **Hint: Use `map`function and `find` method.**\n",
    "\n",
    "5. Identifies if exists `.edu.`  in each string in the `emails` list. Get a list of Booleans. **Hint: Use `map`function and `find` method.**\n",
    "\n",
    "6. Get all the strings before the first dot `.`in each string in the `emails` list. Identifies how many of them has `@`. **Hint: Use `map`function and `find` method.**"
   ]
  },
  {
   "cell_type": "code",
   "execution_count": 164,
   "metadata": {},
   "outputs": [],
   "source": [
    "str1 = 'I am                            too                                                        old'"
   ]
  },
  {
   "cell_type": "code",
   "execution_count": 165,
   "metadata": {},
   "outputs": [
    {
     "name": "stdout",
     "output_type": "stream",
     "text": [
      "I am too old\n"
     ]
    }
   ],
   "source": [
    "# I used the split function to divide the string into words (automatically removes extra whitespace)\n",
    "words = str1.split()\n",
    "\n",
    "# I used the join function to unite elements of words list with a space between them.\n",
    "str1_clean = ' '.join(words)\n",
    "\n",
    "print(str1_clean)"
   ]
  },
  {
   "cell_type": "code",
   "execution_count": 166,
   "metadata": {},
   "outputs": [
    {
     "name": "stdout",
     "output_type": "stream",
     "text": [
      "9\n"
     ]
    }
   ],
   "source": [
    "#I filtered only the letters characters in the string and counted them.\n",
    "num_letters = len([char for char in str1 if char.isalpha()])\n",
    "print(num_letters)"
   ]
  },
  {
   "cell_type": "code",
   "execution_count": 167,
   "metadata": {},
   "outputs": [
    {
     "name": "stdout",
     "output_type": "stream",
     "text": [
      "85\n"
     ]
    }
   ],
   "source": [
    "#I filtered only the whitespace characters and counted them.\n",
    "num_spaces = len([char for char in str1 if char.isspace()])\n",
    "print(num_spaces)"
   ]
  },
  {
   "cell_type": "code",
   "execution_count": 168,
   "metadata": {},
   "outputs": [],
   "source": [
    "#This is the original list of emails\n",
    "emails = [\"cscornejo@pucp.edu.pe\", \"orellana.cn@pucp.edu.pe\", \"karina.morales@pucp.edu.pe\", \"a20083223@pucp.pe\", \"abel.camacho@pucp.pe\", \"mtintaya@pucp.edu.pe\", \"joselin.chavez@pucp.edu.pe\", \"a20105737@pucp.pe\", \"jfgomezc@pucp.pe\", \"afrania.palomino@pucp.pe\", \"luzon.bianca@pucp.pe\", \"adrian.suanaz@pucp.pe\", \"soto.y@pucp.edu.pe\", \"a20132766@pucp.pe\", \"andre.lama@pucp.edu.pe\", \"gustavo.meza@pucp.edu.pe\", \"pmlozada@pucp.edu.pe\", \"m.zambranoj@pucp.edu.pe\", \"nicolas.jacobs@pucp.edu.pe\", \"gvidal@pucp.edu.pe\", \"jane.torres@pucp.edu.pe\", \"m.lopez@pucp.edu.pe\", \"alejandro.boyco@pucp.edu.pe\", \"a20167070@pucp.edu.pe\", \"riega.stephy@pucp.edu.pe\", \"vlevanot@pucp.edu.pe\", \"sesquives@pucp.edu.pe\", \"perez.juanc@pucp.edu.pe\", \"mariana.otero@pucp.edu.pe\", \"aclavo@pucp.edu.pe\", \"a20182474@pucp.edu.pe\", \"josue.caldas@pucp.edu.pe\", \"fabio.salas@pucp.edu.pe\", \"fernanda.pizarro@pucp.edu.pe\", \"aquillatupa@pucp.pe\"]"
   ]
  },
  {
   "cell_type": "code",
   "execution_count": 169,
   "metadata": {},
   "outputs": [
    {
     "name": "stdout",
     "output_type": "stream",
     "text": [
      "[9, 11, 14, 9, 12, 8, 14, 9, 8, 16, 12, 13, 6, 9, 10, 12, 8, 11, 14, 6, 11, 7, 15, 9, 12, 8, 9, 11, 13, 6, 9, 12, 11, 16, 11]\n"
     ]
    }
   ],
   "source": [
    "#I used map and find functions to locate the index of the '@' symbol.\n",
    "position_arroba = list(map(lambda email: email.find('@'), emails))\n",
    "print(position_arroba)"
   ]
  },
  {
   "cell_type": "code",
   "execution_count": 170,
   "metadata": {},
   "outputs": [
    {
     "name": "stdout",
     "output_type": "stream",
     "text": [
      "[True, True, True, False, False, True, True, False, False, False, False, False, True, False, True, True, True, True, True, True, True, True, True, True, True, True, True, True, True, True, True, True, True, True, False]\n"
     ]
    }
   ],
   "source": [
    "#I used map and find to check for the existence of .edu\n",
    "contain_edu = list(map(lambda email: email.find('.edu') != -1, emails))\n",
    "print(contain_edu)"
   ]
  },
  {
   "cell_type": "code",
   "execution_count": 171,
   "metadata": {},
   "outputs": [
    {
     "name": "stdout",
     "output_type": "stream",
     "text": [
      "['cscornejo@pucp', 'orellana', 'karina', 'a20083223@pucp', 'abel', 'mtintaya@pucp', 'joselin', 'a20105737@pucp', 'jfgomezc@pucp', 'afrania', 'luzon', 'adrian', 'soto', 'a20132766@pucp', 'andre', 'gustavo', 'pmlozada@pucp', 'm', 'nicolas', 'gvidal@pucp', 'jane', 'm', 'alejandro', 'a20167070@pucp', 'riega', 'vlevanot@pucp', 'sesquives@pucp', 'perez', 'mariana', 'aclavo@pucp', 'a20182474@pucp', 'josue', 'fabio', 'fernanda', 'aquillatupa@pucp']\n",
      "[True, False, False, True, False, True, False, True, True, False, False, False, False, True, False, False, True, False, False, True, False, False, False, True, False, True, True, False, False, True, True, False, False, False, True]\n",
      "14\n"
     ]
    }
   ],
   "source": [
    "# I used  map and lambda to get the strings before the first dot in the emails list.\n",
    "before_the_dot = list(map(lambda email: email[:email.find('.')], emails))\n",
    "\n",
    "# I used map and lambda to verify how many of these elements have \"@\". I converted this result to a list named \n",
    "have_arroba = list(map(lambda x: '@' in x, before_the_dot))\n",
    "\n",
    "# I count how many elements of have_arroba list contain \"@\".\n",
    "num_with_arroba = sum(have_arroba)\n",
    "\n",
    "print(before_the_dot)\n",
    "print(have_arroba)\n",
    "print(num_with_arroba)"
   ]
  },
  {
   "cell_type": "markdown",
   "metadata": {},
   "source": [
    "## 1.4 Pandas"
   ]
  },
  {
   "cell_type": "markdown",
   "metadata": {},
   "source": [
    "1. Import this dataset new_up_data_sysdif_block_lvl_ver2.csv located in the `_data` folder.\n",
    "2. Import this dataset ESA_CLIMATE_CHANGE_tree_layers.csv located in the `_data` folder.\n",
    "3. Merge both datasets using the key variables `pc11_s_id`,\t`pc11_d_id,`\t`pc11_sd_id`, `year`. \n",
    "4. Generate a descriptive statistics for `per_TREES-BD`, `per_TREES-BE`, `per_TREES-ND`, `per_TREES-NE`.\n",
    "5. Sum these 4 columns and name the new column as `sum_tree` and get a histogram.\n",
    "6. Generate the histogram of these 4 columns `per_TREES-BD`, `per_TREES-BE`, `per_TREES-ND`, `per_TREES-NE` for the above and below median dataset filtered by the sum_tree variable.\n",
    "\n",
    "Do not forget to use relative paths."
   ]
  },
  {
   "cell_type": "code",
   "execution_count": 172,
   "metadata": {},
   "outputs": [
    {
     "data": {
      "text/html": [
       "<div>\n",
       "<style scoped>\n",
       "    .dataframe tbody tr th:only-of-type {\n",
       "        vertical-align: middle;\n",
       "    }\n",
       "\n",
       "    .dataframe tbody tr th {\n",
       "        vertical-align: top;\n",
       "    }\n",
       "\n",
       "    .dataframe thead th {\n",
       "        text-align: right;\n",
       "    }\n",
       "</style>\n",
       "<table border=\"1\" class=\"dataframe\">\n",
       "  <thead>\n",
       "    <tr style=\"text-align: right;\">\n",
       "      <th></th>\n",
       "      <th>pc11_s_id</th>\n",
       "      <th>pc11_d_id</th>\n",
       "      <th>pc11_sd_id</th>\n",
       "      <th>year</th>\n",
       "      <th>post_ror_data_entry_block_any</th>\n",
       "      <th>post_ror_dist_softw_available_block_any</th>\n",
       "      <th>post_ror_aadhaar_link_block_any</th>\n",
       "      <th>post_mutation_computerized_block_any</th>\n",
       "      <th>post_digital_ror_issued_block_any</th>\n",
       "      <th>block_id</th>\n",
       "      <th>mean_night</th>\n",
       "      <th>count_night</th>\n",
       "      <th>sum_night</th>\n",
       "      <th>sd_name</th>\n",
       "      <th>frac_12</th>\n",
       "      <th>per_aggriculture</th>\n",
       "      <th>per_treecover</th>\n",
       "      <th>per_greencover</th>\n",
       "      <th>per_built</th>\n",
       "    </tr>\n",
       "  </thead>\n",
       "  <tbody>\n",
       "    <tr>\n",
       "      <th>0</th>\n",
       "      <td>1</td>\n",
       "      <td>1</td>\n",
       "      <td>1</td>\n",
       "      <td>2000</td>\n",
       "      <td>0</td>\n",
       "      <td>0</td>\n",
       "      <td>0</td>\n",
       "      <td>0</td>\n",
       "      <td>0</td>\n",
       "      <td>1</td>\n",
       "      <td>0.002703</td>\n",
       "      <td>8192</td>\n",
       "      <td>22.144901</td>\n",
       "      <td>Kupwara</td>\n",
       "      <td>NaN</td>\n",
       "      <td>NaN</td>\n",
       "      <td>31.286381</td>\n",
       "      <td>47.388935</td>\n",
       "      <td>21.324677</td>\n",
       "    </tr>\n",
       "    <tr>\n",
       "      <th>1</th>\n",
       "      <td>1</td>\n",
       "      <td>1</td>\n",
       "      <td>1</td>\n",
       "      <td>2001</td>\n",
       "      <td>0</td>\n",
       "      <td>0</td>\n",
       "      <td>0</td>\n",
       "      <td>0</td>\n",
       "      <td>0</td>\n",
       "      <td>1</td>\n",
       "      <td>0.002703</td>\n",
       "      <td>8192</td>\n",
       "      <td>22.144901</td>\n",
       "      <td>Kupwara</td>\n",
       "      <td>0.064216</td>\n",
       "      <td>6.421551</td>\n",
       "      <td>33.507698</td>\n",
       "      <td>42.900303</td>\n",
       "      <td>23.592001</td>\n",
       "    </tr>\n",
       "    <tr>\n",
       "      <th>2</th>\n",
       "      <td>1</td>\n",
       "      <td>1</td>\n",
       "      <td>1</td>\n",
       "      <td>2002</td>\n",
       "      <td>0</td>\n",
       "      <td>0</td>\n",
       "      <td>0</td>\n",
       "      <td>0</td>\n",
       "      <td>0</td>\n",
       "      <td>1</td>\n",
       "      <td>0.002703</td>\n",
       "      <td>8192</td>\n",
       "      <td>22.144901</td>\n",
       "      <td>Kupwara</td>\n",
       "      <td>0.076860</td>\n",
       "      <td>7.685976</td>\n",
       "      <td>28.036722</td>\n",
       "      <td>49.964584</td>\n",
       "      <td>21.998692</td>\n",
       "    </tr>\n",
       "    <tr>\n",
       "      <th>3</th>\n",
       "      <td>1</td>\n",
       "      <td>1</td>\n",
       "      <td>1</td>\n",
       "      <td>2003</td>\n",
       "      <td>0</td>\n",
       "      <td>0</td>\n",
       "      <td>0</td>\n",
       "      <td>0</td>\n",
       "      <td>0</td>\n",
       "      <td>1</td>\n",
       "      <td>0.002703</td>\n",
       "      <td>8192</td>\n",
       "      <td>22.144901</td>\n",
       "      <td>Kupwara</td>\n",
       "      <td>0.072095</td>\n",
       "      <td>7.209489</td>\n",
       "      <td>32.680721</td>\n",
       "      <td>45.621540</td>\n",
       "      <td>21.697739</td>\n",
       "    </tr>\n",
       "    <tr>\n",
       "      <th>4</th>\n",
       "      <td>1</td>\n",
       "      <td>1</td>\n",
       "      <td>1</td>\n",
       "      <td>2004</td>\n",
       "      <td>0</td>\n",
       "      <td>0</td>\n",
       "      <td>0</td>\n",
       "      <td>0</td>\n",
       "      <td>0</td>\n",
       "      <td>1</td>\n",
       "      <td>0.003113</td>\n",
       "      <td>8192</td>\n",
       "      <td>25.503809</td>\n",
       "      <td>Kupwara</td>\n",
       "      <td>0.052910</td>\n",
       "      <td>5.290961</td>\n",
       "      <td>31.404015</td>\n",
       "      <td>41.732754</td>\n",
       "      <td>26.863232</td>\n",
       "    </tr>\n",
       "    <tr>\n",
       "      <th>...</th>\n",
       "      <td>...</td>\n",
       "      <td>...</td>\n",
       "      <td>...</td>\n",
       "      <td>...</td>\n",
       "      <td>...</td>\n",
       "      <td>...</td>\n",
       "      <td>...</td>\n",
       "      <td>...</td>\n",
       "      <td>...</td>\n",
       "      <td>...</td>\n",
       "      <td>...</td>\n",
       "      <td>...</td>\n",
       "      <td>...</td>\n",
       "      <td>...</td>\n",
       "      <td>...</td>\n",
       "      <td>...</td>\n",
       "      <td>...</td>\n",
       "      <td>...</td>\n",
       "      <td>...</td>\n",
       "    </tr>\n",
       "    <tr>\n",
       "      <th>131537</th>\n",
       "      <td>9</td>\n",
       "      <td>202</td>\n",
       "      <td>1012</td>\n",
       "      <td>2018</td>\n",
       "      <td>1</td>\n",
       "      <td>1</td>\n",
       "      <td>0</td>\n",
       "      <td>1</td>\n",
       "      <td>1</td>\n",
       "      <td>5965</td>\n",
       "      <td>0.267226</td>\n",
       "      <td>4315</td>\n",
       "      <td>1153.080078</td>\n",
       "      <td>Patiyali</td>\n",
       "      <td>0.953928</td>\n",
       "      <td>95.392793</td>\n",
       "      <td>5.095272</td>\n",
       "      <td>53.366138</td>\n",
       "      <td>41.401382</td>\n",
       "    </tr>\n",
       "    <tr>\n",
       "      <th>131538</th>\n",
       "      <td>9</td>\n",
       "      <td>202</td>\n",
       "      <td>1012</td>\n",
       "      <td>2019</td>\n",
       "      <td>1</td>\n",
       "      <td>1</td>\n",
       "      <td>0</td>\n",
       "      <td>1</td>\n",
       "      <td>1</td>\n",
       "      <td>5965</td>\n",
       "      <td>0.212258</td>\n",
       "      <td>4303</td>\n",
       "      <td>913.344971</td>\n",
       "      <td>Patiyali</td>\n",
       "      <td>0.961914</td>\n",
       "      <td>96.191359</td>\n",
       "      <td>4.311493</td>\n",
       "      <td>59.983742</td>\n",
       "      <td>35.600212</td>\n",
       "    </tr>\n",
       "    <tr>\n",
       "      <th>131539</th>\n",
       "      <td>9</td>\n",
       "      <td>202</td>\n",
       "      <td>1012</td>\n",
       "      <td>2020</td>\n",
       "      <td>1</td>\n",
       "      <td>1</td>\n",
       "      <td>0</td>\n",
       "      <td>1</td>\n",
       "      <td>1</td>\n",
       "      <td>5965</td>\n",
       "      <td>0.196405</td>\n",
       "      <td>4303</td>\n",
       "      <td>845.130005</td>\n",
       "      <td>Patiyali</td>\n",
       "      <td>0.961640</td>\n",
       "      <td>96.163976</td>\n",
       "      <td>8.594394</td>\n",
       "      <td>54.553619</td>\n",
       "      <td>36.757240</td>\n",
       "    </tr>\n",
       "    <tr>\n",
       "      <th>131540</th>\n",
       "      <td>9</td>\n",
       "      <td>202</td>\n",
       "      <td>1012</td>\n",
       "      <td>2021</td>\n",
       "      <td>1</td>\n",
       "      <td>1</td>\n",
       "      <td>0</td>\n",
       "      <td>1</td>\n",
       "      <td>1</td>\n",
       "      <td>5965</td>\n",
       "      <td>0.204011</td>\n",
       "      <td>4303</td>\n",
       "      <td>877.859985</td>\n",
       "      <td>Patiyali</td>\n",
       "      <td>0.964120</td>\n",
       "      <td>96.411973</td>\n",
       "      <td>5.193740</td>\n",
       "      <td>57.827095</td>\n",
       "      <td>36.744907</td>\n",
       "    </tr>\n",
       "    <tr>\n",
       "      <th>131541</th>\n",
       "      <td>9</td>\n",
       "      <td>202</td>\n",
       "      <td>1012</td>\n",
       "      <td>2022</td>\n",
       "      <td>1</td>\n",
       "      <td>1</td>\n",
       "      <td>0</td>\n",
       "      <td>1</td>\n",
       "      <td>1</td>\n",
       "      <td>5965</td>\n",
       "      <td>0.216364</td>\n",
       "      <td>4303</td>\n",
       "      <td>931.015015</td>\n",
       "      <td>Patiyali</td>\n",
       "      <td>0.970185</td>\n",
       "      <td>97.018504</td>\n",
       "      <td>7.170661</td>\n",
       "      <td>60.158665</td>\n",
       "      <td>32.470570</td>\n",
       "    </tr>\n",
       "  </tbody>\n",
       "</table>\n",
       "<p>131542 rows × 19 columns</p>\n",
       "</div>"
      ],
      "text/plain": [
       "        pc11_s_id  pc11_d_id  pc11_sd_id  year  post_ror_data_entry_block_any  \\\n",
       "0               1          1           1  2000                              0   \n",
       "1               1          1           1  2001                              0   \n",
       "2               1          1           1  2002                              0   \n",
       "3               1          1           1  2003                              0   \n",
       "4               1          1           1  2004                              0   \n",
       "...           ...        ...         ...   ...                            ...   \n",
       "131537          9        202        1012  2018                              1   \n",
       "131538          9        202        1012  2019                              1   \n",
       "131539          9        202        1012  2020                              1   \n",
       "131540          9        202        1012  2021                              1   \n",
       "131541          9        202        1012  2022                              1   \n",
       "\n",
       "        post_ror_dist_softw_available_block_any  \\\n",
       "0                                             0   \n",
       "1                                             0   \n",
       "2                                             0   \n",
       "3                                             0   \n",
       "4                                             0   \n",
       "...                                         ...   \n",
       "131537                                        1   \n",
       "131538                                        1   \n",
       "131539                                        1   \n",
       "131540                                        1   \n",
       "131541                                        1   \n",
       "\n",
       "        post_ror_aadhaar_link_block_any  post_mutation_computerized_block_any  \\\n",
       "0                                     0                                     0   \n",
       "1                                     0                                     0   \n",
       "2                                     0                                     0   \n",
       "3                                     0                                     0   \n",
       "4                                     0                                     0   \n",
       "...                                 ...                                   ...   \n",
       "131537                                0                                     1   \n",
       "131538                                0                                     1   \n",
       "131539                                0                                     1   \n",
       "131540                                0                                     1   \n",
       "131541                                0                                     1   \n",
       "\n",
       "        post_digital_ror_issued_block_any  block_id  mean_night  count_night  \\\n",
       "0                                       0         1    0.002703         8192   \n",
       "1                                       0         1    0.002703         8192   \n",
       "2                                       0         1    0.002703         8192   \n",
       "3                                       0         1    0.002703         8192   \n",
       "4                                       0         1    0.003113         8192   \n",
       "...                                   ...       ...         ...          ...   \n",
       "131537                                  1      5965    0.267226         4315   \n",
       "131538                                  1      5965    0.212258         4303   \n",
       "131539                                  1      5965    0.196405         4303   \n",
       "131540                                  1      5965    0.204011         4303   \n",
       "131541                                  1      5965    0.216364         4303   \n",
       "\n",
       "          sum_night   sd_name   frac_12  per_aggriculture  per_treecover  \\\n",
       "0         22.144901   Kupwara       NaN               NaN      31.286381   \n",
       "1         22.144901   Kupwara  0.064216          6.421551      33.507698   \n",
       "2         22.144901   Kupwara  0.076860          7.685976      28.036722   \n",
       "3         22.144901   Kupwara  0.072095          7.209489      32.680721   \n",
       "4         25.503809   Kupwara  0.052910          5.290961      31.404015   \n",
       "...             ...       ...       ...               ...            ...   \n",
       "131537  1153.080078  Patiyali  0.953928         95.392793       5.095272   \n",
       "131538   913.344971  Patiyali  0.961914         96.191359       4.311493   \n",
       "131539   845.130005  Patiyali  0.961640         96.163976       8.594394   \n",
       "131540   877.859985  Patiyali  0.964120         96.411973       5.193740   \n",
       "131541   931.015015  Patiyali  0.970185         97.018504       7.170661   \n",
       "\n",
       "        per_greencover  per_built  \n",
       "0            47.388935  21.324677  \n",
       "1            42.900303  23.592001  \n",
       "2            49.964584  21.998692  \n",
       "3            45.621540  21.697739  \n",
       "4            41.732754  26.863232  \n",
       "...                ...        ...  \n",
       "131537       53.366138  41.401382  \n",
       "131538       59.983742  35.600212  \n",
       "131539       54.553619  36.757240  \n",
       "131540       57.827095  36.744907  \n",
       "131541       60.158665  32.470570  \n",
       "\n",
       "[131542 rows x 19 columns]"
      ]
     },
     "execution_count": 172,
     "metadata": {},
     "output_type": "execute_result"
    }
   ],
   "source": [
    "import pandas as pd\n",
    "\n",
    "#We import the first dataset and name it data1\n",
    "data1 = pd.read_csv(r\"../../_data/new_up_data_sysdif_block_lvl_ver2.csv\")\n",
    "data1"
   ]
  },
  {
   "cell_type": "code",
   "execution_count": 173,
   "metadata": {},
   "outputs": [
    {
     "data": {
      "text/html": [
       "<div>\n",
       "<style scoped>\n",
       "    .dataframe tbody tr th:only-of-type {\n",
       "        vertical-align: middle;\n",
       "    }\n",
       "\n",
       "    .dataframe tbody tr th {\n",
       "        vertical-align: top;\n",
       "    }\n",
       "\n",
       "    .dataframe thead th {\n",
       "        text-align: right;\n",
       "    }\n",
       "</style>\n",
       "<table border=\"1\" class=\"dataframe\">\n",
       "  <thead>\n",
       "    <tr style=\"text-align: right;\">\n",
       "      <th></th>\n",
       "      <th>pc11_s_id</th>\n",
       "      <th>pc11_d_id</th>\n",
       "      <th>pc11_sd_id</th>\n",
       "      <th>sd_name</th>\n",
       "      <th>per_TREES-BD</th>\n",
       "      <th>year</th>\n",
       "      <th>per_TREES-BE</th>\n",
       "      <th>per_TREES-ND</th>\n",
       "      <th>per_TREES-NE</th>\n",
       "    </tr>\n",
       "  </thead>\n",
       "  <tbody>\n",
       "    <tr>\n",
       "      <th>0</th>\n",
       "      <td>24</td>\n",
       "      <td>468</td>\n",
       "      <td>0</td>\n",
       "      <td>Rann Of Kachchh</td>\n",
       "      <td>0.020038</td>\n",
       "      <td>2006</td>\n",
       "      <td>0.000000</td>\n",
       "      <td>0.035410</td>\n",
       "      <td>0.003214</td>\n",
       "    </tr>\n",
       "    <tr>\n",
       "      <th>1</th>\n",
       "      <td>24</td>\n",
       "      <td>468</td>\n",
       "      <td>3722</td>\n",
       "      <td>Lakhpat</td>\n",
       "      <td>1.768032</td>\n",
       "      <td>2006</td>\n",
       "      <td>0.000000</td>\n",
       "      <td>0.186592</td>\n",
       "      <td>0.002453</td>\n",
       "    </tr>\n",
       "    <tr>\n",
       "      <th>2</th>\n",
       "      <td>24</td>\n",
       "      <td>468</td>\n",
       "      <td>3723</td>\n",
       "      <td>Rapar</td>\n",
       "      <td>0.001384</td>\n",
       "      <td>2006</td>\n",
       "      <td>0.000000</td>\n",
       "      <td>0.000000</td>\n",
       "      <td>0.000000</td>\n",
       "    </tr>\n",
       "    <tr>\n",
       "      <th>3</th>\n",
       "      <td>24</td>\n",
       "      <td>468</td>\n",
       "      <td>3724</td>\n",
       "      <td>Bhachau</td>\n",
       "      <td>0.005311</td>\n",
       "      <td>2006</td>\n",
       "      <td>0.000000</td>\n",
       "      <td>0.013269</td>\n",
       "      <td>0.000000</td>\n",
       "    </tr>\n",
       "    <tr>\n",
       "      <th>4</th>\n",
       "      <td>24</td>\n",
       "      <td>468</td>\n",
       "      <td>3725</td>\n",
       "      <td>Anjar</td>\n",
       "      <td>0.010257</td>\n",
       "      <td>2006</td>\n",
       "      <td>0.000000</td>\n",
       "      <td>0.018871</td>\n",
       "      <td>0.000000</td>\n",
       "    </tr>\n",
       "    <tr>\n",
       "      <th>...</th>\n",
       "      <td>...</td>\n",
       "      <td>...</td>\n",
       "      <td>...</td>\n",
       "      <td>...</td>\n",
       "      <td>...</td>\n",
       "      <td>...</td>\n",
       "      <td>...</td>\n",
       "      <td>...</td>\n",
       "      <td>...</td>\n",
       "    </tr>\n",
       "    <tr>\n",
       "      <th>125344</th>\n",
       "      <td>35</td>\n",
       "      <td>639</td>\n",
       "      <td>5921</td>\n",
       "      <td>Rangat</td>\n",
       "      <td>1.323027</td>\n",
       "      <td>2003</td>\n",
       "      <td>79.195435</td>\n",
       "      <td>0.000000</td>\n",
       "      <td>0.197154</td>\n",
       "    </tr>\n",
       "    <tr>\n",
       "      <th>125345</th>\n",
       "      <td>35</td>\n",
       "      <td>640</td>\n",
       "      <td>5923</td>\n",
       "      <td>Port Blair</td>\n",
       "      <td>0.000000</td>\n",
       "      <td>2003</td>\n",
       "      <td>68.636780</td>\n",
       "      <td>0.000000</td>\n",
       "      <td>0.321329</td>\n",
       "    </tr>\n",
       "    <tr>\n",
       "      <th>125346</th>\n",
       "      <td>35</td>\n",
       "      <td>640</td>\n",
       "      <td>5924</td>\n",
       "      <td>Little Andaman</td>\n",
       "      <td>3.892228</td>\n",
       "      <td>2003</td>\n",
       "      <td>78.234627</td>\n",
       "      <td>0.000000</td>\n",
       "      <td>0.000000</td>\n",
       "    </tr>\n",
       "    <tr>\n",
       "      <th>125347</th>\n",
       "      <td>35</td>\n",
       "      <td>640</td>\n",
       "      <td>5922</td>\n",
       "      <td>Ferrargunj</td>\n",
       "      <td>0.187679</td>\n",
       "      <td>2003</td>\n",
       "      <td>82.064636</td>\n",
       "      <td>0.000000</td>\n",
       "      <td>0.362423</td>\n",
       "    </tr>\n",
       "    <tr>\n",
       "      <th>125348</th>\n",
       "      <td>1</td>\n",
       "      <td>0</td>\n",
       "      <td>0</td>\n",
       "      <td>NaN</td>\n",
       "      <td>0.134543</td>\n",
       "      <td>2003</td>\n",
       "      <td>0.032157</td>\n",
       "      <td>0.000140</td>\n",
       "      <td>0.978852</td>\n",
       "    </tr>\n",
       "  </tbody>\n",
       "</table>\n",
       "<p>125349 rows × 9 columns</p>\n",
       "</div>"
      ],
      "text/plain": [
       "        pc11_s_id  pc11_d_id  pc11_sd_id          sd_name  per_TREES-BD  year  \\\n",
       "0              24        468           0  Rann Of Kachchh      0.020038  2006   \n",
       "1              24        468        3722          Lakhpat      1.768032  2006   \n",
       "2              24        468        3723            Rapar      0.001384  2006   \n",
       "3              24        468        3724          Bhachau      0.005311  2006   \n",
       "4              24        468        3725            Anjar      0.010257  2006   \n",
       "...           ...        ...         ...              ...           ...   ...   \n",
       "125344         35        639        5921           Rangat      1.323027  2003   \n",
       "125345         35        640        5923       Port Blair      0.000000  2003   \n",
       "125346         35        640        5924   Little Andaman      3.892228  2003   \n",
       "125347         35        640        5922       Ferrargunj      0.187679  2003   \n",
       "125348          1          0           0              NaN      0.134543  2003   \n",
       "\n",
       "        per_TREES-BE  per_TREES-ND  per_TREES-NE  \n",
       "0           0.000000      0.035410      0.003214  \n",
       "1           0.000000      0.186592      0.002453  \n",
       "2           0.000000      0.000000      0.000000  \n",
       "3           0.000000      0.013269      0.000000  \n",
       "4           0.000000      0.018871      0.000000  \n",
       "...              ...           ...           ...  \n",
       "125344     79.195435      0.000000      0.197154  \n",
       "125345     68.636780      0.000000      0.321329  \n",
       "125346     78.234627      0.000000      0.000000  \n",
       "125347     82.064636      0.000000      0.362423  \n",
       "125348      0.032157      0.000140      0.978852  \n",
       "\n",
       "[125349 rows x 9 columns]"
      ]
     },
     "execution_count": 173,
     "metadata": {},
     "output_type": "execute_result"
    }
   ],
   "source": [
    "#we import the second dataset and name it data2\n",
    "data2 = pd.read_csv(r\"../../_data/ESA_CLIMATE_CHANGE_tree_layers.csv\")\n",
    "data2"
   ]
  },
  {
   "cell_type": "code",
   "execution_count": 174,
   "metadata": {},
   "outputs": [
    {
     "data": {
      "text/html": [
       "<div>\n",
       "<style scoped>\n",
       "    .dataframe tbody tr th:only-of-type {\n",
       "        vertical-align: middle;\n",
       "    }\n",
       "\n",
       "    .dataframe tbody tr th {\n",
       "        vertical-align: top;\n",
       "    }\n",
       "\n",
       "    .dataframe thead th {\n",
       "        text-align: right;\n",
       "    }\n",
       "</style>\n",
       "<table border=\"1\" class=\"dataframe\">\n",
       "  <thead>\n",
       "    <tr style=\"text-align: right;\">\n",
       "      <th></th>\n",
       "      <th>pc11_s_id</th>\n",
       "      <th>pc11_d_id</th>\n",
       "      <th>pc11_sd_id</th>\n",
       "      <th>year</th>\n",
       "      <th>post_ror_data_entry_block_any</th>\n",
       "      <th>post_ror_dist_softw_available_block_any</th>\n",
       "      <th>post_ror_aadhaar_link_block_any</th>\n",
       "      <th>post_mutation_computerized_block_any</th>\n",
       "      <th>post_digital_ror_issued_block_any</th>\n",
       "      <th>block_id</th>\n",
       "      <th>...</th>\n",
       "      <th>frac_12</th>\n",
       "      <th>per_aggriculture</th>\n",
       "      <th>per_treecover</th>\n",
       "      <th>per_greencover</th>\n",
       "      <th>per_built</th>\n",
       "      <th>sd_name_y</th>\n",
       "      <th>per_TREES-BD</th>\n",
       "      <th>per_TREES-BE</th>\n",
       "      <th>per_TREES-ND</th>\n",
       "      <th>per_TREES-NE</th>\n",
       "    </tr>\n",
       "  </thead>\n",
       "  <tbody>\n",
       "    <tr>\n",
       "      <th>0</th>\n",
       "      <td>1</td>\n",
       "      <td>1</td>\n",
       "      <td>1</td>\n",
       "      <td>2000</td>\n",
       "      <td>0</td>\n",
       "      <td>0</td>\n",
       "      <td>0</td>\n",
       "      <td>0</td>\n",
       "      <td>0</td>\n",
       "      <td>1</td>\n",
       "      <td>...</td>\n",
       "      <td>NaN</td>\n",
       "      <td>NaN</td>\n",
       "      <td>31.286381</td>\n",
       "      <td>47.388935</td>\n",
       "      <td>21.324677</td>\n",
       "      <td>Kupwara</td>\n",
       "      <td>1.964613</td>\n",
       "      <td>1.117632</td>\n",
       "      <td>0.0</td>\n",
       "      <td>29.015697</td>\n",
       "    </tr>\n",
       "    <tr>\n",
       "      <th>1</th>\n",
       "      <td>1</td>\n",
       "      <td>1</td>\n",
       "      <td>1</td>\n",
       "      <td>2001</td>\n",
       "      <td>0</td>\n",
       "      <td>0</td>\n",
       "      <td>0</td>\n",
       "      <td>0</td>\n",
       "      <td>0</td>\n",
       "      <td>1</td>\n",
       "      <td>...</td>\n",
       "      <td>0.064216</td>\n",
       "      <td>6.421551</td>\n",
       "      <td>33.507698</td>\n",
       "      <td>42.900303</td>\n",
       "      <td>23.592001</td>\n",
       "      <td>Kupwara</td>\n",
       "      <td>1.956872</td>\n",
       "      <td>1.117632</td>\n",
       "      <td>0.0</td>\n",
       "      <td>28.908140</td>\n",
       "    </tr>\n",
       "    <tr>\n",
       "      <th>2</th>\n",
       "      <td>1</td>\n",
       "      <td>1</td>\n",
       "      <td>1</td>\n",
       "      <td>2002</td>\n",
       "      <td>0</td>\n",
       "      <td>0</td>\n",
       "      <td>0</td>\n",
       "      <td>0</td>\n",
       "      <td>0</td>\n",
       "      <td>1</td>\n",
       "      <td>...</td>\n",
       "      <td>0.076860</td>\n",
       "      <td>7.685976</td>\n",
       "      <td>28.036722</td>\n",
       "      <td>49.964584</td>\n",
       "      <td>21.998692</td>\n",
       "      <td>Kupwara</td>\n",
       "      <td>1.969693</td>\n",
       "      <td>1.117632</td>\n",
       "      <td>0.0</td>\n",
       "      <td>28.930830</td>\n",
       "    </tr>\n",
       "    <tr>\n",
       "      <th>3</th>\n",
       "      <td>1</td>\n",
       "      <td>1</td>\n",
       "      <td>1</td>\n",
       "      <td>2003</td>\n",
       "      <td>0</td>\n",
       "      <td>0</td>\n",
       "      <td>0</td>\n",
       "      <td>0</td>\n",
       "      <td>0</td>\n",
       "      <td>1</td>\n",
       "      <td>...</td>\n",
       "      <td>0.072095</td>\n",
       "      <td>7.209489</td>\n",
       "      <td>32.680721</td>\n",
       "      <td>45.621540</td>\n",
       "      <td>21.697739</td>\n",
       "      <td>Kupwara</td>\n",
       "      <td>1.968723</td>\n",
       "      <td>1.117632</td>\n",
       "      <td>0.0</td>\n",
       "      <td>28.954021</td>\n",
       "    </tr>\n",
       "    <tr>\n",
       "      <th>4</th>\n",
       "      <td>1</td>\n",
       "      <td>1</td>\n",
       "      <td>1</td>\n",
       "      <td>2004</td>\n",
       "      <td>0</td>\n",
       "      <td>0</td>\n",
       "      <td>0</td>\n",
       "      <td>0</td>\n",
       "      <td>0</td>\n",
       "      <td>1</td>\n",
       "      <td>...</td>\n",
       "      <td>0.052910</td>\n",
       "      <td>5.290961</td>\n",
       "      <td>31.404015</td>\n",
       "      <td>41.732754</td>\n",
       "      <td>26.863232</td>\n",
       "      <td>Kupwara</td>\n",
       "      <td>1.972254</td>\n",
       "      <td>1.140225</td>\n",
       "      <td>0.0</td>\n",
       "      <td>29.136803</td>\n",
       "    </tr>\n",
       "    <tr>\n",
       "      <th>...</th>\n",
       "      <td>...</td>\n",
       "      <td>...</td>\n",
       "      <td>...</td>\n",
       "      <td>...</td>\n",
       "      <td>...</td>\n",
       "      <td>...</td>\n",
       "      <td>...</td>\n",
       "      <td>...</td>\n",
       "      <td>...</td>\n",
       "      <td>...</td>\n",
       "      <td>...</td>\n",
       "      <td>...</td>\n",
       "      <td>...</td>\n",
       "      <td>...</td>\n",
       "      <td>...</td>\n",
       "      <td>...</td>\n",
       "      <td>...</td>\n",
       "      <td>...</td>\n",
       "      <td>...</td>\n",
       "      <td>...</td>\n",
       "      <td>...</td>\n",
       "    </tr>\n",
       "    <tr>\n",
       "      <th>125260</th>\n",
       "      <td>9</td>\n",
       "      <td>202</td>\n",
       "      <td>1012</td>\n",
       "      <td>2016</td>\n",
       "      <td>1</td>\n",
       "      <td>1</td>\n",
       "      <td>0</td>\n",
       "      <td>1</td>\n",
       "      <td>1</td>\n",
       "      <td>5965</td>\n",
       "      <td>...</td>\n",
       "      <td>0.954903</td>\n",
       "      <td>95.490319</td>\n",
       "      <td>3.570984</td>\n",
       "      <td>54.682835</td>\n",
       "      <td>41.631336</td>\n",
       "      <td>Patiyali</td>\n",
       "      <td>0.015884</td>\n",
       "      <td>0.000000</td>\n",
       "      <td>0.0</td>\n",
       "      <td>0.000000</td>\n",
       "    </tr>\n",
       "    <tr>\n",
       "      <th>125261</th>\n",
       "      <td>9</td>\n",
       "      <td>202</td>\n",
       "      <td>1012</td>\n",
       "      <td>2017</td>\n",
       "      <td>1</td>\n",
       "      <td>1</td>\n",
       "      <td>0</td>\n",
       "      <td>1</td>\n",
       "      <td>1</td>\n",
       "      <td>5965</td>\n",
       "      <td>...</td>\n",
       "      <td>0.956646</td>\n",
       "      <td>95.664638</td>\n",
       "      <td>6.060174</td>\n",
       "      <td>62.668755</td>\n",
       "      <td>31.177742</td>\n",
       "      <td>Patiyali</td>\n",
       "      <td>0.015884</td>\n",
       "      <td>0.000000</td>\n",
       "      <td>0.0</td>\n",
       "      <td>0.000000</td>\n",
       "    </tr>\n",
       "    <tr>\n",
       "      <th>125262</th>\n",
       "      <td>9</td>\n",
       "      <td>202</td>\n",
       "      <td>1012</td>\n",
       "      <td>2018</td>\n",
       "      <td>1</td>\n",
       "      <td>1</td>\n",
       "      <td>0</td>\n",
       "      <td>1</td>\n",
       "      <td>1</td>\n",
       "      <td>5965</td>\n",
       "      <td>...</td>\n",
       "      <td>0.953928</td>\n",
       "      <td>95.392793</td>\n",
       "      <td>5.095272</td>\n",
       "      <td>53.366138</td>\n",
       "      <td>41.401382</td>\n",
       "      <td>Patiyali</td>\n",
       "      <td>0.015884</td>\n",
       "      <td>0.000000</td>\n",
       "      <td>0.0</td>\n",
       "      <td>0.000000</td>\n",
       "    </tr>\n",
       "    <tr>\n",
       "      <th>125263</th>\n",
       "      <td>9</td>\n",
       "      <td>202</td>\n",
       "      <td>1012</td>\n",
       "      <td>2019</td>\n",
       "      <td>1</td>\n",
       "      <td>1</td>\n",
       "      <td>0</td>\n",
       "      <td>1</td>\n",
       "      <td>1</td>\n",
       "      <td>5965</td>\n",
       "      <td>...</td>\n",
       "      <td>0.961914</td>\n",
       "      <td>96.191359</td>\n",
       "      <td>4.311493</td>\n",
       "      <td>59.983742</td>\n",
       "      <td>35.600212</td>\n",
       "      <td>Patiyali</td>\n",
       "      <td>0.015884</td>\n",
       "      <td>0.000000</td>\n",
       "      <td>0.0</td>\n",
       "      <td>0.000000</td>\n",
       "    </tr>\n",
       "    <tr>\n",
       "      <th>125264</th>\n",
       "      <td>9</td>\n",
       "      <td>202</td>\n",
       "      <td>1012</td>\n",
       "      <td>2020</td>\n",
       "      <td>1</td>\n",
       "      <td>1</td>\n",
       "      <td>0</td>\n",
       "      <td>1</td>\n",
       "      <td>1</td>\n",
       "      <td>5965</td>\n",
       "      <td>...</td>\n",
       "      <td>0.961640</td>\n",
       "      <td>96.163976</td>\n",
       "      <td>8.594394</td>\n",
       "      <td>54.553619</td>\n",
       "      <td>36.757240</td>\n",
       "      <td>Patiyali</td>\n",
       "      <td>0.015884</td>\n",
       "      <td>0.000000</td>\n",
       "      <td>0.0</td>\n",
       "      <td>0.000000</td>\n",
       "    </tr>\n",
       "  </tbody>\n",
       "</table>\n",
       "<p>125265 rows × 24 columns</p>\n",
       "</div>"
      ],
      "text/plain": [
       "        pc11_s_id  pc11_d_id  pc11_sd_id  year  post_ror_data_entry_block_any  \\\n",
       "0               1          1           1  2000                              0   \n",
       "1               1          1           1  2001                              0   \n",
       "2               1          1           1  2002                              0   \n",
       "3               1          1           1  2003                              0   \n",
       "4               1          1           1  2004                              0   \n",
       "...           ...        ...         ...   ...                            ...   \n",
       "125260          9        202        1012  2016                              1   \n",
       "125261          9        202        1012  2017                              1   \n",
       "125262          9        202        1012  2018                              1   \n",
       "125263          9        202        1012  2019                              1   \n",
       "125264          9        202        1012  2020                              1   \n",
       "\n",
       "        post_ror_dist_softw_available_block_any  \\\n",
       "0                                             0   \n",
       "1                                             0   \n",
       "2                                             0   \n",
       "3                                             0   \n",
       "4                                             0   \n",
       "...                                         ...   \n",
       "125260                                        1   \n",
       "125261                                        1   \n",
       "125262                                        1   \n",
       "125263                                        1   \n",
       "125264                                        1   \n",
       "\n",
       "        post_ror_aadhaar_link_block_any  post_mutation_computerized_block_any  \\\n",
       "0                                     0                                     0   \n",
       "1                                     0                                     0   \n",
       "2                                     0                                     0   \n",
       "3                                     0                                     0   \n",
       "4                                     0                                     0   \n",
       "...                                 ...                                   ...   \n",
       "125260                                0                                     1   \n",
       "125261                                0                                     1   \n",
       "125262                                0                                     1   \n",
       "125263                                0                                     1   \n",
       "125264                                0                                     1   \n",
       "\n",
       "        post_digital_ror_issued_block_any  block_id  ...   frac_12  \\\n",
       "0                                       0         1  ...       NaN   \n",
       "1                                       0         1  ...  0.064216   \n",
       "2                                       0         1  ...  0.076860   \n",
       "3                                       0         1  ...  0.072095   \n",
       "4                                       0         1  ...  0.052910   \n",
       "...                                   ...       ...  ...       ...   \n",
       "125260                                  1      5965  ...  0.954903   \n",
       "125261                                  1      5965  ...  0.956646   \n",
       "125262                                  1      5965  ...  0.953928   \n",
       "125263                                  1      5965  ...  0.961914   \n",
       "125264                                  1      5965  ...  0.961640   \n",
       "\n",
       "        per_aggriculture  per_treecover per_greencover  per_built  sd_name_y  \\\n",
       "0                    NaN      31.286381      47.388935  21.324677    Kupwara   \n",
       "1               6.421551      33.507698      42.900303  23.592001    Kupwara   \n",
       "2               7.685976      28.036722      49.964584  21.998692    Kupwara   \n",
       "3               7.209489      32.680721      45.621540  21.697739    Kupwara   \n",
       "4               5.290961      31.404015      41.732754  26.863232    Kupwara   \n",
       "...                  ...            ...            ...        ...        ...   \n",
       "125260         95.490319       3.570984      54.682835  41.631336   Patiyali   \n",
       "125261         95.664638       6.060174      62.668755  31.177742   Patiyali   \n",
       "125262         95.392793       5.095272      53.366138  41.401382   Patiyali   \n",
       "125263         96.191359       4.311493      59.983742  35.600212   Patiyali   \n",
       "125264         96.163976       8.594394      54.553619  36.757240   Patiyali   \n",
       "\n",
       "        per_TREES-BD  per_TREES-BE  per_TREES-ND per_TREES-NE  \n",
       "0           1.964613      1.117632           0.0    29.015697  \n",
       "1           1.956872      1.117632           0.0    28.908140  \n",
       "2           1.969693      1.117632           0.0    28.930830  \n",
       "3           1.968723      1.117632           0.0    28.954021  \n",
       "4           1.972254      1.140225           0.0    29.136803  \n",
       "...              ...           ...           ...          ...  \n",
       "125260      0.015884      0.000000           0.0     0.000000  \n",
       "125261      0.015884      0.000000           0.0     0.000000  \n",
       "125262      0.015884      0.000000           0.0     0.000000  \n",
       "125263      0.015884      0.000000           0.0     0.000000  \n",
       "125264      0.015884      0.000000           0.0     0.000000  \n",
       "\n",
       "[125265 rows x 24 columns]"
      ]
     },
     "execution_count": 174,
     "metadata": {},
     "output_type": "execute_result"
    }
   ],
   "source": [
    "#now, we merge the previous datasets (data1, data2) to have it all together in one dataframe called data\n",
    "data = pd.merge(data1, data2, on=['pc11_s_id', 'pc11_d_id', 'pc11_sd_id', 'year'])\n",
    "data"
   ]
  },
  {
   "cell_type": "code",
   "execution_count": 175,
   "metadata": {},
   "outputs": [
    {
     "data": {
      "text/html": [
       "<div>\n",
       "<style scoped>\n",
       "    .dataframe tbody tr th:only-of-type {\n",
       "        vertical-align: middle;\n",
       "    }\n",
       "\n",
       "    .dataframe tbody tr th {\n",
       "        vertical-align: top;\n",
       "    }\n",
       "\n",
       "    .dataframe thead th {\n",
       "        text-align: right;\n",
       "    }\n",
       "</style>\n",
       "<table border=\"1\" class=\"dataframe\">\n",
       "  <thead>\n",
       "    <tr style=\"text-align: right;\">\n",
       "      <th></th>\n",
       "      <th>per_TREES-BD</th>\n",
       "      <th>per_TREES-BE</th>\n",
       "      <th>per_TREES-ND</th>\n",
       "      <th>per_TREES-NE</th>\n",
       "    </tr>\n",
       "  </thead>\n",
       "  <tbody>\n",
       "    <tr>\n",
       "      <th>0</th>\n",
       "      <td>1.964613</td>\n",
       "      <td>1.117632</td>\n",
       "      <td>0.0</td>\n",
       "      <td>29.015697</td>\n",
       "    </tr>\n",
       "    <tr>\n",
       "      <th>1</th>\n",
       "      <td>1.956872</td>\n",
       "      <td>1.117632</td>\n",
       "      <td>0.0</td>\n",
       "      <td>28.908140</td>\n",
       "    </tr>\n",
       "    <tr>\n",
       "      <th>2</th>\n",
       "      <td>1.969693</td>\n",
       "      <td>1.117632</td>\n",
       "      <td>0.0</td>\n",
       "      <td>28.930830</td>\n",
       "    </tr>\n",
       "    <tr>\n",
       "      <th>3</th>\n",
       "      <td>1.968723</td>\n",
       "      <td>1.117632</td>\n",
       "      <td>0.0</td>\n",
       "      <td>28.954021</td>\n",
       "    </tr>\n",
       "    <tr>\n",
       "      <th>4</th>\n",
       "      <td>1.972254</td>\n",
       "      <td>1.140225</td>\n",
       "      <td>0.0</td>\n",
       "      <td>29.136803</td>\n",
       "    </tr>\n",
       "    <tr>\n",
       "      <th>...</th>\n",
       "      <td>...</td>\n",
       "      <td>...</td>\n",
       "      <td>...</td>\n",
       "      <td>...</td>\n",
       "    </tr>\n",
       "    <tr>\n",
       "      <th>125260</th>\n",
       "      <td>0.015884</td>\n",
       "      <td>0.000000</td>\n",
       "      <td>0.0</td>\n",
       "      <td>0.000000</td>\n",
       "    </tr>\n",
       "    <tr>\n",
       "      <th>125261</th>\n",
       "      <td>0.015884</td>\n",
       "      <td>0.000000</td>\n",
       "      <td>0.0</td>\n",
       "      <td>0.000000</td>\n",
       "    </tr>\n",
       "    <tr>\n",
       "      <th>125262</th>\n",
       "      <td>0.015884</td>\n",
       "      <td>0.000000</td>\n",
       "      <td>0.0</td>\n",
       "      <td>0.000000</td>\n",
       "    </tr>\n",
       "    <tr>\n",
       "      <th>125263</th>\n",
       "      <td>0.015884</td>\n",
       "      <td>0.000000</td>\n",
       "      <td>0.0</td>\n",
       "      <td>0.000000</td>\n",
       "    </tr>\n",
       "    <tr>\n",
       "      <th>125264</th>\n",
       "      <td>0.015884</td>\n",
       "      <td>0.000000</td>\n",
       "      <td>0.0</td>\n",
       "      <td>0.000000</td>\n",
       "    </tr>\n",
       "  </tbody>\n",
       "</table>\n",
       "<p>125265 rows × 4 columns</p>\n",
       "</div>"
      ],
      "text/plain": [
       "        per_TREES-BD  per_TREES-BE  per_TREES-ND  per_TREES-NE\n",
       "0           1.964613      1.117632           0.0     29.015697\n",
       "1           1.956872      1.117632           0.0     28.908140\n",
       "2           1.969693      1.117632           0.0     28.930830\n",
       "3           1.968723      1.117632           0.0     28.954021\n",
       "4           1.972254      1.140225           0.0     29.136803\n",
       "...              ...           ...           ...           ...\n",
       "125260      0.015884      0.000000           0.0      0.000000\n",
       "125261      0.015884      0.000000           0.0      0.000000\n",
       "125262      0.015884      0.000000           0.0      0.000000\n",
       "125263      0.015884      0.000000           0.0      0.000000\n",
       "125264      0.015884      0.000000           0.0      0.000000\n",
       "\n",
       "[125265 rows x 4 columns]"
      ]
     },
     "execution_count": 175,
     "metadata": {},
     "output_type": "execute_result"
    }
   ],
   "source": [
    "#view selected columns\n",
    "data.loc[ : , [\"per_TREES-BD\", \"per_TREES-BE\", \"per_TREES-ND\", \"per_TREES-NE\"] ]"
   ]
  },
  {
   "cell_type": "code",
   "execution_count": 176,
   "metadata": {},
   "outputs": [
    {
     "data": {
      "text/html": [
       "<div>\n",
       "<style scoped>\n",
       "    .dataframe tbody tr th:only-of-type {\n",
       "        vertical-align: middle;\n",
       "    }\n",
       "\n",
       "    .dataframe tbody tr th {\n",
       "        vertical-align: top;\n",
       "    }\n",
       "\n",
       "    .dataframe thead th {\n",
       "        text-align: right;\n",
       "    }\n",
       "</style>\n",
       "<table border=\"1\" class=\"dataframe\">\n",
       "  <thead>\n",
       "    <tr style=\"text-align: right;\">\n",
       "      <th></th>\n",
       "      <th>count</th>\n",
       "      <th>mean</th>\n",
       "      <th>std</th>\n",
       "      <th>min</th>\n",
       "      <th>25%</th>\n",
       "      <th>50%</th>\n",
       "      <th>75%</th>\n",
       "      <th>max</th>\n",
       "    </tr>\n",
       "  </thead>\n",
       "  <tbody>\n",
       "    <tr>\n",
       "      <th>per_TREES-BD</th>\n",
       "      <td>125265.0</td>\n",
       "      <td>2.346108</td>\n",
       "      <td>5.021063</td>\n",
       "      <td>0.0</td>\n",
       "      <td>0.005265</td>\n",
       "      <td>0.283303</td>\n",
       "      <td>2.236597</td>\n",
       "      <td>48.696053</td>\n",
       "    </tr>\n",
       "    <tr>\n",
       "      <th>per_TREES-BE</th>\n",
       "      <td>125265.0</td>\n",
       "      <td>4.268641</td>\n",
       "      <td>13.565375</td>\n",
       "      <td>0.0</td>\n",
       "      <td>0.000000</td>\n",
       "      <td>0.000000</td>\n",
       "      <td>0.065836</td>\n",
       "      <td>86.316345</td>\n",
       "    </tr>\n",
       "    <tr>\n",
       "      <th>per_TREES-ND</th>\n",
       "      <td>125265.0</td>\n",
       "      <td>0.006143</td>\n",
       "      <td>0.148299</td>\n",
       "      <td>0.0</td>\n",
       "      <td>0.000000</td>\n",
       "      <td>0.000000</td>\n",
       "      <td>0.000000</td>\n",
       "      <td>10.135350</td>\n",
       "    </tr>\n",
       "    <tr>\n",
       "      <th>per_TREES-NE</th>\n",
       "      <td>125265.0</td>\n",
       "      <td>1.974766</td>\n",
       "      <td>6.656288</td>\n",
       "      <td>0.0</td>\n",
       "      <td>0.000000</td>\n",
       "      <td>0.000000</td>\n",
       "      <td>0.037414</td>\n",
       "      <td>55.175827</td>\n",
       "    </tr>\n",
       "  </tbody>\n",
       "</table>\n",
       "</div>"
      ],
      "text/plain": [
       "                 count      mean        std  min       25%       50%  \\\n",
       "per_TREES-BD  125265.0  2.346108   5.021063  0.0  0.005265  0.283303   \n",
       "per_TREES-BE  125265.0  4.268641  13.565375  0.0  0.000000  0.000000   \n",
       "per_TREES-ND  125265.0  0.006143   0.148299  0.0  0.000000  0.000000   \n",
       "per_TREES-NE  125265.0  1.974766   6.656288  0.0  0.000000  0.000000   \n",
       "\n",
       "                   75%        max  \n",
       "per_TREES-BD  2.236597  48.696053  \n",
       "per_TREES-BE  0.065836  86.316345  \n",
       "per_TREES-ND  0.000000  10.135350  \n",
       "per_TREES-NE  0.037414  55.175827  "
      ]
     },
     "execution_count": 176,
     "metadata": {},
     "output_type": "execute_result"
    }
   ],
   "source": [
    "#create a dataframe with the selected columns, and view descriptive statistics \n",
    "data_select = data.loc[ : , [\"per_TREES-BD\", \"per_TREES-BE\", \"per_TREES-ND\", \"per_TREES-NE\"] ]\n",
    "data_select. describe().transpose()"
   ]
  },
  {
   "cell_type": "code",
   "execution_count": 177,
   "metadata": {},
   "outputs": [
    {
     "data": {
      "text/html": [
       "<div>\n",
       "<style scoped>\n",
       "    .dataframe tbody tr th:only-of-type {\n",
       "        vertical-align: middle;\n",
       "    }\n",
       "\n",
       "    .dataframe tbody tr th {\n",
       "        vertical-align: top;\n",
       "    }\n",
       "\n",
       "    .dataframe thead th {\n",
       "        text-align: right;\n",
       "    }\n",
       "</style>\n",
       "<table border=\"1\" class=\"dataframe\">\n",
       "  <thead>\n",
       "    <tr style=\"text-align: right;\">\n",
       "      <th></th>\n",
       "      <th>per_TREES-BD</th>\n",
       "      <th>per_TREES-BE</th>\n",
       "      <th>per_TREES-ND</th>\n",
       "      <th>per_TREES-NE</th>\n",
       "      <th>sum_tree</th>\n",
       "    </tr>\n",
       "  </thead>\n",
       "  <tbody>\n",
       "    <tr>\n",
       "      <th>0</th>\n",
       "      <td>1.964613</td>\n",
       "      <td>1.117632</td>\n",
       "      <td>0.0</td>\n",
       "      <td>29.015697</td>\n",
       "      <td>32.097942</td>\n",
       "    </tr>\n",
       "    <tr>\n",
       "      <th>1</th>\n",
       "      <td>1.956872</td>\n",
       "      <td>1.117632</td>\n",
       "      <td>0.0</td>\n",
       "      <td>28.908140</td>\n",
       "      <td>31.982644</td>\n",
       "    </tr>\n",
       "    <tr>\n",
       "      <th>2</th>\n",
       "      <td>1.969693</td>\n",
       "      <td>1.117632</td>\n",
       "      <td>0.0</td>\n",
       "      <td>28.930830</td>\n",
       "      <td>32.018155</td>\n",
       "    </tr>\n",
       "    <tr>\n",
       "      <th>3</th>\n",
       "      <td>1.968723</td>\n",
       "      <td>1.117632</td>\n",
       "      <td>0.0</td>\n",
       "      <td>28.954021</td>\n",
       "      <td>32.040376</td>\n",
       "    </tr>\n",
       "    <tr>\n",
       "      <th>4</th>\n",
       "      <td>1.972254</td>\n",
       "      <td>1.140225</td>\n",
       "      <td>0.0</td>\n",
       "      <td>29.136803</td>\n",
       "      <td>32.249282</td>\n",
       "    </tr>\n",
       "    <tr>\n",
       "      <th>...</th>\n",
       "      <td>...</td>\n",
       "      <td>...</td>\n",
       "      <td>...</td>\n",
       "      <td>...</td>\n",
       "      <td>...</td>\n",
       "    </tr>\n",
       "    <tr>\n",
       "      <th>125260</th>\n",
       "      <td>0.015884</td>\n",
       "      <td>0.000000</td>\n",
       "      <td>0.0</td>\n",
       "      <td>0.000000</td>\n",
       "      <td>0.015884</td>\n",
       "    </tr>\n",
       "    <tr>\n",
       "      <th>125261</th>\n",
       "      <td>0.015884</td>\n",
       "      <td>0.000000</td>\n",
       "      <td>0.0</td>\n",
       "      <td>0.000000</td>\n",
       "      <td>0.015884</td>\n",
       "    </tr>\n",
       "    <tr>\n",
       "      <th>125262</th>\n",
       "      <td>0.015884</td>\n",
       "      <td>0.000000</td>\n",
       "      <td>0.0</td>\n",
       "      <td>0.000000</td>\n",
       "      <td>0.015884</td>\n",
       "    </tr>\n",
       "    <tr>\n",
       "      <th>125263</th>\n",
       "      <td>0.015884</td>\n",
       "      <td>0.000000</td>\n",
       "      <td>0.0</td>\n",
       "      <td>0.000000</td>\n",
       "      <td>0.015884</td>\n",
       "    </tr>\n",
       "    <tr>\n",
       "      <th>125264</th>\n",
       "      <td>0.015884</td>\n",
       "      <td>0.000000</td>\n",
       "      <td>0.0</td>\n",
       "      <td>0.000000</td>\n",
       "      <td>0.015884</td>\n",
       "    </tr>\n",
       "  </tbody>\n",
       "</table>\n",
       "<p>125265 rows × 5 columns</p>\n",
       "</div>"
      ],
      "text/plain": [
       "        per_TREES-BD  per_TREES-BE  per_TREES-ND  per_TREES-NE   sum_tree\n",
       "0           1.964613      1.117632           0.0     29.015697  32.097942\n",
       "1           1.956872      1.117632           0.0     28.908140  31.982644\n",
       "2           1.969693      1.117632           0.0     28.930830  32.018155\n",
       "3           1.968723      1.117632           0.0     28.954021  32.040376\n",
       "4           1.972254      1.140225           0.0     29.136803  32.249282\n",
       "...              ...           ...           ...           ...        ...\n",
       "125260      0.015884      0.000000           0.0      0.000000   0.015884\n",
       "125261      0.015884      0.000000           0.0      0.000000   0.015884\n",
       "125262      0.015884      0.000000           0.0      0.000000   0.015884\n",
       "125263      0.015884      0.000000           0.0      0.000000   0.015884\n",
       "125264      0.015884      0.000000           0.0      0.000000   0.015884\n",
       "\n",
       "[125265 rows x 5 columns]"
      ]
     },
     "execution_count": 177,
     "metadata": {},
     "output_type": "execute_result"
    }
   ],
   "source": [
    "#create a new column called sum_tree (which is the summatory of the previous 4 variables)\n",
    "data['sum_tree'] = data_select.sum(axis=1)\n",
    "data[['per_TREES-BD', 'per_TREES-BE', 'per_TREES-ND', 'per_TREES-NE','sum_tree']]"
   ]
  },
  {
   "cell_type": "code",
   "execution_count": 178,
   "metadata": {},
   "outputs": [
    {
     "data": {
      "image/png": "[encoded data removed]",
      "text/plain": [
       "<Figure size 640x480 with 1 Axes>"
      ]
     },
     "metadata": {},
     "output_type": "display_data"
    }
   ],
   "source": [
    "#import matplotlib for the histograms graphics required\n",
    "import matplotlib.pyplot as plt\n",
    "#we set the names and characteristics of our histogram\n",
    "plt.hist(data['sum_tree'], bins = 10, edgecolor = 'black')\n",
    "\n",
    "plt.title('Histogram sum variable')\n",
    "\n",
    "plt.xlabel('Sum')\n",
    "plt.ylabel('Frequency')\n",
    "\n",
    "plt.show()"
   ]
  },
  {
   "cell_type": "code",
   "execution_count": 179,
   "metadata": {},
   "outputs": [
    {
     "data": {
      "text/plain": [
       "np.float64(0.4996396601200105)"
      ]
     },
     "execution_count": 179,
     "metadata": {},
     "output_type": "execute_result"
    }
   ],
   "source": [
    "#now, we view the median of the column sum_tree\n",
    "median = data['sum_tree'].median()\n",
    "median"
   ]
  },
  {
   "cell_type": "code",
   "execution_count": 180,
   "metadata": {},
   "outputs": [],
   "source": [
    "#now, we filter rows above the median of the sum_tree column\n",
    "above_median = data[data['sum_tree'] > median]"
   ]
  },
  {
   "cell_type": "code",
   "execution_count": 181,
   "metadata": {},
   "outputs": [],
   "source": [
    "#we do the same for the rows below the median of the sum_tree column\n",
    "below_median = data[data['sum_tree'] < median]"
   ]
  },
  {
   "cell_type": "code",
   "execution_count": 182,
   "metadata": {},
   "outputs": [],
   "source": [
    "#so that we do not repeat the code again and again, we define \"generate_histogram()\" as a function per column, and define two graphics (considering above and below the media filter)\n",
    "def generate_histogram(col):\n",
    "    fig, axs = plt.subplots(1, 2, figsize=(20, 10))\n",
    "    axs[0].hist(below_median[col], bins=10, label=col, color=\"blue\", edgecolor='black')\n",
    "    axs[0].set_title('Histogram - Below media sum_tree')\n",
    "    axs[0].set_xlabel('Values')\n",
    "    axs[0].set_ylabel('Frequency')\n",
    "    axs[0].legend(loc='upper right')\n",
    "    axs[0].grid(True)\n",
    "    \n",
    "    axs[1].hist(above_median[col], bins=10, label=col, color=\"green\", edgecolor='black')\n",
    "    axs[1].set_title('Histogram - Above media sum_tree')\n",
    "    axs[1].set_xlabel('Values')\n",
    "    axs[1].set_ylabel('Frequency')\n",
    "    axs[1].legend(loc='upper right')\n",
    "    axs[1].grid(True)\n",
    "    \n",
    "    plt.show()"
   ]
  },
  {
   "cell_type": "code",
   "execution_count": 183,
   "metadata": {},
   "outputs": [
    {
     "data": {
      "image/png": "[encoded data removed]",
      "text/plain": [
       "<Figure size 2000x1000 with 2 Axes>"
      ]
     },
     "metadata": {},
     "output_type": "display_data"
    }
   ],
   "source": [
    "#generate histogram for the per_trees-bd variable\n",
    "generate_histogram('per_TREES-BD')"
   ]
  },
  {
   "cell_type": "code",
   "execution_count": 184,
   "metadata": {},
   "outputs": [
    {
     "data": {
      "image/png": "[encoded data removed]",
      "text/plain": [
       "<Figure size 2000x1000 with 2 Axes>"
      ]
     },
     "metadata": {},
     "output_type": "display_data"
    }
   ],
   "source": [
    "#generate histogram for the per_trees-be variable\n",
    "generate_histogram('per_TREES-BE')"
   ]
  },
  {
   "cell_type": "code",
   "execution_count": 185,
   "metadata": {},
   "outputs": [
    {
     "data": {
      "image/png": "[encoded data removed]",
      "text/plain": [
       "<Figure size 2000x1000 with 2 Axes>"
      ]
     },
     "metadata": {},
     "output_type": "display_data"
    }
   ],
   "source": [
    "#generate histogram for the per_trees-nd variable\n",
    "generate_histogram('per_TREES-ND')"
   ]
  },
  {
   "cell_type": "code",
   "execution_count": 186,
   "metadata": {},
   "outputs": [
    {
     "data": {
      "image/png": "[encoded data removed]",
      "text/plain": [
       "<Figure size 2000x1000 with 2 Axes>"
      ]
     },
     "metadata": {},
     "output_type": "display_data"
    }
   ],
   "source": [
    "#generate histogram for the per_trees-ne variable\n",
    "generate_histogram('per_TREES-NE')"
   ]
  }
 ],
 "metadata": {
  "hide_input": false,
  "kernelspec": {
   "display_name": "Python 3 (ipykernel)",
   "language": "python",
   "name": "python3"
  },
  "language_info": {
   "codemirror_mode": {
    "name": "ipython",
    "version": 3
   },
   "file_extension": ".py",
   "mimetype": "text/x-python",
   "name": "python",
   "nbconvert_exporter": "python",
   "pygments_lexer": "ipython3",
   "version": "3.12.3"
  },
  "toc": {
   "base_numbering": 1,
   "nav_menu": {},
   "number_sections": true,
   "sideBar": true,
   "skip_h1_title": false,
   "title_cell": "Table of Contents",
   "title_sidebar": "Contents",
   "toc_cell": false,
   "toc_position": {},
   "toc_section_display": true,
   "toc_window_display": false
  }
 },
 "nbformat": 4,
 "nbformat_minor": 4
}
