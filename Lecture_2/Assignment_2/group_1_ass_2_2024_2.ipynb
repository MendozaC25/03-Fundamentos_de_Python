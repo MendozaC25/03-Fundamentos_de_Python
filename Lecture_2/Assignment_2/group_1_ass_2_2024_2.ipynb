{
 "cells": [
  {
   "cell_type": "markdown",
   "metadata": {},
   "source": [
    "# 1 Assignment\n",
    "\n",
    "It is totally prohibited to use any kind of loop. You can use stackoverflow. If you copy codes from previous answers, explain each step. No explanation is `0 points`."
   ]
  },
  {
   "cell_type": "markdown",
   "metadata": {},
   "source": [
    "## 1.1 Tuple\n",
    "\n",
    "\n",
    "\n",
    "1. Print the first item of the second item of `tuple1` object. **Hint: Use indexing**<br><br>\n",
    "2. Print the last item of the `tuple1` object.**Hint: Use indexing**<br><br>\n",
    "3. Change the value \"orange\" for \"pink grapefruit\". Comment the output. **Hint: Is it possible?** <br><br>\n",
    "4. Print the length of `tuple1`. **Hint: Length function**<br><br>\n",
    "5. Sum all the elements of tuple2 and describe your steps and explain each of them. **Hint: Use `map` function.**<br><br>\n",
    "6. Generate a new tuple object named as `tuple3` with the half values of `tuple2`. This tuple should be similar as `tuple2`, tuple of lists.  **Hint: Use `map` funciont.**<br><br>"
   ]
  },
  {
   "cell_type": "code",
   "execution_count": 1,
   "metadata": {},
   "outputs": [],
   "source": [
    "tuple1 = (\"Orange\", [10, 20, 30], (5, 15, 25))\n",
    "tuple2 = ([7, 8], [9, 1], [10, 7])"
   ]
  },
  {
   "cell_type": "code",
   "execution_count": 3,
   "metadata": {},
   "outputs": [
    {
     "data": {
      "text/plain": [
       "10"
      ]
     },
     "execution_count": 3,
     "metadata": {},
     "output_type": "execute_result"
    }
   ],
   "source": [
    "# Exercise 1\n",
    "\n",
    "## We use brackets to print the items. [1] refers to the second object and [0] refers to the first item of that objetct.\n",
    "\n",
    "tuple1[1][0]"
   ]
  },
  {
   "cell_type": "code",
   "execution_count": 5,
   "metadata": {},
   "outputs": [
    {
     "data": {
      "text/plain": [
       "(5, 15, 25)"
      ]
     },
     "execution_count": 5,
     "metadata": {},
     "output_type": "execute_result"
    }
   ],
   "source": [
    "# Exercise 2\n",
    "\n",
    "## We use -1 to print the last item. We could use print(tuple1[-1]) as well.\n",
    "\n",
    "tuple1[-1]"
   ]
  },
  {
   "cell_type": "code",
   "execution_count": 6,
   "metadata": {},
   "outputs": [
    {
     "ename": "TypeError",
     "evalue": "'tuple' object does not support item assignment",
     "output_type": "error",
     "traceback": [
      "\u001b[0;31m---------------------------------------------------------------------------\u001b[0m",
      "\u001b[0;31mTypeError\u001b[0m                                 Traceback (most recent call last)",
      "Cell \u001b[0;32mIn[6], line 5\u001b[0m\n\u001b[1;32m      1\u001b[0m \u001b[38;5;66;03m# Exercise 3\u001b[39;00m\n\u001b[1;32m      2\u001b[0m \n\u001b[1;32m      3\u001b[0m \u001b[38;5;66;03m## Tuples are inmutable containers. It is not possible modify its items.\u001b[39;00m\n\u001b[0;32m----> 5\u001b[0m tuple1[\u001b[38;5;241m1\u001b[39m] \u001b[38;5;241m=\u001b[39m \u001b[38;5;124m\"\u001b[39m\u001b[38;5;124mpink grapefruit\u001b[39m\u001b[38;5;124m\"\u001b[39m\n",
      "\u001b[0;31mTypeError\u001b[0m: 'tuple' object does not support item assignment"
     ]
    }
   ],
   "source": [
    "# Exercise 3\n",
    "\n",
    "## Tuples are inmutable containers. It is not possible modify its items.\n",
    "\n",
    "tuple1[1] = \"pink grapefruit\""
   ]
  },
  {
   "cell_type": "code",
   "execution_count": 8,
   "metadata": {},
   "outputs": [
    {
     "data": {
      "text/plain": [
       "3"
      ]
     },
     "execution_count": 8,
     "metadata": {},
     "output_type": "execute_result"
    }
   ],
   "source": [
    "# Exercise 4\n",
    "\n",
    "## We call the len function to show the length of the item.\n",
    "\n",
    "len(tuple1)"
   ]
  },
  {
   "cell_type": "code",
   "execution_count": 10,
   "metadata": {},
   "outputs": [
    {
     "name": "stdout",
     "output_type": "stream",
     "text": [
      "Summed lists: [15, 10, 17]\n",
      "Total sum: 42\n"
     ]
    }
   ],
   "source": [
    "# Exercise 5\n",
    "\n",
    "# We define a function to sum the elements of a list\n",
    "def sum_list(lst):\n",
    "   return sum(lst)\n",
    "\n",
    "# We pply the summation function to each list in tuple2 using map\n",
    "summed_lists = map(sum_list, tuple2)\n",
    "\n",
    "# We convert the map object to a list to see intermediate results\n",
    "summed_lists = list(summed_lists)\n",
    "print(\"Summed lists:\", summed_lists)\n",
    "\n",
    "# We sum the results of the map function to get the total sum\n",
    "total_sum = sum(summed_lists)\n",
    "\n",
    "# We print the total sum\n",
    "print(\"Total sum:\", total_sum)"
   ]
  },
  {
   "cell_type": "code",
   "execution_count": null,
   "metadata": {},
   "outputs": [],
   "source": [
    "# We use map() to halve each value in each sublist and then convert it back to tuple\n",
    "tuple3 = tuple(map(lambda x: list(map(lambda y: y // 2, x)), tuple2))\n",
    "\n",
    "print(tuple3)"
   ]
  },
  {
   "cell_type": "markdown",
   "metadata": {},
   "source": [
    "## 1.2 Lists\n",
    "1. Show the indices of the `np.nan` values  in the `f_list` list. We want to see this output: `The indices 0, 1, 4, 7 have np.nan values.` **Hint: Use print function and [f-strings](https://realpython.com/python-f-strings/) to insert the indices values.**<br><br>\n",
    "\n",
    "2. Replicate 4 times the values of the list `p2_list`. We expect an ouput like this: `[ 2 , 3, 4, 5, 2 , 3, 4, 5, 2 , 3, 4, 5, 2 , 3, 4, 5]`.  **Hint: Use multiplication function in `lists`and see the output.**<br><br>\n",
    "3. Print the length of `f_list`. **Hint: Length function**<br><br>\n",
    "4. Print `My teacher assistant is so boring.` using `text1` list. **Hint: Use the [`join` function](https://stackoverflow.com/questions/493819/why-is-it-string-joinlist-instead-of-list-joinstring)**<br><br>\n",
    "5. Print `My TA is so boring, but is very funny.` using `text1` list.**Hint: Use the `join` function, and `extend` method.**<br><br>\n",
    "6. Print <br>\n",
    "`The max value of values1 is 86 and is located in the 0 index. ` <br>\n",
    "`The min value of values1 is 0 and is located in the 7 index. ` <br> **Hint: Use the `f-string`, `min`, and `max` functions.**\n",
    "<br>\n",
    "7. Get two lists: `names` and `last_names` using `last_and_name` list. **Hint: Use `map` and `split`.**\n",
    "<br>\n",
    "8. Give only the last names of students who do not have email. Use the `emails` and `last_names` listt. **Hint: Use `map` and `split`.**\n",
    "<br>"
   ]
  },
  {
   "cell_type": "markdown",
   "metadata": {},
   "source": [
    "Exercise 1"
   ]
  },
  {
   "cell_type": "code",
   "execution_count": 1,
   "metadata": {},
   "outputs": [],
   "source": [
    "import numpy as np"
   ]
  },
  {
   "cell_type": "code",
   "execution_count": 2,
   "metadata": {},
   "outputs": [],
   "source": [
    "# The list is defined with different types of data.\n",
    "f_list = [np.nan , np.nan, 3, 4, np.nan, \"Perú\", \"np.nan\", np.nan ]"
   ]
  },
  {
   "cell_type": "code",
   "execution_count": 3,
   "metadata": {},
   "outputs": [],
   "source": [
    "# Convert the list to a NumPy array using a data type that can handle all the elements.\n",
    "f_array = np.array(f_list, dtype=object)"
   ]
  },
  {
   "cell_type": "code",
   "execution_count": 4,
   "metadata": {},
   "outputs": [],
   "source": [
    "# Find the indices of np.nan.\n",
    "nan_indices = np.where(np.array([x is np.nan for x in f_array]))[0]"
   ]
  },
  {
   "cell_type": "code",
   "execution_count": 5,
   "metadata": {},
   "outputs": [],
   "source": [
    "# Convert the indices to strings and join them with comma\n",
    "indices_str = ', '.join(map(str, nan_indices))"
   ]
  },
  {
   "cell_type": "code",
   "execution_count": 6,
   "metadata": {},
   "outputs": [
    {
     "name": "stdout",
     "output_type": "stream",
     "text": [
      "The indices 0, 1, 4, 7 have np.nan values.\n"
     ]
    }
   ],
   "source": [
    "print(f\"The indices {indices_str} have np.nan values.\")"
   ]
  },
  {
   "cell_type": "markdown",
   "metadata": {},
   "source": [
    "Exercise 2"
   ]
  },
  {
   "cell_type": "code",
   "execution_count": 7,
   "metadata": {},
   "outputs": [],
   "source": [
    "p2_list = [2, 3, 4, 5]"
   ]
  },
  {
   "cell_type": "code",
   "execution_count": 8,
   "metadata": {},
   "outputs": [],
   "source": [
    "replicated_list = p2_list * 4"
   ]
  },
  {
   "cell_type": "code",
   "execution_count": 9,
   "metadata": {},
   "outputs": [
    {
     "name": "stdout",
     "output_type": "stream",
     "text": [
      "[2, 3, 4, 5, 2, 3, 4, 5, 2, 3, 4, 5, 2, 3, 4, 5]\n"
     ]
    }
   ],
   "source": [
    "print(replicated_list)"
   ]
  },
  {
   "cell_type": "markdown",
   "metadata": {},
   "source": [
    "Exercise 3"
   ]
  },
  {
   "cell_type": "code",
   "execution_count": 10,
   "metadata": {},
   "outputs": [
    {
     "name": "stdout",
     "output_type": "stream",
     "text": [
      "8\n"
     ]
    }
   ],
   "source": [
    "print(len(f_list))"
   ]
  },
  {
   "cell_type": "markdown",
   "metadata": {},
   "source": [
    "Exercise 4"
   ]
  },
  {
   "cell_type": "code",
   "execution_count": 11,
   "metadata": {},
   "outputs": [],
   "source": [
    "# Define the list text1 to have a list of words that we want to join into a single string.\n",
    "text1 = [\"My\", \"teacher\", \"assistant\", \"is\", \"so\", \"boring.\"]"
   ]
  },
  {
   "cell_type": "code",
   "execution_count": 12,
   "metadata": {},
   "outputs": [],
   "source": [
    "#The join() method takes an iterable (in this case, the list text1) and joins its elements into a single string, using the string on which it is called as a separator (in this case, a space \" \").\n",
    "result = \" \".join(text1)"
   ]
  },
  {
   "cell_type": "markdown",
   "metadata": {},
   "source": [
    "Exercise 5"
   ]
  },
  {
   "cell_type": "code",
   "execution_count": 13,
   "metadata": {},
   "outputs": [],
   "source": [
    "#We add the additional words to the list.\n",
    "text1.extend([\"but\", \"is\", \"very\", \"funny.\"])"
   ]
  },
  {
   "cell_type": "code",
   "execution_count": 14,
   "metadata": {},
   "outputs": [],
   "source": [
    "# Join the elements of the list into a single string with spaces.\n",
    "result = \" \".join(text1)"
   ]
  },
  {
   "cell_type": "code",
   "execution_count": 15,
   "metadata": {},
   "outputs": [
    {
     "name": "stdout",
     "output_type": "stream",
     "text": [
      "My teacher assistant is so boring. but is very funny.\n"
     ]
    }
   ],
   "source": [
    "print(result)"
   ]
  },
  {
   "cell_type": "markdown",
   "metadata": {},
   "source": [
    "Exercise 6"
   ]
  },
  {
   "cell_type": "code",
   "execution_count": 16,
   "metadata": {},
   "outputs": [],
   "source": [
    "#The values of the list values1 are defined.\n",
    "values1 = [86, 23, 45, 12, 78, 56, 34, 0]"
   ]
  },
  {
   "cell_type": "code",
   "execution_count": 17,
   "metadata": {},
   "outputs": [
    {
     "name": "stdout",
     "output_type": "stream",
     "text": [
      "The max value of values1 is 86 and is located in the 0 index.\n",
      "The min value of values1 is 0 and is located in the 7 index.\n"
     ]
    }
   ],
   "source": [
    "#The max() function finds the maximum value in the list, and index() finds the index of this value.\n",
    "max_value = max(values1)\n",
    "max_index = values1.index(max_value)\n",
    "\n",
    "# Similar to the previous step, min() finds the minimum value, and index() finds its index.\n",
    "min_value = min(values1)\n",
    "min_index = values1.index(min_value)\n",
    "\n",
    "# F-strings are used to print the result.\n",
    "print(f\"The max value of values1 is {max_value} and is located in the {max_index} index.\")\n",
    "print(f\"The min value of values1 is {min_value} and is located in the {min_index} index.\")"
   ]
  },
  {
   "cell_type": "markdown",
   "metadata": {},
   "source": [
    "Exercise 7\n",
    "###### 7. Get two lists: names and last_names using last_and_name list. Hint: Use map and split.\n",
    "We can use map and zip to separate names and last_names.\n",
    "\n",
    "1. Use *map* and *split* to separate names and last_names.\n",
    "2. Use zip to unpack the names and last_names into two lists."
   ]
  },
  {
   "cell_type": "code",
   "execution_count": 32,
   "metadata": {},
   "outputs": [
    {
     "data": {
      "text/plain": [
       "52"
      ]
     },
     "execution_count": 32,
     "metadata": {},
     "output_type": "execute_result"
    }
   ],
   "source": [
    "# These two lists a\n",
    "last_and_name = [ \"CORNEJO SANCHEZ, CHRISTIAN SANTOS\", \"ORELLANA QUISPE, CRISTIAN NASSER\", \"MORALES CHOQUEHUANCA, ANGELICA KARINA\", \"GUIMARAY RIBEYRO, JOSE ROBERTO\", \"CAMACHO GAVIDIA, ABEL FERNANDO\", \"TINTAYA ORIHUELA, MEIR ALVARO\", \"CHAVEZ MARTINEZ, JOSELIN ALEXANDRA\", \"FIGUEROA MURO, LEONEL ARTURO\", \"GOMEZ CRIBILLERO, JOSE FELIPE\", \"PALOMINO SEGUÍN, AFRANIA\", \"LUZON CUEVA, BIANCA MARIETTE\", \"SUAÑA ZEGARRA, ADRIAN ANDRE\", \"SOTO POMACHAGUA, DORKAS YOMIRA JHERMY\", \"FIORENTINO MARTINEZ, LADY ALY\", \"LAMA MAVILA, HECTOR ANDRE\", \"MEZA HINOJO, GUSTAVO\", \"LOZADA MURILLO, PERSEO MARCELO\", \"ZAMBRANO JIMENEZ, MIGUEL ALONZO\", \"JACOBS LUQUE, NICOLAS\", \"VIDAL VIDAL, ROCIO GABRIELA\", \"TORRES ANICAMA, JANE CAMILA\", \"LOPEZ ESTRADA, MARIA ELISA\", \"BOYCO ORAMS, ALEJANDRO\", \"DIAZ BERROSPI, KARLINE ROSMELI\", \"RIEGA ESCALANTE, STEPHY ROSARIO\", \"LEVANO TORRES, VALERIA CECILIA\", \"ESQUIVES BRAVO, SEBASTIAN RENATO\", \"PEREZ GONZALES, JUAN CARLOS\", \"OTERO MAGUIÑA, MARIANA\", \"CLAVO CAMPOS, ANDREA BRIZETH\", \"AGUILAR GARCIA, ERICK JOSUE\", \"CALDAS VELASQUEZ, JOSUE DANIEL\", \"SALAS NUÑEZ BORJA, FABIO MANUEL\", \"PIZARRO VILLANES, FERNANDA NICOLLE\", \"QUILLATUPA MORALES, ANGELA ADELINA\", \"HUANCAYA IDONE, CESAR DANTE\", \"CALVO PORTOCARRERO, GABRIELA ISABEL\", \"IBAÑEZ ABANTO, ANGEL MAURICIO\", \"MELÉNDEZ APONTE, JUAN DIEGO\", \"CRISTIAN SERRANO, ARONE\", \"HINOJOSA CAHUANA, PERCY ALBERTH\", \"ANGLAS GARCÍA, KEVIN ARTURO\", \"ALDAVE ACOSTA, CESAR ERNESTO\", \"NÚÑEZ HUAMÁN, CÉSAR AGUSTO\", \"OBREGON HUAMAN, DIANA EDITH\", \"SOTO PACHERRES, RODRIGO FRANCO\", \"INGARUCA RIVERA, GRETTEL ALEXANDRA\", \"ROJAS HUAMAN, ROSA ANGELA\", \"NEYRA SALAS, DANTE OMAR\", \"HUERTA ESPINOZA, YAJAIRA ALEXANDRA\", \"HUANCA MARTINEZ, JORGE ALBERTO\", \"FLORES CADILLO, ALEXIS\" ]\n",
    "emails = [\"cscornejo@pucp.edu.pe\", \"orellana.cn@pucp.edu.pe\", \"karina.morales@pucp.edu.pe\", \"a20083223@pucp.pe\", \"abel.camacho@pucp.pe\", \"mtintaya@pucp.edu.pe\", \"joselin.chavez@pucp.edu.pe\", \"a20105737@pucp.pe\", \"jfgomezc@pucp.pe\", \"afrania.palomino@pucp.pe\", \"luzon.bianca@pucp.pe\", \"adrian.suanaz@pucp.pe\", \"soto.y@pucp.edu.pe\", \"a20132766@pucp.pe\", \"andre.lama@pucp.edu.pe\", \"gustavo.meza@pucp.edu.pe\", \"pmlozada@pucp.edu.pe\", \"m.zambranoj@pucp.edu.pe\", \"nicolas.jacobs@pucp.edu.pe\", \"gvidal@pucp.edu.pe\", \"jane.torres@pucp.edu.pe\", \"m.lopez@pucp.edu.pe\", \"alejandro.boyco@pucp.edu.pe\", \"a20167070@pucp.edu.pe\", \"riega.stephy@pucp.edu.pe\", \"vlevanot@pucp.edu.pe\", \"sesquives@pucp.edu.pe\", \"perez.juanc@pucp.edu.pe\", \"mariana.otero@pucp.edu.pe\", \"aclavo@pucp.edu.pe\", \"a20182474@pucp.edu.pe\", \"josue.caldas@pucp.edu.pe\", \"fabio.salas@pucp.edu.pe\", \"fernanda.pizarro@pucp.edu.pe\", \"aquillatupa@pucp.pe\", \"\", \"\", \"\", \"\", \"\", \"f0873079@pucp.edu.pe\", \"\", \"\", \"\", \"\", \"\", \"\", \"\", \"\", \"\", \"\", \"flores.alexis@pucp.edu.pe\", ]"
   ]
  },
  {
   "cell_type": "code",
   "execution_count": 2,
   "metadata": {},
   "outputs": [
    {
     "name": "stdout",
     "output_type": "stream",
     "text": [
      "Last Names: ['CORNEJO SANCHEZ', 'ORELLANA QUISPE', 'MORALES CHOQUEHUANCA', 'GUIMARAY RIBEYRO', 'CAMACHO GAVIDIA', 'TINTAYA ORIHUELA', 'CHAVEZ MARTINEZ', 'FIGUEROA MURO', 'GOMEZ CRIBILLERO', 'PALOMINO SEGUÍN', 'LUZON CUEVA', 'SUAÑA ZEGARRA', 'SOTO POMACHAGUA', 'FIORENTINO MARTINEZ', 'LAMA MAVILA', 'MEZA HINOJO', 'LOZADA MURILLO', 'ZAMBRANO JIMENEZ', 'JACOBS LUQUE', 'VIDAL VIDAL', 'TORRES ANICAMA', 'LOPEZ ESTRADA', 'BOYCO ORAMS', 'DIAZ BERROSPI', 'RIEGA ESCALANTE', 'LEVANO TORRES', 'ESQUIVES BRAVO', 'PEREZ GONZALES', 'OTERO MAGUIÑA', 'CLAVO CAMPOS', 'AGUILAR GARCIA', 'CALDAS VELASQUEZ', 'SALAS NUÑEZ BORJA', 'PIZARRO VILLANES', 'QUILLATUPA MORALES', 'HUANCAYA IDONE', 'CALVO PORTOCARRERO', 'IBAÑEZ ABANTO', 'MELÉNDEZ APONTE', 'CRISTIAN SERRANO', 'HINOJOSA CAHUANA', 'ANGLAS GARCÍA', 'ALDAVE ACOSTA', 'NÚÑEZ HUAMÁN', 'OBREGON HUAMAN', 'SOTO PACHERRES', 'INGARUCA RIVERA', 'ROJAS HUAMAN', 'NEYRA SALAS', 'HUERTA ESPINOZA', 'HUANCA MARTINEZ', 'FLORES CADILLO'] \n",
      "\n",
      "Names: ['CHRISTIAN SANTOS', 'CRISTIAN NASSER', 'ANGELICA KARINA', 'JOSE ROBERTO', 'ABEL FERNANDO', 'MEIR ALVARO', 'JOSELIN ALEXANDRA', 'LEONEL ARTURO', 'JOSE FELIPE', 'AFRANIA', 'BIANCA MARIETTE', 'ADRIAN ANDRE', 'DORKAS YOMIRA JHERMY', 'LADY ALY', 'HECTOR ANDRE', 'GUSTAVO', 'PERSEO MARCELO', 'MIGUEL ALONZO', 'NICOLAS', 'ROCIO GABRIELA', 'JANE CAMILA', 'MARIA ELISA', 'ALEJANDRO', 'KARLINE ROSMELI', 'STEPHY ROSARIO', 'VALERIA CECILIA', 'SEBASTIAN RENATO', 'JUAN CARLOS', 'MARIANA', 'ANDREA BRIZETH', 'ERICK JOSUE', 'JOSUE DANIEL', 'FABIO MANUEL', 'FERNANDA NICOLLE', 'ANGELA ADELINA', 'CESAR DANTE', 'GABRIELA ISABEL', 'ANGEL MAURICIO', 'JUAN DIEGO', 'ARONE', 'PERCY ALBERTH', 'KEVIN ARTURO', 'CESAR ERNESTO', 'CÉSAR AGUSTO', 'DIANA EDITH', 'RODRIGO FRANCO', 'GRETTEL ALEXANDRA', 'ROSA ANGELA', 'DANTE OMAR', 'YAJAIRA ALEXANDRA', 'JORGE ALBERTO', 'ALEXIS']\n"
     ]
    }
   ],
   "source": [
    "# The last_and_name list contains the last_names and names in the format \"LAST_NAMES, NAMES\".\n",
    "last_and_name = [ \"CORNEJO SANCHEZ, CHRISTIAN SANTOS\", \"ORELLANA QUISPE, CRISTIAN NASSER\", \"MORALES CHOQUEHUANCA, ANGELICA KARINA\", \"GUIMARAY RIBEYRO, JOSE ROBERTO\", \"CAMACHO GAVIDIA, ABEL FERNANDO\", \"TINTAYA ORIHUELA, MEIR ALVARO\", \"CHAVEZ MARTINEZ, JOSELIN ALEXANDRA\", \"FIGUEROA MURO, LEONEL ARTURO\", \"GOMEZ CRIBILLERO, JOSE FELIPE\", \"PALOMINO SEGUÍN, AFRANIA\", \"LUZON CUEVA, BIANCA MARIETTE\", \"SUAÑA ZEGARRA, ADRIAN ANDRE\", \"SOTO POMACHAGUA, DORKAS YOMIRA JHERMY\", \"FIORENTINO MARTINEZ, LADY ALY\", \"LAMA MAVILA, HECTOR ANDRE\", \"MEZA HINOJO, GUSTAVO\", \"LOZADA MURILLO, PERSEO MARCELO\", \"ZAMBRANO JIMENEZ, MIGUEL ALONZO\", \"JACOBS LUQUE, NICOLAS\", \"VIDAL VIDAL, ROCIO GABRIELA\", \"TORRES ANICAMA, JANE CAMILA\", \"LOPEZ ESTRADA, MARIA ELISA\", \"BOYCO ORAMS, ALEJANDRO\", \"DIAZ BERROSPI, KARLINE ROSMELI\", \"RIEGA ESCALANTE, STEPHY ROSARIO\", \"LEVANO TORRES, VALERIA CECILIA\", \"ESQUIVES BRAVO, SEBASTIAN RENATO\", \"PEREZ GONZALES, JUAN CARLOS\", \"OTERO MAGUIÑA, MARIANA\", \"CLAVO CAMPOS, ANDREA BRIZETH\", \"AGUILAR GARCIA, ERICK JOSUE\", \"CALDAS VELASQUEZ, JOSUE DANIEL\", \"SALAS NUÑEZ BORJA, FABIO MANUEL\", \"PIZARRO VILLANES, FERNANDA NICOLLE\", \"QUILLATUPA MORALES, ANGELA ADELINA\", \"HUANCAYA IDONE, CESAR DANTE\", \"CALVO PORTOCARRERO, GABRIELA ISABEL\", \"IBAÑEZ ABANTO, ANGEL MAURICIO\", \"MELÉNDEZ APONTE, JUAN DIEGO\", \"CRISTIAN SERRANO, ARONE\", \"HINOJOSA CAHUANA, PERCY ALBERTH\", \"ANGLAS GARCÍA, KEVIN ARTURO\", \"ALDAVE ACOSTA, CESAR ERNESTO\", \"NÚÑEZ HUAMÁN, CÉSAR AGUSTO\", \"OBREGON HUAMAN, DIANA EDITH\", \"SOTO PACHERRES, RODRIGO FRANCO\", \"INGARUCA RIVERA, GRETTEL ALEXANDRA\", \"ROJAS HUAMAN, ROSA ANGELA\", \"NEYRA SALAS, DANTE OMAR\", \"HUERTA ESPINOZA, YAJAIRA ALEXANDRA\", \"HUANCA MARTINEZ, JORGE ALBERTO\", \"FLORES CADILLO, ALEXIS\" ]\n",
    "# Use map and split to separate names and last_names: separates each string into two parts, the last_names and names.\n",
    "split_names = list(map(lambda x: x.split(', '), last_and_name))\n",
    "# Use zip to unpack the names and last_names into two lists.\n",
    "last_names, names = zip(*split_names)\n",
    "# Convert the resulting tuples to lists\n",
    "last_names = list(last_names)\n",
    "names = list(names)\n",
    "\n",
    "print(\"Last Names:\", last_names,\"\\n\")\n",
    "print(\"Names:\", names)"
   ]
  },
  {
   "cell_type": "markdown",
   "metadata": {},
   "source": [
    "Exercise 8\n",
    "###### 8. Give only the last names of students who do not have email. Use the emails and last_names listt. Hint: Use map and split.\n",
    "To find the last_names of students who do not have an email, we can follow these steps:\n",
    "1. Combine the emails and last_names lists using zip.\n",
    "2. Use map to identify the last_names corresponding to the empty entries in the email list."
   ]
  },
  {
   "cell_type": "code",
   "execution_count": 5,
   "metadata": {},
   "outputs": [
    {
     "name": "stdout",
     "output_type": "stream",
     "text": [
      "Last Names of students who do not have email: ['HUANCAYA IDONE', 'CALVO PORTOCARRERO', 'IBAÑEZ ABANTO', 'MELÉNDEZ APONTE', 'CRISTIAN SERRANO', 'ANGLAS GARCÍA', 'ALDAVE ACOSTA', 'NÚÑEZ HUAMÁN', 'OBREGON HUAMAN', 'SOTO PACHERRES', 'INGARUCA RIVERA', 'ROJAS HUAMAN', 'NEYRA SALAS', 'HUERTA ESPINOZA', 'HUANCA MARTINEZ']\n"
     ]
    }
   ],
   "source": [
    "#The emails lists\n",
    "emails = [\"cscornejo@pucp.edu.pe\", \"orellana.cn@pucp.edu.pe\", \"karina.morales@pucp.edu.pe\", \"a20083223@pucp.pe\", \"abel.camacho@pucp.pe\", \"mtintaya@pucp.edu.pe\", \"joselin.chavez@pucp.edu.pe\", \"a20105737@pucp.pe\", \"jfgomezc@pucp.pe\", \"afrania.palomino@pucp.pe\", \"luzon.bianca@pucp.pe\", \"adrian.suanaz@pucp.pe\", \"soto.y@pucp.edu.pe\", \"a20132766@pucp.pe\", \"andre.lama@pucp.edu.pe\", \"gustavo.meza@pucp.edu.pe\", \"pmlozada@pucp.edu.pe\", \"m.zambranoj@pucp.edu.pe\", \"nicolas.jacobs@pucp.edu.pe\", \"gvidal@pucp.edu.pe\", \"jane.torres@pucp.edu.pe\", \"m.lopez@pucp.edu.pe\", \"alejandro.boyco@pucp.edu.pe\", \"a20167070@pucp.edu.pe\", \"riega.stephy@pucp.edu.pe\", \"vlevanot@pucp.edu.pe\", \"sesquives@pucp.edu.pe\", \"perez.juanc@pucp.edu.pe\", \"mariana.otero@pucp.edu.pe\", \"aclavo@pucp.edu.pe\", \"a20182474@pucp.edu.pe\", \"josue.caldas@pucp.edu.pe\", \"fabio.salas@pucp.edu.pe\", \"fernanda.pizarro@pucp.edu.pe\", \"aquillatupa@pucp.pe\", \"\", \"\", \"\", \"\", \"\", \"f0873079@pucp.edu.pe\", \"\", \"\", \"\", \"\", \"\", \"\", \"\", \"\", \"\", \"\", \"flores.alexis@pucp.edu.pe\", ]\n",
    "\n",
    "# Combine the emails and last_names lists using zip.\n",
    "combined_list = list(zip(last_names, emails))\n",
    "\n",
    "# Use map to identify the last_names corresponding to the empty entries in the email list.\n",
    "no_email_last_names = list(map(lambda x: x[0], filter(lambda x: x[1] == \"\", combined_list)))\n",
    "\n",
    "print(\"Last Names of students who do not have email:\", no_email_last_names)"
   ]
  },
  {
   "cell_type": "markdown",
   "metadata": {},
   "source": [
    "## 1.3 Strings\n",
    "\n",
    "\n",
    "1. Drop the duplicated blank spaces in `str1`. Do not use the regular expresions. Do not use the code shown in class. Explain your steps.**Hint: Use `split` method and `join` function.**\n",
    "\n",
    "2. Get the number of letters in the string .**Hint: Use `len`function.**\n",
    "\n",
    "3. Get the number of blank spaces (all of them) in the string .**Hint: Use `len`function.**\n",
    "\n",
    "4. Get the position of `@` in each string in the emails list. **Hint: Use `map`function and `find` method.**\n",
    "\n",
    "5. Identifies if exists `.edu.`  in each string in the `emails` list. Get a list of Booleans. **Hint: Use `map`function and `find` method.**\n",
    "\n",
    "6. Get all the strings before the first dot `.`in each string in the `emails` list. Identifies how many of them has `@`. **Hint: Use `map`function and `find` method.**"
   ]
  },
  {
   "cell_type": "code",
   "execution_count": null,
   "metadata": {},
   "outputs": [],
   "source": [
    "str1 = 'I am                            too                                                        old'"
   ]
  },
  {
   "cell_type": "code",
   "execution_count": 18,
   "metadata": {},
   "outputs": [],
   "source": [
    "emails = [\"cscornejo@pucp.edu.pe\", \"orellana.cn@pucp.edu.pe\", \"karina.morales@pucp.edu.pe\", \"a20083223@pucp.pe\", \"abel.camacho@pucp.pe\", \"mtintaya@pucp.edu.pe\", \"joselin.chavez@pucp.edu.pe\", \"a20105737@pucp.pe\", \"jfgomezc@pucp.pe\", \"afrania.palomino@pucp.pe\", \"luzon.bianca@pucp.pe\", \"adrian.suanaz@pucp.pe\", \"soto.y@pucp.edu.pe\", \"a20132766@pucp.pe\", \"andre.lama@pucp.edu.pe\", \"gustavo.meza@pucp.edu.pe\", \"pmlozada@pucp.edu.pe\", \"m.zambranoj@pucp.edu.pe\", \"nicolas.jacobs@pucp.edu.pe\", \"gvidal@pucp.edu.pe\", \"jane.torres@pucp.edu.pe\", \"m.lopez@pucp.edu.pe\", \"alejandro.boyco@pucp.edu.pe\", \"a20167070@pucp.edu.pe\", \"riega.stephy@pucp.edu.pe\", \"vlevanot@pucp.edu.pe\", \"sesquives@pucp.edu.pe\", \"perez.juanc@pucp.edu.pe\", \"mariana.otero@pucp.edu.pe\", \"aclavo@pucp.edu.pe\", \"a20182474@pucp.edu.pe\", \"josue.caldas@pucp.edu.pe\", \"fabio.salas@pucp.edu.pe\", \"fernanda.pizarro@pucp.edu.pe\", \"aquillatupa@pucp.pe\"]"
   ]
  },
  {
   "cell_type": "markdown",
   "metadata": {},
   "source": [
    "Exercise 1\n",
    "1. Drop the duplicated blank spaces in str1. Do not use the regular expresions. Do not use the code shown in class. Explain your steps. Hint: Use split method and join function.\n",
    "To remove the duplicated blank spaces in str1:\n",
    "\n",
    "*Step 1:* Splits the string into a list of words, removing all extra whitespace. \n",
    "\n",
    "*Step 2:* Joins the words in the list into a single string, inserting a single space between each pair of words."
   ]
  },
  {
   "cell_type": "code",
   "execution_count": 7,
   "metadata": {},
   "outputs": [
    {
     "name": "stdout",
     "output_type": "stream",
     "text": [
      "I am too old\n"
     ]
    }
   ],
   "source": [
    "# Define the original string\n",
    "str1 = 'I am                            too                                                        old'\n",
    "# Split string into a list of words\n",
    "lists_words = str1.split()\n",
    "#Join words with a single space between them\n",
    "drop_space_string = ' '.join(lists_words)\n",
    "# Print the result\n",
    "print(drop_space_string)"
   ]
  },
  {
   "cell_type": "code",
   "execution_count": null,
   "metadata": {},
   "outputs": [],
   "source": [
    "Exercise 2\n",
    "2. Get the number of letters in the string. Hint: Use len function.\n",
    "To get the number of letters in the string str1, you can use the len function.\n",
    "\n",
    "Step 1: Remove spaces from the string.\n",
    "\n",
    "Step 2: Get the number of letters in the string."
   ]
  },
  {
   "cell_type": "code",
   "execution_count": 10,
   "metadata": {},
   "outputs": [
    {
     "name": "stdout",
     "output_type": "stream",
     "text": [
      "9\n"
     ]
    }
   ],
   "source": [
    "# Remove spaces from the string\n",
    "string_without_spaces = str1.replace(' ', '')\n",
    "\n",
    "# Get the number of letters in the string: len() calculates the length of the resulting string_without_spaces, \n",
    "num_letters_string = len(string_without_spaces)\n",
    "\n",
    "# Print the result:  the output will be the number of letters in the string, excluding spaces.\n",
    "print(num_letters_string)"
   ]
  },
  {
   "cell_type": "markdown",
   "metadata": {},
   "source": [
    "Exercise 3\n",
    "Subtracting len(string_without_spaces) from len(str1) gives the number of blank spaces in the original string."
   ]
  },
  {
   "cell_type": "code",
   "execution_count": 12,
   "metadata": {},
   "outputs": [
    {
     "name": "stdout",
     "output_type": "stream",
     "text": [
      "85\n"
     ]
    }
   ],
   "source": [
    "# Calculate the number of blank spaces\n",
    "n_blank_spaces = len(str1) - len(string_without_spaces)\n",
    "\n",
    "# Print the result\n",
    "print(n_blank_spaces)"
   ]
  },
  {
   "cell_type": "markdown",
   "metadata": {},
   "source": [
    "4. Get the position of @ in each string in the email list"
   ]
  },
  {
   "cell_type": "code",
   "execution_count": 5,
   "metadata": {},
   "outputs": [
    {
     "name": "stdout",
     "output_type": "stream",
     "text": [
      "[9, 11, 14, 9, 12, 8, 14, 9, 8, 16, 12, 13, 6, 9, 10, 12, 8, 11, 14, 6, 11, 7, 15, 9, 12, 8, 9, 11, 13, 6, 9, 12, 11, 16, 11]\n"
     ]
    }
   ],
   "source": [
    "emails = [\"cscornejo@pucp.edu.pe\", \"orellana.cn@pucp.edu.pe\", \"karina.morales@pucp.edu.pe\", \"a20083223@pucp.pe\", \"abel.camacho@pucp.pe\", \"mtintaya@pucp.edu.pe\", \"joselin.chavez@pucp.edu.pe\", \"a20105737@pucp.pe\", \"jfgomezc@pucp.pe\", \"afrania.palomino@pucp.pe\", \"luzon.bianca@pucp.pe\", \"adrian.suanaz@pucp.pe\", \"soto.y@pucp.edu.pe\", \"a20132766@pucp.pe\", \"andre.lama@pucp.edu.pe\", \"gustavo.meza@pucp.edu.pe\", \"pmlozada@pucp.edu.pe\", \"m.zambranoj@pucp.edu.pe\", \"nicolas.jacobs@pucp.edu.pe\", \"gvidal@pucp.edu.pe\", \"jane.torres@pucp.edu.pe\", \"m.lopez@pucp.edu.pe\", \"alejandro.boyco@pucp.edu.pe\", \"a20167070@pucp.edu.pe\", \"riega.stephy@pucp.edu.pe\", \"vlevanot@pucp.edu.pe\", \"sesquives@pucp.edu.pe\", \"perez.juanc@pucp.edu.pe\", \"mariana.otero@pucp.edu.pe\", \"aclavo@pucp.edu.pe\", \"a20182474@pucp.edu.pe\", \"josue.caldas@pucp.edu.pe\", \"fabio.salas@pucp.edu.pe\", \"fernanda.pizarro@pucp.edu.pe\", \"aquillatupa@pucp.pe\"]\n",
    "\n",
    "# First we use the function find to find the position of @ in the list\n",
    "\n",
    "def position_at(email):\n",
    "    return email.find('@')\n",
    "\n",
    "# Then, we use the function map to apply the function to all the list of emails \n",
    "\n",
    "list_emails=list(map(position_at,emails))\n",
    "\n",
    "# Finally, we show the results \n",
    "\n",
    "print(list_emails)"
   ]
  },
  {
   "cell_type": "markdown",
   "metadata": {},
   "source": [
    "5. Identifies if exists .edu. in each string in the email list. Get a list of booleans"
   ]
  },
  {
   "cell_type": "code",
   "execution_count": 3,
   "metadata": {},
   "outputs": [
    {
     "name": "stdout",
     "output_type": "stream",
     "text": [
      "[True, True, True, False, False, True, True, False, False, False, False, False, True, False, True, True, True, True, True, True, True, True, True, True, True, True, True, True, True, True, True, True, True, True, False]\n"
     ]
    }
   ],
   "source": [
    "emails = [\"cscornejo@pucp.edu.pe\", \"orellana.cn@pucp.edu.pe\", \"karina.morales@pucp.edu.pe\", \"a20083223@pucp.pe\", \"abel.camacho@pucp.pe\", \"mtintaya@pucp.edu.pe\", \"joselin.chavez@pucp.edu.pe\", \"a20105737@pucp.pe\", \"jfgomezc@pucp.pe\", \"afrania.palomino@pucp.pe\", \"luzon.bianca@pucp.pe\", \"adrian.suanaz@pucp.pe\", \"soto.y@pucp.edu.pe\", \"a20132766@pucp.pe\", \"andre.lama@pucp.edu.pe\", \"gustavo.meza@pucp.edu.pe\", \"pmlozada@pucp.edu.pe\", \"m.zambranoj@pucp.edu.pe\", \"nicolas.jacobs@pucp.edu.pe\", \"gvidal@pucp.edu.pe\", \"jane.torres@pucp.edu.pe\", \"m.lopez@pucp.edu.pe\", \"alejandro.boyco@pucp.edu.pe\", \"a20167070@pucp.edu.pe\", \"riega.stephy@pucp.edu.pe\", \"vlevanot@pucp.edu.pe\", \"sesquives@pucp.edu.pe\", \"perez.juanc@pucp.edu.pe\", \"mariana.otero@pucp.edu.pe\", \"aclavo@pucp.edu.pe\", \"a20182474@pucp.edu.pe\", \"josue.caldas@pucp.edu.pe\", \"fabio.salas@pucp.edu.pe\", \"fernanda.pizarro@pucp.edu.pe\", \"aquillatupa@pucp.pe\"]\n",
    "\n",
    "# First, we define a function to find the mails that contain .edu. If the email does not contain .edu, we assign the value -1 (false). \n",
    "\n",
    "def position_edu(email):\n",
    "    return email.find('.edu.') !=-1\n",
    "\n",
    "# Then, we apply the function to all the list of emails and print the results. We obtain a list of booleans\n",
    "\n",
    "edu_mails=list(map(position_edu,emails))\n",
    "\n",
    "print(edu_mails)"
   ]
  },
  {
   "cell_type": "markdown",
   "metadata": {},
   "source": [
    "6. Get all the strings before the first dot in each string in the email list. Identify how many of them has @"
   ]
  },
  {
   "cell_type": "code",
   "execution_count": 1,
   "metadata": {},
   "outputs": [
    {
     "name": "stdout",
     "output_type": "stream",
     "text": [
      "string before the first dot : ['cscornejo@pucp', 'orellana', 'karina', 'a20083223@pucp', 'abel', 'mtintaya@pucp', 'joselin', 'a20105737@pucp', 'jfgomezc@pucp', 'afrania', 'luzon', 'adrian', 'soto', 'a20132766@pucp', 'andre', 'gustavo', 'pmlozada@pucp', 'm', 'nicolas', 'gvidal@pucp', 'jane', 'm', 'alejandro', 'a20167070@pucp', 'riega', 'vlevanot@pucp', 'sesquives@pucp', 'perez', 'mariana', 'aclavo@pucp', 'a20182474@pucp', 'josue', 'fabio', 'fernanda', 'aquillatupa@pucp']\n",
      "string that contains @ : 14\n"
     ]
    }
   ],
   "source": [
    "emails = [\"cscornejo@pucp.edu.pe\", \"orellana.cn@pucp.edu.pe\", \"karina.morales@pucp.edu.pe\", \"a20083223@pucp.pe\", \"abel.camacho@pucp.pe\", \"mtintaya@pucp.edu.pe\", \"joselin.chavez@pucp.edu.pe\", \"a20105737@pucp.pe\", \"jfgomezc@pucp.pe\", \"afrania.palomino@pucp.pe\", \"luzon.bianca@pucp.pe\", \"adrian.suanaz@pucp.pe\", \"soto.y@pucp.edu.pe\", \"a20132766@pucp.pe\", \"andre.lama@pucp.edu.pe\", \"gustavo.meza@pucp.edu.pe\", \"pmlozada@pucp.edu.pe\", \"m.zambranoj@pucp.edu.pe\", \"nicolas.jacobs@pucp.edu.pe\", \"gvidal@pucp.edu.pe\", \"jane.torres@pucp.edu.pe\", \"m.lopez@pucp.edu.pe\", \"alejandro.boyco@pucp.edu.pe\", \"a20167070@pucp.edu.pe\", \"riega.stephy@pucp.edu.pe\", \"vlevanot@pucp.edu.pe\", \"sesquives@pucp.edu.pe\", \"perez.juanc@pucp.edu.pe\", \"mariana.otero@pucp.edu.pe\", \"aclavo@pucp.edu.pe\", \"a20182474@pucp.edu.pe\", \"josue.caldas@pucp.edu.pe\", \"fabio.salas@pucp.edu.pe\", \"fernanda.pizarro@pucp.edu.pe\", \"aquillatupa@pucp.pe\"]\n",
    "\n",
    "#First, we define the function that give all the string before the first dot. \n",
    "\n",
    "def at_dot(email):\n",
    "    dot=email.find('.')\n",
    "    if dot !=-1:\n",
    "       return email[:dot]\n",
    "    else:\n",
    "        return email\n",
    "\n",
    "#Then, we apply the function to all the email list\n",
    "all_dot = list(map(at_dot,emails))\n",
    "\n",
    "#Finally, we count the number of @ in the string before the first dot\n",
    "\n",
    "count=sum('@' in part for part in all_dot)\n",
    "\n",
    "print(\"string before the first dot :\",all_dot)\n",
    "print(\"string that contains @ :\",count)\n",
    "        "
   ]
  },
  {
   "cell_type": "markdown",
   "metadata": {},
   "source": [
    "## 1.4 Pandas"
   ]
  },
  {
   "cell_type": "markdown",
   "metadata": {},
   "source": [
    "1. Import this dataset new_up_data_sysdif_block_lvl_ver2.csv located in the `_data` folder.\n",
    "2. Import this dataset ESA_CLIMATE_CHANGE_tree_layers.csv located in the `_data` folder.\n",
    "3. Merge both datasets using the key variables `pc11_s_id`,\t`pc11_d_id,`\t`pc11_sd_id`, `year`. \n",
    "4. Generate a descriptive statistics for `per_TREES-BD`, `per_TREES-BE`, `per_TREES-ND`, `per_TREES-NE`.\n",
    "5. Sum these 4 columns and name the new column as `sum_tree` and get a histogram.\n",
    "6. Generate the histogram of these 4 columns `per_TREES-BD`, `per_TREES-BE`, `per_TREES-ND`, `per_TREES-NE` for the above and below median dataset filtered by the sum_tree variable.\n",
    "\n",
    "Do not forget to use relative paths."
   ]
  },
  {
   "cell_type": "code",
   "execution_count": 1,
   "metadata": {},
   "outputs": [],
   "source": [
    "import pandas as pd"
   ]
  },
  {
   "cell_type": "markdown",
   "metadata": {},
   "source": [
    "Exercise 1\n"
   ]
  },
  {
   "cell_type": "code",
   "execution_count": 11,
   "metadata": {},
   "outputs": [
    {
     "data": {
      "text/html": [
       "<div>\n",
       "<style scoped>\n",
       "    .dataframe tbody tr th:only-of-type {\n",
       "        vertical-align: middle;\n",
       "    }\n",
       "\n",
       "    .dataframe tbody tr th {\n",
       "        vertical-align: top;\n",
       "    }\n",
       "\n",
       "    .dataframe thead th {\n",
       "        text-align: right;\n",
       "    }\n",
       "</style>\n",
       "<table border=\"1\" class=\"dataframe\">\n",
       "  <thead>\n",
       "    <tr style=\"text-align: right;\">\n",
       "      <th></th>\n",
       "      <th>pc11_s_id</th>\n",
       "      <th>pc11_d_id</th>\n",
       "      <th>pc11_sd_id</th>\n",
       "      <th>year</th>\n",
       "      <th>post_ror_data_entry_block_any</th>\n",
       "      <th>post_ror_dist_softw_available_block_any</th>\n",
       "      <th>post_ror_aadhaar_link_block_any</th>\n",
       "      <th>post_mutation_computerized_block_any</th>\n",
       "      <th>post_digital_ror_issued_block_any</th>\n",
       "      <th>block_id</th>\n",
       "      <th>mean_night</th>\n",
       "      <th>count_night</th>\n",
       "      <th>sum_night</th>\n",
       "      <th>sd_name</th>\n",
       "      <th>frac_12</th>\n",
       "      <th>per_aggriculture</th>\n",
       "      <th>per_treecover</th>\n",
       "      <th>per_greencover</th>\n",
       "      <th>per_built</th>\n",
       "    </tr>\n",
       "  </thead>\n",
       "  <tbody>\n",
       "    <tr>\n",
       "      <th>0</th>\n",
       "      <td>1</td>\n",
       "      <td>1</td>\n",
       "      <td>1</td>\n",
       "      <td>2000</td>\n",
       "      <td>0</td>\n",
       "      <td>0</td>\n",
       "      <td>0</td>\n",
       "      <td>0</td>\n",
       "      <td>0</td>\n",
       "      <td>1</td>\n",
       "      <td>0.002703</td>\n",
       "      <td>8192</td>\n",
       "      <td>22.144901</td>\n",
       "      <td>Kupwara</td>\n",
       "      <td>NaN</td>\n",
       "      <td>NaN</td>\n",
       "      <td>31.286381</td>\n",
       "      <td>47.388935</td>\n",
       "      <td>21.324677</td>\n",
       "    </tr>\n",
       "    <tr>\n",
       "      <th>1</th>\n",
       "      <td>1</td>\n",
       "      <td>1</td>\n",
       "      <td>1</td>\n",
       "      <td>2001</td>\n",
       "      <td>0</td>\n",
       "      <td>0</td>\n",
       "      <td>0</td>\n",
       "      <td>0</td>\n",
       "      <td>0</td>\n",
       "      <td>1</td>\n",
       "      <td>0.002703</td>\n",
       "      <td>8192</td>\n",
       "      <td>22.144901</td>\n",
       "      <td>Kupwara</td>\n",
       "      <td>0.064216</td>\n",
       "      <td>6.421551</td>\n",
       "      <td>33.507698</td>\n",
       "      <td>42.900303</td>\n",
       "      <td>23.592001</td>\n",
       "    </tr>\n",
       "    <tr>\n",
       "      <th>2</th>\n",
       "      <td>1</td>\n",
       "      <td>1</td>\n",
       "      <td>1</td>\n",
       "      <td>2002</td>\n",
       "      <td>0</td>\n",
       "      <td>0</td>\n",
       "      <td>0</td>\n",
       "      <td>0</td>\n",
       "      <td>0</td>\n",
       "      <td>1</td>\n",
       "      <td>0.002703</td>\n",
       "      <td>8192</td>\n",
       "      <td>22.144901</td>\n",
       "      <td>Kupwara</td>\n",
       "      <td>0.076860</td>\n",
       "      <td>7.685976</td>\n",
       "      <td>28.036722</td>\n",
       "      <td>49.964584</td>\n",
       "      <td>21.998692</td>\n",
       "    </tr>\n",
       "    <tr>\n",
       "      <th>3</th>\n",
       "      <td>1</td>\n",
       "      <td>1</td>\n",
       "      <td>1</td>\n",
       "      <td>2003</td>\n",
       "      <td>0</td>\n",
       "      <td>0</td>\n",
       "      <td>0</td>\n",
       "      <td>0</td>\n",
       "      <td>0</td>\n",
       "      <td>1</td>\n",
       "      <td>0.002703</td>\n",
       "      <td>8192</td>\n",
       "      <td>22.144901</td>\n",
       "      <td>Kupwara</td>\n",
       "      <td>0.072095</td>\n",
       "      <td>7.209489</td>\n",
       "      <td>32.680721</td>\n",
       "      <td>45.621540</td>\n",
       "      <td>21.697739</td>\n",
       "    </tr>\n",
       "    <tr>\n",
       "      <th>4</th>\n",
       "      <td>1</td>\n",
       "      <td>1</td>\n",
       "      <td>1</td>\n",
       "      <td>2004</td>\n",
       "      <td>0</td>\n",
       "      <td>0</td>\n",
       "      <td>0</td>\n",
       "      <td>0</td>\n",
       "      <td>0</td>\n",
       "      <td>1</td>\n",
       "      <td>0.003113</td>\n",
       "      <td>8192</td>\n",
       "      <td>25.503809</td>\n",
       "      <td>Kupwara</td>\n",
       "      <td>0.052910</td>\n",
       "      <td>5.290961</td>\n",
       "      <td>31.404015</td>\n",
       "      <td>41.732754</td>\n",
       "      <td>26.863232</td>\n",
       "    </tr>\n",
       "    <tr>\n",
       "      <th>...</th>\n",
       "      <td>...</td>\n",
       "      <td>...</td>\n",
       "      <td>...</td>\n",
       "      <td>...</td>\n",
       "      <td>...</td>\n",
       "      <td>...</td>\n",
       "      <td>...</td>\n",
       "      <td>...</td>\n",
       "      <td>...</td>\n",
       "      <td>...</td>\n",
       "      <td>...</td>\n",
       "      <td>...</td>\n",
       "      <td>...</td>\n",
       "      <td>...</td>\n",
       "      <td>...</td>\n",
       "      <td>...</td>\n",
       "      <td>...</td>\n",
       "      <td>...</td>\n",
       "      <td>...</td>\n",
       "    </tr>\n",
       "    <tr>\n",
       "      <th>131537</th>\n",
       "      <td>9</td>\n",
       "      <td>202</td>\n",
       "      <td>1012</td>\n",
       "      <td>2018</td>\n",
       "      <td>1</td>\n",
       "      <td>1</td>\n",
       "      <td>0</td>\n",
       "      <td>1</td>\n",
       "      <td>1</td>\n",
       "      <td>5965</td>\n",
       "      <td>0.267226</td>\n",
       "      <td>4315</td>\n",
       "      <td>1153.080078</td>\n",
       "      <td>Patiyali</td>\n",
       "      <td>0.953928</td>\n",
       "      <td>95.392793</td>\n",
       "      <td>5.095272</td>\n",
       "      <td>53.366138</td>\n",
       "      <td>41.401382</td>\n",
       "    </tr>\n",
       "    <tr>\n",
       "      <th>131538</th>\n",
       "      <td>9</td>\n",
       "      <td>202</td>\n",
       "      <td>1012</td>\n",
       "      <td>2019</td>\n",
       "      <td>1</td>\n",
       "      <td>1</td>\n",
       "      <td>0</td>\n",
       "      <td>1</td>\n",
       "      <td>1</td>\n",
       "      <td>5965</td>\n",
       "      <td>0.212258</td>\n",
       "      <td>4303</td>\n",
       "      <td>913.344971</td>\n",
       "      <td>Patiyali</td>\n",
       "      <td>0.961914</td>\n",
       "      <td>96.191359</td>\n",
       "      <td>4.311493</td>\n",
       "      <td>59.983742</td>\n",
       "      <td>35.600212</td>\n",
       "    </tr>\n",
       "    <tr>\n",
       "      <th>131539</th>\n",
       "      <td>9</td>\n",
       "      <td>202</td>\n",
       "      <td>1012</td>\n",
       "      <td>2020</td>\n",
       "      <td>1</td>\n",
       "      <td>1</td>\n",
       "      <td>0</td>\n",
       "      <td>1</td>\n",
       "      <td>1</td>\n",
       "      <td>5965</td>\n",
       "      <td>0.196405</td>\n",
       "      <td>4303</td>\n",
       "      <td>845.130005</td>\n",
       "      <td>Patiyali</td>\n",
       "      <td>0.961640</td>\n",
       "      <td>96.163976</td>\n",
       "      <td>8.594394</td>\n",
       "      <td>54.553619</td>\n",
       "      <td>36.757240</td>\n",
       "    </tr>\n",
       "    <tr>\n",
       "      <th>131540</th>\n",
       "      <td>9</td>\n",
       "      <td>202</td>\n",
       "      <td>1012</td>\n",
       "      <td>2021</td>\n",
       "      <td>1</td>\n",
       "      <td>1</td>\n",
       "      <td>0</td>\n",
       "      <td>1</td>\n",
       "      <td>1</td>\n",
       "      <td>5965</td>\n",
       "      <td>0.204011</td>\n",
       "      <td>4303</td>\n",
       "      <td>877.859985</td>\n",
       "      <td>Patiyali</td>\n",
       "      <td>0.964120</td>\n",
       "      <td>96.411973</td>\n",
       "      <td>5.193740</td>\n",
       "      <td>57.827095</td>\n",
       "      <td>36.744907</td>\n",
       "    </tr>\n",
       "    <tr>\n",
       "      <th>131541</th>\n",
       "      <td>9</td>\n",
       "      <td>202</td>\n",
       "      <td>1012</td>\n",
       "      <td>2022</td>\n",
       "      <td>1</td>\n",
       "      <td>1</td>\n",
       "      <td>0</td>\n",
       "      <td>1</td>\n",
       "      <td>1</td>\n",
       "      <td>5965</td>\n",
       "      <td>0.216364</td>\n",
       "      <td>4303</td>\n",
       "      <td>931.015015</td>\n",
       "      <td>Patiyali</td>\n",
       "      <td>0.970185</td>\n",
       "      <td>97.018504</td>\n",
       "      <td>7.170661</td>\n",
       "      <td>60.158665</td>\n",
       "      <td>32.470570</td>\n",
       "    </tr>\n",
       "  </tbody>\n",
       "</table>\n",
       "<p>131542 rows × 19 columns</p>\n",
       "</div>"
      ],
      "text/plain": [
       "        pc11_s_id  pc11_d_id  pc11_sd_id  year  post_ror_data_entry_block_any  \\\n",
       "0               1          1           1  2000                              0   \n",
       "1               1          1           1  2001                              0   \n",
       "2               1          1           1  2002                              0   \n",
       "3               1          1           1  2003                              0   \n",
       "4               1          1           1  2004                              0   \n",
       "...           ...        ...         ...   ...                            ...   \n",
       "131537          9        202        1012  2018                              1   \n",
       "131538          9        202        1012  2019                              1   \n",
       "131539          9        202        1012  2020                              1   \n",
       "131540          9        202        1012  2021                              1   \n",
       "131541          9        202        1012  2022                              1   \n",
       "\n",
       "        post_ror_dist_softw_available_block_any  \\\n",
       "0                                             0   \n",
       "1                                             0   \n",
       "2                                             0   \n",
       "3                                             0   \n",
       "4                                             0   \n",
       "...                                         ...   \n",
       "131537                                        1   \n",
       "131538                                        1   \n",
       "131539                                        1   \n",
       "131540                                        1   \n",
       "131541                                        1   \n",
       "\n",
       "        post_ror_aadhaar_link_block_any  post_mutation_computerized_block_any  \\\n",
       "0                                     0                                     0   \n",
       "1                                     0                                     0   \n",
       "2                                     0                                     0   \n",
       "3                                     0                                     0   \n",
       "4                                     0                                     0   \n",
       "...                                 ...                                   ...   \n",
       "131537                                0                                     1   \n",
       "131538                                0                                     1   \n",
       "131539                                0                                     1   \n",
       "131540                                0                                     1   \n",
       "131541                                0                                     1   \n",
       "\n",
       "        post_digital_ror_issued_block_any  block_id  mean_night  count_night  \\\n",
       "0                                       0         1    0.002703         8192   \n",
       "1                                       0         1    0.002703         8192   \n",
       "2                                       0         1    0.002703         8192   \n",
       "3                                       0         1    0.002703         8192   \n",
       "4                                       0         1    0.003113         8192   \n",
       "...                                   ...       ...         ...          ...   \n",
       "131537                                  1      5965    0.267226         4315   \n",
       "131538                                  1      5965    0.212258         4303   \n",
       "131539                                  1      5965    0.196405         4303   \n",
       "131540                                  1      5965    0.204011         4303   \n",
       "131541                                  1      5965    0.216364         4303   \n",
       "\n",
       "          sum_night   sd_name   frac_12  per_aggriculture  per_treecover  \\\n",
       "0         22.144901   Kupwara       NaN               NaN      31.286381   \n",
       "1         22.144901   Kupwara  0.064216          6.421551      33.507698   \n",
       "2         22.144901   Kupwara  0.076860          7.685976      28.036722   \n",
       "3         22.144901   Kupwara  0.072095          7.209489      32.680721   \n",
       "4         25.503809   Kupwara  0.052910          5.290961      31.404015   \n",
       "...             ...       ...       ...               ...            ...   \n",
       "131537  1153.080078  Patiyali  0.953928         95.392793       5.095272   \n",
       "131538   913.344971  Patiyali  0.961914         96.191359       4.311493   \n",
       "131539   845.130005  Patiyali  0.961640         96.163976       8.594394   \n",
       "131540   877.859985  Patiyali  0.964120         96.411973       5.193740   \n",
       "131541   931.015015  Patiyali  0.970185         97.018504       7.170661   \n",
       "\n",
       "        per_greencover  per_built  \n",
       "0            47.388935  21.324677  \n",
       "1            42.900303  23.592001  \n",
       "2            49.964584  21.998692  \n",
       "3            45.621540  21.697739  \n",
       "4            41.732754  26.863232  \n",
       "...                ...        ...  \n",
       "131537       53.366138  41.401382  \n",
       "131538       59.983742  35.600212  \n",
       "131539       54.553619  36.757240  \n",
       "131540       57.827095  36.744907  \n",
       "131541       60.158665  32.470570  \n",
       "\n",
       "[131542 rows x 19 columns]"
      ]
     },
     "execution_count": 11,
     "metadata": {},
     "output_type": "execute_result"
    }
   ],
   "source": [
    "# We read the document using relative paths\n",
    "df1 = pd.read_csv(r\"../../_data/new_up_data_sysdif_block_lvl_ver2.csv\")\n",
    "df1"
   ]
  },
  {
   "cell_type": "markdown",
   "metadata": {},
   "source": [
    "Exercise 2"
   ]
  },
  {
   "cell_type": "code",
   "execution_count": 12,
   "metadata": {},
   "outputs": [
    {
     "data": {
      "text/html": [
       "<div>\n",
       "<style scoped>\n",
       "    .dataframe tbody tr th:only-of-type {\n",
       "        vertical-align: middle;\n",
       "    }\n",
       "\n",
       "    .dataframe tbody tr th {\n",
       "        vertical-align: top;\n",
       "    }\n",
       "\n",
       "    .dataframe thead th {\n",
       "        text-align: right;\n",
       "    }\n",
       "</style>\n",
       "<table border=\"1\" class=\"dataframe\">\n",
       "  <thead>\n",
       "    <tr style=\"text-align: right;\">\n",
       "      <th></th>\n",
       "      <th>pc11_s_id</th>\n",
       "      <th>pc11_d_id</th>\n",
       "      <th>pc11_sd_id</th>\n",
       "      <th>sd_name</th>\n",
       "      <th>per_TREES-BD</th>\n",
       "      <th>year</th>\n",
       "      <th>per_TREES-BE</th>\n",
       "      <th>per_TREES-ND</th>\n",
       "      <th>per_TREES-NE</th>\n",
       "    </tr>\n",
       "  </thead>\n",
       "  <tbody>\n",
       "    <tr>\n",
       "      <th>0</th>\n",
       "      <td>24</td>\n",
       "      <td>468</td>\n",
       "      <td>0</td>\n",
       "      <td>Rann Of Kachchh</td>\n",
       "      <td>0.020038</td>\n",
       "      <td>2006</td>\n",
       "      <td>0.000000</td>\n",
       "      <td>0.035410</td>\n",
       "      <td>0.003214</td>\n",
       "    </tr>\n",
       "    <tr>\n",
       "      <th>1</th>\n",
       "      <td>24</td>\n",
       "      <td>468</td>\n",
       "      <td>3722</td>\n",
       "      <td>Lakhpat</td>\n",
       "      <td>1.768032</td>\n",
       "      <td>2006</td>\n",
       "      <td>0.000000</td>\n",
       "      <td>0.186592</td>\n",
       "      <td>0.002453</td>\n",
       "    </tr>\n",
       "    <tr>\n",
       "      <th>2</th>\n",
       "      <td>24</td>\n",
       "      <td>468</td>\n",
       "      <td>3723</td>\n",
       "      <td>Rapar</td>\n",
       "      <td>0.001384</td>\n",
       "      <td>2006</td>\n",
       "      <td>0.000000</td>\n",
       "      <td>0.000000</td>\n",
       "      <td>0.000000</td>\n",
       "    </tr>\n",
       "    <tr>\n",
       "      <th>3</th>\n",
       "      <td>24</td>\n",
       "      <td>468</td>\n",
       "      <td>3724</td>\n",
       "      <td>Bhachau</td>\n",
       "      <td>0.005311</td>\n",
       "      <td>2006</td>\n",
       "      <td>0.000000</td>\n",
       "      <td>0.013269</td>\n",
       "      <td>0.000000</td>\n",
       "    </tr>\n",
       "    <tr>\n",
       "      <th>4</th>\n",
       "      <td>24</td>\n",
       "      <td>468</td>\n",
       "      <td>3725</td>\n",
       "      <td>Anjar</td>\n",
       "      <td>0.010257</td>\n",
       "      <td>2006</td>\n",
       "      <td>0.000000</td>\n",
       "      <td>0.018871</td>\n",
       "      <td>0.000000</td>\n",
       "    </tr>\n",
       "    <tr>\n",
       "      <th>...</th>\n",
       "      <td>...</td>\n",
       "      <td>...</td>\n",
       "      <td>...</td>\n",
       "      <td>...</td>\n",
       "      <td>...</td>\n",
       "      <td>...</td>\n",
       "      <td>...</td>\n",
       "      <td>...</td>\n",
       "      <td>...</td>\n",
       "    </tr>\n",
       "    <tr>\n",
       "      <th>125344</th>\n",
       "      <td>35</td>\n",
       "      <td>639</td>\n",
       "      <td>5921</td>\n",
       "      <td>Rangat</td>\n",
       "      <td>1.323027</td>\n",
       "      <td>2003</td>\n",
       "      <td>79.195435</td>\n",
       "      <td>0.000000</td>\n",
       "      <td>0.197154</td>\n",
       "    </tr>\n",
       "    <tr>\n",
       "      <th>125345</th>\n",
       "      <td>35</td>\n",
       "      <td>640</td>\n",
       "      <td>5923</td>\n",
       "      <td>Port Blair</td>\n",
       "      <td>0.000000</td>\n",
       "      <td>2003</td>\n",
       "      <td>68.636780</td>\n",
       "      <td>0.000000</td>\n",
       "      <td>0.321329</td>\n",
       "    </tr>\n",
       "    <tr>\n",
       "      <th>125346</th>\n",
       "      <td>35</td>\n",
       "      <td>640</td>\n",
       "      <td>5924</td>\n",
       "      <td>Little Andaman</td>\n",
       "      <td>3.892228</td>\n",
       "      <td>2003</td>\n",
       "      <td>78.234627</td>\n",
       "      <td>0.000000</td>\n",
       "      <td>0.000000</td>\n",
       "    </tr>\n",
       "    <tr>\n",
       "      <th>125347</th>\n",
       "      <td>35</td>\n",
       "      <td>640</td>\n",
       "      <td>5922</td>\n",
       "      <td>Ferrargunj</td>\n",
       "      <td>0.187679</td>\n",
       "      <td>2003</td>\n",
       "      <td>82.064636</td>\n",
       "      <td>0.000000</td>\n",
       "      <td>0.362423</td>\n",
       "    </tr>\n",
       "    <tr>\n",
       "      <th>125348</th>\n",
       "      <td>1</td>\n",
       "      <td>0</td>\n",
       "      <td>0</td>\n",
       "      <td>NaN</td>\n",
       "      <td>0.134543</td>\n",
       "      <td>2003</td>\n",
       "      <td>0.032157</td>\n",
       "      <td>0.000140</td>\n",
       "      <td>0.978852</td>\n",
       "    </tr>\n",
       "  </tbody>\n",
       "</table>\n",
       "<p>125349 rows × 9 columns</p>\n",
       "</div>"
      ],
      "text/plain": [
       "        pc11_s_id  pc11_d_id  pc11_sd_id          sd_name  per_TREES-BD  year  \\\n",
       "0              24        468           0  Rann Of Kachchh      0.020038  2006   \n",
       "1              24        468        3722          Lakhpat      1.768032  2006   \n",
       "2              24        468        3723            Rapar      0.001384  2006   \n",
       "3              24        468        3724          Bhachau      0.005311  2006   \n",
       "4              24        468        3725            Anjar      0.010257  2006   \n",
       "...           ...        ...         ...              ...           ...   ...   \n",
       "125344         35        639        5921           Rangat      1.323027  2003   \n",
       "125345         35        640        5923       Port Blair      0.000000  2003   \n",
       "125346         35        640        5924   Little Andaman      3.892228  2003   \n",
       "125347         35        640        5922       Ferrargunj      0.187679  2003   \n",
       "125348          1          0           0              NaN      0.134543  2003   \n",
       "\n",
       "        per_TREES-BE  per_TREES-ND  per_TREES-NE  \n",
       "0           0.000000      0.035410      0.003214  \n",
       "1           0.000000      0.186592      0.002453  \n",
       "2           0.000000      0.000000      0.000000  \n",
       "3           0.000000      0.013269      0.000000  \n",
       "4           0.000000      0.018871      0.000000  \n",
       "...              ...           ...           ...  \n",
       "125344     79.195435      0.000000      0.197154  \n",
       "125345     68.636780      0.000000      0.321329  \n",
       "125346     78.234627      0.000000      0.000000  \n",
       "125347     82.064636      0.000000      0.362423  \n",
       "125348      0.032157      0.000140      0.978852  \n",
       "\n",
       "[125349 rows x 9 columns]"
      ]
     },
     "execution_count": 12,
     "metadata": {},
     "output_type": "execute_result"
    }
   ],
   "source": [
    "# We read the document using relative paths\n",
    "df2 = pd.read_csv(r\"../../_data/ESA_CLIMATE_CHANGE_tree_layers.csv\")\n",
    "df2"
   ]
  },
  {
   "cell_type": "markdown",
   "metadata": {},
   "source": [
    "Exercise 3"
   ]
  },
  {
   "cell_type": "code",
   "execution_count": 13,
   "metadata": {},
   "outputs": [
    {
     "data": {
      "text/html": [
       "<div>\n",
       "<style scoped>\n",
       "    .dataframe tbody tr th:only-of-type {\n",
       "        vertical-align: middle;\n",
       "    }\n",
       "\n",
       "    .dataframe tbody tr th {\n",
       "        vertical-align: top;\n",
       "    }\n",
       "\n",
       "    .dataframe thead th {\n",
       "        text-align: right;\n",
       "    }\n",
       "</style>\n",
       "<table border=\"1\" class=\"dataframe\">\n",
       "  <thead>\n",
       "    <tr style=\"text-align: right;\">\n",
       "      <th></th>\n",
       "      <th>pc11_s_id</th>\n",
       "      <th>pc11_d_id</th>\n",
       "      <th>pc11_sd_id</th>\n",
       "      <th>year</th>\n",
       "      <th>post_ror_data_entry_block_any</th>\n",
       "      <th>post_ror_dist_softw_available_block_any</th>\n",
       "      <th>post_ror_aadhaar_link_block_any</th>\n",
       "      <th>post_mutation_computerized_block_any</th>\n",
       "      <th>post_digital_ror_issued_block_any</th>\n",
       "      <th>block_id</th>\n",
       "      <th>...</th>\n",
       "      <th>frac_12</th>\n",
       "      <th>per_aggriculture</th>\n",
       "      <th>per_treecover</th>\n",
       "      <th>per_greencover</th>\n",
       "      <th>per_built</th>\n",
       "      <th>sd_name_y</th>\n",
       "      <th>per_TREES-BD</th>\n",
       "      <th>per_TREES-BE</th>\n",
       "      <th>per_TREES-ND</th>\n",
       "      <th>per_TREES-NE</th>\n",
       "    </tr>\n",
       "  </thead>\n",
       "  <tbody>\n",
       "    <tr>\n",
       "      <th>0</th>\n",
       "      <td>1</td>\n",
       "      <td>1</td>\n",
       "      <td>1</td>\n",
       "      <td>2000</td>\n",
       "      <td>0</td>\n",
       "      <td>0</td>\n",
       "      <td>0</td>\n",
       "      <td>0</td>\n",
       "      <td>0</td>\n",
       "      <td>1</td>\n",
       "      <td>...</td>\n",
       "      <td>NaN</td>\n",
       "      <td>NaN</td>\n",
       "      <td>31.286381</td>\n",
       "      <td>47.388935</td>\n",
       "      <td>21.324677</td>\n",
       "      <td>Kupwara</td>\n",
       "      <td>1.964613</td>\n",
       "      <td>1.117632</td>\n",
       "      <td>0.0</td>\n",
       "      <td>29.015697</td>\n",
       "    </tr>\n",
       "    <tr>\n",
       "      <th>1</th>\n",
       "      <td>1</td>\n",
       "      <td>1</td>\n",
       "      <td>1</td>\n",
       "      <td>2001</td>\n",
       "      <td>0</td>\n",
       "      <td>0</td>\n",
       "      <td>0</td>\n",
       "      <td>0</td>\n",
       "      <td>0</td>\n",
       "      <td>1</td>\n",
       "      <td>...</td>\n",
       "      <td>0.064216</td>\n",
       "      <td>6.421551</td>\n",
       "      <td>33.507698</td>\n",
       "      <td>42.900303</td>\n",
       "      <td>23.592001</td>\n",
       "      <td>Kupwara</td>\n",
       "      <td>1.956872</td>\n",
       "      <td>1.117632</td>\n",
       "      <td>0.0</td>\n",
       "      <td>28.908140</td>\n",
       "    </tr>\n",
       "    <tr>\n",
       "      <th>2</th>\n",
       "      <td>1</td>\n",
       "      <td>1</td>\n",
       "      <td>1</td>\n",
       "      <td>2002</td>\n",
       "      <td>0</td>\n",
       "      <td>0</td>\n",
       "      <td>0</td>\n",
       "      <td>0</td>\n",
       "      <td>0</td>\n",
       "      <td>1</td>\n",
       "      <td>...</td>\n",
       "      <td>0.076860</td>\n",
       "      <td>7.685976</td>\n",
       "      <td>28.036722</td>\n",
       "      <td>49.964584</td>\n",
       "      <td>21.998692</td>\n",
       "      <td>Kupwara</td>\n",
       "      <td>1.969693</td>\n",
       "      <td>1.117632</td>\n",
       "      <td>0.0</td>\n",
       "      <td>28.930830</td>\n",
       "    </tr>\n",
       "    <tr>\n",
       "      <th>3</th>\n",
       "      <td>1</td>\n",
       "      <td>1</td>\n",
       "      <td>1</td>\n",
       "      <td>2003</td>\n",
       "      <td>0</td>\n",
       "      <td>0</td>\n",
       "      <td>0</td>\n",
       "      <td>0</td>\n",
       "      <td>0</td>\n",
       "      <td>1</td>\n",
       "      <td>...</td>\n",
       "      <td>0.072095</td>\n",
       "      <td>7.209489</td>\n",
       "      <td>32.680721</td>\n",
       "      <td>45.621540</td>\n",
       "      <td>21.697739</td>\n",
       "      <td>Kupwara</td>\n",
       "      <td>1.968723</td>\n",
       "      <td>1.117632</td>\n",
       "      <td>0.0</td>\n",
       "      <td>28.954021</td>\n",
       "    </tr>\n",
       "    <tr>\n",
       "      <th>4</th>\n",
       "      <td>1</td>\n",
       "      <td>1</td>\n",
       "      <td>1</td>\n",
       "      <td>2004</td>\n",
       "      <td>0</td>\n",
       "      <td>0</td>\n",
       "      <td>0</td>\n",
       "      <td>0</td>\n",
       "      <td>0</td>\n",
       "      <td>1</td>\n",
       "      <td>...</td>\n",
       "      <td>0.052910</td>\n",
       "      <td>5.290961</td>\n",
       "      <td>31.404015</td>\n",
       "      <td>41.732754</td>\n",
       "      <td>26.863232</td>\n",
       "      <td>Kupwara</td>\n",
       "      <td>1.972254</td>\n",
       "      <td>1.140225</td>\n",
       "      <td>0.0</td>\n",
       "      <td>29.136803</td>\n",
       "    </tr>\n",
       "    <tr>\n",
       "      <th>...</th>\n",
       "      <td>...</td>\n",
       "      <td>...</td>\n",
       "      <td>...</td>\n",
       "      <td>...</td>\n",
       "      <td>...</td>\n",
       "      <td>...</td>\n",
       "      <td>...</td>\n",
       "      <td>...</td>\n",
       "      <td>...</td>\n",
       "      <td>...</td>\n",
       "      <td>...</td>\n",
       "      <td>...</td>\n",
       "      <td>...</td>\n",
       "      <td>...</td>\n",
       "      <td>...</td>\n",
       "      <td>...</td>\n",
       "      <td>...</td>\n",
       "      <td>...</td>\n",
       "      <td>...</td>\n",
       "      <td>...</td>\n",
       "      <td>...</td>\n",
       "    </tr>\n",
       "    <tr>\n",
       "      <th>125260</th>\n",
       "      <td>9</td>\n",
       "      <td>202</td>\n",
       "      <td>1012</td>\n",
       "      <td>2016</td>\n",
       "      <td>1</td>\n",
       "      <td>1</td>\n",
       "      <td>0</td>\n",
       "      <td>1</td>\n",
       "      <td>1</td>\n",
       "      <td>5965</td>\n",
       "      <td>...</td>\n",
       "      <td>0.954903</td>\n",
       "      <td>95.490319</td>\n",
       "      <td>3.570984</td>\n",
       "      <td>54.682835</td>\n",
       "      <td>41.631336</td>\n",
       "      <td>Patiyali</td>\n",
       "      <td>0.015884</td>\n",
       "      <td>0.000000</td>\n",
       "      <td>0.0</td>\n",
       "      <td>0.000000</td>\n",
       "    </tr>\n",
       "    <tr>\n",
       "      <th>125261</th>\n",
       "      <td>9</td>\n",
       "      <td>202</td>\n",
       "      <td>1012</td>\n",
       "      <td>2017</td>\n",
       "      <td>1</td>\n",
       "      <td>1</td>\n",
       "      <td>0</td>\n",
       "      <td>1</td>\n",
       "      <td>1</td>\n",
       "      <td>5965</td>\n",
       "      <td>...</td>\n",
       "      <td>0.956646</td>\n",
       "      <td>95.664638</td>\n",
       "      <td>6.060174</td>\n",
       "      <td>62.668755</td>\n",
       "      <td>31.177742</td>\n",
       "      <td>Patiyali</td>\n",
       "      <td>0.015884</td>\n",
       "      <td>0.000000</td>\n",
       "      <td>0.0</td>\n",
       "      <td>0.000000</td>\n",
       "    </tr>\n",
       "    <tr>\n",
       "      <th>125262</th>\n",
       "      <td>9</td>\n",
       "      <td>202</td>\n",
       "      <td>1012</td>\n",
       "      <td>2018</td>\n",
       "      <td>1</td>\n",
       "      <td>1</td>\n",
       "      <td>0</td>\n",
       "      <td>1</td>\n",
       "      <td>1</td>\n",
       "      <td>5965</td>\n",
       "      <td>...</td>\n",
       "      <td>0.953928</td>\n",
       "      <td>95.392793</td>\n",
       "      <td>5.095272</td>\n",
       "      <td>53.366138</td>\n",
       "      <td>41.401382</td>\n",
       "      <td>Patiyali</td>\n",
       "      <td>0.015884</td>\n",
       "      <td>0.000000</td>\n",
       "      <td>0.0</td>\n",
       "      <td>0.000000</td>\n",
       "    </tr>\n",
       "    <tr>\n",
       "      <th>125263</th>\n",
       "      <td>9</td>\n",
       "      <td>202</td>\n",
       "      <td>1012</td>\n",
       "      <td>2019</td>\n",
       "      <td>1</td>\n",
       "      <td>1</td>\n",
       "      <td>0</td>\n",
       "      <td>1</td>\n",
       "      <td>1</td>\n",
       "      <td>5965</td>\n",
       "      <td>...</td>\n",
       "      <td>0.961914</td>\n",
       "      <td>96.191359</td>\n",
       "      <td>4.311493</td>\n",
       "      <td>59.983742</td>\n",
       "      <td>35.600212</td>\n",
       "      <td>Patiyali</td>\n",
       "      <td>0.015884</td>\n",
       "      <td>0.000000</td>\n",
       "      <td>0.0</td>\n",
       "      <td>0.000000</td>\n",
       "    </tr>\n",
       "    <tr>\n",
       "      <th>125264</th>\n",
       "      <td>9</td>\n",
       "      <td>202</td>\n",
       "      <td>1012</td>\n",
       "      <td>2020</td>\n",
       "      <td>1</td>\n",
       "      <td>1</td>\n",
       "      <td>0</td>\n",
       "      <td>1</td>\n",
       "      <td>1</td>\n",
       "      <td>5965</td>\n",
       "      <td>...</td>\n",
       "      <td>0.961640</td>\n",
       "      <td>96.163976</td>\n",
       "      <td>8.594394</td>\n",
       "      <td>54.553619</td>\n",
       "      <td>36.757240</td>\n",
       "      <td>Patiyali</td>\n",
       "      <td>0.015884</td>\n",
       "      <td>0.000000</td>\n",
       "      <td>0.0</td>\n",
       "      <td>0.000000</td>\n",
       "    </tr>\n",
       "  </tbody>\n",
       "</table>\n",
       "<p>125265 rows × 24 columns</p>\n",
       "</div>"
      ],
      "text/plain": [
       "        pc11_s_id  pc11_d_id  pc11_sd_id  year  post_ror_data_entry_block_any  \\\n",
       "0               1          1           1  2000                              0   \n",
       "1               1          1           1  2001                              0   \n",
       "2               1          1           1  2002                              0   \n",
       "3               1          1           1  2003                              0   \n",
       "4               1          1           1  2004                              0   \n",
       "...           ...        ...         ...   ...                            ...   \n",
       "125260          9        202        1012  2016                              1   \n",
       "125261          9        202        1012  2017                              1   \n",
       "125262          9        202        1012  2018                              1   \n",
       "125263          9        202        1012  2019                              1   \n",
       "125264          9        202        1012  2020                              1   \n",
       "\n",
       "        post_ror_dist_softw_available_block_any  \\\n",
       "0                                             0   \n",
       "1                                             0   \n",
       "2                                             0   \n",
       "3                                             0   \n",
       "4                                             0   \n",
       "...                                         ...   \n",
       "125260                                        1   \n",
       "125261                                        1   \n",
       "125262                                        1   \n",
       "125263                                        1   \n",
       "125264                                        1   \n",
       "\n",
       "        post_ror_aadhaar_link_block_any  post_mutation_computerized_block_any  \\\n",
       "0                                     0                                     0   \n",
       "1                                     0                                     0   \n",
       "2                                     0                                     0   \n",
       "3                                     0                                     0   \n",
       "4                                     0                                     0   \n",
       "...                                 ...                                   ...   \n",
       "125260                                0                                     1   \n",
       "125261                                0                                     1   \n",
       "125262                                0                                     1   \n",
       "125263                                0                                     1   \n",
       "125264                                0                                     1   \n",
       "\n",
       "        post_digital_ror_issued_block_any  block_id  ...   frac_12  \\\n",
       "0                                       0         1  ...       NaN   \n",
       "1                                       0         1  ...  0.064216   \n",
       "2                                       0         1  ...  0.076860   \n",
       "3                                       0         1  ...  0.072095   \n",
       "4                                       0         1  ...  0.052910   \n",
       "...                                   ...       ...  ...       ...   \n",
       "125260                                  1      5965  ...  0.954903   \n",
       "125261                                  1      5965  ...  0.956646   \n",
       "125262                                  1      5965  ...  0.953928   \n",
       "125263                                  1      5965  ...  0.961914   \n",
       "125264                                  1      5965  ...  0.961640   \n",
       "\n",
       "        per_aggriculture  per_treecover per_greencover  per_built  sd_name_y  \\\n",
       "0                    NaN      31.286381      47.388935  21.324677    Kupwara   \n",
       "1               6.421551      33.507698      42.900303  23.592001    Kupwara   \n",
       "2               7.685976      28.036722      49.964584  21.998692    Kupwara   \n",
       "3               7.209489      32.680721      45.621540  21.697739    Kupwara   \n",
       "4               5.290961      31.404015      41.732754  26.863232    Kupwara   \n",
       "...                  ...            ...            ...        ...        ...   \n",
       "125260         95.490319       3.570984      54.682835  41.631336   Patiyali   \n",
       "125261         95.664638       6.060174      62.668755  31.177742   Patiyali   \n",
       "125262         95.392793       5.095272      53.366138  41.401382   Patiyali   \n",
       "125263         96.191359       4.311493      59.983742  35.600212   Patiyali   \n",
       "125264         96.163976       8.594394      54.553619  36.757240   Patiyali   \n",
       "\n",
       "        per_TREES-BD  per_TREES-BE  per_TREES-ND per_TREES-NE  \n",
       "0           1.964613      1.117632           0.0    29.015697  \n",
       "1           1.956872      1.117632           0.0    28.908140  \n",
       "2           1.969693      1.117632           0.0    28.930830  \n",
       "3           1.968723      1.117632           0.0    28.954021  \n",
       "4           1.972254      1.140225           0.0    29.136803  \n",
       "...              ...           ...           ...          ...  \n",
       "125260      0.015884      0.000000           0.0     0.000000  \n",
       "125261      0.015884      0.000000           0.0     0.000000  \n",
       "125262      0.015884      0.000000           0.0     0.000000  \n",
       "125263      0.015884      0.000000           0.0     0.000000  \n",
       "125264      0.015884      0.000000           0.0     0.000000  \n",
       "\n",
       "[125265 rows x 24 columns]"
      ]
     },
     "execution_count": 13,
     "metadata": {},
     "output_type": "execute_result"
    }
   ],
   "source": [
    "# We  merge both datasets with the requested columns\n",
    "df3 = pd.merge(df1, df2, on=['pc11_s_id', 'pc11_d_id', 'pc11_sd_id', 'year'])\n",
    "df3"
   ]
  },
  {
   "cell_type": "markdown",
   "metadata": {},
   "source": [
    "Exercise 4"
   ]
  },
  {
   "cell_type": "code",
   "execution_count": 14,
   "metadata": {},
   "outputs": [
    {
     "data": {
      "text/html": [
       "<div>\n",
       "<style scoped>\n",
       "    .dataframe tbody tr th:only-of-type {\n",
       "        vertical-align: middle;\n",
       "    }\n",
       "\n",
       "    .dataframe tbody tr th {\n",
       "        vertical-align: top;\n",
       "    }\n",
       "\n",
       "    .dataframe thead th {\n",
       "        text-align: right;\n",
       "    }\n",
       "</style>\n",
       "<table border=\"1\" class=\"dataframe\">\n",
       "  <thead>\n",
       "    <tr style=\"text-align: right;\">\n",
       "      <th></th>\n",
       "      <th>per_TREES-BD</th>\n",
       "      <th>per_TREES-BE</th>\n",
       "      <th>per_TREES-ND</th>\n",
       "      <th>per_TREES-NE</th>\n",
       "    </tr>\n",
       "  </thead>\n",
       "  <tbody>\n",
       "    <tr>\n",
       "      <th>count</th>\n",
       "      <td>125265.000000</td>\n",
       "      <td>125265.000000</td>\n",
       "      <td>125265.000000</td>\n",
       "      <td>125265.000000</td>\n",
       "    </tr>\n",
       "    <tr>\n",
       "      <th>mean</th>\n",
       "      <td>2.346108</td>\n",
       "      <td>4.268641</td>\n",
       "      <td>0.006143</td>\n",
       "      <td>1.974766</td>\n",
       "    </tr>\n",
       "    <tr>\n",
       "      <th>std</th>\n",
       "      <td>5.021063</td>\n",
       "      <td>13.565375</td>\n",
       "      <td>0.148299</td>\n",
       "      <td>6.656288</td>\n",
       "    </tr>\n",
       "    <tr>\n",
       "      <th>min</th>\n",
       "      <td>0.000000</td>\n",
       "      <td>0.000000</td>\n",
       "      <td>0.000000</td>\n",
       "      <td>0.000000</td>\n",
       "    </tr>\n",
       "    <tr>\n",
       "      <th>25%</th>\n",
       "      <td>0.005265</td>\n",
       "      <td>0.000000</td>\n",
       "      <td>0.000000</td>\n",
       "      <td>0.000000</td>\n",
       "    </tr>\n",
       "    <tr>\n",
       "      <th>50%</th>\n",
       "      <td>0.283303</td>\n",
       "      <td>0.000000</td>\n",
       "      <td>0.000000</td>\n",
       "      <td>0.000000</td>\n",
       "    </tr>\n",
       "    <tr>\n",
       "      <th>75%</th>\n",
       "      <td>2.236597</td>\n",
       "      <td>0.065836</td>\n",
       "      <td>0.000000</td>\n",
       "      <td>0.037414</td>\n",
       "    </tr>\n",
       "    <tr>\n",
       "      <th>max</th>\n",
       "      <td>48.696053</td>\n",
       "      <td>86.316345</td>\n",
       "      <td>10.135350</td>\n",
       "      <td>55.175827</td>\n",
       "    </tr>\n",
       "  </tbody>\n",
       "</table>\n",
       "</div>"
      ],
      "text/plain": [
       "        per_TREES-BD   per_TREES-BE   per_TREES-ND   per_TREES-NE\n",
       "count  125265.000000  125265.000000  125265.000000  125265.000000\n",
       "mean        2.346108       4.268641       0.006143       1.974766\n",
       "std         5.021063      13.565375       0.148299       6.656288\n",
       "min         0.000000       0.000000       0.000000       0.000000\n",
       "25%         0.005265       0.000000       0.000000       0.000000\n",
       "50%         0.283303       0.000000       0.000000       0.000000\n",
       "75%         2.236597       0.065836       0.000000       0.037414\n",
       "max        48.696053      86.316345      10.135350      55.175827"
      ]
     },
     "execution_count": 14,
     "metadata": {},
     "output_type": "execute_result"
    }
   ],
   "source": [
    "# We get the descriptives of the requested columns\n",
    "df3[['per_TREES-BD', 'per_TREES-BE', 'per_TREES-ND', 'per_TREES-NE']].describe()"
   ]
  },
  {
   "cell_type": "markdown",
   "metadata": {},
   "source": [
    "Exercise 5"
   ]
  },
  {
   "cell_type": "code",
   "execution_count": 15,
   "metadata": {},
   "outputs": [
    {
     "data": {
      "text/plain": [
       "<Axes: >"
      ]
     },
     "execution_count": 15,
     "metadata": {},
     "output_type": "execute_result"
    },
    {
     "data": {
      "image/png": "[encoded data removed]",
      "text/plain": [
       "<Figure size 640x480 with 1 Axes>"
      ]
     },
     "metadata": {},
     "output_type": "display_data"
    }
   ],
   "source": [
    "# First we create the new column with the sum of the requested variables\n",
    "df3['sum_tree'] = df3[['per_TREES-BD', 'per_TREES-BE', 'per_TREES-ND', 'per_TREES-NE']].sum(axis=1)\n",
    "\n",
    "# Now we plot the new column\n",
    "df3['sum_tree'].hist()"
   ]
  },
  {
   "cell_type": "markdown",
   "metadata": {},
   "source": [
    "Exercise 6"
   ]
  },
  {
   "cell_type": "code",
   "execution_count": 16,
   "metadata": {},
   "outputs": [],
   "source": [
    "# First we get the median\n",
    "median_sum_tree = df3['sum_tree'].median()\n",
    "\n",
    "# We generate two dataframes by filtering based on the median\n",
    "df_below_median = df3[df3['sum_tree'] <= median_sum_tree]\n",
    "df_above_median = df3[df3['sum_tree'] > median_sum_tree]"
   ]
  },
  {
   "cell_type": "code",
   "execution_count": 23,
   "metadata": {},
   "outputs": [
    {
     "data": {
      "text/plain": [
       "array([[<Axes: title={'center': 'per_TREES-BD'}>,\n",
       "        <Axes: title={'center': 'per_TREES-BE'}>],\n",
       "       [<Axes: title={'center': 'per_TREES-ND'}>,\n",
       "        <Axes: title={'center': 'per_TREES-NE'}>]], dtype=object)"
      ]
     },
     "execution_count": 23,
     "metadata": {},
     "output_type": "execute_result"
    },
    {
     "data": {
      "image/png": "[encoded data removed]",
      "text/plain": [
       "<Figure size 1000x400 with 4 Axes>"
      ]
     },
     "metadata": {},
     "output_type": "display_data"
    }
   ],
   "source": [
    "# Now we plot what is below the median\n",
    "df_below_median[['per_TREES-BD', 'per_TREES-BE', 'per_TREES-ND', 'per_TREES-NE']].hist(figsize=(10,4))"
   ]
  },
  {
   "cell_type": "code",
   "execution_count": 24,
   "metadata": {},
   "outputs": [
    {
     "data": {
      "text/plain": [
       "array([[<Axes: title={'center': 'per_TREES-BD'}>,\n",
       "        <Axes: title={'center': 'per_TREES-BE'}>],\n",
       "       [<Axes: title={'center': 'per_TREES-ND'}>,\n",
       "        <Axes: title={'center': 'per_TREES-NE'}>]], dtype=object)"
      ]
     },
     "execution_count": 24,
     "metadata": {},
     "output_type": "execute_result"
    },
    {
     "data": {
      "image/png": "[encoded data removed]",
      "text/plain": [
       "<Figure size 1000x400 with 4 Axes>"
      ]
     },
     "metadata": {},
     "output_type": "display_data"
    }
   ],
   "source": [
    "# Now we plot what is above the median\n",
    "df_above_median[['per_TREES-BD', 'per_TREES-BE', 'per_TREES-ND', 'per_TREES-NE']].hist(figsize=(10,4))"
   ]
  }
 ],
 "metadata": {
  "hide_input": false,
  "kernelspec": {
   "display_name": "Python 3 (ipykernel)",
   "language": "python",
   "name": "python3"
  },
  "language_info": {
   "codemirror_mode": {
    "name": "ipython",
    "version": 3
   },
   "file_extension": ".py",
   "mimetype": "text/x-python",
   "name": "python",
   "nbconvert_exporter": "python",
   "pygments_lexer": "ipython3",
   "version": "3.12.4"
  },
  "toc": {
   "base_numbering": 1,
   "nav_menu": {},
   "number_sections": true,
   "sideBar": true,
   "skip_h1_title": false,
   "title_cell": "Table of Contents",
   "title_sidebar": "Contents",
   "toc_cell": false,
   "toc_position": {},
   "toc_section_display": true,
   "toc_window_display": false
  }
 },
 "nbformat": 4,
 "nbformat_minor": 4
}
