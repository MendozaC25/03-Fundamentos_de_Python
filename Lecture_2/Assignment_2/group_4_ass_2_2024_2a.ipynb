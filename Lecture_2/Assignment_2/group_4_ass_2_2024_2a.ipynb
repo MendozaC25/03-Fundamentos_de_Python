{
 "cells": [
  {
   "cell_type": "markdown",
   "metadata": {},
   "source": [
    "# Group 4"
   ]
  },
  {
   "cell_type": "markdown",
   "metadata": {},
   "source": [
    "1. Andrea Pezo Nuñez (@aym138)\n",
    "2. Vania Aspilcueta Serey (@vania-as)\n",
    "3. Alejandra Navarro Veliz (@AlejandraNavarroV)\n",
    "4. Jesús Gamboa Unsihuay (@jeguns)"
   ]
  },
  {
   "cell_type": "markdown",
   "metadata": {},
   "source": [
    "# Assignment\n",
    "\n",
    "It is totally prohibited to use any kind of loop. You can use stackoverflow. If you copy codes from previous answers, explain each step. No explanation is `0 points`."
   ]
  },
  {
   "cell_type": "markdown",
   "metadata": {},
   "source": [
    "##  Tuple\n",
    "\n",
    "\n",
    "\n",
    "1. Print the first item of the second item of `tuple1` object. **Hint: Use indexing**<br><br>\n",
    "2. Print the last item of the `tuple1` object.**Hint: Use indexing**<br><br>\n",
    "3. Change the value \"orange\" for \"pink grapefruit\". Comment the output. **Hint: Is it possible?** <br><br>\n",
    "4. Print the length of `tuple1`. **Hint: Length function**<br><br>\n",
    "5. Sum all the elements of tuple2 and describe your steps and explain each of them. **Hint: Use `map` function.**<br><br>\n",
    "6. Generate a new tuple object named as `tuple3` with the half values of `tuple2`. This tuple should be similar as `tuple2`, tuple of lists.  **Hint: Use `map` funciont.**<br><br>"
   ]
  },
  {
   "cell_type": "code",
   "execution_count": 1,
   "metadata": {},
   "outputs": [],
   "source": [
    "# Define the initial tuples\n",
    "tuple1 = (\"Orange\", [10, 20, 30], (5, 15, 25))\n",
    "tuple2 = ([7, 8], [9, 1], [10, 7])"
   ]
  },
  {
   "cell_type": "markdown",
   "metadata": {},
   "source": [
    "**Answer to question 1**"
   ]
  },
  {
   "cell_type": "code",
   "execution_count": 2,
   "metadata": {},
   "outputs": [
    {
     "name": "stdout",
     "output_type": "stream",
     "text": [
      "The first item of the second element of tuple1: 10\n"
     ]
    }
   ],
   "source": [
    "# This is to print the first item of the second element of tuple1\n",
    "first_item_second_element = tuple1[1][0]\n",
    "print(f\"The first item of the second element of tuple1: {first_item_second_element}\")"
   ]
  },
  {
   "cell_type": "markdown",
   "metadata": {},
   "source": [
    "**Answer to question 2**"
   ]
  },
  {
   "cell_type": "code",
   "execution_count": 3,
   "metadata": {},
   "outputs": [
    {
     "name": "stdout",
     "output_type": "stream",
     "text": [
      "The last item of tuple1: (5, 15, 25)\n"
     ]
    }
   ],
   "source": [
    "# This is to go to the last item of tuple1\n",
    "last_item = tuple1[-1]\n",
    "print(f\"The last item of tuple1: {last_item}\")"
   ]
  },
  {
   "cell_type": "markdown",
   "metadata": {},
   "source": [
    "**Answer to question 3**"
   ]
  },
  {
   "cell_type": "code",
   "execution_count": 4,
   "metadata": {},
   "outputs": [
    {
     "name": "stdout",
     "output_type": "stream",
     "text": [
      "New tuple1 with 'pink grapefruit': ('pink grapefruit', [10, 20, 30], (5, 15, 25))\n"
     ]
    }
   ],
   "source": [
    "# It is not possible to change the value, because Tuples are immutable, so we have to create a new tuple with the modified value\n",
    "new_tuple1 = (\"pink grapefruit\", tuple1[1], tuple1[2])\n",
    "print(f\"New tuple1 with 'pink grapefruit': {new_tuple1}\")"
   ]
  },
  {
   "cell_type": "markdown",
   "metadata": {},
   "source": [
    "**Answer to question 4**"
   ]
  },
  {
   "cell_type": "code",
   "execution_count": 5,
   "metadata": {},
   "outputs": [
    {
     "name": "stdout",
     "output_type": "stream",
     "text": [
      "The length of tuple1: 3\n"
     ]
    }
   ],
   "source": [
    "# To get the lenght using the len function \n",
    "length_tuple1 = len(tuple1)\n",
    "print(f\"The length of tuple1: {length_tuple1}\")"
   ]
  },
  {
   "cell_type": "markdown",
   "metadata": {},
   "source": [
    "**Answer to question 5**"
   ]
  },
  {
   "cell_type": "code",
   "execution_count": 6,
   "metadata": {},
   "outputs": [
    {
     "name": "stdout",
     "output_type": "stream",
     "text": [
      "The sum of all elements in tuple2: 42\n"
     ]
    }
   ],
   "source": [
    "# Here we sum all elements of tuple2\n",
    "# First, we sum the elements of each inner list using the funtion map and lambda\n",
    "partial_sums = list(map(lambda x: sum(x), tuple2))\n",
    "# Second, we sum the partial sums to get the total \n",
    "total_sum = sum(partial_sums)\n",
    "print(f\"The sum of all elements in tuple2: {total_sum}\")"
   ]
  },
  {
   "cell_type": "markdown",
   "metadata": {},
   "source": [
    "**Answer to question 6**"
   ]
  },
  {
   "cell_type": "code",
   "execution_count": 7,
   "metadata": {},
   "outputs": [
    {
     "name": "stdout",
     "output_type": "stream",
     "text": [
      "New tuple3 with half the values of tuple2: ([3.5, 4.0], [4.5, 0.5], [5.0, 3.5])\n"
     ]
    }
   ],
   "source": [
    "# We create tuple 3 with half the values of tuple2, we use map and lamdba to avoid loops and make de code more redable\n",
    "tuple3 = tuple(map(lambda x: [i / 2 for i in x], tuple2))\n",
    "print(f\"New tuple3 with half the values of tuple2: {tuple3}\")"
   ]
  },
  {
   "cell_type": "markdown",
   "metadata": {},
   "source": [
    "##  Lists- Vania A\n",
    "1. Show the indices of the `np.nan` values  in the `f_list` list. We want to see this output: `The indices 0, 1, 4, 7 have np.nan values.` **Hint: Use print function and [f-strings](https://realpython.com/python-f-strings/) to insert the indices values.**<br><br>\n",
    "\n",
    "2. Replicate 4 times the values of the list `p2_list`. We expect an ouput like this: `[ 2 , 3, 4, 5, 2 , 3, 4, 5, 2 , 3, 4, 5, 2 , 3, 4, 5]`.  **Hint: Use multiplication function in `lists`and see the output.**<br><br>\n",
    "3. Print the length of `f_list`. **Hint: Length function**<br><br>\n",
    "4. Print `My teacher assistant is so boring.` using `text1` list. **Hint: Use the [`join` function](https://stackoverflow.com/questions/493819/why-is-it-string-joinlist-instead-of-list-joinstring)**<br><br>\n",
    "5. Print `My TA is so boring, but is very funny.` using `text1` list.**Hint: Use the `join` function, and `extend` method.**<br><br>\n",
    "6. Print <br>\n",
    "`The max value of values1 is 86 and is located in the 0 index. ` <br>\n",
    "`The min value of values1 is 0 and is located in the 7 index. ` <br> **Hint: Use the `f-string`, `min`, and `max` functions.**\n",
    "<br>\n",
    "7. Get two lists: `names` and `last_names` using `last_and_name` list. **Hint: Use `map` and `split`.**\n",
    "<br>\n",
    "8. Give only the last names of students who do not have email. Use the `emails` and `last_names` listt. **Hint: Use `map` and `split`.**\n",
    "<br>"
   ]
  },
  {
   "cell_type": "markdown",
   "metadata": {},
   "source": [
    "**Answer to question 1**"
   ]
  },
  {
   "cell_type": "code",
   "execution_count": 8,
   "metadata": {},
   "outputs": [
    {
     "name": "stdout",
     "output_type": "stream",
     "text": [
      "The indices 0, 1, 4, 7 have np.nan values.\n"
     ]
    }
   ],
   "source": [
    "#1.2.1 Show the indices to the np.nan values in the f_list\n",
    "\n",
    "### First step: Import \"numpy\" and \"pandas\" libraries\n",
    "#### numpy is used for \"nan\" which stands for \"NotANumber\" and allows for the use of multidimensional arrays (ndarray) and various related mathematical functions\n",
    "#### pandas is also a data library that allows working with structured (tabular) data and time series data\n",
    "import numpy as np\n",
    "import pandas as pd\n",
    "\n",
    "### Second step: Create the `f_list` object\n",
    "f_list = [np.nan, np.nan, \"Austria\", \"Germany\", np.nan, \"Pakistan\", \"np.nan\", np.nan]\n",
    "\n",
    "### Third step: Find the indices of the np.nan values\n",
    "nan_indices = [i for i, value in enumerate(f_list) if isinstance(value, float) and np.isnan(value)]\n",
    "\n",
    "### Fourth step: Print the indices using f-strings\n",
    "if nan_indices:\n",
    "    indices_str = \", \".join(map(str, nan_indices))\n",
    "    print(f\"The indices {indices_str} have np.nan values.\")\n",
    "else:\n",
    "    print(\"No np.nan values found in the list.\")\n"
   ]
  },
  {
   "cell_type": "markdown",
   "metadata": {},
   "source": [
    "**Answer to question 2**"
   ]
  },
  {
   "cell_type": "code",
   "execution_count": 9,
   "metadata": {},
   "outputs": [
    {
     "name": "stdout",
     "output_type": "stream",
     "text": [
      "[2, 3, 4, 5, 2, 3, 4, 5, 2, 3, 4, 5, 2, 3, 4, 5]\n"
     ]
    }
   ],
   "source": [
    "#1.2.2 Replicate 4 times the values of the list p2_list\n",
    "\n",
    "### First step: Create the `p2_list`\n",
    "p2_list=[2,3,4,5]\n",
    "\n",
    "### Second step: Use the multiplication function on the created list\n",
    "p2_list_4 = p2_list * 4\n",
    "\n",
    "### Third step: Print the result\n",
    "print (p2_list_4)"
   ]
  },
  {
   "cell_type": "markdown",
   "metadata": {},
   "source": [
    "**Answer to question 3**"
   ]
  },
  {
   "cell_type": "code",
   "execution_count": 10,
   "metadata": {},
   "outputs": [
    {
     "name": "stdout",
     "output_type": "stream",
     "text": [
      "The length of the f_list is: 8\n"
     ]
    }
   ],
   "source": [
    "#1.2.3 Print the length of f_list\n",
    "\n",
    "### First step: Get the length of the list\n",
    "l_f_list = len(f_list)\n",
    "\n",
    "### Second step: Print the length of the list using an f-string\n",
    "print(f\"The length of the f_list is: {l_f_list}\")  "
   ]
  },
  {
   "cell_type": "markdown",
   "metadata": {},
   "source": [
    "**Answer to question 4**"
   ]
  },
  {
   "cell_type": "code",
   "execution_count": 11,
   "metadata": {},
   "outputs": [
    {
     "name": "stdout",
     "output_type": "stream",
     "text": [
      "My teacher assistant is so boring\n"
     ]
    }
   ],
   "source": [
    "#1.2.4 Print My teacher assistant is so boring.\n",
    "\n",
    "### First step: Create a list of phrases\n",
    "text1 = [\"My\", \"teacher\", \"assistant\", \"is\", \"so\", \"boring\"]\n",
    "\n",
    "### Second step: Concatenate the words from the list into a string separated by spaces\n",
    "texto1 = ' '.join(text1)\n",
    "\n",
    "### Third step: Print the resulting string\n",
    "print(texto1)\n"
   ]
  },
  {
   "cell_type": "markdown",
   "metadata": {},
   "source": [
    "**Answer to question 5**"
   ]
  },
  {
   "cell_type": "code",
   "execution_count": 12,
   "metadata": {},
   "outputs": [
    {
     "name": "stdout",
     "output_type": "stream",
     "text": [
      "My teacher assistant is so boring ,but is very funny.\n"
     ]
    }
   ],
   "source": [
    "# 1.2.5 Print My TA is so boring, but is very funny\n",
    "\n",
    "### First step: Extend the list by adding more elements\n",
    "text1.extend([\",but\", \"is\", \"very\", \"funny.\"])\n",
    "\n",
    "### Second step: Join the elements of the list into a text\n",
    "text2 = ' '.join(text1)\n",
    "\n",
    "### Third step: Print the final text\n",
    "print(text2)"
   ]
  },
  {
   "cell_type": "markdown",
   "metadata": {},
   "source": [
    "**Answer to question 6**"
   ]
  },
  {
   "cell_type": "code",
   "execution_count": 13,
   "metadata": {},
   "outputs": [
    {
     "data": {
      "text/plain": [
       "'The min value of values1 is 0 and is located in the 7 index.'"
      ]
     },
     "execution_count": 13,
     "metadata": {},
     "output_type": "execute_result"
    }
   ],
   "source": [
    "#1.2.6 Print max and min values\n",
    "\n",
    "### First step: Create the `values1` list\n",
    "values1 = [ 86, 86, 85, 85, 85, 83, 23, 0, 84, 1 ] \n",
    "\n",
    "### Second step: Find the minimum/maximum values and their index\n",
    "##### Max\n",
    "max_val = max(values1)\n",
    "max_ind = values1.index(max_val)\n",
    "\n",
    "##### Min\n",
    "min_val = min(values1)\n",
    "min_ind = values1.index(min_val)\n",
    "\n",
    "### Third step: Print the results\n",
    "f\"The max value of values1 is {max_val} and is located in the {max_ind} index.\"\n",
    "f\"The min value of values1 is {min_val} and is located in the {min_ind} index.\""
   ]
  },
  {
   "cell_type": "markdown",
   "metadata": {},
   "source": [
    "**Answer to question 7**"
   ]
  },
  {
   "cell_type": "code",
   "execution_count": 14,
   "metadata": {},
   "outputs": [
    {
     "name": "stdout",
     "output_type": "stream",
     "text": [
      "Names: ('CORNEJO SANCHEZ', 'ORELLANA QUISPE', 'MORALES CHOQUEHUANCA', 'GUIMARAY RIBEYRO', 'CAMACHO GAVIDIA', 'TINTAYA ORIHUELA', 'CHAVEZ MARTINEZ', 'FIGUEROA MURO', 'GOMEZ CRIBILLERO', 'PALOMINO SEGUÍN', 'LUZON CUEVA', 'SUAÑA ZEGARRA', 'SOTO POMACHAGUA', 'FIORENTINO MARTINEZ', 'LAMA MAVILA', 'MEZA HINOJO', 'LOZADA MURILLO', 'ZAMBRANO JIMENEZ', 'JACOBS LUQUE', 'VIDAL VIDAL', 'TORRES ANICAMA', 'LOPEZ ESTRADA', 'BOYCO ORAMS', 'DIAZ BERROSPI', 'RIEGA ESCALANTE', 'LEVANO TORRES', 'ESQUIVES BRAVO', 'PEREZ GONZALES', 'OTERO MAGUIÑA', 'CLAVO CAMPOS', 'AGUILAR GARCIA', 'CALDAS VELASQUEZ', 'SALAS NUÑEZ BORJA', 'PIZARRO VILLANES', 'QUILLATUPA MORALES', 'HUANCAYA IDONE', 'CALVO PORTOCARRERO', 'IBAÑEZ ABANTO', 'MELÉNDEZ APONTE', 'CRISTIAN SERRANO', 'HINOJOSA CAHUANA', 'ANGLAS GARCÍA', 'ALDAVE ACOSTA', 'NÚÑEZ HUAMÁN', 'OBREGON HUAMAN', 'SOTO PACHERRES', 'INGARUCA RIVERA', 'ROJAS HUAMAN', 'NEYRA SALAS', 'HUERTA ESPINOZA', 'HUANCA MARTINEZ', 'FLORES CADILLO')\n",
      "Last Names: ('CHRISTIAN SANTOS', 'CRISTIAN NASSER', 'ANGELICA KARINA', 'JOSE ROBERTO', 'ABEL FERNANDO', 'MEIR ALVARO', 'JOSELIN ALEXANDRA', 'LEONEL ARTURO', 'JOSE FELIPE', 'AFRANIA', 'BIANCA MARIETTE', 'ADRIAN ANDRE', 'DORKAS YOMIRA JHERMY', 'LADY ALY', 'HECTOR ANDRE', 'GUSTAVO', 'PERSEO MARCELO', 'MIGUEL ALONZO', 'NICOLAS', 'ROCIO GABRIELA', 'JANE CAMILA', 'MARIA ELISA', 'ALEJANDRO', 'KARLINE ROSMELI', 'STEPHY ROSARIO', 'VALERIA CECILIA', 'SEBASTIAN RENATO', 'JUAN CARLOS', 'MARIANA', 'ANDREA BRIZETH', 'ERICK JOSUE', 'JOSUE DANIEL', 'FABIO MANUEL', 'FERNANDA NICOLLE', 'ANGELA ADELINA', 'CESAR DANTE', 'GABRIELA ISABEL', 'ANGEL MAURICIO', 'JUAN DIEGO', 'ARONE', 'PERCY ALBERTH', 'KEVIN ARTURO', 'CESAR ERNESTO', 'CÉSAR AGUSTO', 'DIANA EDITH', 'RODRIGO FRANCO', 'GRETTEL ALEXANDRA', 'ROSA ANGELA', 'DANTE OMAR', 'YAJAIRA ALEXANDRA', 'JORGE ALBERTO', 'ALEXIS')\n"
     ]
    }
   ],
   "source": [
    "#1.2.7 Get two lists: names and last_names\n",
    "\n",
    "### First step: Create the list of first names and last names\n",
    "last_and_names = [ \"CORNEJO SANCHEZ, CHRISTIAN SANTOS\", \"ORELLANA QUISPE, CRISTIAN NASSER\", \"MORALES CHOQUEHUANCA, ANGELICA KARINA\", \"GUIMARAY RIBEYRO, JOSE ROBERTO\", \"CAMACHO GAVIDIA, ABEL FERNANDO\", \"TINTAYA ORIHUELA, MEIR ALVARO\", \"CHAVEZ MARTINEZ, JOSELIN ALEXANDRA\", \"FIGUEROA MURO, LEONEL ARTURO\", \"GOMEZ CRIBILLERO, JOSE FELIPE\", \"PALOMINO SEGUÍN, AFRANIA\", \"LUZON CUEVA, BIANCA MARIETTE\", \"SUAÑA ZEGARRA, ADRIAN ANDRE\", \"SOTO POMACHAGUA, DORKAS YOMIRA JHERMY\", \"FIORENTINO MARTINEZ, LADY ALY\", \"LAMA MAVILA, HECTOR ANDRE\", \"MEZA HINOJO, GUSTAVO\", \"LOZADA MURILLO, PERSEO MARCELO\", \"ZAMBRANO JIMENEZ, MIGUEL ALONZO\", \"JACOBS LUQUE, NICOLAS\", \"VIDAL VIDAL, ROCIO GABRIELA\", \"TORRES ANICAMA, JANE CAMILA\", \"LOPEZ ESTRADA, MARIA ELISA\", \"BOYCO ORAMS, ALEJANDRO\", \"DIAZ BERROSPI, KARLINE ROSMELI\", \"RIEGA ESCALANTE, STEPHY ROSARIO\", \"LEVANO TORRES, VALERIA CECILIA\", \"ESQUIVES BRAVO, SEBASTIAN RENATO\", \"PEREZ GONZALES, JUAN CARLOS\", \"OTERO MAGUIÑA, MARIANA\", \"CLAVO CAMPOS, ANDREA BRIZETH\", \"AGUILAR GARCIA, ERICK JOSUE\", \"CALDAS VELASQUEZ, JOSUE DANIEL\", \"SALAS NUÑEZ BORJA, FABIO MANUEL\", \"PIZARRO VILLANES, FERNANDA NICOLLE\", \"QUILLATUPA MORALES, ANGELA ADELINA\", \"HUANCAYA IDONE, CESAR DANTE\", \"CALVO PORTOCARRERO, GABRIELA ISABEL\", \"IBAÑEZ ABANTO, ANGEL MAURICIO\", \"MELÉNDEZ APONTE, JUAN DIEGO\", \"CRISTIAN SERRANO, ARONE\", \"HINOJOSA CAHUANA, PERCY ALBERTH\", \"ANGLAS GARCÍA, KEVIN ARTURO\", \"ALDAVE ACOSTA, CESAR ERNESTO\", \"NÚÑEZ HUAMÁN, CÉSAR AGUSTO\", \"OBREGON HUAMAN, DIANA EDITH\", \"SOTO PACHERRES, RODRIGO FRANCO\", \"INGARUCA RIVERA, GRETTEL ALEXANDRA\", \"ROJAS HUAMAN, ROSA ANGELA\", \"NEYRA SALAS, DANTE OMAR\", \"HUERTA ESPINOZA, YAJAIRA ALEXANDRA\", \"HUANCA MARTINEZ, JORGE ALBERTO\", \"FLORES CADILLO, ALEXIS\" ]\n",
    "\n",
    "### Second step: Use a new list to split each element of the original list and use `zip` to transpose the resulting lists\n",
    "names, last_names = zip(*map(lambda s: s.rsplit(', ', 1), last_and_names))\n",
    "\n",
    "### Third step: Print the list of first names\n",
    "print(\"Names:\", names)\n",
    "\n",
    "### Fourth step: Print the lists of last names\n",
    "print(\"Last Names:\", last_names)"
   ]
  },
  {
   "cell_type": "markdown",
   "metadata": {},
   "source": [
    "**Answer to question 8**"
   ]
  },
  {
   "cell_type": "code",
   "execution_count": 15,
   "metadata": {},
   "outputs": [
    {
     "name": "stdout",
     "output_type": "stream",
     "text": [
      "Last names of students without an email: ['CESAR DANTE', 'GABRIELA ISABEL', 'ANGEL MAURICIO', 'JUAN DIEGO', 'ARONE', 'KEVIN ARTURO', 'CESAR ERNESTO', 'CÉSAR AGUSTO', 'DIANA EDITH', 'RODRIGO FRANCO', 'GRETTEL ALEXANDRA', 'ROSA ANGELA', 'DANTE OMAR', 'YAJAIRA ALEXANDRA', 'JORGE ALBERTO']\n"
     ]
    }
   ],
   "source": [
    "#1.2.8 Give only the last names of students who do not have email.\n",
    "\n",
    "### First step: Create the list of emails\n",
    "emails = [\"cscornejo@pucp.edu.pe\", \"orellana.cn@pucp.edu.pe\", \"karina.morales@pucp.edu.pe\", \"a20083223@pucp.pe\", \"abel.camacho@pucp.pe\", \"mtintaya@pucp.edu.pe\", \"joselin.chavez@pucp.edu.pe\", \"a20105737@pucp.pe\", \"jfgomezc@pucp.pe\", \"afrania.palomino@pucp.pe\", \"luzon.bianca@pucp.pe\", \"adrian.suanaz@pucp.pe\", \"soto.y@pucp.edu.pe\", \"a20132766@pucp.pe\", \"andre.lama@pucp.edu.pe\", \"gustavo.meza@pucp.edu.pe\", \"pmlozada@pucp.edu.pe\", \"m.zambranoj@pucp.edu.pe\", \"nicolas.jacobs@pucp.edu.pe\", \"gvidal@pucp.edu.pe\", \"jane.torres@pucp.edu.pe\", \"m.lopez@pucp.edu.pe\", \"alejandro.boyco@pucp.edu.pe\", \"a20167070@pucp.edu.pe\", \"riega.stephy@pucp.edu.pe\", \"vlevanot@pucp.edu.pe\", \"sesquives@pucp.edu.pe\", \"perez.juanc@pucp.edu.pe\", \"mariana.otero@pucp.edu.pe\", \"aclavo@pucp.edu.pe\", \"a20182474@pucp.edu.pe\", \"josue.caldas@pucp.edu.pe\", \"fabio.salas@pucp.edu.pe\", \"fernanda.pizarro@pucp.edu.pe\", \"aquillatupa@pucp.pe\", \"\", \"\", \"\", \"\", \"\", \"f0873079@pucp.edu.pe\", \"\", \"\", \"\", \"\", \"\", \"\", \"\", \"\", \"\", \"\", \"flores.alexis@pucp.edu.pe\", ]\n",
    "\n",
    "### Second step: Extract the last names of students who do not have an email using `map` and `split`\n",
    "no_email = [last_name for last_name, emails in zip(last_names, [emails.split('@')[0] for emails in emails]) if not emails]\n",
    "\n",
    "### Third step: Print the last names of students without an email\n",
    "print(\"Last names of students without an email:\", no_email)"
   ]
  },
  {
   "cell_type": "markdown",
   "metadata": {},
   "source": [
    "##  Strings\n",
    "\n",
    "\n",
    "1. Drop the duplicated blank spaces in `str1`. Do not use the regular expresions. Do not use the code shown in class. Explain your steps.**Hint: Use `split` method and `join` function.**\n",
    "\n",
    "2. Get the number of letters in the string .**Hint: Use `len`function.**\n",
    "\n",
    "3. Get the number of blank spaces (all of them) in the string .**Hint: Use `len`function.**\n",
    "\n",
    "4. Get the position of `@` in each string in the emails list. **Hint: Use `map`function and `find` method.**\n",
    "\n",
    "5. Identifies if exists `.edu.`  in each string in the `emails` list. Get a list of Booleans. **Hint: Use `map`function and `find` method.**\n",
    "\n",
    "6. Get all the strings before the first dot `.`in each string in the `emails` list. Identifies how many of them has `@`. **Hint: Use `map`function and `find` method.**"
   ]
  },
  {
   "cell_type": "code",
   "execution_count": 16,
   "metadata": {},
   "outputs": [],
   "source": [
    "str1 = 'I am                            too                                                        old'"
   ]
  },
  {
   "cell_type": "code",
   "execution_count": 17,
   "metadata": {},
   "outputs": [],
   "source": [
    "emails = [\"cscornejo@pucp.edu.pe\", \"orellana.cn@pucp.edu.pe\", \"karina.morales@pucp.edu.pe\", \"a20083223@pucp.pe\", \"abel.camacho@pucp.pe\", \"mtintaya@pucp.edu.pe\", \"joselin.chavez@pucp.edu.pe\", \"a20105737@pucp.pe\", \"jfgomezc@pucp.pe\", \"afrania.palomino@pucp.pe\", \"luzon.bianca@pucp.pe\", \"adrian.suanaz@pucp.pe\", \"soto.y@pucp.edu.pe\", \"a20132766@pucp.pe\", \"andre.lama@pucp.edu.pe\", \"gustavo.meza@pucp.edu.pe\", \"pmlozada@pucp.edu.pe\", \"m.zambranoj@pucp.edu.pe\", \"nicolas.jacobs@pucp.edu.pe\", \"gvidal@pucp.edu.pe\", \"jane.torres@pucp.edu.pe\", \"m.lopez@pucp.edu.pe\", \"alejandro.boyco@pucp.edu.pe\", \"a20167070@pucp.edu.pe\", \"riega.stephy@pucp.edu.pe\", \"vlevanot@pucp.edu.pe\", \"sesquives@pucp.edu.pe\", \"perez.juanc@pucp.edu.pe\", \"mariana.otero@pucp.edu.pe\", \"aclavo@pucp.edu.pe\", \"a20182474@pucp.edu.pe\", \"josue.caldas@pucp.edu.pe\", \"fabio.salas@pucp.edu.pe\", \"fernanda.pizarro@pucp.edu.pe\", \"aquillatupa@pucp.pe\"]"
   ]
  },
  {
   "cell_type": "markdown",
   "metadata": {},
   "source": [
    "**Answer to question 1**"
   ]
  },
  {
   "cell_type": "code",
   "execution_count": 18,
   "metadata": {},
   "outputs": [
    {
     "name": "stdout",
     "output_type": "stream",
     "text": [
      "['I', 'am', 'too', 'old']\n",
      "I am too old\n"
     ]
    }
   ],
   "source": [
    "### Question 1\n",
    "## First Step: Using the split method, I split the string into a list of words.\n",
    "new_str=str1.split()\n",
    "print(new_str)\n",
    "\n",
    "## Second step: I build a new string with the words adding a blank space \" \".\n",
    "str_2=' '.join(new_str)\n",
    "print(str_2)\n"
   ]
  },
  {
   "cell_type": "markdown",
   "metadata": {},
   "source": [
    "**Answer to question 2**"
   ]
  },
  {
   "cell_type": "code",
   "execution_count": 19,
   "metadata": {},
   "outputs": [
    {
     "name": "stdout",
     "output_type": "stream",
     "text": [
      "Iamtooold\n"
     ]
    },
    {
     "data": {
      "text/plain": [
       "9"
      ]
     },
     "execution_count": 19,
     "metadata": {},
     "output_type": "execute_result"
    }
   ],
   "source": [
    "## Question 2\n",
    "## First step: I create a new string with no blank spaces.\n",
    "str_3=''.join(new_str)\n",
    "print(str_3)\n",
    "##S econd step: I count the number of letters in the string.\n",
    "len(str_3)"
   ]
  },
  {
   "cell_type": "markdown",
   "metadata": {},
   "source": [
    "**Answer to question 3**"
   ]
  },
  {
   "cell_type": "code",
   "execution_count": 20,
   "metadata": {},
   "outputs": [
    {
     "data": {
      "text/plain": [
       "85"
      ]
     },
     "execution_count": 20,
     "metadata": {},
     "output_type": "execute_result"
    }
   ],
   "source": [
    "## Question 3\n",
    "## First and only step: I have already identified that the words included in the corrected sentence have 9 letters. I just need to subtract the string with \n",
    "## no blank spaces from the original one.\n",
    "len(str1)-len(str_3)"
   ]
  },
  {
   "cell_type": "markdown",
   "metadata": {},
   "source": [
    "**Answer to question 4**"
   ]
  },
  {
   "cell_type": "code",
   "execution_count": 21,
   "metadata": {},
   "outputs": [
    {
     "name": "stdout",
     "output_type": "stream",
     "text": [
      "[9, 11, 14, 9, 12, 8, 14, 9, 8, 16, 12, 13, 6, 9, 10, 12, 8, 11, 14, 6, 11, 7, 15, 9, 12, 8, 9, 11, 13, 6, 9, 12, 11, 16, 11]\n"
     ]
    }
   ],
   "source": [
    "## Question 4\n",
    "## First step: I did some research to answer this question. To begin, I create a function to find the position of @ in each string.\n",
    "def find_position(emails):\n",
    "    return emails.find('@')\n",
    "    \n",
    "## Second step:I use the \"find\" method to apply the function to each email considered in the list.\n",
    "position = list(map(find_position, emails))\n",
    "\n",
    "## Third step: I print the result.\n",
    "\n",
    "print(position)"
   ]
  },
  {
   "cell_type": "markdown",
   "metadata": {},
   "source": [
    "**Answer to question 5**"
   ]
  },
  {
   "cell_type": "code",
   "execution_count": 22,
   "metadata": {},
   "outputs": [
    {
     "name": "stdout",
     "output_type": "stream",
     "text": [
      "[True, True, True, False, False, True, True, False, False, False, False, False, True, False, True, True, True, True, True, True, True, True, True, True, True, True, True, True, True, True, True, True, True, True, False]\n"
     ]
    }
   ],
   "source": [
    "## Question 5\n",
    "## First step: Similar to the previous exercise, I create a function to find the position if \".edu.\" exists en each element of the string.\n",
    "def includes_edu(emails):\n",
    "    return emails.find('.edu') != -1 ##I use -1 to be able to look for \".edu.\" in eny substring of the sentence.\n",
    "\n",
    "## Second step: I use the map method to apply the function in each elements of the list.\n",
    "edu_present = list(map(includes_edu, emails))\n",
    "\n",
    "## Third step: I print the result.\n",
    "\n",
    "print(edu_present)"
   ]
  },
  {
   "cell_type": "markdown",
   "metadata": {},
   "source": [
    "**Answer to question 6**"
   ]
  },
  {
   "cell_type": "code",
   "execution_count": 23,
   "metadata": {},
   "outputs": [
    {
     "name": "stdout",
     "output_type": "stream",
     "text": [
      "Substrings before the first dot: ['cscornejo@pucp', 'orellana', 'karina', 'a20083223@pucp', 'abel', 'mtintaya@pucp', 'joselin', 'a20105737@pucp', 'jfgomezc@pucp', 'afrania', 'luzon', 'adrian', 'soto', 'a20132766@pucp', 'andre', 'gustavo', 'pmlozada@pucp', 'm', 'nicolas', 'gvidal@pucp', 'jane', 'm', 'alejandro', 'a20167070@pucp', 'riega', 'vlevanot@pucp', 'sesquives@pucp', 'perez', 'mariana', 'aclavo@pucp', 'a20182474@pucp', 'josue', 'fabio', 'fernanda', 'aquillatupa@pucp']\n",
      "Presence of '@' in substrings: [True, False, False, True, False, True, False, True, True, False, False, False, False, True, False, False, True, False, False, True, False, False, False, True, False, True, True, False, False, True, True, False, False, False, True]\n",
      "Number of substrings containing '@': 14\n"
     ]
    }
   ],
   "source": [
    "## Question 6\n",
    "## First step: I create a function to extract the substring of my interest. I did some search too.\n",
    "def before_fd(emails):\n",
    "    dot_index = emails.find('.')\n",
    "    if dot_index != -1:\n",
    "        return emails[:dot_index]\n",
    "    return emails\n",
    "    \n",
    "## Second step: I use the map method to apply the function in each elements of the list.\n",
    "substrings = list(map(before_fd, emails))\n",
    "\n",
    "## Third step: I check if '@' is in the substring.\n",
    "def contains_ar(substrings):\n",
    "    return '@' in substrings\n",
    "    \n",
    "## Fourth step: I use the map method to apply the function in each elements of the list for \"@\".\n",
    "ar_presence = list(map(contains_ar, substrings))\n",
    "\n",
    "## Fifth step: I count how many substrings contain '@'.\n",
    "count_ar = sum(ar_presence)\n",
    "\n",
    "## Sixth step: I print the results.\n",
    "print(\"Substrings before the first dot:\", substrings)\n",
    "print(\"Presence of '@' in substrings:\", ar_presence)\n",
    "print(\"Number of substrings containing '@':\", count_ar)\n",
    "\n"
   ]
  },
  {
   "cell_type": "markdown",
   "metadata": {},
   "source": [
    "##  Pandas"
   ]
  },
  {
   "cell_type": "markdown",
   "metadata": {},
   "source": [
    "1. Import this dataset new_up_data_sysdif_block_lvl_ver2.csv located in the `_data` folder.\n",
    "2. Import this dataset ESA_CLIMATE_CHANGE_tree_layers.csv located in the `_data` folder.\n",
    "3. Merge both datasets using the key variables `pc11_s_id`,\t`pc11_d_id,`\t`pc11_sd_id`, `year`. \n",
    "4. Generate a descriptive statistics for `per_TREES-BD`, `per_TREES-BE`, `per_TREES-ND`, `per_TREES-NE`.\n",
    "5. Sum these 4 columns and name the new column as `sum_tree` and get a histogram.\n",
    "6. Generate the histogram of these 4 columns `per_TREES-BD`, `per_TREES-BE`, `per_TREES-ND`, `per_TREES-NE` for the above and below median dataset filtered by the sum_tree variable.\n",
    "\n",
    "Do not forget to use relative paths."
   ]
  },
  {
   "cell_type": "markdown",
   "metadata": {},
   "source": [
    "**Answer to question 1**"
   ]
  },
  {
   "cell_type": "code",
   "execution_count": 24,
   "metadata": {},
   "outputs": [
    {
     "data": {
      "text/html": [
       "<div>\n",
       "<style scoped>\n",
       "    .dataframe tbody tr th:only-of-type {\n",
       "        vertical-align: middle;\n",
       "    }\n",
       "\n",
       "    .dataframe tbody tr th {\n",
       "        vertical-align: top;\n",
       "    }\n",
       "\n",
       "    .dataframe thead th {\n",
       "        text-align: right;\n",
       "    }\n",
       "</style>\n",
       "<table border=\"1\" class=\"dataframe\">\n",
       "  <thead>\n",
       "    <tr style=\"text-align: right;\">\n",
       "      <th></th>\n",
       "      <th>pc11_s_id</th>\n",
       "      <th>pc11_d_id</th>\n",
       "      <th>pc11_sd_id</th>\n",
       "      <th>year</th>\n",
       "      <th>post_ror_data_entry_block_any</th>\n",
       "      <th>post_ror_dist_softw_available_block_any</th>\n",
       "      <th>post_ror_aadhaar_link_block_any</th>\n",
       "      <th>post_mutation_computerized_block_any</th>\n",
       "      <th>post_digital_ror_issued_block_any</th>\n",
       "      <th>block_id</th>\n",
       "      <th>mean_night</th>\n",
       "      <th>count_night</th>\n",
       "      <th>sum_night</th>\n",
       "      <th>sd_name</th>\n",
       "      <th>frac_12</th>\n",
       "      <th>per_aggriculture</th>\n",
       "      <th>per_treecover</th>\n",
       "      <th>per_greencover</th>\n",
       "      <th>per_built</th>\n",
       "    </tr>\n",
       "  </thead>\n",
       "  <tbody>\n",
       "    <tr>\n",
       "      <th>0</th>\n",
       "      <td>1</td>\n",
       "      <td>1</td>\n",
       "      <td>1</td>\n",
       "      <td>2000</td>\n",
       "      <td>0</td>\n",
       "      <td>0</td>\n",
       "      <td>0</td>\n",
       "      <td>0</td>\n",
       "      <td>0</td>\n",
       "      <td>1</td>\n",
       "      <td>0.002703</td>\n",
       "      <td>8192</td>\n",
       "      <td>22.144901</td>\n",
       "      <td>Kupwara</td>\n",
       "      <td>NaN</td>\n",
       "      <td>NaN</td>\n",
       "      <td>31.286381</td>\n",
       "      <td>47.388935</td>\n",
       "      <td>21.324677</td>\n",
       "    </tr>\n",
       "    <tr>\n",
       "      <th>1</th>\n",
       "      <td>1</td>\n",
       "      <td>1</td>\n",
       "      <td>1</td>\n",
       "      <td>2001</td>\n",
       "      <td>0</td>\n",
       "      <td>0</td>\n",
       "      <td>0</td>\n",
       "      <td>0</td>\n",
       "      <td>0</td>\n",
       "      <td>1</td>\n",
       "      <td>0.002703</td>\n",
       "      <td>8192</td>\n",
       "      <td>22.144901</td>\n",
       "      <td>Kupwara</td>\n",
       "      <td>0.064216</td>\n",
       "      <td>6.421551</td>\n",
       "      <td>33.507698</td>\n",
       "      <td>42.900303</td>\n",
       "      <td>23.592001</td>\n",
       "    </tr>\n",
       "    <tr>\n",
       "      <th>2</th>\n",
       "      <td>1</td>\n",
       "      <td>1</td>\n",
       "      <td>1</td>\n",
       "      <td>2002</td>\n",
       "      <td>0</td>\n",
       "      <td>0</td>\n",
       "      <td>0</td>\n",
       "      <td>0</td>\n",
       "      <td>0</td>\n",
       "      <td>1</td>\n",
       "      <td>0.002703</td>\n",
       "      <td>8192</td>\n",
       "      <td>22.144901</td>\n",
       "      <td>Kupwara</td>\n",
       "      <td>0.076860</td>\n",
       "      <td>7.685976</td>\n",
       "      <td>28.036722</td>\n",
       "      <td>49.964584</td>\n",
       "      <td>21.998692</td>\n",
       "    </tr>\n",
       "    <tr>\n",
       "      <th>3</th>\n",
       "      <td>1</td>\n",
       "      <td>1</td>\n",
       "      <td>1</td>\n",
       "      <td>2003</td>\n",
       "      <td>0</td>\n",
       "      <td>0</td>\n",
       "      <td>0</td>\n",
       "      <td>0</td>\n",
       "      <td>0</td>\n",
       "      <td>1</td>\n",
       "      <td>0.002703</td>\n",
       "      <td>8192</td>\n",
       "      <td>22.144901</td>\n",
       "      <td>Kupwara</td>\n",
       "      <td>0.072095</td>\n",
       "      <td>7.209489</td>\n",
       "      <td>32.680721</td>\n",
       "      <td>45.621540</td>\n",
       "      <td>21.697739</td>\n",
       "    </tr>\n",
       "    <tr>\n",
       "      <th>4</th>\n",
       "      <td>1</td>\n",
       "      <td>1</td>\n",
       "      <td>1</td>\n",
       "      <td>2004</td>\n",
       "      <td>0</td>\n",
       "      <td>0</td>\n",
       "      <td>0</td>\n",
       "      <td>0</td>\n",
       "      <td>0</td>\n",
       "      <td>1</td>\n",
       "      <td>0.003113</td>\n",
       "      <td>8192</td>\n",
       "      <td>25.503809</td>\n",
       "      <td>Kupwara</td>\n",
       "      <td>0.052910</td>\n",
       "      <td>5.290961</td>\n",
       "      <td>31.404015</td>\n",
       "      <td>41.732754</td>\n",
       "      <td>26.863232</td>\n",
       "    </tr>\n",
       "    <tr>\n",
       "      <th>...</th>\n",
       "      <td>...</td>\n",
       "      <td>...</td>\n",
       "      <td>...</td>\n",
       "      <td>...</td>\n",
       "      <td>...</td>\n",
       "      <td>...</td>\n",
       "      <td>...</td>\n",
       "      <td>...</td>\n",
       "      <td>...</td>\n",
       "      <td>...</td>\n",
       "      <td>...</td>\n",
       "      <td>...</td>\n",
       "      <td>...</td>\n",
       "      <td>...</td>\n",
       "      <td>...</td>\n",
       "      <td>...</td>\n",
       "      <td>...</td>\n",
       "      <td>...</td>\n",
       "      <td>...</td>\n",
       "    </tr>\n",
       "    <tr>\n",
       "      <th>131537</th>\n",
       "      <td>9</td>\n",
       "      <td>202</td>\n",
       "      <td>1012</td>\n",
       "      <td>2018</td>\n",
       "      <td>1</td>\n",
       "      <td>1</td>\n",
       "      <td>0</td>\n",
       "      <td>1</td>\n",
       "      <td>1</td>\n",
       "      <td>5965</td>\n",
       "      <td>0.267226</td>\n",
       "      <td>4315</td>\n",
       "      <td>1153.080078</td>\n",
       "      <td>Patiyali</td>\n",
       "      <td>0.953928</td>\n",
       "      <td>95.392793</td>\n",
       "      <td>5.095272</td>\n",
       "      <td>53.366138</td>\n",
       "      <td>41.401382</td>\n",
       "    </tr>\n",
       "    <tr>\n",
       "      <th>131538</th>\n",
       "      <td>9</td>\n",
       "      <td>202</td>\n",
       "      <td>1012</td>\n",
       "      <td>2019</td>\n",
       "      <td>1</td>\n",
       "      <td>1</td>\n",
       "      <td>0</td>\n",
       "      <td>1</td>\n",
       "      <td>1</td>\n",
       "      <td>5965</td>\n",
       "      <td>0.212258</td>\n",
       "      <td>4303</td>\n",
       "      <td>913.344971</td>\n",
       "      <td>Patiyali</td>\n",
       "      <td>0.961914</td>\n",
       "      <td>96.191359</td>\n",
       "      <td>4.311493</td>\n",
       "      <td>59.983742</td>\n",
       "      <td>35.600212</td>\n",
       "    </tr>\n",
       "    <tr>\n",
       "      <th>131539</th>\n",
       "      <td>9</td>\n",
       "      <td>202</td>\n",
       "      <td>1012</td>\n",
       "      <td>2020</td>\n",
       "      <td>1</td>\n",
       "      <td>1</td>\n",
       "      <td>0</td>\n",
       "      <td>1</td>\n",
       "      <td>1</td>\n",
       "      <td>5965</td>\n",
       "      <td>0.196405</td>\n",
       "      <td>4303</td>\n",
       "      <td>845.130005</td>\n",
       "      <td>Patiyali</td>\n",
       "      <td>0.961640</td>\n",
       "      <td>96.163976</td>\n",
       "      <td>8.594394</td>\n",
       "      <td>54.553619</td>\n",
       "      <td>36.757240</td>\n",
       "    </tr>\n",
       "    <tr>\n",
       "      <th>131540</th>\n",
       "      <td>9</td>\n",
       "      <td>202</td>\n",
       "      <td>1012</td>\n",
       "      <td>2021</td>\n",
       "      <td>1</td>\n",
       "      <td>1</td>\n",
       "      <td>0</td>\n",
       "      <td>1</td>\n",
       "      <td>1</td>\n",
       "      <td>5965</td>\n",
       "      <td>0.204011</td>\n",
       "      <td>4303</td>\n",
       "      <td>877.859985</td>\n",
       "      <td>Patiyali</td>\n",
       "      <td>0.964120</td>\n",
       "      <td>96.411973</td>\n",
       "      <td>5.193740</td>\n",
       "      <td>57.827095</td>\n",
       "      <td>36.744907</td>\n",
       "    </tr>\n",
       "    <tr>\n",
       "      <th>131541</th>\n",
       "      <td>9</td>\n",
       "      <td>202</td>\n",
       "      <td>1012</td>\n",
       "      <td>2022</td>\n",
       "      <td>1</td>\n",
       "      <td>1</td>\n",
       "      <td>0</td>\n",
       "      <td>1</td>\n",
       "      <td>1</td>\n",
       "      <td>5965</td>\n",
       "      <td>0.216364</td>\n",
       "      <td>4303</td>\n",
       "      <td>931.015015</td>\n",
       "      <td>Patiyali</td>\n",
       "      <td>0.970185</td>\n",
       "      <td>97.018504</td>\n",
       "      <td>7.170661</td>\n",
       "      <td>60.158665</td>\n",
       "      <td>32.470570</td>\n",
       "    </tr>\n",
       "  </tbody>\n",
       "</table>\n",
       "<p>131542 rows × 19 columns</p>\n",
       "</div>"
      ],
      "text/plain": [
       "        pc11_s_id  pc11_d_id  pc11_sd_id  year  post_ror_data_entry_block_any  \\\n",
       "0               1          1           1  2000                              0   \n",
       "1               1          1           1  2001                              0   \n",
       "2               1          1           1  2002                              0   \n",
       "3               1          1           1  2003                              0   \n",
       "4               1          1           1  2004                              0   \n",
       "...           ...        ...         ...   ...                            ...   \n",
       "131537          9        202        1012  2018                              1   \n",
       "131538          9        202        1012  2019                              1   \n",
       "131539          9        202        1012  2020                              1   \n",
       "131540          9        202        1012  2021                              1   \n",
       "131541          9        202        1012  2022                              1   \n",
       "\n",
       "        post_ror_dist_softw_available_block_any  \\\n",
       "0                                             0   \n",
       "1                                             0   \n",
       "2                                             0   \n",
       "3                                             0   \n",
       "4                                             0   \n",
       "...                                         ...   \n",
       "131537                                        1   \n",
       "131538                                        1   \n",
       "131539                                        1   \n",
       "131540                                        1   \n",
       "131541                                        1   \n",
       "\n",
       "        post_ror_aadhaar_link_block_any  post_mutation_computerized_block_any  \\\n",
       "0                                     0                                     0   \n",
       "1                                     0                                     0   \n",
       "2                                     0                                     0   \n",
       "3                                     0                                     0   \n",
       "4                                     0                                     0   \n",
       "...                                 ...                                   ...   \n",
       "131537                                0                                     1   \n",
       "131538                                0                                     1   \n",
       "131539                                0                                     1   \n",
       "131540                                0                                     1   \n",
       "131541                                0                                     1   \n",
       "\n",
       "        post_digital_ror_issued_block_any  block_id  mean_night  count_night  \\\n",
       "0                                       0         1    0.002703         8192   \n",
       "1                                       0         1    0.002703         8192   \n",
       "2                                       0         1    0.002703         8192   \n",
       "3                                       0         1    0.002703         8192   \n",
       "4                                       0         1    0.003113         8192   \n",
       "...                                   ...       ...         ...          ...   \n",
       "131537                                  1      5965    0.267226         4315   \n",
       "131538                                  1      5965    0.212258         4303   \n",
       "131539                                  1      5965    0.196405         4303   \n",
       "131540                                  1      5965    0.204011         4303   \n",
       "131541                                  1      5965    0.216364         4303   \n",
       "\n",
       "          sum_night   sd_name   frac_12  per_aggriculture  per_treecover  \\\n",
       "0         22.144901   Kupwara       NaN               NaN      31.286381   \n",
       "1         22.144901   Kupwara  0.064216          6.421551      33.507698   \n",
       "2         22.144901   Kupwara  0.076860          7.685976      28.036722   \n",
       "3         22.144901   Kupwara  0.072095          7.209489      32.680721   \n",
       "4         25.503809   Kupwara  0.052910          5.290961      31.404015   \n",
       "...             ...       ...       ...               ...            ...   \n",
       "131537  1153.080078  Patiyali  0.953928         95.392793       5.095272   \n",
       "131538   913.344971  Patiyali  0.961914         96.191359       4.311493   \n",
       "131539   845.130005  Patiyali  0.961640         96.163976       8.594394   \n",
       "131540   877.859985  Patiyali  0.964120         96.411973       5.193740   \n",
       "131541   931.015015  Patiyali  0.970185         97.018504       7.170661   \n",
       "\n",
       "        per_greencover  per_built  \n",
       "0            47.388935  21.324677  \n",
       "1            42.900303  23.592001  \n",
       "2            49.964584  21.998692  \n",
       "3            45.621540  21.697739  \n",
       "4            41.732754  26.863232  \n",
       "...                ...        ...  \n",
       "131537       53.366138  41.401382  \n",
       "131538       59.983742  35.600212  \n",
       "131539       54.553619  36.757240  \n",
       "131540       57.827095  36.744907  \n",
       "131541       60.158665  32.470570  \n",
       "\n",
       "[131542 rows x 19 columns]"
      ]
     },
     "execution_count": 24,
     "metadata": {},
     "output_type": "execute_result"
    }
   ],
   "source": [
    "# First step: I import the pandas library and assigns it the alias pd.\n",
    "import pandas as pd\n",
    "\n",
    "# Second step: I read the new_up_data_sysdif_block_lvl_ver2.csv file located at the specified relative path, using read_csv function from pandas,\n",
    "# and stores it in a DataFrame named df1.\n",
    "df1 = pd.read_csv( r\"../../_data/new_up_data_sysdif_block_lvl_ver2.csv\" )\n",
    "df1"
   ]
  },
  {
   "cell_type": "markdown",
   "metadata": {},
   "source": [
    "**Answer to question 2**"
   ]
  },
  {
   "cell_type": "code",
   "execution_count": 25,
   "metadata": {},
   "outputs": [
    {
     "data": {
      "text/html": [
       "<div>\n",
       "<style scoped>\n",
       "    .dataframe tbody tr th:only-of-type {\n",
       "        vertical-align: middle;\n",
       "    }\n",
       "\n",
       "    .dataframe tbody tr th {\n",
       "        vertical-align: top;\n",
       "    }\n",
       "\n",
       "    .dataframe thead th {\n",
       "        text-align: right;\n",
       "    }\n",
       "</style>\n",
       "<table border=\"1\" class=\"dataframe\">\n",
       "  <thead>\n",
       "    <tr style=\"text-align: right;\">\n",
       "      <th></th>\n",
       "      <th>pc11_s_id</th>\n",
       "      <th>pc11_d_id</th>\n",
       "      <th>pc11_sd_id</th>\n",
       "      <th>sd_name</th>\n",
       "      <th>per_TREES-BD</th>\n",
       "      <th>year</th>\n",
       "      <th>per_TREES-BE</th>\n",
       "      <th>per_TREES-ND</th>\n",
       "      <th>per_TREES-NE</th>\n",
       "    </tr>\n",
       "  </thead>\n",
       "  <tbody>\n",
       "    <tr>\n",
       "      <th>0</th>\n",
       "      <td>24</td>\n",
       "      <td>468</td>\n",
       "      <td>0</td>\n",
       "      <td>Rann Of Kachchh</td>\n",
       "      <td>0.020038</td>\n",
       "      <td>2006</td>\n",
       "      <td>0.000000</td>\n",
       "      <td>0.035410</td>\n",
       "      <td>0.003214</td>\n",
       "    </tr>\n",
       "    <tr>\n",
       "      <th>1</th>\n",
       "      <td>24</td>\n",
       "      <td>468</td>\n",
       "      <td>3722</td>\n",
       "      <td>Lakhpat</td>\n",
       "      <td>1.768032</td>\n",
       "      <td>2006</td>\n",
       "      <td>0.000000</td>\n",
       "      <td>0.186592</td>\n",
       "      <td>0.002453</td>\n",
       "    </tr>\n",
       "    <tr>\n",
       "      <th>2</th>\n",
       "      <td>24</td>\n",
       "      <td>468</td>\n",
       "      <td>3723</td>\n",
       "      <td>Rapar</td>\n",
       "      <td>0.001384</td>\n",
       "      <td>2006</td>\n",
       "      <td>0.000000</td>\n",
       "      <td>0.000000</td>\n",
       "      <td>0.000000</td>\n",
       "    </tr>\n",
       "    <tr>\n",
       "      <th>3</th>\n",
       "      <td>24</td>\n",
       "      <td>468</td>\n",
       "      <td>3724</td>\n",
       "      <td>Bhachau</td>\n",
       "      <td>0.005311</td>\n",
       "      <td>2006</td>\n",
       "      <td>0.000000</td>\n",
       "      <td>0.013269</td>\n",
       "      <td>0.000000</td>\n",
       "    </tr>\n",
       "    <tr>\n",
       "      <th>4</th>\n",
       "      <td>24</td>\n",
       "      <td>468</td>\n",
       "      <td>3725</td>\n",
       "      <td>Anjar</td>\n",
       "      <td>0.010257</td>\n",
       "      <td>2006</td>\n",
       "      <td>0.000000</td>\n",
       "      <td>0.018871</td>\n",
       "      <td>0.000000</td>\n",
       "    </tr>\n",
       "    <tr>\n",
       "      <th>...</th>\n",
       "      <td>...</td>\n",
       "      <td>...</td>\n",
       "      <td>...</td>\n",
       "      <td>...</td>\n",
       "      <td>...</td>\n",
       "      <td>...</td>\n",
       "      <td>...</td>\n",
       "      <td>...</td>\n",
       "      <td>...</td>\n",
       "    </tr>\n",
       "    <tr>\n",
       "      <th>125344</th>\n",
       "      <td>35</td>\n",
       "      <td>639</td>\n",
       "      <td>5921</td>\n",
       "      <td>Rangat</td>\n",
       "      <td>1.323027</td>\n",
       "      <td>2003</td>\n",
       "      <td>79.195435</td>\n",
       "      <td>0.000000</td>\n",
       "      <td>0.197154</td>\n",
       "    </tr>\n",
       "    <tr>\n",
       "      <th>125345</th>\n",
       "      <td>35</td>\n",
       "      <td>640</td>\n",
       "      <td>5923</td>\n",
       "      <td>Port Blair</td>\n",
       "      <td>0.000000</td>\n",
       "      <td>2003</td>\n",
       "      <td>68.636780</td>\n",
       "      <td>0.000000</td>\n",
       "      <td>0.321329</td>\n",
       "    </tr>\n",
       "    <tr>\n",
       "      <th>125346</th>\n",
       "      <td>35</td>\n",
       "      <td>640</td>\n",
       "      <td>5924</td>\n",
       "      <td>Little Andaman</td>\n",
       "      <td>3.892228</td>\n",
       "      <td>2003</td>\n",
       "      <td>78.234627</td>\n",
       "      <td>0.000000</td>\n",
       "      <td>0.000000</td>\n",
       "    </tr>\n",
       "    <tr>\n",
       "      <th>125347</th>\n",
       "      <td>35</td>\n",
       "      <td>640</td>\n",
       "      <td>5922</td>\n",
       "      <td>Ferrargunj</td>\n",
       "      <td>0.187679</td>\n",
       "      <td>2003</td>\n",
       "      <td>82.064636</td>\n",
       "      <td>0.000000</td>\n",
       "      <td>0.362423</td>\n",
       "    </tr>\n",
       "    <tr>\n",
       "      <th>125348</th>\n",
       "      <td>1</td>\n",
       "      <td>0</td>\n",
       "      <td>0</td>\n",
       "      <td>NaN</td>\n",
       "      <td>0.134543</td>\n",
       "      <td>2003</td>\n",
       "      <td>0.032157</td>\n",
       "      <td>0.000140</td>\n",
       "      <td>0.978852</td>\n",
       "    </tr>\n",
       "  </tbody>\n",
       "</table>\n",
       "<p>125349 rows × 9 columns</p>\n",
       "</div>"
      ],
      "text/plain": [
       "        pc11_s_id  pc11_d_id  pc11_sd_id          sd_name  per_TREES-BD  year  \\\n",
       "0              24        468           0  Rann Of Kachchh      0.020038  2006   \n",
       "1              24        468        3722          Lakhpat      1.768032  2006   \n",
       "2              24        468        3723            Rapar      0.001384  2006   \n",
       "3              24        468        3724          Bhachau      0.005311  2006   \n",
       "4              24        468        3725            Anjar      0.010257  2006   \n",
       "...           ...        ...         ...              ...           ...   ...   \n",
       "125344         35        639        5921           Rangat      1.323027  2003   \n",
       "125345         35        640        5923       Port Blair      0.000000  2003   \n",
       "125346         35        640        5924   Little Andaman      3.892228  2003   \n",
       "125347         35        640        5922       Ferrargunj      0.187679  2003   \n",
       "125348          1          0           0              NaN      0.134543  2003   \n",
       "\n",
       "        per_TREES-BE  per_TREES-ND  per_TREES-NE  \n",
       "0           0.000000      0.035410      0.003214  \n",
       "1           0.000000      0.186592      0.002453  \n",
       "2           0.000000      0.000000      0.000000  \n",
       "3           0.000000      0.013269      0.000000  \n",
       "4           0.000000      0.018871      0.000000  \n",
       "...              ...           ...           ...  \n",
       "125344     79.195435      0.000000      0.197154  \n",
       "125345     68.636780      0.000000      0.321329  \n",
       "125346     78.234627      0.000000      0.000000  \n",
       "125347     82.064636      0.000000      0.362423  \n",
       "125348      0.032157      0.000140      0.978852  \n",
       "\n",
       "[125349 rows x 9 columns]"
      ]
     },
     "execution_count": 25,
     "metadata": {},
     "output_type": "execute_result"
    }
   ],
   "source": [
    "# First and only step: I read the ESA_CLIMATE_CHANGE_tree_layers.csv file located at the specified relative path, using read_csv function from pandas,\n",
    "# and stores it in a DataFrame named df2.\n",
    "df2 = pd.read_csv( r\"../../_data/ESA_CLIMATE_CHANGE_tree_layers.csv\" )\n",
    "df2"
   ]
  },
  {
   "cell_type": "markdown",
   "metadata": {},
   "source": [
    "**Answer to question 3**"
   ]
  },
  {
   "cell_type": "code",
   "execution_count": 26,
   "metadata": {},
   "outputs": [
    {
     "data": {
      "text/html": [
       "<div>\n",
       "<style scoped>\n",
       "    .dataframe tbody tr th:only-of-type {\n",
       "        vertical-align: middle;\n",
       "    }\n",
       "\n",
       "    .dataframe tbody tr th {\n",
       "        vertical-align: top;\n",
       "    }\n",
       "\n",
       "    .dataframe thead th {\n",
       "        text-align: right;\n",
       "    }\n",
       "</style>\n",
       "<table border=\"1\" class=\"dataframe\">\n",
       "  <thead>\n",
       "    <tr style=\"text-align: right;\">\n",
       "      <th></th>\n",
       "      <th>pc11_s_id</th>\n",
       "      <th>pc11_d_id</th>\n",
       "      <th>pc11_sd_id</th>\n",
       "      <th>year</th>\n",
       "      <th>post_ror_data_entry_block_any</th>\n",
       "      <th>post_ror_dist_softw_available_block_any</th>\n",
       "      <th>post_ror_aadhaar_link_block_any</th>\n",
       "      <th>post_mutation_computerized_block_any</th>\n",
       "      <th>post_digital_ror_issued_block_any</th>\n",
       "      <th>block_id</th>\n",
       "      <th>...</th>\n",
       "      <th>frac_12</th>\n",
       "      <th>per_aggriculture</th>\n",
       "      <th>per_treecover</th>\n",
       "      <th>per_greencover</th>\n",
       "      <th>per_built</th>\n",
       "      <th>sd_name_y</th>\n",
       "      <th>per_TREES-BD</th>\n",
       "      <th>per_TREES-BE</th>\n",
       "      <th>per_TREES-ND</th>\n",
       "      <th>per_TREES-NE</th>\n",
       "    </tr>\n",
       "  </thead>\n",
       "  <tbody>\n",
       "    <tr>\n",
       "      <th>0</th>\n",
       "      <td>1</td>\n",
       "      <td>1</td>\n",
       "      <td>1</td>\n",
       "      <td>2000</td>\n",
       "      <td>0</td>\n",
       "      <td>0</td>\n",
       "      <td>0</td>\n",
       "      <td>0</td>\n",
       "      <td>0</td>\n",
       "      <td>1</td>\n",
       "      <td>...</td>\n",
       "      <td>NaN</td>\n",
       "      <td>NaN</td>\n",
       "      <td>31.286381</td>\n",
       "      <td>47.388935</td>\n",
       "      <td>21.324677</td>\n",
       "      <td>Kupwara</td>\n",
       "      <td>1.964613</td>\n",
       "      <td>1.117632</td>\n",
       "      <td>0.0</td>\n",
       "      <td>29.015697</td>\n",
       "    </tr>\n",
       "    <tr>\n",
       "      <th>1</th>\n",
       "      <td>1</td>\n",
       "      <td>1</td>\n",
       "      <td>1</td>\n",
       "      <td>2001</td>\n",
       "      <td>0</td>\n",
       "      <td>0</td>\n",
       "      <td>0</td>\n",
       "      <td>0</td>\n",
       "      <td>0</td>\n",
       "      <td>1</td>\n",
       "      <td>...</td>\n",
       "      <td>0.064216</td>\n",
       "      <td>6.421551</td>\n",
       "      <td>33.507698</td>\n",
       "      <td>42.900303</td>\n",
       "      <td>23.592001</td>\n",
       "      <td>Kupwara</td>\n",
       "      <td>1.956872</td>\n",
       "      <td>1.117632</td>\n",
       "      <td>0.0</td>\n",
       "      <td>28.908140</td>\n",
       "    </tr>\n",
       "    <tr>\n",
       "      <th>2</th>\n",
       "      <td>1</td>\n",
       "      <td>1</td>\n",
       "      <td>1</td>\n",
       "      <td>2002</td>\n",
       "      <td>0</td>\n",
       "      <td>0</td>\n",
       "      <td>0</td>\n",
       "      <td>0</td>\n",
       "      <td>0</td>\n",
       "      <td>1</td>\n",
       "      <td>...</td>\n",
       "      <td>0.076860</td>\n",
       "      <td>7.685976</td>\n",
       "      <td>28.036722</td>\n",
       "      <td>49.964584</td>\n",
       "      <td>21.998692</td>\n",
       "      <td>Kupwara</td>\n",
       "      <td>1.969693</td>\n",
       "      <td>1.117632</td>\n",
       "      <td>0.0</td>\n",
       "      <td>28.930830</td>\n",
       "    </tr>\n",
       "    <tr>\n",
       "      <th>3</th>\n",
       "      <td>1</td>\n",
       "      <td>1</td>\n",
       "      <td>1</td>\n",
       "      <td>2003</td>\n",
       "      <td>0</td>\n",
       "      <td>0</td>\n",
       "      <td>0</td>\n",
       "      <td>0</td>\n",
       "      <td>0</td>\n",
       "      <td>1</td>\n",
       "      <td>...</td>\n",
       "      <td>0.072095</td>\n",
       "      <td>7.209489</td>\n",
       "      <td>32.680721</td>\n",
       "      <td>45.621540</td>\n",
       "      <td>21.697739</td>\n",
       "      <td>Kupwara</td>\n",
       "      <td>1.968723</td>\n",
       "      <td>1.117632</td>\n",
       "      <td>0.0</td>\n",
       "      <td>28.954021</td>\n",
       "    </tr>\n",
       "    <tr>\n",
       "      <th>4</th>\n",
       "      <td>1</td>\n",
       "      <td>1</td>\n",
       "      <td>1</td>\n",
       "      <td>2004</td>\n",
       "      <td>0</td>\n",
       "      <td>0</td>\n",
       "      <td>0</td>\n",
       "      <td>0</td>\n",
       "      <td>0</td>\n",
       "      <td>1</td>\n",
       "      <td>...</td>\n",
       "      <td>0.052910</td>\n",
       "      <td>5.290961</td>\n",
       "      <td>31.404015</td>\n",
       "      <td>41.732754</td>\n",
       "      <td>26.863232</td>\n",
       "      <td>Kupwara</td>\n",
       "      <td>1.972254</td>\n",
       "      <td>1.140225</td>\n",
       "      <td>0.0</td>\n",
       "      <td>29.136803</td>\n",
       "    </tr>\n",
       "    <tr>\n",
       "      <th>...</th>\n",
       "      <td>...</td>\n",
       "      <td>...</td>\n",
       "      <td>...</td>\n",
       "      <td>...</td>\n",
       "      <td>...</td>\n",
       "      <td>...</td>\n",
       "      <td>...</td>\n",
       "      <td>...</td>\n",
       "      <td>...</td>\n",
       "      <td>...</td>\n",
       "      <td>...</td>\n",
       "      <td>...</td>\n",
       "      <td>...</td>\n",
       "      <td>...</td>\n",
       "      <td>...</td>\n",
       "      <td>...</td>\n",
       "      <td>...</td>\n",
       "      <td>...</td>\n",
       "      <td>...</td>\n",
       "      <td>...</td>\n",
       "      <td>...</td>\n",
       "    </tr>\n",
       "    <tr>\n",
       "      <th>125260</th>\n",
       "      <td>9</td>\n",
       "      <td>202</td>\n",
       "      <td>1012</td>\n",
       "      <td>2016</td>\n",
       "      <td>1</td>\n",
       "      <td>1</td>\n",
       "      <td>0</td>\n",
       "      <td>1</td>\n",
       "      <td>1</td>\n",
       "      <td>5965</td>\n",
       "      <td>...</td>\n",
       "      <td>0.954903</td>\n",
       "      <td>95.490319</td>\n",
       "      <td>3.570984</td>\n",
       "      <td>54.682835</td>\n",
       "      <td>41.631336</td>\n",
       "      <td>Patiyali</td>\n",
       "      <td>0.015884</td>\n",
       "      <td>0.000000</td>\n",
       "      <td>0.0</td>\n",
       "      <td>0.000000</td>\n",
       "    </tr>\n",
       "    <tr>\n",
       "      <th>125261</th>\n",
       "      <td>9</td>\n",
       "      <td>202</td>\n",
       "      <td>1012</td>\n",
       "      <td>2017</td>\n",
       "      <td>1</td>\n",
       "      <td>1</td>\n",
       "      <td>0</td>\n",
       "      <td>1</td>\n",
       "      <td>1</td>\n",
       "      <td>5965</td>\n",
       "      <td>...</td>\n",
       "      <td>0.956646</td>\n",
       "      <td>95.664638</td>\n",
       "      <td>6.060174</td>\n",
       "      <td>62.668755</td>\n",
       "      <td>31.177742</td>\n",
       "      <td>Patiyali</td>\n",
       "      <td>0.015884</td>\n",
       "      <td>0.000000</td>\n",
       "      <td>0.0</td>\n",
       "      <td>0.000000</td>\n",
       "    </tr>\n",
       "    <tr>\n",
       "      <th>125262</th>\n",
       "      <td>9</td>\n",
       "      <td>202</td>\n",
       "      <td>1012</td>\n",
       "      <td>2018</td>\n",
       "      <td>1</td>\n",
       "      <td>1</td>\n",
       "      <td>0</td>\n",
       "      <td>1</td>\n",
       "      <td>1</td>\n",
       "      <td>5965</td>\n",
       "      <td>...</td>\n",
       "      <td>0.953928</td>\n",
       "      <td>95.392793</td>\n",
       "      <td>5.095272</td>\n",
       "      <td>53.366138</td>\n",
       "      <td>41.401382</td>\n",
       "      <td>Patiyali</td>\n",
       "      <td>0.015884</td>\n",
       "      <td>0.000000</td>\n",
       "      <td>0.0</td>\n",
       "      <td>0.000000</td>\n",
       "    </tr>\n",
       "    <tr>\n",
       "      <th>125263</th>\n",
       "      <td>9</td>\n",
       "      <td>202</td>\n",
       "      <td>1012</td>\n",
       "      <td>2019</td>\n",
       "      <td>1</td>\n",
       "      <td>1</td>\n",
       "      <td>0</td>\n",
       "      <td>1</td>\n",
       "      <td>1</td>\n",
       "      <td>5965</td>\n",
       "      <td>...</td>\n",
       "      <td>0.961914</td>\n",
       "      <td>96.191359</td>\n",
       "      <td>4.311493</td>\n",
       "      <td>59.983742</td>\n",
       "      <td>35.600212</td>\n",
       "      <td>Patiyali</td>\n",
       "      <td>0.015884</td>\n",
       "      <td>0.000000</td>\n",
       "      <td>0.0</td>\n",
       "      <td>0.000000</td>\n",
       "    </tr>\n",
       "    <tr>\n",
       "      <th>125264</th>\n",
       "      <td>9</td>\n",
       "      <td>202</td>\n",
       "      <td>1012</td>\n",
       "      <td>2020</td>\n",
       "      <td>1</td>\n",
       "      <td>1</td>\n",
       "      <td>0</td>\n",
       "      <td>1</td>\n",
       "      <td>1</td>\n",
       "      <td>5965</td>\n",
       "      <td>...</td>\n",
       "      <td>0.961640</td>\n",
       "      <td>96.163976</td>\n",
       "      <td>8.594394</td>\n",
       "      <td>54.553619</td>\n",
       "      <td>36.757240</td>\n",
       "      <td>Patiyali</td>\n",
       "      <td>0.015884</td>\n",
       "      <td>0.000000</td>\n",
       "      <td>0.0</td>\n",
       "      <td>0.000000</td>\n",
       "    </tr>\n",
       "  </tbody>\n",
       "</table>\n",
       "<p>125265 rows × 24 columns</p>\n",
       "</div>"
      ],
      "text/plain": [
       "        pc11_s_id  pc11_d_id  pc11_sd_id  year  post_ror_data_entry_block_any  \\\n",
       "0               1          1           1  2000                              0   \n",
       "1               1          1           1  2001                              0   \n",
       "2               1          1           1  2002                              0   \n",
       "3               1          1           1  2003                              0   \n",
       "4               1          1           1  2004                              0   \n",
       "...           ...        ...         ...   ...                            ...   \n",
       "125260          9        202        1012  2016                              1   \n",
       "125261          9        202        1012  2017                              1   \n",
       "125262          9        202        1012  2018                              1   \n",
       "125263          9        202        1012  2019                              1   \n",
       "125264          9        202        1012  2020                              1   \n",
       "\n",
       "        post_ror_dist_softw_available_block_any  \\\n",
       "0                                             0   \n",
       "1                                             0   \n",
       "2                                             0   \n",
       "3                                             0   \n",
       "4                                             0   \n",
       "...                                         ...   \n",
       "125260                                        1   \n",
       "125261                                        1   \n",
       "125262                                        1   \n",
       "125263                                        1   \n",
       "125264                                        1   \n",
       "\n",
       "        post_ror_aadhaar_link_block_any  post_mutation_computerized_block_any  \\\n",
       "0                                     0                                     0   \n",
       "1                                     0                                     0   \n",
       "2                                     0                                     0   \n",
       "3                                     0                                     0   \n",
       "4                                     0                                     0   \n",
       "...                                 ...                                   ...   \n",
       "125260                                0                                     1   \n",
       "125261                                0                                     1   \n",
       "125262                                0                                     1   \n",
       "125263                                0                                     1   \n",
       "125264                                0                                     1   \n",
       "\n",
       "        post_digital_ror_issued_block_any  block_id  ...   frac_12  \\\n",
       "0                                       0         1  ...       NaN   \n",
       "1                                       0         1  ...  0.064216   \n",
       "2                                       0         1  ...  0.076860   \n",
       "3                                       0         1  ...  0.072095   \n",
       "4                                       0         1  ...  0.052910   \n",
       "...                                   ...       ...  ...       ...   \n",
       "125260                                  1      5965  ...  0.954903   \n",
       "125261                                  1      5965  ...  0.956646   \n",
       "125262                                  1      5965  ...  0.953928   \n",
       "125263                                  1      5965  ...  0.961914   \n",
       "125264                                  1      5965  ...  0.961640   \n",
       "\n",
       "        per_aggriculture  per_treecover per_greencover  per_built  sd_name_y  \\\n",
       "0                    NaN      31.286381      47.388935  21.324677    Kupwara   \n",
       "1               6.421551      33.507698      42.900303  23.592001    Kupwara   \n",
       "2               7.685976      28.036722      49.964584  21.998692    Kupwara   \n",
       "3               7.209489      32.680721      45.621540  21.697739    Kupwara   \n",
       "4               5.290961      31.404015      41.732754  26.863232    Kupwara   \n",
       "...                  ...            ...            ...        ...        ...   \n",
       "125260         95.490319       3.570984      54.682835  41.631336   Patiyali   \n",
       "125261         95.664638       6.060174      62.668755  31.177742   Patiyali   \n",
       "125262         95.392793       5.095272      53.366138  41.401382   Patiyali   \n",
       "125263         96.191359       4.311493      59.983742  35.600212   Patiyali   \n",
       "125264         96.163976       8.594394      54.553619  36.757240   Patiyali   \n",
       "\n",
       "        per_TREES-BD  per_TREES-BE  per_TREES-ND per_TREES-NE  \n",
       "0           1.964613      1.117632           0.0    29.015697  \n",
       "1           1.956872      1.117632           0.0    28.908140  \n",
       "2           1.969693      1.117632           0.0    28.930830  \n",
       "3           1.968723      1.117632           0.0    28.954021  \n",
       "4           1.972254      1.140225           0.0    29.136803  \n",
       "...              ...           ...           ...          ...  \n",
       "125260      0.015884      0.000000           0.0     0.000000  \n",
       "125261      0.015884      0.000000           0.0     0.000000  \n",
       "125262      0.015884      0.000000           0.0     0.000000  \n",
       "125263      0.015884      0.000000           0.0     0.000000  \n",
       "125264      0.015884      0.000000           0.0     0.000000  \n",
       "\n",
       "[125265 rows x 24 columns]"
      ]
     },
     "execution_count": 26,
     "metadata": {},
     "output_type": "execute_result"
    }
   ],
   "source": [
    "# First and only step: I use the function merge from pandas to combine two data frames (df1 and df2)\n",
    "# The 'on' argument specifies the column names (keys) to join on, which are ['pc11_s_id', 'pc11_d_id', 'pc11_sd_id', 'year'] in this case.\n",
    "# The result of the merge is stored in a new DataFrame called merged_df.\n",
    "merged_df = pd.merge(df1, df2, on=['pc11_s_id', 'pc11_d_id', 'pc11_sd_id', 'year'])\n",
    "merged_df"
   ]
  },
  {
   "cell_type": "markdown",
   "metadata": {},
   "source": [
    "**Answer to question 4**"
   ]
  },
  {
   "cell_type": "code",
   "execution_count": 27,
   "metadata": {},
   "outputs": [
    {
     "data": {
      "text/html": [
       "<div>\n",
       "<style scoped>\n",
       "    .dataframe tbody tr th:only-of-type {\n",
       "        vertical-align: middle;\n",
       "    }\n",
       "\n",
       "    .dataframe tbody tr th {\n",
       "        vertical-align: top;\n",
       "    }\n",
       "\n",
       "    .dataframe thead th {\n",
       "        text-align: right;\n",
       "    }\n",
       "</style>\n",
       "<table border=\"1\" class=\"dataframe\">\n",
       "  <thead>\n",
       "    <tr style=\"text-align: right;\">\n",
       "      <th></th>\n",
       "      <th>per_TREES-BD</th>\n",
       "      <th>per_TREES-BE</th>\n",
       "      <th>per_TREES-ND</th>\n",
       "      <th>per_TREES-NE</th>\n",
       "    </tr>\n",
       "  </thead>\n",
       "  <tbody>\n",
       "    <tr>\n",
       "      <th>count</th>\n",
       "      <td>125265.000000</td>\n",
       "      <td>125265.000000</td>\n",
       "      <td>125265.000000</td>\n",
       "      <td>125265.000000</td>\n",
       "    </tr>\n",
       "    <tr>\n",
       "      <th>mean</th>\n",
       "      <td>2.346108</td>\n",
       "      <td>4.268641</td>\n",
       "      <td>0.006143</td>\n",
       "      <td>1.974766</td>\n",
       "    </tr>\n",
       "    <tr>\n",
       "      <th>std</th>\n",
       "      <td>5.021063</td>\n",
       "      <td>13.565375</td>\n",
       "      <td>0.148299</td>\n",
       "      <td>6.656288</td>\n",
       "    </tr>\n",
       "    <tr>\n",
       "      <th>min</th>\n",
       "      <td>0.000000</td>\n",
       "      <td>0.000000</td>\n",
       "      <td>0.000000</td>\n",
       "      <td>0.000000</td>\n",
       "    </tr>\n",
       "    <tr>\n",
       "      <th>25%</th>\n",
       "      <td>0.005265</td>\n",
       "      <td>0.000000</td>\n",
       "      <td>0.000000</td>\n",
       "      <td>0.000000</td>\n",
       "    </tr>\n",
       "    <tr>\n",
       "      <th>50%</th>\n",
       "      <td>0.283303</td>\n",
       "      <td>0.000000</td>\n",
       "      <td>0.000000</td>\n",
       "      <td>0.000000</td>\n",
       "    </tr>\n",
       "    <tr>\n",
       "      <th>75%</th>\n",
       "      <td>2.236597</td>\n",
       "      <td>0.065836</td>\n",
       "      <td>0.000000</td>\n",
       "      <td>0.037414</td>\n",
       "    </tr>\n",
       "    <tr>\n",
       "      <th>max</th>\n",
       "      <td>48.696053</td>\n",
       "      <td>86.316345</td>\n",
       "      <td>10.135350</td>\n",
       "      <td>55.175827</td>\n",
       "    </tr>\n",
       "  </tbody>\n",
       "</table>\n",
       "</div>"
      ],
      "text/plain": [
       "        per_TREES-BD   per_TREES-BE   per_TREES-ND   per_TREES-NE\n",
       "count  125265.000000  125265.000000  125265.000000  125265.000000\n",
       "mean        2.346108       4.268641       0.006143       1.974766\n",
       "std         5.021063      13.565375       0.148299       6.656288\n",
       "min         0.000000       0.000000       0.000000       0.000000\n",
       "25%         0.005265       0.000000       0.000000       0.000000\n",
       "50%         0.283303       0.000000       0.000000       0.000000\n",
       "75%         2.236597       0.065836       0.000000       0.037414\n",
       "max        48.696053      86.316345      10.135350      55.175827"
      ]
     },
     "execution_count": 27,
     "metadata": {},
     "output_type": "execute_result"
    }
   ],
   "source": [
    "# First step: I select the columns per_TREES-BD, per_TREES-BE, per_TREES-ND and per_TREES-NE\n",
    "df_select = merged_df[['per_TREES-BD', 'per_TREES-BE', 'per_TREES-ND', 'per_TREES-NE']]\n",
    "\n",
    "# Second step: I use the describe() method to generate summary statistics for these columns\n",
    "df_select.describe()"
   ]
  },
  {
   "cell_type": "markdown",
   "metadata": {},
   "source": [
    "- per_TREES-BE has the highest mean and the greatest variability (in terms of standard deviation)\n",
    "- All variables have a minimum value of zero\n",
    "- Only per_TREES-BD has the first and second quartiles different from zero\n",
    "- The variable per_TREES-ND has the smallest range, having the lowest maximum value (10) compared to the other variables."
   ]
  },
  {
   "cell_type": "markdown",
   "metadata": {},
   "source": [
    "**Answer to question 5**"
   ]
  },
  {
   "cell_type": "code",
   "execution_count": 28,
   "metadata": {},
   "outputs": [
    {
     "data": {
      "text/html": [
       "<div>\n",
       "<style scoped>\n",
       "    .dataframe tbody tr th:only-of-type {\n",
       "        vertical-align: middle;\n",
       "    }\n",
       "\n",
       "    .dataframe tbody tr th {\n",
       "        vertical-align: top;\n",
       "    }\n",
       "\n",
       "    .dataframe thead th {\n",
       "        text-align: right;\n",
       "    }\n",
       "</style>\n",
       "<table border=\"1\" class=\"dataframe\">\n",
       "  <thead>\n",
       "    <tr style=\"text-align: right;\">\n",
       "      <th></th>\n",
       "      <th>per_TREES-BD</th>\n",
       "      <th>per_TREES-BE</th>\n",
       "      <th>per_TREES-ND</th>\n",
       "      <th>per_TREES-NE</th>\n",
       "      <th>sum_tree</th>\n",
       "    </tr>\n",
       "  </thead>\n",
       "  <tbody>\n",
       "    <tr>\n",
       "      <th>0</th>\n",
       "      <td>1.964613</td>\n",
       "      <td>1.117632</td>\n",
       "      <td>0.0</td>\n",
       "      <td>29.015697</td>\n",
       "      <td>32.097942</td>\n",
       "    </tr>\n",
       "    <tr>\n",
       "      <th>1</th>\n",
       "      <td>1.956872</td>\n",
       "      <td>1.117632</td>\n",
       "      <td>0.0</td>\n",
       "      <td>28.908140</td>\n",
       "      <td>31.982644</td>\n",
       "    </tr>\n",
       "    <tr>\n",
       "      <th>2</th>\n",
       "      <td>1.969693</td>\n",
       "      <td>1.117632</td>\n",
       "      <td>0.0</td>\n",
       "      <td>28.930830</td>\n",
       "      <td>32.018155</td>\n",
       "    </tr>\n",
       "    <tr>\n",
       "      <th>3</th>\n",
       "      <td>1.968723</td>\n",
       "      <td>1.117632</td>\n",
       "      <td>0.0</td>\n",
       "      <td>28.954021</td>\n",
       "      <td>32.040376</td>\n",
       "    </tr>\n",
       "    <tr>\n",
       "      <th>4</th>\n",
       "      <td>1.972254</td>\n",
       "      <td>1.140225</td>\n",
       "      <td>0.0</td>\n",
       "      <td>29.136803</td>\n",
       "      <td>32.249282</td>\n",
       "    </tr>\n",
       "    <tr>\n",
       "      <th>...</th>\n",
       "      <td>...</td>\n",
       "      <td>...</td>\n",
       "      <td>...</td>\n",
       "      <td>...</td>\n",
       "      <td>...</td>\n",
       "    </tr>\n",
       "    <tr>\n",
       "      <th>125260</th>\n",
       "      <td>0.015884</td>\n",
       "      <td>0.000000</td>\n",
       "      <td>0.0</td>\n",
       "      <td>0.000000</td>\n",
       "      <td>0.015884</td>\n",
       "    </tr>\n",
       "    <tr>\n",
       "      <th>125261</th>\n",
       "      <td>0.015884</td>\n",
       "      <td>0.000000</td>\n",
       "      <td>0.0</td>\n",
       "      <td>0.000000</td>\n",
       "      <td>0.015884</td>\n",
       "    </tr>\n",
       "    <tr>\n",
       "      <th>125262</th>\n",
       "      <td>0.015884</td>\n",
       "      <td>0.000000</td>\n",
       "      <td>0.0</td>\n",
       "      <td>0.000000</td>\n",
       "      <td>0.015884</td>\n",
       "    </tr>\n",
       "    <tr>\n",
       "      <th>125263</th>\n",
       "      <td>0.015884</td>\n",
       "      <td>0.000000</td>\n",
       "      <td>0.0</td>\n",
       "      <td>0.000000</td>\n",
       "      <td>0.015884</td>\n",
       "    </tr>\n",
       "    <tr>\n",
       "      <th>125264</th>\n",
       "      <td>0.015884</td>\n",
       "      <td>0.000000</td>\n",
       "      <td>0.0</td>\n",
       "      <td>0.000000</td>\n",
       "      <td>0.015884</td>\n",
       "    </tr>\n",
       "  </tbody>\n",
       "</table>\n",
       "<p>125265 rows × 5 columns</p>\n",
       "</div>"
      ],
      "text/plain": [
       "        per_TREES-BD  per_TREES-BE  per_TREES-ND  per_TREES-NE   sum_tree\n",
       "0           1.964613      1.117632           0.0     29.015697  32.097942\n",
       "1           1.956872      1.117632           0.0     28.908140  31.982644\n",
       "2           1.969693      1.117632           0.0     28.930830  32.018155\n",
       "3           1.968723      1.117632           0.0     28.954021  32.040376\n",
       "4           1.972254      1.140225           0.0     29.136803  32.249282\n",
       "...              ...           ...           ...           ...        ...\n",
       "125260      0.015884      0.000000           0.0      0.000000   0.015884\n",
       "125261      0.015884      0.000000           0.0      0.000000   0.015884\n",
       "125262      0.015884      0.000000           0.0      0.000000   0.015884\n",
       "125263      0.015884      0.000000           0.0      0.000000   0.015884\n",
       "125264      0.015884      0.000000           0.0      0.000000   0.015884\n",
       "\n",
       "[125265 rows x 5 columns]"
      ]
     },
     "execution_count": 28,
     "metadata": {},
     "output_type": "execute_result"
    }
   ],
   "source": [
    "# The method sum(axis=1) calculates the sum of each row in the data frame de_select which contains the 4 columns\n",
    "# The axis=1 argument specifies that the sum should be computed across columns (horizontally, for each row)}\n",
    "# I create a new column named 'sum_tree' in the merged_df data frame\n",
    "merged_df['sum_tree'] = df_select.sum(axis=1)\n",
    "\n",
    "# I select and show the 4 columns and the new column\n",
    "merged_df[['per_TREES-BD', 'per_TREES-BE', 'per_TREES-ND', 'per_TREES-NE','sum_tree']]"
   ]
  },
  {
   "cell_type": "code",
   "execution_count": 29,
   "metadata": {},
   "outputs": [
    {
     "data": {
      "image/png": "[encoded data removed]",
      "text/plain": [
       "<Figure size 640x480 with 1 Axes>"
      ]
     },
     "metadata": {},
     "output_type": "display_data"
    }
   ],
   "source": [
    "# First step: I import the pyplot module from the matplotlib library and assigns it the alias plt.\n",
    "import matplotlib.pyplot as plt\n",
    "\n",
    "# Second step: I create a histogram of the sum_tree variable, with 10 bins (intervals) and black bin edges\n",
    "plt.hist(merged_df['sum_tree'], bins = 10, edgecolor = 'black')\n",
    "\n",
    "\n",
    "# Third step: I set the title of the histogram plot to \"Histogram of sum variable\".\n",
    "plt.title('Histogram of sum variable')\n",
    "\n",
    "# Fourth step: I label the x-axis of the histogram as \"Sum\" and the y-axis of the histogram as \"Frequency\".\n",
    "plt.xlabel('Sum')\n",
    "plt.ylabel('Frequency')\n",
    "\n",
    "# Fifth step: I display the plot\n",
    "plt.show()"
   ]
  },
  {
   "cell_type": "markdown",
   "metadata": {},
   "source": [
    "**Answer to question 6**"
   ]
  },
  {
   "cell_type": "code",
   "execution_count": 30,
   "metadata": {},
   "outputs": [
    {
     "data": {
      "text/plain": [
       "0.4996396601200105"
      ]
     },
     "execution_count": 30,
     "metadata": {},
     "output_type": "execute_result"
    }
   ],
   "source": [
    "# First step: I find the median of sum_tree.\n",
    "median = merged_df['sum_tree'].median()\n",
    "median"
   ]
  },
  {
   "cell_type": "code",
   "execution_count": 31,
   "metadata": {},
   "outputs": [],
   "source": [
    "# Second step: I create a new data frame that includes only the rows where the value in the sum_tree column is greater than the calculated median.\n",
    "above_median = merged_df[merged_df['sum_tree'] > median]\n",
    "\n",
    "# Third step: I create a new data frame that includes only the rows where the value in the sum_tree column is less than the calculated median.\n",
    "below_median = merged_df[merged_df['sum_tree'] < median]"
   ]
  },
  {
   "cell_type": "code",
   "execution_count": 32,
   "metadata": {},
   "outputs": [
    {
     "data": {
      "image/png": "[encoded data removed]",
      "text/plain": [
       "<Figure size 2000x1000 with 2 Axes>"
      ]
     },
     "metadata": {},
     "output_type": "display_data"
    }
   ],
   "source": [
    "# Step 4.1: I define the variable col = 'per_TREES-BD'\n",
    "col = 'per_TREES-BD'\n",
    "\n",
    "# Step 4.2: I create a figure with 1 row and 2 columns of subplots, fig is the object that contains all the subplots, and axs is an array of the subplots\n",
    "fig, axs = plt.subplots(1, 2, figsize=(20, 10))\n",
    "\n",
    "# Step 4.3: I create the histogram for the second subplot, specifying the column \"col\" from the below_median data frame, 10 bins, firebrick bars and black edges of the bars\n",
    "axs[0].hist(below_median[col], bins=10, label=col, color = \"firebrick\", edgecolor='black')\n",
    "\n",
    "# Step 4.4:  I set the title of the histogram plot to \"Histograms (Below Median sum_tree)\".\n",
    "axs[0].set_title('Histograms (Below Median sum_tree)')\n",
    "\n",
    "# Step 4.5:  I label the x-axis of the histogram as \"Values\" and the y-axis of the histogram as \"Frequency\".\n",
    "axs[0].set_xlabel('Values')\n",
    "axs[0].set_ylabel('Frequency')\n",
    "\n",
    "# Step 4.6: I add a legend to the first subplot and places it in the upper-right corner\n",
    "axs[0].legend(loc='upper right')\n",
    "\n",
    "# Step 4.7: I create the first plot in the first position (0)\n",
    "axs[0].grid(True)\n",
    "\n",
    "# Step 4.8: I create the histogram for the first subplot, specifying the column \"col\" from the above_median data frame, 10 bins, forestgreen bars and black edges of the bars\n",
    "axs[1].hist(above_median[col], bins=10, label=col, color = \"forestgreen\", edgecolor='black')\n",
    "\n",
    "# Step 4.9:  I set the title of the histogram plot to \"Histograms (Above Median sum_tree)\".\n",
    "axs[1].set_title('Histograms (Above Median sum_tree)')\n",
    "\n",
    "# Step 4.10:  I label the x-axis of the histogram as \"Values\" and the y-axis of the histogram as \"Frequency\".\n",
    "axs[1].set_xlabel('Values')\n",
    "axs[1].set_ylabel('Frequency')\n",
    "\n",
    "# Step 4.11: I add a legend to the first subplot and places it in the upper-right corner\n",
    "axs[1].legend(loc='upper right')\n",
    "\n",
    "# Step 4.12: I create the first plot in the second position (1)\n",
    "axs[1].grid(True)\n",
    "\n",
    "# Step 4.13: I display the plot\n",
    "plt.show()"
   ]
  },
  {
   "cell_type": "code",
   "execution_count": 33,
   "metadata": {},
   "outputs": [],
   "source": [
    "# Since the use of loops is completely prohibited, each histogram must be created separately for each variable.\n",
    "# We repeat the previously detailed steps, changing only the variable each time.\n",
    "# To facilitate this repetitive task, I create a function to generate the histograms more efficiently.\n",
    "\n",
    "def generar_histograma(col):\n",
    "    fig, axs = plt.subplots(1, 2, figsize=(20, 10))\n",
    "    \n",
    "    axs[0].hist(below_median[col], bins=10, label=col, color=\"firebrick\", edgecolor='black')\n",
    "    axs[0].set_title('Histograms (Below Median sum_tree)')\n",
    "    axs[0].set_xlabel('Values')\n",
    "    axs[0].set_ylabel('Frequency')\n",
    "    axs[0].legend(loc='upper right')\n",
    "    axs[0].grid(True)\n",
    "    \n",
    "    axs[1].hist(above_median[col], bins=10, label=col, color=\"forestgreen\", edgecolor='black')\n",
    "    axs[1].set_title('Histograms (Above Median sum_tree)')\n",
    "    axs[1].set_xlabel('Values')\n",
    "    axs[1].set_ylabel('Frequency')\n",
    "    axs[1].legend(loc='upper right')\n",
    "    axs[1].grid(True)\n",
    "    \n",
    "    plt.show()"
   ]
  },
  {
   "cell_type": "code",
   "execution_count": 34,
   "metadata": {},
   "outputs": [
    {
     "data": {
      "image/png": "[encoded data removed]",
      "text/plain": [
       "<Figure size 2000x1000 with 2 Axes>"
      ]
     },
     "metadata": {},
     "output_type": "display_data"
    }
   ],
   "source": [
    "generar_histograma('per_TREES-BE')"
   ]
  },
  {
   "cell_type": "code",
   "execution_count": 35,
   "metadata": {},
   "outputs": [
    {
     "data": {
      "image/png": "[encoded data removed]",
      "text/plain": [
       "<Figure size 2000x1000 with 2 Axes>"
      ]
     },
     "metadata": {},
     "output_type": "display_data"
    }
   ],
   "source": [
    "generar_histograma('per_TREES-ND')"
   ]
  },
  {
   "cell_type": "code",
   "execution_count": 36,
   "metadata": {},
   "outputs": [
    {
     "data": {
      "image/png": "[encoded data removed]",
      "text/plain": [
       "<Figure size 2000x1000 with 2 Axes>"
      ]
     },
     "metadata": {},
     "output_type": "display_data"
    }
   ],
   "source": [
    "generar_histograma('per_TREES-NE')"
   ]
  }
 ],
 "metadata": {
  "hide_input": false,
  "kernelspec": {
   "display_name": "Python 3 (ipykernel)",
   "language": "python",
   "name": "python3"
  },
  "language_info": {
   "codemirror_mode": {
    "name": "ipython",
    "version": 3
   },
   "file_extension": ".py",
   "mimetype": "text/x-python",
   "name": "python",
   "nbconvert_exporter": "python",
   "pygments_lexer": "ipython3",
   "version": "3.9.13"
  },
  "toc": {
   "base_numbering": 1,
   "nav_menu": {},
   "number_sections": true,
   "sideBar": true,
   "skip_h1_title": false,
   "title_cell": "Table of Contents",
   "title_sidebar": "Contents",
   "toc_cell": false,
   "toc_position": {},
   "toc_section_display": true,
   "toc_window_display": false
  }
 },
 "nbformat": 4,
 "nbformat_minor": 4
}
