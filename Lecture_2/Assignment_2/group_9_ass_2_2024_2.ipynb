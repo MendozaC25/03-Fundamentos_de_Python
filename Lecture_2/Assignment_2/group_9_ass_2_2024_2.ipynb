{
 "cells": [
  {
   "cell_type": "markdown",
   "id": "dec3a622",
   "metadata": {},
   "source": [
    "# 1 Assignment"
   ]
  },
  {
   "cell_type": "markdown",
   "id": "a00fb793",
   "metadata": {},
   "source": [
    "## 1.1 Tuple"
   ]
  },
  {
   "cell_type": "code",
   "execution_count": 4,
   "id": "8fcb1846-497a-41be-b561-fe9097abafb5",
   "metadata": {},
   "outputs": [],
   "source": [
    "tuple1 = (\"Orange\", [10, 20, 30], (5, 15, 25))"
   ]
  },
  {
   "cell_type": "code",
   "execution_count": 5,
   "id": "530edf91-1648-49e3-8b3f-994721cc239a",
   "metadata": {},
   "outputs": [
    {
     "data": {
      "text/plain": [
       "('Orange', [10, 20, 30], (5, 15, 25))"
      ]
     },
     "execution_count": 5,
     "metadata": {},
     "output_type": "execute_result"
    }
   ],
   "source": [
    "tuple1"
   ]
  },
  {
   "cell_type": "code",
   "execution_count": 6,
   "id": "8c40d726-2d86-42bb-97da-2d464cdfcce3",
   "metadata": {},
   "outputs": [],
   "source": [
    "tuple2 = ([7, 8], [9, 1], [10, 7])"
   ]
  },
  {
   "cell_type": "code",
   "execution_count": 7,
   "id": "565cf0cc-4044-4e61-8d65-3fba29a346c7",
   "metadata": {},
   "outputs": [
    {
     "data": {
      "text/plain": [
       "([7, 8], [9, 1], [10, 7])"
      ]
     },
     "execution_count": 7,
     "metadata": {},
     "output_type": "execute_result"
    }
   ],
   "source": [
    "tuple2"
   ]
  },
  {
   "cell_type": "code",
   "execution_count": 13,
   "id": "e26716cc-be80-4039-8fc0-485c884b843f",
   "metadata": {},
   "outputs": [
    {
     "data": {
      "text/plain": [
       "[10, 20, 30]"
      ]
     },
     "execution_count": 13,
     "metadata": {},
     "output_type": "execute_result"
    }
   ],
   "source": [
    "# TUPLE 1 \n",
    "# EXERCISE 1\n",
    "tuple1[1] # Print second element JZC_part"
   ]
  },
  {
   "cell_type": "code",
   "execution_count": 10,
   "id": "062a8ee7-6dc9-46cd-97e7-8e762f097040",
   "metadata": {},
   "outputs": [
    {
     "data": {
      "text/plain": [
       "10"
      ]
     },
     "execution_count": 10,
     "metadata": {},
     "output_type": "execute_result"
    }
   ],
   "source": [
    "first_value = tuple1[1]\n",
    "first_value[0] # Print first element JZC_part"
   ]
  },
  {
   "cell_type": "code",
   "execution_count": 11,
   "id": "7c97e86c-7b61-4bef-89ae-04aa75f24042",
   "metadata": {},
   "outputs": [
    {
     "data": {
      "text/plain": [
       "0"
      ]
     },
     "execution_count": 11,
     "metadata": {},
     "output_type": "execute_result"
    }
   ],
   "source": [
    "tuple1[1].index(10) # Print position in the second position of tuple1 JZC_part"
   ]
  },
  {
   "cell_type": "code",
   "execution_count": 19,
   "id": "eb8a0444-3e4d-482e-a1eb-7b93e8075273",
   "metadata": {},
   "outputs": [
    {
     "data": {
      "text/plain": [
       "('Orange', [10, 20, 30], (5, 15, 25))"
      ]
     },
     "execution_count": 19,
     "metadata": {},
     "output_type": "execute_result"
    }
   ],
   "source": [
    "# EXERCISE 2\n",
    "tuple1"
   ]
  },
  {
   "cell_type": "code",
   "execution_count": 24,
   "id": "98005abd-1972-459f-b760-d4f63a3ac2f2",
   "metadata": {},
   "outputs": [
    {
     "data": {
      "text/plain": [
       "25"
      ]
     },
     "execution_count": 24,
     "metadata": {},
     "output_type": "execute_result"
    }
   ],
   "source": [
    "tuple1[2][2] # Print item of the last position JZC_part"
   ]
  },
  {
   "cell_type": "code",
   "execution_count": 22,
   "id": "e274b6f6-7523-40af-8293-4f32ec442af2",
   "metadata": {},
   "outputs": [
    {
     "data": {
      "text/plain": [
       "2"
      ]
     },
     "execution_count": 22,
     "metadata": {},
     "output_type": "execute_result"
    }
   ],
   "source": [
    "tuple1[2].index(25) # Print value of last position JZC_part"
   ]
  },
  {
   "cell_type": "code",
   "execution_count": 27,
   "id": "0cfaf520-822a-4e5c-ba54-98631f4a933d",
   "metadata": {},
   "outputs": [
    {
     "data": {
      "text/plain": [
       "'pink grapefruit'"
      ]
     },
     "execution_count": 27,
     "metadata": {},
     "output_type": "execute_result"
    }
   ],
   "source": [
    "# EXERCISE 3\n",
    "valor_1 = \"pink grapefruit\"\n",
    "valor_1"
   ]
  },
  {
   "cell_type": "code",
   "execution_count": 28,
   "id": "43dbb76a-47fa-4af6-bfba-8cfcc0d58a4f",
   "metadata": {},
   "outputs": [
    {
     "ename": "NameError",
     "evalue": "name 'tupla1' is not defined",
     "output_type": "error",
     "traceback": [
      "\u001b[1;31m---------------------------------------------------------------------------\u001b[0m",
      "\u001b[1;31mNameError\u001b[0m                                 Traceback (most recent call last)",
      "Cell \u001b[1;32mIn[28], line 1\u001b[0m\n\u001b[1;32m----> 1\u001b[0m tupla1[\u001b[38;5;241m0\u001b[39m] \u001b[38;5;241m=\u001b[39m valor_1\n",
      "\u001b[1;31mNameError\u001b[0m: name 'tupla1' is not defined"
     ]
    }
   ],
   "source": [
    "tupla1[0] = valor_1 # This is imposible, cannot modify the value"
   ]
  },
  {
   "cell_type": "code",
   "execution_count": 30,
   "id": "ffaef764-b97b-47ee-86cf-42aedf9dda2d",
   "metadata": {},
   "outputs": [
    {
     "name": "stdout",
     "output_type": "stream",
     "text": [
      "Tamaño :  3\n"
     ]
    }
   ],
   "source": [
    "# EXERCISE 4\n",
    "tuple1\n",
    "print (\"Tamaño : \", len(tuple1)) # This is value of the tuple1 / use funtion \"len\" JZC_part"
   ]
  },
  {
   "cell_type": "code",
   "execution_count": 36,
   "id": "45b6679a-f224-4173-aa3e-0d0f22a570ad",
   "metadata": {},
   "outputs": [
    {
     "data": {
      "text/plain": [
       "([7, 8], [9, 1], [10, 7])"
      ]
     },
     "execution_count": 36,
     "metadata": {},
     "output_type": "execute_result"
    }
   ],
   "source": [
    "# EXERCISE 5\n",
    "tuple2 # this tuple has three positions JZC_part"
   ]
  },
  {
   "cell_type": "code",
   "execution_count": 37,
   "id": "29051ae4-ddcf-42fc-be40-358d2ac32efc",
   "metadata": {},
   "outputs": [
    {
     "data": {
      "text/plain": [
       "15"
      ]
     },
     "execution_count": 37,
     "metadata": {},
     "output_type": "execute_result"
    }
   ],
   "source": [
    "sum(tuple2[0]) # function SUM, only sum elements in position 0 JZC_part"
   ]
  },
  {
   "cell_type": "code",
   "execution_count": 43,
   "id": "b5706383-9869-4b75-b11f-53db67455161",
   "metadata": {},
   "outputs": [
    {
     "data": {
      "text/plain": [
       "42"
      ]
     },
     "execution_count": 43,
     "metadata": {},
     "output_type": "execute_result"
    }
   ],
   "source": [
    "sum(map(sum, list(tuple2))) # Print value, Sum all items of each position JZC_part"
   ]
  },
  {
   "cell_type": "code",
   "execution_count": 19,
   "id": "84b9cfa2-10dd-4272-a98f-f831f23d0382",
   "metadata": {},
   "outputs": [
    {
     "data": {
      "text/plain": [
       "([7, 8], [9, 1], [10, 7])"
      ]
     },
     "execution_count": 19,
     "metadata": {},
     "output_type": "execute_result"
    }
   ],
   "source": [
    "# EXERCISE 6\n",
    "tuple2 = ([7, 8], [9, 1], [10, 7])\n",
    "tuple2"
   ]
  },
  {
   "cell_type": "code",
   "execution_count": 18,
   "id": "c234ea73-48a1-46d8-b3c0-7298e178e66e",
   "metadata": {},
   "outputs": [
    {
     "data": {
      "text/plain": [
       "[7, 8]"
      ]
     },
     "execution_count": 18,
     "metadata": {},
     "output_type": "execute_result"
    }
   ],
   "source": [
    "prim = tuple2[0]\n",
    "prim"
   ]
  },
  {
   "cell_type": "code",
   "execution_count": 31,
   "id": "2c2adf3f-1f25-4789-a2f5-faab761850c7",
   "metadata": {},
   "outputs": [
    {
     "name": "stdout",
     "output_type": "stream",
     "text": [
      "[3.5, 4.0]\n",
      "[4.5, 0.5]\n",
      "[5.0, 3.5]\n"
     ]
    }
   ],
   "source": [
    "prim = tuple2[0] #Print value to each new variable \"prim\" \"sec\" \"ter\" because we can't use a loop JZC_part\n",
    "sec = tuple2[1]\n",
    "ter = tuple2[2]\n",
    "num = 2\n",
    "prim = list(map(lambda x: x / num, prim)) # each value is divided\n",
    "sec = list(map(lambda x: x / num, sec)) # each value is divided\n",
    "ter = list(map(lambda x: x / num, ter)) # each value is divided\n",
    "print(prim)\n",
    "print(sec)\n",
    "print(ter)"
   ]
  },
  {
   "cell_type": "code",
   "execution_count": 39,
   "id": "c5d90384-d5c9-4e64-b148-f4cbdfa7b9e4",
   "metadata": {},
   "outputs": [],
   "source": [
    "tuple3 # Assign value at each position of tuple3 JZC_part\n",
    "tuple3[0]=prim\n",
    "tuple3[1]=sec\n",
    "tuple3[2]=ter\n",
    "tuple3[3]= 0 \n",
    "tuple3[4]= 0\n",
    "tuple3[5]= 0"
   ]
  },
  {
   "cell_type": "code",
   "execution_count": 40,
   "id": "1ac74d21-0c38-4325-ba42-75c78f876a78",
   "metadata": {},
   "outputs": [
    {
     "data": {
      "text/plain": [
       "[[3.5, 4.0], [4.5, 0.5], [5.0, 3.5], 0, 0, 0]"
      ]
     },
     "execution_count": 40,
     "metadata": {},
     "output_type": "execute_result"
    }
   ],
   "source": [
    "tuple3 # values at each position of tuple3 JZC_part"
   ]
  },
  {
   "cell_type": "markdown",
   "id": "225ec209",
   "metadata": {},
   "source": [
    "## 1.2 Lists"
   ]
  },
  {
   "cell_type": "code",
   "execution_count": 1,
   "id": "b6a37d96-554f-4a22-8ce0-178619655c47",
   "metadata": {},
   "outputs": [],
   "source": [
    "import numpy as np"
   ]
  },
  {
   "cell_type": "code",
   "execution_count": 67,
   "id": "00994579-267a-4866-935a-b784726f9d77",
   "metadata": {},
   "outputs": [],
   "source": [
    "# EXERCISE 1\n",
    "f_list = [np.nan , np.nan, \"Austria\", \"Germany\", np.nan, \"Pakistan\", \"np.nan\", np.nan ]"
   ]
  },
  {
   "cell_type": "code",
   "execution_count": 75,
   "id": "8dccc19d",
   "metadata": {},
   "outputs": [
    {
     "name": "stdout",
     "output_type": "stream",
     "text": [
      "The indices 0, 1, 4, 7 have np.nan values.\n"
     ]
    }
   ],
   "source": [
    "# Find the indices of the np.nan\n",
    "nan_indices = []\n",
    "for i, value in enumerate(f_list):\n",
    "    if value != value:  # np.nan != np.nan is True\n",
    "        nan_indices.append(i)\n",
    "\n",
    "print(f\"The indices {', '.join(map(str, nan_indices))} have np.nan values.\")"
   ]
  },
  {
   "cell_type": "code",
   "execution_count": 63,
   "id": "5bbd0b0b",
   "metadata": {},
   "outputs": [],
   "source": [
    "# EXERCISE 2\n",
    "p2_list = [ 2 , 3, 4, 5 ]"
   ]
  },
  {
   "cell_type": "code",
   "execution_count": 66,
   "id": "477a7ccd",
   "metadata": {},
   "outputs": [
    {
     "name": "stdout",
     "output_type": "stream",
     "text": [
      "[2, 3, 4, 5, 2, 3, 4, 5, 2, 3, 4, 5, 2, 3, 4, 5]\n"
     ]
    }
   ],
   "source": [
    "# Replicate the list 4 times\n",
    "multiplication = p2_list * 4\n",
    "\n",
    "# Print\n",
    "print(multiplication)"
   ]
  },
  {
   "cell_type": "code",
   "execution_count": 6,
   "id": "1b7dcc0c",
   "metadata": {},
   "outputs": [
    {
     "name": "stdout",
     "output_type": "stream",
     "text": [
      "8\n"
     ]
    }
   ],
   "source": [
    "# EXERCISE 3\n",
    "print(len(f_list))"
   ]
  },
  {
   "cell_type": "code",
   "execution_count": 23,
   "id": "64d64067-77ea-4a33-ac36-d3be25ccd959",
   "metadata": {},
   "outputs": [],
   "source": [
    "# EXERCISE 4\n",
    "text1 = ['My', 'teacher', 'assistant', 'is', 'so', 'boring']"
   ]
  },
  {
   "cell_type": "code",
   "execution_count": 24,
   "id": "bd4be348",
   "metadata": {},
   "outputs": [
    {
     "data": {
      "text/plain": [
       "'My teacher assistant is so boring'"
      ]
     },
     "execution_count": 24,
     "metadata": {},
     "output_type": "execute_result"
    }
   ],
   "source": [
    "# The join function helps to concatenate the list elements into a single string\n",
    "sentence1 = ' '.join(text1)\n",
    "sentence1"
   ]
  },
  {
   "cell_type": "code",
   "execution_count": 25,
   "id": "b167e850",
   "metadata": {},
   "outputs": [
    {
     "data": {
      "text/plain": [
       "[',', 'but', 'is', 'very', 'funny.']"
      ]
     },
     "execution_count": 25,
     "metadata": {},
     "output_type": "execute_result"
    }
   ],
   "source": [
    "# EXERCISE 5\n",
    "# A new list will be created with the second part of the phrase**\n",
    "text2 = [',','but', 'is', 'very', 'funny.']\n",
    "text2"
   ]
  },
  {
   "cell_type": "code",
   "execution_count": 26,
   "id": "a2f1b04f",
   "metadata": {},
   "outputs": [],
   "source": [
    "# Use the extend method on the original list and the new list\n",
    "text1.extend(text2)"
   ]
  },
  {
   "cell_type": "code",
   "execution_count": 27,
   "id": "8579b1a7",
   "metadata": {},
   "outputs": [
    {
     "data": {
      "text/plain": [
       "'My teacher assistant is so boring , but is very funny.'"
      ]
     },
     "execution_count": 27,
     "metadata": {},
     "output_type": "execute_result"
    }
   ],
   "source": [
    "# Use the join function to concatenate the list elements into a single string\n",
    "sentence2 = ' '.join(text1)\n",
    "sentence2 "
   ]
  },
  {
   "cell_type": "code",
   "execution_count": 28,
   "id": "7bcbfaaa",
   "metadata": {},
   "outputs": [],
   "source": [
    "# EXERCISE 6\n",
    "values1 = [ 86, 86, 85, 85, 85, 83, 23, 0, 84, 1 ] "
   ]
  },
  {
   "cell_type": "code",
   "execution_count": 30,
   "id": "f27a5c4a",
   "metadata": {},
   "outputs": [
    {
     "name": "stdout",
     "output_type": "stream",
     "text": [
      "86\n",
      "0\n"
     ]
    }
   ],
   "source": [
    "# We use the max function to find the maximum value and index to find its index**\n",
    "max_v= max(values1)\n",
    "print(max_v)\n",
    "max_i = values1.index(max_v)\n",
    "print(max_i)"
   ]
  },
  {
   "cell_type": "code",
   "execution_count": 31,
   "id": "55ade561",
   "metadata": {},
   "outputs": [
    {
     "name": "stdout",
     "output_type": "stream",
     "text": [
      "0\n",
      "7\n"
     ]
    }
   ],
   "source": [
    "# We use the max function to find the maximum value and index to find its index\n",
    "min_v = min(values1)\n",
    "print(min_v)\n",
    "min_i = values1.index(min_v)\n",
    "print(min_i)"
   ]
  },
  {
   "cell_type": "code",
   "execution_count": 33,
   "id": "68cb46a3",
   "metadata": {},
   "outputs": [
    {
     "name": "stdout",
     "output_type": "stream",
     "text": [
      "The max value of values1 is 86 and is located in the 0 index.\n",
      "The min value of values1 is 0 and is located in the 7 index.\n"
     ]
    }
   ],
   "source": [
    "# Then print the results using f-strings\n",
    "print(f\"The max value of values1 is {max_v} and is located in the {max_i} index.\")\n",
    "print(f\"The min value of values1 is {min_v} and is located in the {min_i} index.\")"
   ]
  },
  {
   "cell_type": "code",
   "execution_count": 34,
   "id": "2d5a4d4d",
   "metadata": {},
   "outputs": [],
   "source": [
    "# EXERCISE 7\n",
    "# These two lists:\n",
    "last_and_name = [ \"CORNEJO SANCHEZ, CHRISTIAN SANTOS\", \"ORELLANA QUISPE, CRISTIAN NASSER\", \"MORALES CHOQUEHUANCA, ANGELICA KARINA\", \"GUIMARAY RIBEYRO, JOSE ROBERTO\", \"CAMACHO GAVIDIA, ABEL FERNANDO\", \"TINTAYA ORIHUELA, MEIR ALVARO\", \"CHAVEZ MARTINEZ, JOSELIN ALEXANDRA\", \"FIGUEROA MURO, LEONEL ARTURO\", \"GOMEZ CRIBILLERO, JOSE FELIPE\", \"PALOMINO SEGUÍN, AFRANIA\", \"LUZON CUEVA, BIANCA MARIETTE\", \"SUAÑA ZEGARRA, ADRIAN ANDRE\", \"SOTO POMACHAGUA, DORKAS YOMIRA JHERMY\", \"FIORENTINO MARTINEZ, LADY ALY\", \"LAMA MAVILA, HECTOR ANDRE\", \"MEZA HINOJO, GUSTAVO\", \"LOZADA MURILLO, PERSEO MARCELO\", \"ZAMBRANO JIMENEZ, MIGUEL ALONZO\", \"JACOBS LUQUE, NICOLAS\", \"VIDAL VIDAL, ROCIO GABRIELA\", \"TORRES ANICAMA, JANE CAMILA\", \"LOPEZ ESTRADA, MARIA ELISA\", \"BOYCO ORAMS, ALEJANDRO\", \"DIAZ BERROSPI, KARLINE ROSMELI\", \"RIEGA ESCALANTE, STEPHY ROSARIO\", \"LEVANO TORRES, VALERIA CECILIA\", \"ESQUIVES BRAVO, SEBASTIAN RENATO\", \"PEREZ GONZALES, JUAN CARLOS\", \"OTERO MAGUIÑA, MARIANA\", \"CLAVO CAMPOS, ANDREA BRIZETH\", \"AGUILAR GARCIA, ERICK JOSUE\", \"CALDAS VELASQUEZ, JOSUE DANIEL\", \"SALAS NUÑEZ BORJA, FABIO MANUEL\", \"PIZARRO VILLANES, FERNANDA NICOLLE\", \"QUILLATUPA MORALES, ANGELA ADELINA\", \"HUANCAYA IDONE, CESAR DANTE\", \"CALVO PORTOCARRERO, GABRIELA ISABEL\", \"IBAÑEZ ABANTO, ANGEL MAURICIO\", \"MELÉNDEZ APONTE, JUAN DIEGO\", \"CRISTIAN SERRANO, ARONE\", \"HINOJOSA CAHUANA, PERCY ALBERTH\", \"ANGLAS GARCÍA, KEVIN ARTURO\", \"ALDAVE ACOSTA, CESAR ERNESTO\", \"NÚÑEZ HUAMÁN, CÉSAR AGUSTO\", \"OBREGON HUAMAN, DIANA EDITH\", \"SOTO PACHERRES, RODRIGO FRANCO\", \"INGARUCA RIVERA, GRETTEL ALEXANDRA\", \"ROJAS HUAMAN, ROSA ANGELA\", \"NEYRA SALAS, DANTE OMAR\", \"HUERTA ESPINOZA, YAJAIRA ALEXANDRA\", \"HUANCA MARTINEZ, JORGE ALBERTO\", \"FLORES CADILLO, ALEXIS\" ]\n",
    "emails = [\"cscornejo@pucp.edu.pe\", \"orellana.cn@pucp.edu.pe\", \"karina.morales@pucp.edu.pe\", \"a20083223@pucp.pe\", \"abel.camacho@pucp.pe\", \"mtintaya@pucp.edu.pe\", \"joselin.chavez@pucp.edu.pe\", \"a20105737@pucp.pe\", \"jfgomezc@pucp.pe\", \"afrania.palomino@pucp.pe\", \"luzon.bianca@pucp.pe\", \"adrian.suanaz@pucp.pe\", \"soto.y@pucp.edu.pe\", \"a20132766@pucp.pe\", \"andre.lama@pucp.edu.pe\", \"gustavo.meza@pucp.edu.pe\", \"pmlozada@pucp.edu.pe\", \"m.zambranoj@pucp.edu.pe\", \"nicolas.jacobs@pucp.edu.pe\", \"gvidal@pucp.edu.pe\", \"jane.torres@pucp.edu.pe\", \"m.lopez@pucp.edu.pe\", \"alejandro.boyco@pucp.edu.pe\", \"a20167070@pucp.edu.pe\", \"riega.stephy@pucp.edu.pe\", \"vlevanot@pucp.edu.pe\", \"sesquives@pucp.edu.pe\", \"perez.juanc@pucp.edu.pe\", \"mariana.otero@pucp.edu.pe\", \"aclavo@pucp.edu.pe\", \"a20182474@pucp.edu.pe\", \"josue.caldas@pucp.edu.pe\", \"fabio.salas@pucp.edu.pe\", \"fernanda.pizarro@pucp.edu.pe\", \"aquillatupa@pucp.pe\", \"\", \"\", \"\", \"\", \"\", \"f0873079@pucp.edu.pe\", \"\", \"\", \"\", \"\", \"\", \"\", \"\", \"\", \"\", \"\", \"flores.alexis@pucp.edu.pe\", ]"
   ]
  },
  {
   "cell_type": "code",
   "execution_count": 37,
   "id": "d7e348ca",
   "metadata": {},
   "outputs": [],
   "source": [
    "# Take the second part (name) from the list\n",
    "list_names = list(map(lambda x: x.split(\", \")[1], last_and_name))\n",
    "\n",
    "# Take the first part (surname) from the list\n",
    "list_last_names = list(map(lambda x: x.split(\", \")[0], last_and_name))"
   ]
  },
  {
   "cell_type": "code",
   "execution_count": 39,
   "id": "a4596bbb",
   "metadata": {},
   "outputs": [
    {
     "name": "stdout",
     "output_type": "stream",
     "text": [
      "Names: ['CHRISTIAN SANTOS', 'CRISTIAN NASSER', 'ANGELICA KARINA', 'JOSE ROBERTO', 'ABEL FERNANDO', 'MEIR ALVARO', 'JOSELIN ALEXANDRA', 'LEONEL ARTURO', 'JOSE FELIPE', 'AFRANIA', 'BIANCA MARIETTE', 'ADRIAN ANDRE', 'DORKAS YOMIRA JHERMY', 'LADY ALY', 'HECTOR ANDRE', 'GUSTAVO', 'PERSEO MARCELO', 'MIGUEL ALONZO', 'NICOLAS', 'ROCIO GABRIELA', 'JANE CAMILA', 'MARIA ELISA', 'ALEJANDRO', 'KARLINE ROSMELI', 'STEPHY ROSARIO', 'VALERIA CECILIA', 'SEBASTIAN RENATO', 'JUAN CARLOS', 'MARIANA', 'ANDREA BRIZETH', 'ERICK JOSUE', 'JOSUE DANIEL', 'FABIO MANUEL', 'FERNANDA NICOLLE', 'ANGELA ADELINA', 'CESAR DANTE', 'GABRIELA ISABEL', 'ANGEL MAURICIO', 'JUAN DIEGO', 'ARONE', 'PERCY ALBERTH', 'KEVIN ARTURO', 'CESAR ERNESTO', 'CÉSAR AGUSTO', 'DIANA EDITH', 'RODRIGO FRANCO', 'GRETTEL ALEXANDRA', 'ROSA ANGELA', 'DANTE OMAR', 'YAJAIRA ALEXANDRA', 'JORGE ALBERTO', 'ALEXIS']\n",
      "Last Names: ['CORNEJO SANCHEZ', 'ORELLANA QUISPE', 'MORALES CHOQUEHUANCA', 'GUIMARAY RIBEYRO', 'CAMACHO GAVIDIA', 'TINTAYA ORIHUELA', 'CHAVEZ MARTINEZ', 'FIGUEROA MURO', 'GOMEZ CRIBILLERO', 'PALOMINO SEGUÍN', 'LUZON CUEVA', 'SUAÑA ZEGARRA', 'SOTO POMACHAGUA', 'FIORENTINO MARTINEZ', 'LAMA MAVILA', 'MEZA HINOJO', 'LOZADA MURILLO', 'ZAMBRANO JIMENEZ', 'JACOBS LUQUE', 'VIDAL VIDAL', 'TORRES ANICAMA', 'LOPEZ ESTRADA', 'BOYCO ORAMS', 'DIAZ BERROSPI', 'RIEGA ESCALANTE', 'LEVANO TORRES', 'ESQUIVES BRAVO', 'PEREZ GONZALES', 'OTERO MAGUIÑA', 'CLAVO CAMPOS', 'AGUILAR GARCIA', 'CALDAS VELASQUEZ', 'SALAS NUÑEZ BORJA', 'PIZARRO VILLANES', 'QUILLATUPA MORALES', 'HUANCAYA IDONE', 'CALVO PORTOCARRERO', 'IBAÑEZ ABANTO', 'MELÉNDEZ APONTE', 'CRISTIAN SERRANO', 'HINOJOSA CAHUANA', 'ANGLAS GARCÍA', 'ALDAVE ACOSTA', 'NÚÑEZ HUAMÁN', 'OBREGON HUAMAN', 'SOTO PACHERRES', 'INGARUCA RIVERA', 'ROJAS HUAMAN', 'NEYRA SALAS', 'HUERTA ESPINOZA', 'HUANCA MARTINEZ', 'FLORES CADILLO']\n"
     ]
    }
   ],
   "source": [
    "# Print the results\n",
    "print(\"Names:\", list_names)\n",
    "print(\"Last Names:\", list_last_names)"
   ]
  },
  {
   "cell_type": "code",
   "execution_count": 59,
   "id": "973a5665",
   "metadata": {},
   "outputs": [],
   "source": [
    "# EXERCISE 8\n",
    "# Filter and obtain the surnames of students without an email address\n",
    "list_no_email = [\n",
    "    last_and_name[i] \n",
    "    for i, email in enumerate(emails) \n",
    "    if email == \"\"\n",
    "]"
   ]
  },
  {
   "cell_type": "code",
   "execution_count": 60,
   "id": "898bb7bc",
   "metadata": {},
   "outputs": [
    {
     "name": "stdout",
     "output_type": "stream",
     "text": [
      "['HUANCAYA IDONE, CESAR DANTE', 'CALVO PORTOCARRERO, GABRIELA ISABEL', 'IBAÑEZ ABANTO, ANGEL MAURICIO', 'MELÉNDEZ APONTE, JUAN DIEGO', 'CRISTIAN SERRANO, ARONE', 'ANGLAS GARCÍA, KEVIN ARTURO', 'ALDAVE ACOSTA, CESAR ERNESTO', 'NÚÑEZ HUAMÁN, CÉSAR AGUSTO', 'OBREGON HUAMAN, DIANA EDITH', 'SOTO PACHERRES, RODRIGO FRANCO', 'INGARUCA RIVERA, GRETTEL ALEXANDRA', 'ROJAS HUAMAN, ROSA ANGELA', 'NEYRA SALAS, DANTE OMAR', 'HUERTA ESPINOZA, YAJAIRA ALEXANDRA', 'HUANCA MARTINEZ, JORGE ALBERTO']\n"
     ]
    }
   ],
   "source": [
    "# Print the new list\n",
    "print(list_no_email)"
   ]
  },
  {
   "cell_type": "code",
   "execution_count": 61,
   "id": "089b6c1a",
   "metadata": {},
   "outputs": [
    {
     "data": {
      "text/plain": [
       "['HUANCAYA IDONE',\n",
       " 'CALVO PORTOCARRERO',\n",
       " 'IBAÑEZ ABANTO',\n",
       " 'MELÉNDEZ APONTE',\n",
       " 'CRISTIAN SERRANO',\n",
       " 'ANGLAS GARCÍA',\n",
       " 'ALDAVE ACOSTA',\n",
       " 'NÚÑEZ HUAMÁN',\n",
       " 'OBREGON HUAMAN',\n",
       " 'SOTO PACHERRES',\n",
       " 'INGARUCA RIVERA',\n",
       " 'ROJAS HUAMAN',\n",
       " 'NEYRA SALAS',\n",
       " 'HUERTA ESPINOZA',\n",
       " 'HUANCA MARTINEZ']"
      ]
     },
     "execution_count": 61,
     "metadata": {},
     "output_type": "execute_result"
    }
   ],
   "source": [
    "# Take the first part (surname) from the list\n",
    "list_no_email1 = list(map(lambda x: x.split(\", \")[0], list_no_email))\n",
    "list_no_email1 "
   ]
  },
  {
   "cell_type": "code",
   "execution_count": 62,
   "id": "bb6354c4",
   "metadata": {},
   "outputs": [
    {
     "name": "stdout",
     "output_type": "stream",
     "text": [
      "No email: ['HUANCAYA IDONE', 'CALVO PORTOCARRERO', 'IBAÑEZ ABANTO', 'MELÉNDEZ APONTE', 'CRISTIAN SERRANO', 'ANGLAS GARCÍA', 'ALDAVE ACOSTA', 'NÚÑEZ HUAMÁN', 'OBREGON HUAMAN', 'SOTO PACHERRES', 'INGARUCA RIVERA', 'ROJAS HUAMAN', 'NEYRA SALAS', 'HUERTA ESPINOZA', 'HUANCA MARTINEZ']\n"
     ]
    }
   ],
   "source": [
    "# Print the results\n",
    "print(\"No email:\", list_no_email1)"
   ]
  },
  {
   "cell_type": "markdown",
   "id": "2dc632ec",
   "metadata": {},
   "source": [
    "## 1.3 Strings"
   ]
  },
  {
   "cell_type": "code",
   "execution_count": null,
   "id": "30772277-e7bf-4d6f-8848-eb90ec7eca8d",
   "metadata": {},
   "outputs": [],
   "source": [
    "1. Drop the duplicated blank spaces in `str1`. Do not use the regular expresions. Do not use the code shown in class. Explain your steps.**Hint: Use `split` method and `join` function.**\n",
    "\n",
    "2. Get the number of letters in the string .**Hint: Use `len`function.**\n",
    "\n",
    "3. Get the number of blank spaces (all of them) in the string .**Hint: Use `len`function.**\n",
    "\n",
    "4. Get the position of `@` in each string in the emails list. **Hint: Use `map`function and `find` method.**\n",
    "\n",
    "5. Identifies if exists `.edu.`  in each string in the `emails` list. Get a list of Booleans. **Hint: Use `map`function and `find` method.**\n",
    "\n",
    "6. Get all the strings before the first dot `.`in each string in the `emails` list. Identifies how many of them has `@`. **Hint: Use `map`function and `find` method.**"
   ]
  },
  {
   "cell_type": "code",
   "execution_count": 25,
   "id": "eae36f1d-42f3-41ac-b2bb-53fb3607b0dc",
   "metadata": {},
   "outputs": [],
   "source": [
    "str1 = 'I am                            too                                                        old'"
   ]
  },
  {
   "cell_type": "code",
   "execution_count": 23,
   "id": "d120492f-5899-4f96-880b-0b35fc1f2183",
   "metadata": {},
   "outputs": [],
   "source": [
    "emails = [\"cscornejo@pucp.edu.pe\", \"orellana.cn@pucp.edu.pe\", \"karina.morales@pucp.edu.pe\", \"a20083223@pucp.pe\", \"abel.camacho@pucp.pe\", \"mtintaya@pucp.edu.pe\", \"joselin.chavez@pucp.edu.pe\", \"a20105737@pucp.pe\", \"jfgomezc@pucp.pe\", \"afrania.palomino@pucp.pe\", \"luzon.bianca@pucp.pe\", \"adrian.suanaz@pucp.pe\", \"soto.y@pucp.edu.pe\", \"a20132766@pucp.pe\", \"andre.lama@pucp.edu.pe\", \"gustavo.meza@pucp.edu.pe\", \"pmlozada@pucp.edu.pe\", \"m.zambranoj@pucp.edu.pe\", \"nicolas.jacobs@pucp.edu.pe\", \"gvidal@pucp.edu.pe\", \"jane.torres@pucp.edu.pe\", \"m.lopez@pucp.edu.pe\", \"alejandro.boyco@pucp.edu.pe\", \"a20167070@pucp.edu.pe\", \"riega.stephy@pucp.edu.pe\", \"vlevanot@pucp.edu.pe\", \"sesquives@pucp.edu.pe\", \"perez.juanc@pucp.edu.pe\", \"mariana.otero@pucp.edu.pe\", \"aclavo@pucp.edu.pe\", \"a20182474@pucp.edu.pe\", \"josue.caldas@pucp.edu.pe\", \"fabio.salas@pucp.edu.pe\", \"fernanda.pizarro@pucp.edu.pe\", \"aquillatupa@pucp.pe\"]"
   ]
  },
  {
   "cell_type": "code",
   "execution_count": 27,
   "id": "3d7074a4-6e85-4c7f-b158-9501a64c55a8",
   "metadata": {},
   "outputs": [],
   "source": [
    "## Solution"
   ]
  },
  {
   "cell_type": "code",
   "execution_count": null,
   "id": "63823412-6303-49a8-89f4-29064a852b2c",
   "metadata": {},
   "outputs": [],
   "source": [
    "**Answer to question 1**"
   ]
  },
  {
   "cell_type": "code",
   "execution_count": 31,
   "id": "158cad6e-6ec2-4429-91a7-e74208c33ab5",
   "metadata": {},
   "outputs": [
    {
     "name": "stdout",
     "output_type": "stream",
     "text": [
      "I am too old\n"
     ]
    }
   ],
   "source": [
    "### Step 1: Define the initial string\n",
    "#### First, we define the string with duplicated spaces.\n",
    "str1 = 'I am    too   old'\n",
    "\n",
    "### Step 2: Use 'split' to separate the words\n",
    "#### The split method without any arguments splits the string into a list of words \n",
    "#### using spaces as separators and automatically removes any extra spaces.\n",
    "words = str1.split()\n",
    "\n",
    "### Step 3: Use 'join' to combine the words\n",
    "#### The 'join' method takes a list of words and combines them into a single string, separating each word with a single space.\n",
    "str1 = ' '.join(words)\n",
    "\n",
    "### Step 4: Use print\n",
    "print(str1)"
   ]
  },
  {
   "cell_type": "code",
   "execution_count": null,
   "id": "ad12f2f3-0144-4eed-93be-632e8a4c40bd",
   "metadata": {},
   "outputs": [],
   "source": [
    "**Answer to question 2**"
   ]
  },
  {
   "cell_type": "code",
   "execution_count": 33,
   "id": "ac3d8951-a6af-4d5c-b7eb-197c45addd08",
   "metadata": {},
   "outputs": [
    {
     "name": "stdout",
     "output_type": "stream",
     "text": [
      "9\n"
     ]
    }
   ],
   "source": [
    "### Step 1: Define the initial string\n",
    "#### First, we define the string containing words and spaces.\n",
    "str1 = 'I am    too   old'\n",
    "\n",
    "### Step 2: Remove the spaces\n",
    "#### To count only the letters, we need to remove the white spaces from the string.\n",
    "#### We can use the replace method to replace all spaces with an empty string.\n",
    "no_spaces = str1.replace(\" \", \"\")\n",
    "\n",
    "### Step 3: Count the letters\n",
    "#### We use the len function to get the length of the resulting string\n",
    "#### which will give us the number of letters.\n",
    "num_letters = len(no_spaces)\n",
    "\n",
    "### Step 4: Use print\n",
    "print(num_letters)"
   ]
  },
  {
   "cell_type": "code",
   "execution_count": null,
   "id": "6efe1b78-0d39-40a3-9ac1-b034a707a506",
   "metadata": {},
   "outputs": [],
   "source": [
    "**Answer to question 3**"
   ]
  },
  {
   "cell_type": "code",
   "execution_count": 35,
   "id": "c0e7c6e2-ef48-4d7b-a98d-96ff841988ff",
   "metadata": {},
   "outputs": [
    {
     "name": "stdout",
     "output_type": "stream",
     "text": [
      "3\n"
     ]
    }
   ],
   "source": [
    "### Step 1: Define the initial string\n",
    "#### First, we define the string containing words and spaces.\n",
    "str1 = 'I am too old'\n",
    "\n",
    "### Step 2: Count the spaces\n",
    "#### To count the number of white spaces in the string, we can use the count method of Python strings,\n",
    "#### which counts the number of occurrences of a specific character.\n",
    "num_spaces = str1.count(\" \")\n",
    "\n",
    "### Step 3: Use print\n",
    "print(num_spaces)"
   ]
  },
  {
   "cell_type": "code",
   "execution_count": null,
   "id": "23947d3b-3d23-4b4e-8c23-d3d85769a612",
   "metadata": {},
   "outputs": [],
   "source": [
    "**Answer to question 4**"
   ]
  },
  {
   "cell_type": "code",
   "execution_count": 37,
   "id": "836668de-1df7-42de-a52d-fb9393ac2466",
   "metadata": {},
   "outputs": [
    {
     "name": "stdout",
     "output_type": "stream",
     "text": [
      "[9, 11, 14, 9, 12, 8, 14, 9, 8, 16, 12, 13, 6, 9, 10, 12, 8, 11, 14, 6, 11, 7, 15, 9, 12, 8, 9, 11, 13, 6, 9, 12, 11, 16, 11]\n"
     ]
    }
   ],
   "source": [
    "### Step 1: Define the list of email addresses\n",
    "#### First, we define the list containing the email addresses.\n",
    "emails = [\"cscornejo@pucp.edu.pe\", \"orellana.cn@pucp.edu.pe\", \"karina.morales@pucp.edu.pe\", \"a20083223@pucp.pe\", \"abel.camacho@pucp.pe\", \"mtintaya@pucp.edu.pe\", \"joselin.chavez@pucp.edu.pe\", \"a20105737@pucp.pe\", \"jfgomezc@pucp.pe\", \"afrania.palomino@pucp.pe\", \"luzon.bianca@pucp.pe\", \"adrian.suanaz@pucp.pe\", \"soto.y@pucp.edu.pe\", \"a20132766@pucp.pe\", \"andre.lama@pucp.edu.pe\", \"gustavo.meza@pucp.edu.pe\", \"pmlozada@pucp.edu.pe\", \"m.zambranoj@pucp.edu.pe\", \"nicolas.jacobs@pucp.edu.pe\", \"gvidal@pucp.edu.pe\", \"jane.torres@pucp.edu.pe\", \"m.lopez@pucp.edu.pe\", \"alejandro.boyco@pucp.edu.pe\", \"a20167070@pucp.edu.pe\", \"riega.stephy@pucp.edu.pe\", \"vlevanot@pucp.edu.pe\", \"sesquives@pucp.edu.pe\", \"perez.juanc@pucp.edu.pe\", \"mariana.otero@pucp.edu.pe\", \"aclavo@pucp.edu.pe\", \"a20182474@pucp.edu.pe\", \"josue.caldas@pucp.edu.pe\", \"fabio.salas@pucp.edu.pe\", \"fernanda.pizarro@pucp.edu.pe\", \"aquillatupa@pucp.pe\"]\n",
    "\n",
    "### Step 2: Use 'map' and 'find' to locate the position of the '@' character\n",
    "#### To find the position of the '@' character in each email address, we can use a combination of the 'map' function and the 'find' method.\n",
    "#### The 'find' method returns the position of the first occurrence of a character in a string, and map applies this function to each element of the list.\n",
    "at_positions = list(map(lambda email: email.find('@'), emails))\n",
    "\n",
    "### Step 3: Use print\n",
    "print(at_positions)"
   ]
  },
  {
   "cell_type": "code",
   "execution_count": null,
   "id": "f5ead27c-ee39-4e5a-b42b-dbe1fe1fa3dc",
   "metadata": {},
   "outputs": [],
   "source": [
    "**Answer to question 5**"
   ]
  },
  {
   "cell_type": "code",
   "execution_count": 39,
   "id": "afbcaf4e-9025-4a4d-955d-34265b1a377e",
   "metadata": {},
   "outputs": [
    {
     "name": "stdout",
     "output_type": "stream",
     "text": [
      "[True, True, True, False, False, True, True, False, False, False, False, False, True, False, True, True, True, True, True, True, True, True, True, True, True, True, True, True, True, True, True, True, True, True, False]\n"
     ]
    }
   ],
   "source": [
    "### Step 1: Define the list of email addresses\n",
    "#### First, we define the list containing the email addresses.\n",
    "emails = [\"cscornejo@pucp.edu.pe\", \"orellana.cn@pucp.edu.pe\", \"karina.morales@pucp.edu.pe\", \"a20083223@pucp.pe\", \"abel.camacho@pucp.pe\", \"mtintaya@pucp.edu.pe\", \"joselin.chavez@pucp.edu.pe\", \"a20105737@pucp.pe\", \"jfgomezc@pucp.pe\", \"afrania.palomino@pucp.pe\", \"luzon.bianca@pucp.pe\", \"adrian.suanaz@pucp.pe\", \"soto.y@pucp.edu.pe\", \"a20132766@pucp.pe\", \"andre.lama@pucp.edu.pe\", \"gustavo.meza@pucp.edu.pe\", \"pmlozada@pucp.edu.pe\", \"m.zambranoj@pucp.edu.pe\", \"nicolas.jacobs@pucp.edu.pe\", \"gvidal@pucp.edu.pe\", \"jane.torres@pucp.edu.pe\", \"m.lopez@pucp.edu.pe\", \"alejandro.boyco@pucp.edu.pe\", \"a20167070@pucp.edu.pe\", \"riega.stephy@pucp.edu.pe\", \"vlevanot@pucp.edu.pe\", \"sesquives@pucp.edu.pe\", \"perez.juanc@pucp.edu.pe\", \"mariana.otero@pucp.edu.pe\", \"aclavo@pucp.edu.pe\", \"a20182474@pucp.edu.pe\", \"josue.caldas@pucp.edu.pe\", \"fabio.salas@pucp.edu.pe\", \"fernanda.pizarro@pucp.edu.pe\", \"aquillatupa@pucp.pe\"]\n",
    "\n",
    "### Step 2: Use 'map' and the 'in' operator to check for the existence of '.edu'\n",
    "#### To check if the string '.edu' exists in each email address, we can use a combination of the 'map' function and the 'in' operator.\n",
    "#### The 'in' operator checks if a substring is present in a string, and 'map' applies this operation to each element of the list.\n",
    "has_edu = list(map(lambda email: '.edu' in email, emails))\n",
    "\n",
    "### Step 3: Use print\n",
    "print(has_edu)"
   ]
  },
  {
   "cell_type": "code",
   "execution_count": null,
   "id": "c7525b8b-143e-4c13-a724-a9d0b52ba6d1",
   "metadata": {},
   "outputs": [],
   "source": [
    "**Answer to question 6**"
   ]
  },
  {
   "cell_type": "code",
   "execution_count": 41,
   "id": "bd3a7a3d-0e5e-41f1-96ca-286b7e0f89f4",
   "metadata": {},
   "outputs": [
    {
     "name": "stdout",
     "output_type": "stream",
     "text": [
      "['cscornejo@pucp', 'orellana', 'karina', 'a20083223@pucp', 'abel', 'mtintaya@pucp', 'joselin', 'a20105737@pucp', 'jfgomezc@pucp', 'afrania', 'luzon', 'adrian', 'soto', 'a20132766@pucp', 'andre', 'gustavo', 'pmlozada@pucp', 'm', 'nicolas', 'gvidal@pucp', 'jane', 'm', 'alejandro', 'a20167070@pucp', 'riega', 'vlevanot@pucp', 'sesquives@pucp', 'perez', 'mariana', 'aclavo@pucp', 'a20182474@pucp', 'josue', 'fabio', 'fernanda', 'aquillatupa@pucp']\n"
     ]
    }
   ],
   "source": [
    "### Step 1: Define the list of email addresses\n",
    "#### First, we define the list containing the email addresses.\n",
    "emails = [\"cscornejo@pucp.edu.pe\", \"orellana.cn@pucp.edu.pe\", \"karina.morales@pucp.edu.pe\", \"a20083223@pucp.pe\", \"abel.camacho@pucp.pe\", \"mtintaya@pucp.edu.pe\", \"joselin.chavez@pucp.edu.pe\", \"a20105737@pucp.pe\", \"jfgomezc@pucp.pe\", \"afrania.palomino@pucp.pe\", \"luzon.bianca@pucp.pe\", \"adrian.suanaz@pucp.pe\", \"soto.y@pucp.edu.pe\", \"a20132766@pucp.pe\", \"andre.lama@pucp.edu.pe\", \"gustavo.meza@pucp.edu.pe\", \"pmlozada@pucp.edu.pe\", \"m.zambranoj@pucp.edu.pe\", \"nicolas.jacobs@pucp.edu.pe\", \"gvidal@pucp.edu.pe\", \"jane.torres@pucp.edu.pe\", \"m.lopez@pucp.edu.pe\", \"alejandro.boyco@pucp.edu.pe\", \"a20167070@pucp.edu.pe\", \"riega.stephy@pucp.edu.pe\", \"vlevanot@pucp.edu.pe\", \"sesquives@pucp.edu.pe\", \"perez.juanc@pucp.edu.pe\", \"mariana.otero@pucp.edu.pe\", \"aclavo@pucp.edu.pe\", \"a20182474@pucp.edu.pe\", \"josue.caldas@pucp.edu.pe\", \"fabio.salas@pucp.edu.pe\", \"fernanda.pizarro@pucp.edu.pe\", \"aquillatupa@pucp.pe\"]\n",
    "\n",
    "### Step 2: Use 'map' and 'split' to get the strings before the first dot\n",
    "#### To get the part of the string before the first dot in each email address, we can use a combination of the 'map' function and the 'split' method.\n",
    "#### The 'split' method splits the string into a list at each occurrence of the specified character, and we can take the first element of the resulting list.\n",
    "before_dot = list(map(lambda email: email.split('.')[0], emails))\n",
    "\n",
    "### Step 3: Use print\n",
    "print(before_dot)"
   ]
  },
  {
   "cell_type": "markdown",
   "id": "b939543b",
   "metadata": {},
   "source": [
    "## 1.4 Pandas"
   ]
  },
  {
   "cell_type": "markdown",
   "id": "b939543b",
   "metadata": {},
   "source": [
    "## 1.4 Pandas"
   ]
  },
  {
   "cell_type": "code",
   "execution_count": null,
   "id": "e09e05fd-764a-40a2-945a-5514e9cfcdea",
   "metadata": {},
   "outputs": [],
   "source": []
  },
  {
   "cell_type": "code",
   "execution_count": null,
   "id": "caede39d-5f29-4462-8957-3216ff4fe729",
   "metadata": {},
   "outputs": [],
   "source": []
  },
  {
   "cell_type": "code",
   "execution_count": null,
   "id": "4a7f55f9-afa5-482c-91ab-b278a9299db9",
   "metadata": {},
   "outputs": [],
   "source": []
  },
  {
   "cell_type": "code",
   "execution_count": null,
   "id": "d4c94f66-d09c-4214-b264-7aa45ff54a2a",
   "metadata": {},
   "outputs": [],
   "source": []
  },
  {
   "cell_type": "code",
   "execution_count": null,
   "id": "19019725-aa77-45e5-8d63-c5dadd90d5e6",
   "metadata": {},
   "outputs": [],
   "source": []
  },
  {
   "cell_type": "code",
   "execution_count": null,
   "id": "521502f0-7a4c-43f6-8770-a17e5b207492",
   "metadata": {},
   "outputs": [],
   "source": []
  },
  {
   "cell_type": "code",
   "execution_count": null,
   "id": "ddf26cbf-d63b-4627-afa9-44a5991ba00b",
   "metadata": {},
   "outputs": [],
   "source": []
  },
  {
   "cell_type": "code",
   "execution_count": null,
   "id": "9f61bf86-d667-495f-aab7-3b473de15834",
   "metadata": {},
   "outputs": [],
   "source": []
  },
  {
   "cell_type": "code",
   "execution_count": null,
   "id": "49928f09-d34d-43ea-9666-7ff8d4d42fe0",
   "metadata": {},
   "outputs": [],
   "source": []
  },
  {
   "cell_type": "code",
   "execution_count": null,
   "id": "995d8e6c-a908-40d9-8aa9-436fcb800e6c",
   "metadata": {},
   "outputs": [],
   "source": []
  },
  {
   "cell_type": "code",
   "execution_count": null,
   "id": "0cefa3f5-c581-4fc7-961f-6d42b5649885",
   "metadata": {},
   "outputs": [],
   "source": []
  },
  {
   "cell_type": "code",
   "execution_count": null,
   "id": "70ef0d12-67fd-442c-9476-06dc39f8e881",
   "metadata": {},
   "outputs": [],
   "source": []
  },
  {
   "cell_type": "code",
   "execution_count": null,
   "id": "c72ad87d-141e-49f8-995a-414fe141fd1a",
   "metadata": {},
   "outputs": [],
   "source": []
  }
 ],
 "metadata": {
  "kernelspec": {
   "display_name": "Python 3 (ipykernel)",
   "language": "python",
   "name": "python3"
  },
  "language_info": {
   "codemirror_mode": {
    "name": "ipython",
    "version": 3
   },
   "file_extension": ".py",
   "mimetype": "text/x-python",
   "name": "python",
   "nbconvert_exporter": "python",
   "pygments_lexer": "ipython3",
   "version": "3.12.4"
  }
 },
 "nbformat": 4,
 "nbformat_minor": 5
}
