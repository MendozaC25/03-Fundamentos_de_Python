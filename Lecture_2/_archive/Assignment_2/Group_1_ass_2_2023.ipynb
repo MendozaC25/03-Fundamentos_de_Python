{
 "cells": [
  {
   "cell_type": "markdown",
   "id": "aba7c516",
   "metadata": {},
   "source": [
    "# **Assignment 2**\n",
    "\n",
    "## Nombres:\n",
    "### Fiorella Chinchay\n",
    "### César Ortiz\n",
    "### Julissa Menchhola\n",
    "### Vivian Ramírez\n",
    "\n",
    "It is totally prohibited to use any kind of loop. You can use stackoverflow. If you copy codes from previous answers, explain each step. No explanation is 0 points.\n",
    "\n",
    "## **1.1 Tuple**"
   ]
  },
  {
   "cell_type": "code",
   "execution_count": 2,
   "id": "f0121b67",
   "metadata": {},
   "outputs": [],
   "source": [
    "tuple1 = (\"Orange\", [10, 20, 30], (5, 15, 25))\n",
    "tuple2 = ([7, 8], [9, 1], [10, 7])"
   ]
  },
  {
   "cell_type": "markdown",
   "id": "b7ff715c",
   "metadata": {},
   "source": [
    "1. **Print the first item of the second item of tuple1 object. Hint: Use indexing**"
   ]
  },
  {
   "cell_type": "code",
   "execution_count": 35,
   "id": "50078351",
   "metadata": {},
   "outputs": [
    {
     "name": "stdout",
     "output_type": "stream",
     "text": [
      "10\n"
     ]
    }
   ],
   "source": [
    "second_item = tuple1[1]\n",
    "result = second_item[0]\n",
    "print(result)"
   ]
  },
  {
   "cell_type": "markdown",
   "id": "2d0fafa3",
   "metadata": {},
   "source": [
    "2. **Print the last item of the tuple1 object.Hint: Use indexing**"
   ]
  },
  {
   "cell_type": "code",
   "execution_count": 21,
   "id": "50e3cdd3",
   "metadata": {},
   "outputs": [
    {
     "data": {
      "text/plain": [
       "(5, 15, 25)"
      ]
     },
     "execution_count": 21,
     "metadata": {},
     "output_type": "execute_result"
    }
   ],
   "source": [
    "tuple1[-1]"
   ]
  },
  {
   "cell_type": "markdown",
   "id": "631d7f47",
   "metadata": {},
   "source": [
    "3. **Change the value \"orange\" for \"pink grapefruit\". Comment the output. Hint: Is it possible?**"
   ]
  },
  {
   "cell_type": "markdown",
   "id": "113c2f5c",
   "metadata": {},
   "source": [
    "NO es posible cambiar los elementos de la tupla. Para ello, se recomienta usar una lista"
   ]
  },
  {
   "cell_type": "code",
   "execution_count": 34,
   "id": "0045335c",
   "metadata": {},
   "outputs": [
    {
     "name": "stdout",
     "output_type": "stream",
     "text": [
      "['pink grapefruit', [10, 20, 30], (5, 15, 25)]\n"
     ]
    }
   ],
   "source": [
    "List1 = [\"Orange\", [10, 20, 30], (5, 15, 25)]\n",
    "List1[0] = \"pink grapefruit\"\n",
    "print(List1)"
   ]
  },
  {
   "cell_type": "markdown",
   "id": "9e8bedf3",
   "metadata": {},
   "source": [
    "4. **Print the length of tuple1. Hint: Length function**"
   ]
  },
  {
   "cell_type": "code",
   "execution_count": 17,
   "id": "051f5c83",
   "metadata": {},
   "outputs": [
    {
     "data": {
      "text/plain": [
       "3"
      ]
     },
     "execution_count": 17,
     "metadata": {},
     "output_type": "execute_result"
    }
   ],
   "source": [
    "len(tuple1)"
   ]
  },
  {
   "cell_type": "markdown",
   "id": "9e37e833",
   "metadata": {},
   "source": [
    "5. **Sum all the elements of tuple2 and describe your steps and explain each of them. Hint: Use map function.**"
   ]
  },
  {
   "cell_type": "code",
   "execution_count": 30,
   "id": "1193ec80",
   "metadata": {},
   "outputs": [
    {
     "name": "stdout",
     "output_type": "stream",
     "text": [
      "La suma de los elementos de cada lista es: [15, 10, 17]\n",
      "La suma total de todos los elementos de la tupla es: 42\n"
     ]
    }
   ],
   "source": [
    "sumas_por_lista = [sum(sublista) for sublista in tuple2]\n",
    "suma_total = sum(sumas_por_lista)\n",
    "print(\"La suma de los elementos de cada lista es:\", sumas_por_lista)\n",
    "print(\"La suma total de todos los elementos de la tupla es:\", suma_total)"
   ]
  },
  {
   "cell_type": "markdown",
   "id": "b72a3aa4",
   "metadata": {},
   "source": [
    "6. **Generate a new tuple object named as tuple3 with the half values of tuple2. This tuple should be similar as tuple2, tuple of lists. Hint: Use map funciont.**"
   ]
  },
  {
   "cell_type": "code",
   "execution_count": 5,
   "id": "988f6d3c",
   "metadata": {},
   "outputs": [
    {
     "name": "stdout",
     "output_type": "stream",
     "text": [
      "Original tuple2: ([7, 8], [9, 1], [10, 7])\n",
      "New tuple3 with half values: ([3.5, 4.0], [4.5, 0.5], [5.0, 3.5])\n"
     ]
    }
   ],
   "source": [
    "tuple2 = ([7, 8], [9, 1], [10, 7])\n",
    "tuple3 = tuple(map(lambda sublist:[value / 2 for value in sublist], tuple2))\n",
    "print(\"Original tuple2:\", tuple2)\n",
    "print(\"New tuple3 with half values:\", tuple3)"
   ]
  },
  {
   "cell_type": "markdown",
   "id": "8d544ae4",
   "metadata": {},
   "source": [
    "## 1.2 Lists"
   ]
  },
  {
   "cell_type": "code",
   "execution_count": 4,
   "id": "81c27a80",
   "metadata": {},
   "outputs": [],
   "source": [
    "#Se importó nunpy para trabajar.\n",
    "import numpy as np"
   ]
  },
  {
   "cell_type": "code",
   "execution_count": 5,
   "id": "77468fa4",
   "metadata": {},
   "outputs": [],
   "source": [
    "f_list = [np.nan , np.nan, \"Austria\", \"Germany\", np.nan, \"Pakistan\", \"np.nan\", np.nan ]"
   ]
  },
  {
   "cell_type": "code",
   "execution_count": 6,
   "id": "74b5cf63",
   "metadata": {},
   "outputs": [],
   "source": [
    "text1 = ['My', 'teacher', 'assistant', 'is', 'so', 'boring.']"
   ]
  },
  {
   "cell_type": "code",
   "execution_count": 7,
   "id": "ddb82569",
   "metadata": {},
   "outputs": [],
   "source": [
    "p2_list = [ 2 , 3, 4, 5 ]"
   ]
  },
  {
   "cell_type": "code",
   "execution_count": 8,
   "id": "0b3fa5a1",
   "metadata": {},
   "outputs": [],
   "source": [
    "values1 = [ 86, 86, 85, 85, 85, 83, 23, 0, 84, 1 ] "
   ]
  },
  {
   "cell_type": "code",
   "execution_count": 9,
   "id": "0285ba8f",
   "metadata": {},
   "outputs": [],
   "source": [
    "# These two lists a\n",
    "last_and_name = [ \"CORNEJO SANCHEZ, CHRISTIAN SANTOS\", \"ORELLANA QUISPE, CRISTIAN NASSER\", \"MORALES CHOQUEHUANCA, ANGELICA KARINA\", \"GUIMARAY RIBEYRO, JOSE ROBERTO\", \"CAMACHO GAVIDIA, ABEL FERNANDO\", \"TINTAYA ORIHUELA, MEIR ALVARO\", \"CHAVEZ MARTINEZ, JOSELIN ALEXANDRA\", \"FIGUEROA MURO, LEONEL ARTURO\", \"GOMEZ CRIBILLERO, JOSE FELIPE\", \"PALOMINO SEGUÍN, AFRANIA\", \"LUZON CUEVA, BIANCA MARIETTE\", \"SUAÑA ZEGARRA, ADRIAN ANDRE\", \"SOTO POMACHAGUA, DORKAS YOMIRA JHERMY\", \"FIORENTINO MARTINEZ, LADY ALY\", \"LAMA MAVILA, HECTOR ANDRE\", \"MEZA HINOJO, GUSTAVO\", \"LOZADA MURILLO, PERSEO MARCELO\", \"ZAMBRANO JIMENEZ, MIGUEL ALONZO\", \"JACOBS LUQUE, NICOLAS\", \"VIDAL VIDAL, ROCIO GABRIELA\", \"TORRES ANICAMA, JANE CAMILA\", \"LOPEZ ESTRADA, MARIA ELISA\", \"BOYCO ORAMS, ALEJANDRO\", \"DIAZ BERROSPI, KARLINE ROSMELI\", \"RIEGA ESCALANTE, STEPHY ROSARIO\", \"LEVANO TORRES, VALERIA CECILIA\", \"ESQUIVES BRAVO, SEBASTIAN RENATO\", \"PEREZ GONZALES, JUAN CARLOS\", \"OTERO MAGUIÑA, MARIANA\", \"CLAVO CAMPOS, ANDREA BRIZETH\", \"AGUILAR GARCIA, ERICK JOSUE\", \"CALDAS VELASQUEZ, JOSUE DANIEL\", \"SALAS NUÑEZ BORJA, FABIO MANUEL\", \"PIZARRO VILLANES, FERNANDA NICOLLE\", \"QUILLATUPA MORALES, ANGELA ADELINA\", \"HUANCAYA IDONE, CESAR DANTE\", \"CALVO PORTOCARRERO, GABRIELA ISABEL\", \"IBAÑEZ ABANTO, ANGEL MAURICIO\", \"MELÉNDEZ APONTE, JUAN DIEGO\", \"CRISTIAN SERRANO, ARONE\", \"HINOJOSA CAHUANA, PERCY ALBERTH\", \"ANGLAS GARCÍA, KEVIN ARTURO\", \"ALDAVE ACOSTA, CESAR ERNESTO\", \"NÚÑEZ HUAMÁN, CÉSAR AGUSTO\", \"OBREGON HUAMAN, DIANA EDITH\", \"SOTO PACHERRES, RODRIGO FRANCO\", \"INGARUCA RIVERA, GRETTEL ALEXANDRA\", \"ROJAS HUAMAN, ROSA ANGELA\", \"NEYRA SALAS, DANTE OMAR\", \"HUERTA ESPINOZA, YAJAIRA ALEXANDRA\", \"HUANCA MARTINEZ, JORGE ALBERTO\", \"FLORES CADILLO, ALEXIS\" ]\n",
    "emails = [\"cscornejo@pucp.edu.pe\", \"orellana.cn@pucp.edu.pe\", \"karina.morales@pucp.edu.pe\", \"a20083223@pucp.pe\", \"abel.camacho@pucp.pe\", \"mtintaya@pucp.edu.pe\", \"joselin.chavez@pucp.edu.pe\", \"a20105737@pucp.pe\", \"jfgomezc@pucp.pe\", \"afrania.palomino@pucp.pe\", \"luzon.bianca@pucp.pe\", \"adrian.suanaz@pucp.pe\", \"soto.y@pucp.edu.pe\", \"a20132766@pucp.pe\", \"andre.lama@pucp.edu.pe\", \"gustavo.meza@pucp.edu.pe\", \"pmlozada@pucp.edu.pe\", \"m.zambranoj@pucp.edu.pe\", \"nicolas.jacobs@pucp.edu.pe\", \"gvidal@pucp.edu.pe\", \"jane.torres@pucp.edu.pe\", \"m.lopez@pucp.edu.pe\", \"alejandro.boyco@pucp.edu.pe\", \"a20167070@pucp.edu.pe\", \"riega.stephy@pucp.edu.pe\", \"vlevanot@pucp.edu.pe\", \"sesquives@pucp.edu.pe\", \"perez.juanc@pucp.edu.pe\", \"mariana.otero@pucp.edu.pe\", \"aclavo@pucp.edu.pe\", \"a20182474@pucp.edu.pe\", \"josue.caldas@pucp.edu.pe\", \"fabio.salas@pucp.edu.pe\", \"fernanda.pizarro@pucp.edu.pe\", \"aquillatupa@pucp.pe\", \"\", \"\", \"\", \"\", \"\", \"f0873079@pucp.edu.pe\", \"\", \"\", \"\", \"\", \"\", \"\", \"\", \"\", \"\", \"\", \"flores.alexis@pucp.edu.pe\", ]"
   ]
  },
  {
   "cell_type": "markdown",
   "id": "61e9d73d",
   "metadata": {},
   "source": [
    "1. **Show the indices of the np.nan values in the f_list list. We want to see this output: The indices 0, 1, 4, 7 have np.nan values. Hint: Use print function and f-strings to insert the indices values.**"
   ]
  },
  {
   "cell_type": "code",
   "execution_count": 10,
   "id": "6802d1c6",
   "metadata": {},
   "outputs": [
    {
     "name": "stdout",
     "output_type": "stream",
     "text": [
      "The indices 0, 1, 4, 7 have np.nan values.\n"
     ]
    }
   ],
   "source": [
    "import numpy as np\n",
    "f_list = [np.nan , np.nan, \"Austria\", \"Germany\", np.nan, \"Pakistan\", \"np.nan\", np.nan ]\n",
    "nan_indices = [index for index, value in enumerate(f_list) if isinstance(value, float) and np.isnan(value)]\n",
    "print(f\"The indices {', '.join(map(str, nan_indices))} have np.nan values.\")"
   ]
  },
  {
   "cell_type": "markdown",
   "id": "de8ba0dc",
   "metadata": {},
   "source": [
    "**2. Replicate 4 times the values of the list p2_list. We expect an ouput like this: [ 2 , 3, 4, 5, 2 , 3, 4, 5, 2 , 3, 4, 5, 2 , 3, 4, 5]. Hint: Use multiplication function in listsand see the output.**"
   ]
  },
  {
   "cell_type": "code",
   "execution_count": 14,
   "id": "b78cee8a",
   "metadata": {},
   "outputs": [
    {
     "name": "stdout",
     "output_type": "stream",
     "text": [
      "The resulting list is: [2, 3, 4, 5, 2, 3, 4, 5, 2, 3, 4, 5, 2, 3, 4, 5]\n"
     ]
    }
   ],
   "source": [
    "#Este código se perdió en las diferentes ramas que hicimos, lo hemos restaurado para esta presentación final.\n",
    "p2_list = [ 2 , 3, 4, 5 ]\n",
    "reps = 4\n",
    "Resultado_2 = p2_list* reps\n",
    "print(f\"The resulting list is: {Resultado_2}\")"
   ]
  },
  {
   "cell_type": "markdown",
   "id": "bb6eadb6",
   "metadata": {},
   "source": [
    "3. **Print the length of f_first**"
   ]
  },
  {
   "cell_type": "code",
   "execution_count": 5,
   "id": "acc360f7",
   "metadata": {},
   "outputs": [
    {
     "data": {
      "text/plain": [
       "8"
      ]
     },
     "execution_count": 5,
     "metadata": {},
     "output_type": "execute_result"
    }
   ],
   "source": [
    "len(f_list)"
   ]
  },
  {
   "cell_type": "markdown",
   "id": "35aed97c",
   "metadata": {},
   "source": [
    "4. **Print My teacher assistant is so boring. using text1 list. Hint: Use the join function** "
   ]
  },
  {
   "cell_type": "code",
   "execution_count": 11,
   "id": "a500f963",
   "metadata": {
    "scrolled": true
   },
   "outputs": [
    {
     "name": "stdout",
     "output_type": "stream",
     "text": [
      "My teacher assistant is so boring.\n"
     ]
    }
   ],
   "source": [
    "text1 = ['My ', 'teacher ', 'assistant ', 'is ', 'so ', 'boring.']\n",
    "sentence = \"\".join(text1)\n",
    "print(sentence)"
   ]
  },
  {
   "cell_type": "markdown",
   "id": "79b6c1b2",
   "metadata": {},
   "source": [
    "5. **Print My TA is so boring, but is very funny. using text1 list.Hint: Use the join function, and extend method.**"
   ]
  },
  {
   "cell_type": "code",
   "execution_count": 15,
   "id": "361af730",
   "metadata": {},
   "outputs": [
    {
     "name": "stdout",
     "output_type": "stream",
     "text": [
      "My teacher assistant is so boring, but is very funny.\n"
     ]
    }
   ],
   "source": [
    "text1 = ['My ', 'teacher ', 'assistant ', 'is ', 'so ', 'boring']\n",
    "text1.extend([', but ','is ','very ', 'funny.'])\n",
    "sentence = \"\".join(text1)\n",
    "print(sentence)"
   ]
  },
  {
   "cell_type": "markdown",
   "id": "52e360b3",
   "metadata": {},
   "source": [
    "**6. Print**\n",
    "\n",
    "The max value of values1 is 86 and is located in the 0 index.\n",
    "The min value of values1 is 0 and is located in the 7 index.\n",
    "Hint: Use the f-string, min, and max functions."
   ]
  },
  {
   "cell_type": "code",
   "execution_count": 16,
   "id": "5bff7733",
   "metadata": {},
   "outputs": [
    {
     "name": "stdout",
     "output_type": "stream",
     "text": [
      "The max value of values1 is 86 and is located in the 0 index.\n",
      "The min value of values1 is 0 and is located in the 7 index.\n"
     ]
    }
   ],
   "source": [
    "# Este código se perdió en las ramas previas, lo hemos reconstruido para esta entrega\n",
    "max=np.max(values1)\n",
    "index_max=values1.index(max)\n",
    "min=np.min(values1)\n",
    "index_min=values1.index(min)\n",
    "sentmax=f'The max value of values1 is {max} and is located in the {index_max} index.'\n",
    "sentmin=f'The min value of values1 is {min} and is located in the {index_min} index.'\n",
    "print(sentmax)\n",
    "print(sentmin)"
   ]
  },
  {
   "cell_type": "markdown",
   "id": "8872ae00",
   "metadata": {},
   "source": [
    "7. **Get two lists: `names` and `last_names` using `last_and_name` list. Hint: Use `map` and `split`.**"
   ]
  },
  {
   "cell_type": "code",
   "execution_count": 17,
   "id": "0a31cae7",
   "metadata": {
    "scrolled": true
   },
   "outputs": [
    {
     "name": "stdout",
     "output_type": "stream",
     "text": [
      "Names: [' CHRISTIAN SANTOS', ' CRISTIAN NASSER', ' ANGELICA KARINA', ' JOSE ROBERTO', ' ABEL FERNANDO', ' MEIR ALVARO', ' JOSELIN ALEXANDRA', ' LEONEL ARTURO', ' JOSE FELIPE', ' AFRANIA', ' BIANCA MARIETTE', ' ADRIAN ANDRE', ' DORKAS YOMIRA JHERMY', ' LADY ALY', ' HECTOR ANDRE', ' GUSTAVO', ' PERSEO MARCELO', ' MIGUEL ALONZO', ' NICOLAS', ' ROCIO GABRIELA', ' JANE CAMILA', ' MARIA ELISA', ' ALEJANDRO', ' KARLINE ROSMELI', ' STEPHY ROSARIO', ' VALERIA CECILIA', ' SEBASTIAN RENATO', ' JUAN CARLOS', ' MARIANA', ' ANDREA BRIZETH', ' ERICK JOSUE', ' JOSUE DANIEL', ' FABIO MANUEL', ' FERNANDA NICOLLE', ' ANGELA ADELINA', ' CESAR DANTE', ' GABRIELA ISABEL', ' ANGEL MAURICIO', ' JUAN DIEGO', ' ARONE', ' PERCY ALBERTH', ' KEVIN ARTURO', ' CESAR ERNESTO', ' CÉSAR AGUSTO', ' DIANA EDITH', ' RODRIGO FRANCO', ' GRETTEL ALEXANDRA', ' ROSA ANGELA', ' DANTE OMAR', ' YAJAIRA ALEXANDRA', ' JORGE ALBERTO', ' ALEXIS']\n",
      "Last Names: ['CORNEJO SANCHEZ', 'ORELLANA QUISPE', 'MORALES CHOQUEHUANCA', 'GUIMARAY RIBEYRO', 'CAMACHO GAVIDIA', 'TINTAYA ORIHUELA', 'CHAVEZ MARTINEZ', 'FIGUEROA MURO', 'GOMEZ CRIBILLERO', 'PALOMINO SEGUÍN', 'LUZON CUEVA', 'SUAÑA ZEGARRA', 'SOTO POMACHAGUA', 'FIORENTINO MARTINEZ', 'LAMA MAVILA', 'MEZA HINOJO', 'LOZADA MURILLO', 'ZAMBRANO JIMENEZ', 'JACOBS LUQUE', 'VIDAL VIDAL', 'TORRES ANICAMA', 'LOPEZ ESTRADA', 'BOYCO ORAMS', 'DIAZ BERROSPI', 'RIEGA ESCALANTE', 'LEVANO TORRES', 'ESQUIVES BRAVO', 'PEREZ GONZALES', 'OTERO MAGUIÑA', 'CLAVO CAMPOS', 'AGUILAR GARCIA', 'CALDAS VELASQUEZ', 'SALAS NUÑEZ BORJA', 'PIZARRO VILLANES', 'QUILLATUPA MORALES', 'HUANCAYA IDONE', 'CALVO PORTOCARRERO', 'IBAÑEZ ABANTO', 'MELÉNDEZ APONTE', 'CRISTIAN SERRANO', 'HINOJOSA CAHUANA', 'ANGLAS GARCÍA', 'ALDAVE ACOSTA', 'NÚÑEZ HUAMÁN', 'OBREGON HUAMAN', 'SOTO PACHERRES', 'INGARUCA RIVERA', 'ROJAS HUAMAN', 'NEYRA SALAS', 'HUERTA ESPINOZA', 'HUANCA MARTINEZ', 'FLORES CADILLO']\n"
     ]
    }
   ],
   "source": [
    "last_and_name = [ \"CORNEJO SANCHEZ, CHRISTIAN SANTOS\", \"ORELLANA QUISPE, CRISTIAN NASSER\", \"MORALES CHOQUEHUANCA, ANGELICA KARINA\", \"GUIMARAY RIBEYRO, JOSE ROBERTO\", \"CAMACHO GAVIDIA, ABEL FERNANDO\", \"TINTAYA ORIHUELA, MEIR ALVARO\", \"CHAVEZ MARTINEZ, JOSELIN ALEXANDRA\", \"FIGUEROA MURO, LEONEL ARTURO\", \"GOMEZ CRIBILLERO, JOSE FELIPE\", \"PALOMINO SEGUÍN, AFRANIA\", \"LUZON CUEVA, BIANCA MARIETTE\", \"SUAÑA ZEGARRA, ADRIAN ANDRE\", \"SOTO POMACHAGUA, DORKAS YOMIRA JHERMY\", \"FIORENTINO MARTINEZ, LADY ALY\", \"LAMA MAVILA, HECTOR ANDRE\", \"MEZA HINOJO, GUSTAVO\", \"LOZADA MURILLO, PERSEO MARCELO\", \"ZAMBRANO JIMENEZ, MIGUEL ALONZO\", \"JACOBS LUQUE, NICOLAS\", \"VIDAL VIDAL, ROCIO GABRIELA\", \"TORRES ANICAMA, JANE CAMILA\", \"LOPEZ ESTRADA, MARIA ELISA\", \"BOYCO ORAMS, ALEJANDRO\", \"DIAZ BERROSPI, KARLINE ROSMELI\", \"RIEGA ESCALANTE, STEPHY ROSARIO\", \"LEVANO TORRES, VALERIA CECILIA\", \"ESQUIVES BRAVO, SEBASTIAN RENATO\", \"PEREZ GONZALES, JUAN CARLOS\", \"OTERO MAGUIÑA, MARIANA\", \"CLAVO CAMPOS, ANDREA BRIZETH\", \"AGUILAR GARCIA, ERICK JOSUE\", \"CALDAS VELASQUEZ, JOSUE DANIEL\", \"SALAS NUÑEZ BORJA, FABIO MANUEL\", \"PIZARRO VILLANES, FERNANDA NICOLLE\", \"QUILLATUPA MORALES, ANGELA ADELINA\", \"HUANCAYA IDONE, CESAR DANTE\", \"CALVO PORTOCARRERO, GABRIELA ISABEL\", \"IBAÑEZ ABANTO, ANGEL MAURICIO\", \"MELÉNDEZ APONTE, JUAN DIEGO\", \"CRISTIAN SERRANO, ARONE\", \"HINOJOSA CAHUANA, PERCY ALBERTH\", \"ANGLAS GARCÍA, KEVIN ARTURO\", \"ALDAVE ACOSTA, CESAR ERNESTO\", \"NÚÑEZ HUAMÁN, CÉSAR AGUSTO\", \"OBREGON HUAMAN, DIANA EDITH\", \"SOTO PACHERRES, RODRIGO FRANCO\", \"INGARUCA RIVERA, GRETTEL ALEXANDRA\", \"ROJAS HUAMAN, ROSA ANGELA\", \"NEYRA SALAS, DANTE OMAR\", \"HUERTA ESPINOZA, YAJAIRA ALEXANDRA\", \"HUANCA MARTINEZ, JORGE ALBERTO\", \"FLORES CADILLO, ALEXIS\" ]\n",
    "split_name = lambda full_name: full_name.split(',')\n",
    "split_name = map(split_name , last_and_name)\n",
    "last_names , names = map(list,zip(*split_name))\n",
    "print(\"Names:\", names)\n",
    "print(\"Last Names:\", last_names)"
   ]
  },
  {
   "cell_type": "markdown",
   "id": "653e90b8",
   "metadata": {},
   "source": [
    "8. **Give only the last names of students who do not have email. Use the `emails` and `last_names` listt. Hint: Use `map` and `split`.**"
   ]
  },
  {
   "cell_type": "code",
   "execution_count": 18,
   "id": "d7d6aaae",
   "metadata": {},
   "outputs": [
    {
     "name": "stdout",
     "output_type": "stream",
     "text": [
      "Last names of students without an email:\n",
      "['HUANCAYA IDONE', 'CALVO PORTOCARRERO', 'IBAÑEZ ABANTO', 'MELÉNDEZ APONTE', 'CRISTIAN SERRANO', 'ANGLAS GARCÍA', 'ALDAVE ACOSTA', 'NÚÑEZ HUAMÁN', 'OBREGON HUAMAN', 'SOTO PACHERRES', 'INGARUCA RIVERA', 'ROJAS HUAMAN', 'NEYRA SALAS', 'HUERTA ESPINOZA', 'HUANCA MARTINEZ']\n"
     ]
    }
   ],
   "source": [
    "emails = [\"cscornejo@pucp.edu.pe\", \"orellana.cn@pucp.edu.pe\", \"karina.morales@pucp.edu.pe\", \"a20083223@pucp.pe\", \"abel.camacho@pucp.pe\", \"mtintaya@pucp.edu.pe\", \"joselin.chavez@pucp.edu.pe\", \"a20105737@pucp.pe\", \"jfgomezc@pucp.pe\", \"afrania.palomino@pucp.pe\", \"luzon.bianca@pucp.pe\", \"adrian.suanaz@pucp.pe\", \"soto.y@pucp.edu.pe\", \"a20132766@pucp.pe\", \"andre.lama@pucp.edu.pe\", \"gustavo.meza@pucp.edu.pe\", \"pmlozada@pucp.edu.pe\", \"m.zambranoj@pucp.edu.pe\", \"nicolas.jacobs@pucp.edu.pe\", \"gvidal@pucp.edu.pe\", \"jane.torres@pucp.edu.pe\", \"m.lopez@pucp.edu.pe\", \"alejandro.boyco@pucp.edu.pe\", \"a20167070@pucp.edu.pe\", \"riega.stephy@pucp.edu.pe\", \"vlevanot@pucp.edu.pe\", \"sesquives@pucp.edu.pe\", \"perez.juanc@pucp.edu.pe\", \"mariana.otero@pucp.edu.pe\", \"aclavo@pucp.edu.pe\", \"a20182474@pucp.edu.pe\", \"josue.caldas@pucp.edu.pe\", \"fabio.salas@pucp.edu.pe\", \"fernanda.pizarro@pucp.edu.pe\", \"aquillatupa@pucp.pe\", \"\", \"\", \"\", \"\", \"\", \"f0873079@pucp.edu.pe\", \"\", \"\", \"\", \"\", \"\", \"\", \"\", \"\", \"\", \"\", \"flores.alexis@pucp.edu.pe\", ]\n",
    "\n",
    "last_names_without_email = list(map(lambda name_email: name_email[0].split(\", \")[0],filter(lambda name_email: name_email[1] == \"\", zip(last_and_name, emails))))\n",
    "print(\"Last names of students without an email:\")\n",
    "print(last_names_without_email)"
   ]
  },
  {
   "cell_type": "markdown",
   "id": "42335605",
   "metadata": {},
   "source": [
    "## 1.3 Strings"
   ]
  },
  {
   "cell_type": "code",
   "execution_count": 21,
   "id": "df22a4a4",
   "metadata": {},
   "outputs": [],
   "source": [
    "str1 = 'I am                            too                                                        old'"
   ]
  },
  {
   "cell_type": "code",
   "execution_count": 20,
   "id": "05857075",
   "metadata": {},
   "outputs": [],
   "source": [
    "emails = [\"cscornejo@pucp.edu.pe\", \"orellana.cn@pucp.edu.pe\", \"karina.morales@pucp.edu.pe\", \"a20083223@pucp.pe\", \"abel.camacho@pucp.pe\", \"mtintaya@pucp.edu.pe\", \"joselin.chavez@pucp.edu.pe\", \"a20105737@pucp.pe\", \"jfgomezc@pucp.pe\", \"afrania.palomino@pucp.pe\", \"luzon.bianca@pucp.pe\", \"adrian.suanaz@pucp.pe\", \"soto.y@pucp.edu.pe\", \"a20132766@pucp.pe\", \"andre.lama@pucp.edu.pe\", \"gustavo.meza@pucp.edu.pe\", \"pmlozada@pucp.edu.pe\", \"m.zambranoj@pucp.edu.pe\", \"nicolas.jacobs@pucp.edu.pe\", \"gvidal@pucp.edu.pe\", \"jane.torres@pucp.edu.pe\", \"m.lopez@pucp.edu.pe\", \"alejandro.boyco@pucp.edu.pe\", \"a20167070@pucp.edu.pe\", \"riega.stephy@pucp.edu.pe\", \"vlevanot@pucp.edu.pe\", \"sesquives@pucp.edu.pe\", \"perez.juanc@pucp.edu.pe\", \"mariana.otero@pucp.edu.pe\", \"aclavo@pucp.edu.pe\", \"a20182474@pucp.edu.pe\", \"josue.caldas@pucp.edu.pe\", \"fabio.salas@pucp.edu.pe\", \"fernanda.pizarro@pucp.edu.pe\", \"aquillatupa@pucp.pe\"]"
   ]
  },
  {
   "cell_type": "markdown",
   "id": "8ec765f0",
   "metadata": {},
   "source": [
    "**1.Drop the duplicated blank spaces in str1. Do not use the regular expresions. Do not use the code shown in class. Explain your steps.Hint: Use split method and join function.**"
   ]
  },
  {
   "cell_type": "code",
   "execution_count": 25,
   "id": "9195fd1d",
   "metadata": {},
   "outputs": [
    {
     "name": "stdout",
     "output_type": "stream",
     "text": [
      "I am too old\n"
     ]
    }
   ],
   "source": [
    "# Este código se perdió en las ramas previas, lo hemos reconstruido para esta entrega\n",
    "words = str1.split()\n",
    "phrase = ' '.join(words)\n",
    "print(phrase)"
   ]
  },
  {
   "cell_type": "markdown",
   "id": "7134a86c",
   "metadata": {},
   "source": [
    "2. **Get the number of letters in the string. Hint: Use lenfunction.**"
   ]
  },
  {
   "cell_type": "code",
   "execution_count": 11,
   "id": "acf7992d",
   "metadata": {},
   "outputs": [
    {
     "data": {
      "text/plain": [
       "94"
      ]
     },
     "execution_count": 11,
     "metadata": {},
     "output_type": "execute_result"
    }
   ],
   "source": [
    "len(str1)"
   ]
  },
  {
   "cell_type": "markdown",
   "id": "0fdbca6d",
   "metadata": {},
   "source": [
    "3. **Get the number of blank spaces (all of them) in the string .Hint: Use lenfunction.**"
   ]
  },
  {
   "cell_type": "code",
   "execution_count": 23,
   "id": "cfeadf67",
   "metadata": {},
   "outputs": [
    {
     "name": "stdout",
     "output_type": "stream",
     "text": [
      "The number of blank spaces in the string is: 85\n"
     ]
    }
   ],
   "source": [
    "# Extraído de la línea de Vivian R para este trabajo.\n",
    "str1 = 'I am                            too                                                        old'\n",
    "num_blank_spaces = str1.count(\" \")\n",
    "print(f\"The number of blank spaces in the string is: {num_blank_spaces}\")"
   ]
  },
  {
   "cell_type": "markdown",
   "id": "fa5249e3",
   "metadata": {},
   "source": [
    "4. **Get the position of @ in each string in the emails list. Hint: Use mapfunction and find method.**"
   ]
  },
  {
   "cell_type": "code",
   "execution_count": 26,
   "id": "779af8f5",
   "metadata": {},
   "outputs": [
    {
     "name": "stdout",
     "output_type": "stream",
     "text": [
      "The position of '@' in emails at index 0 is: 9\n",
      "The position of '@' in emails at index 1 is: 11\n",
      "The position of '@' in emails at index 2 is: 14\n",
      "The position of '@' in emails at index 3 is: 9\n",
      "The position of '@' in emails at index 4 is: 12\n",
      "The position of '@' in emails at index 5 is: 8\n",
      "The position of '@' in emails at index 6 is: 14\n",
      "The position of '@' in emails at index 7 is: 9\n",
      "The position of '@' in emails at index 8 is: 8\n",
      "The position of '@' in emails at index 9 is: 16\n",
      "The position of '@' in emails at index 10 is: 12\n",
      "The position of '@' in emails at index 11 is: 13\n",
      "The position of '@' in emails at index 12 is: 6\n",
      "The position of '@' in emails at index 13 is: 9\n",
      "The position of '@' in emails at index 14 is: 10\n",
      "The position of '@' in emails at index 15 is: 12\n",
      "The position of '@' in emails at index 16 is: 8\n",
      "The position of '@' in emails at index 17 is: 11\n",
      "The position of '@' in emails at index 18 is: 14\n",
      "The position of '@' in emails at index 19 is: 6\n",
      "The position of '@' in emails at index 20 is: 11\n",
      "The position of '@' in emails at index 21 is: 7\n",
      "The position of '@' in emails at index 22 is: 15\n",
      "The position of '@' in emails at index 23 is: 9\n",
      "The position of '@' in emails at index 24 is: 12\n",
      "The position of '@' in emails at index 25 is: 8\n",
      "The position of '@' in emails at index 26 is: 9\n",
      "The position of '@' in emails at index 27 is: 11\n",
      "The position of '@' in emails at index 28 is: 13\n",
      "The position of '@' in emails at index 29 is: 6\n",
      "The position of '@' in emails at index 30 is: 9\n",
      "The position of '@' in emails at index 31 is: 12\n",
      "The position of '@' in emails at index 32 is: 11\n",
      "The position of '@' in emails at index 33 is: 16\n",
      "The position of '@' in emails at index 34 is: 11\n"
     ]
    }
   ],
   "source": [
    "# Extraído de la línea de Vivian R para este trabajo.\n",
    "str1 = 'I am                            too                                                        old'\n",
    "emails = [\"cscornejo@pucp.edu.pe\", \"orellana.cn@pucp.edu.pe\", \"karina.morales@pucp.edu.pe\", \"a20083223@pucp.pe\", \"abel.camacho@pucp.pe\", \"mtintaya@pucp.edu.pe\", \"joselin.chavez@pucp.edu.pe\", \"a20105737@pucp.pe\", \"jfgomezc@pucp.pe\", \"afrania.palomino@pucp.pe\", \"luzon.bianca@pucp.pe\", \"adrian.suanaz@pucp.pe\", \"soto.y@pucp.edu.pe\", \"a20132766@pucp.pe\", \"andre.lama@pucp.edu.pe\", \"gustavo.meza@pucp.edu.pe\", \"pmlozada@pucp.edu.pe\", \"m.zambranoj@pucp.edu.pe\", \"nicolas.jacobs@pucp.edu.pe\", \"gvidal@pucp.edu.pe\", \"jane.torres@pucp.edu.pe\", \"m.lopez@pucp.edu.pe\", \"alejandro.boyco@pucp.edu.pe\", \"a20167070@pucp.edu.pe\", \"riega.stephy@pucp.edu.pe\", \"vlevanot@pucp.edu.pe\", \"sesquives@pucp.edu.pe\", \"perez.juanc@pucp.edu.pe\", \"mariana.otero@pucp.edu.pe\", \"aclavo@pucp.edu.pe\", \"a20182474@pucp.edu.pe\", \"josue.caldas@pucp.edu.pe\", \"fabio.salas@pucp.edu.pe\", \"fernanda.pizarro@pucp.edu.pe\", \"aquillatupa@pucp.pe\"]\n",
    "positions = map(lambda emails: emails.find(\"@\"), emails)\n",
    "for index, position in enumerate(positions):\n",
    "    print(f\"The position of '@' in emails at index {index} is: {position}\")"
   ]
  },
  {
   "cell_type": "markdown",
   "id": "630ada1d",
   "metadata": {},
   "source": [
    "5. **Identifies if exists .edu. in each string in the emails list. Get a list of Booleans. Hint: Use mapfunction and find method.**"
   ]
  },
  {
   "cell_type": "code",
   "execution_count": 27,
   "id": "64ef8986",
   "metadata": {},
   "outputs": [
    {
     "name": "stdout",
     "output_type": "stream",
     "text": [
      "[True, True, True, False, False, True, True, False, False, False, False, False, True, False, True, True, True, True, True, True, True, True, True, True, True, True, True, True, True, True, True, True, True, True, False]\n"
     ]
    }
   ],
   "source": [
    "# Este código se perdió en las ramas previas, lo hemos reconstruido para esta entrega\n",
    "def has_edu(email):\n",
    "    return \".edu.\" in email\n",
    "\n",
    "list_edu = list(map(has_edu, emails))\n",
    "\n",
    "print(list_edu)"
   ]
  },
  {
   "cell_type": "markdown",
   "id": "90201c8a",
   "metadata": {},
   "source": [
    "6. **Get all the strings before the first dot .in each string in the emails list. Identifies how many of them has @. Hint: Use mapfunction and find method.**"
   ]
  },
  {
   "cell_type": "code",
   "execution_count": 42,
   "id": "4c91086f",
   "metadata": {},
   "outputs": [
    {
     "name": "stdout",
     "output_type": "stream",
     "text": [
      "['cscornejo@pucp', 'orellana', 'karina', 'a20083223@pucp', 'abel', 'mtintaya@pucp', 'joselin', 'a20105737@pucp', 'jfgomezc@pucp', 'afrania', 'luzon', 'adrian', 'soto', 'a20132766@pucp', 'andre', 'gustavo', 'pmlozada@pucp', 'm', 'nicolas', 'gvidal@pucp', 'jane', 'm', 'alejandro', 'a20167070@pucp', 'riega', 'vlevanot@pucp', 'sesquives@pucp', 'perez', 'mariana', 'aclavo@pucp', 'a20182474@pucp', 'josue', 'fabio', 'fernanda', 'aquillatupa@pucp']\n",
      "Los strings son 1\n",
      "['cscornejo@pucp', 'orellana', 'karina', 'a20083223@pucp', 'abel', 'mtintaya@pucp', 'joselin', 'a20105737@pucp', 'jfgomezc@pucp', 'afrania', 'luzon', 'adrian', 'soto', 'a20132766@pucp', 'andre', 'gustavo', 'pmlozada@pucp', 'm', 'nicolas', 'gvidal@pucp', 'jane', 'm', 'alejandro', 'a20167070@pucp', 'riega', 'vlevanot@pucp', 'sesquives@pucp', 'perez', 'mariana', 'aclavo@pucp', 'a20182474@pucp', 'josue', 'fabio', 'fernanda', 'aquillatupa@pucp']\n",
      "Los strings son 2\n",
      "['cscornejo@pucp', 'orellana', 'karina', 'a20083223@pucp', 'abel', 'mtintaya@pucp', 'joselin', 'a20105737@pucp', 'jfgomezc@pucp', 'afrania', 'luzon', 'adrian', 'soto', 'a20132766@pucp', 'andre', 'gustavo', 'pmlozada@pucp', 'm', 'nicolas', 'gvidal@pucp', 'jane', 'm', 'alejandro', 'a20167070@pucp', 'riega', 'vlevanot@pucp', 'sesquives@pucp', 'perez', 'mariana', 'aclavo@pucp', 'a20182474@pucp', 'josue', 'fabio', 'fernanda', 'aquillatupa@pucp']\n",
      "Los strings son 3\n",
      "['cscornejo@pucp', 'orellana', 'karina', 'a20083223@pucp', 'abel', 'mtintaya@pucp', 'joselin', 'a20105737@pucp', 'jfgomezc@pucp', 'afrania', 'luzon', 'adrian', 'soto', 'a20132766@pucp', 'andre', 'gustavo', 'pmlozada@pucp', 'm', 'nicolas', 'gvidal@pucp', 'jane', 'm', 'alejandro', 'a20167070@pucp', 'riega', 'vlevanot@pucp', 'sesquives@pucp', 'perez', 'mariana', 'aclavo@pucp', 'a20182474@pucp', 'josue', 'fabio', 'fernanda', 'aquillatupa@pucp']\n",
      "Los strings son 4\n",
      "['cscornejo@pucp', 'orellana', 'karina', 'a20083223@pucp', 'abel', 'mtintaya@pucp', 'joselin', 'a20105737@pucp', 'jfgomezc@pucp', 'afrania', 'luzon', 'adrian', 'soto', 'a20132766@pucp', 'andre', 'gustavo', 'pmlozada@pucp', 'm', 'nicolas', 'gvidal@pucp', 'jane', 'm', 'alejandro', 'a20167070@pucp', 'riega', 'vlevanot@pucp', 'sesquives@pucp', 'perez', 'mariana', 'aclavo@pucp', 'a20182474@pucp', 'josue', 'fabio', 'fernanda', 'aquillatupa@pucp']\n",
      "Los strings son 5\n",
      "['cscornejo@pucp', 'orellana', 'karina', 'a20083223@pucp', 'abel', 'mtintaya@pucp', 'joselin', 'a20105737@pucp', 'jfgomezc@pucp', 'afrania', 'luzon', 'adrian', 'soto', 'a20132766@pucp', 'andre', 'gustavo', 'pmlozada@pucp', 'm', 'nicolas', 'gvidal@pucp', 'jane', 'm', 'alejandro', 'a20167070@pucp', 'riega', 'vlevanot@pucp', 'sesquives@pucp', 'perez', 'mariana', 'aclavo@pucp', 'a20182474@pucp', 'josue', 'fabio', 'fernanda', 'aquillatupa@pucp']\n",
      "Los strings son 6\n",
      "['cscornejo@pucp', 'orellana', 'karina', 'a20083223@pucp', 'abel', 'mtintaya@pucp', 'joselin', 'a20105737@pucp', 'jfgomezc@pucp', 'afrania', 'luzon', 'adrian', 'soto', 'a20132766@pucp', 'andre', 'gustavo', 'pmlozada@pucp', 'm', 'nicolas', 'gvidal@pucp', 'jane', 'm', 'alejandro', 'a20167070@pucp', 'riega', 'vlevanot@pucp', 'sesquives@pucp', 'perez', 'mariana', 'aclavo@pucp', 'a20182474@pucp', 'josue', 'fabio', 'fernanda', 'aquillatupa@pucp']\n",
      "Los strings son 7\n",
      "['cscornejo@pucp', 'orellana', 'karina', 'a20083223@pucp', 'abel', 'mtintaya@pucp', 'joselin', 'a20105737@pucp', 'jfgomezc@pucp', 'afrania', 'luzon', 'adrian', 'soto', 'a20132766@pucp', 'andre', 'gustavo', 'pmlozada@pucp', 'm', 'nicolas', 'gvidal@pucp', 'jane', 'm', 'alejandro', 'a20167070@pucp', 'riega', 'vlevanot@pucp', 'sesquives@pucp', 'perez', 'mariana', 'aclavo@pucp', 'a20182474@pucp', 'josue', 'fabio', 'fernanda', 'aquillatupa@pucp']\n",
      "Los strings son 8\n",
      "['cscornejo@pucp', 'orellana', 'karina', 'a20083223@pucp', 'abel', 'mtintaya@pucp', 'joselin', 'a20105737@pucp', 'jfgomezc@pucp', 'afrania', 'luzon', 'adrian', 'soto', 'a20132766@pucp', 'andre', 'gustavo', 'pmlozada@pucp', 'm', 'nicolas', 'gvidal@pucp', 'jane', 'm', 'alejandro', 'a20167070@pucp', 'riega', 'vlevanot@pucp', 'sesquives@pucp', 'perez', 'mariana', 'aclavo@pucp', 'a20182474@pucp', 'josue', 'fabio', 'fernanda', 'aquillatupa@pucp']\n",
      "Los strings son 9\n",
      "['cscornejo@pucp', 'orellana', 'karina', 'a20083223@pucp', 'abel', 'mtintaya@pucp', 'joselin', 'a20105737@pucp', 'jfgomezc@pucp', 'afrania', 'luzon', 'adrian', 'soto', 'a20132766@pucp', 'andre', 'gustavo', 'pmlozada@pucp', 'm', 'nicolas', 'gvidal@pucp', 'jane', 'm', 'alejandro', 'a20167070@pucp', 'riega', 'vlevanot@pucp', 'sesquives@pucp', 'perez', 'mariana', 'aclavo@pucp', 'a20182474@pucp', 'josue', 'fabio', 'fernanda', 'aquillatupa@pucp']\n",
      "Los strings son 10\n",
      "['cscornejo@pucp', 'orellana', 'karina', 'a20083223@pucp', 'abel', 'mtintaya@pucp', 'joselin', 'a20105737@pucp', 'jfgomezc@pucp', 'afrania', 'luzon', 'adrian', 'soto', 'a20132766@pucp', 'andre', 'gustavo', 'pmlozada@pucp', 'm', 'nicolas', 'gvidal@pucp', 'jane', 'm', 'alejandro', 'a20167070@pucp', 'riega', 'vlevanot@pucp', 'sesquives@pucp', 'perez', 'mariana', 'aclavo@pucp', 'a20182474@pucp', 'josue', 'fabio', 'fernanda', 'aquillatupa@pucp']\n",
      "Los strings son 11\n",
      "['cscornejo@pucp', 'orellana', 'karina', 'a20083223@pucp', 'abel', 'mtintaya@pucp', 'joselin', 'a20105737@pucp', 'jfgomezc@pucp', 'afrania', 'luzon', 'adrian', 'soto', 'a20132766@pucp', 'andre', 'gustavo', 'pmlozada@pucp', 'm', 'nicolas', 'gvidal@pucp', 'jane', 'm', 'alejandro', 'a20167070@pucp', 'riega', 'vlevanot@pucp', 'sesquives@pucp', 'perez', 'mariana', 'aclavo@pucp', 'a20182474@pucp', 'josue', 'fabio', 'fernanda', 'aquillatupa@pucp']\n",
      "Los strings son 12\n",
      "['cscornejo@pucp', 'orellana', 'karina', 'a20083223@pucp', 'abel', 'mtintaya@pucp', 'joselin', 'a20105737@pucp', 'jfgomezc@pucp', 'afrania', 'luzon', 'adrian', 'soto', 'a20132766@pucp', 'andre', 'gustavo', 'pmlozada@pucp', 'm', 'nicolas', 'gvidal@pucp', 'jane', 'm', 'alejandro', 'a20167070@pucp', 'riega', 'vlevanot@pucp', 'sesquives@pucp', 'perez', 'mariana', 'aclavo@pucp', 'a20182474@pucp', 'josue', 'fabio', 'fernanda', 'aquillatupa@pucp']\n",
      "Los strings son 13\n",
      "['cscornejo@pucp', 'orellana', 'karina', 'a20083223@pucp', 'abel', 'mtintaya@pucp', 'joselin', 'a20105737@pucp', 'jfgomezc@pucp', 'afrania', 'luzon', 'adrian', 'soto', 'a20132766@pucp', 'andre', 'gustavo', 'pmlozada@pucp', 'm', 'nicolas', 'gvidal@pucp', 'jane', 'm', 'alejandro', 'a20167070@pucp', 'riega', 'vlevanot@pucp', 'sesquives@pucp', 'perez', 'mariana', 'aclavo@pucp', 'a20182474@pucp', 'josue', 'fabio', 'fernanda', 'aquillatupa@pucp']\n",
      "Los strings son 14\n"
     ]
    }
   ],
   "source": [
    "# Este código se perdió en las ramas previas, lo hemos reconstruido para esta entrega\n",
    "\n",
    "before_dot = list(map(lambda email: email[:email.find(\".\")], emails))\n",
    "count = 0\n",
    "for substring in before_dot:\n",
    "    if substring.count(\"@\") > 0:\n",
    "        count += 1\n",
    "        print(before_dot)\n",
    "        print(\"Los strings son\", count)"
   ]
  }
 ],
 "metadata": {
  "kernelspec": {
   "display_name": "Python 3 (ipykernel)",
   "language": "python",
   "name": "python3"
  },
  "language_info": {
   "codemirror_mode": {
    "name": "ipython",
    "version": 3
   },
   "file_extension": ".py",
   "mimetype": "text/x-python",
   "name": "python",
   "nbconvert_exporter": "python",
   "pygments_lexer": "ipython3",
   "version": "3.11.5"
  }
 },
 "nbformat": 4,
 "nbformat_minor": 5
}
