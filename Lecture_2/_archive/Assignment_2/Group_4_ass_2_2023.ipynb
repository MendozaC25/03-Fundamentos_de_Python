{
 "cells": [
  {
   "cell_type": "markdown",
   "id": "ac9d6fbf",
   "metadata": {},
   "source": [
    "# Assigment 2 - Group 4 "
   ]
  },
  {
   "cell_type": "markdown",
   "id": "6f49e9d3",
   "metadata": {},
   "source": [
    "## 1.1 Tuple"
   ]
  },
  {
   "cell_type": "code",
   "execution_count": 1,
   "id": "b57ad3f2",
   "metadata": {},
   "outputs": [],
   "source": [
    "tuple1 = (\"Orange\", [10, 20, 30], (5, 15, 25))\n",
    "tuple2 = ([7, 8], [9, 1], [10, 7])"
   ]
  },
  {
   "cell_type": "markdown",
   "id": "e36aec44",
   "metadata": {},
   "source": [
    "1. Print the first item of the second item of tuple1 object. **Hint: Use indexing**"
   ]
  },
  {
   "cell_type": "code",
   "execution_count": 19,
   "id": "8fa5fa51",
   "metadata": {},
   "outputs": [
    {
     "data": {
      "text/plain": [
       "10"
      ]
     },
     "execution_count": 19,
     "metadata": {},
     "output_type": "execute_result"
    }
   ],
   "source": [
    "# As Python starts counting from 0, the second item of tuple1 is 1 in counting.\n",
    "# Then, the first item of the second object is 0 in counting.\n",
    "tuple1[1][0]"
   ]
  },
  {
   "cell_type": "markdown",
   "id": "46fbe85a",
   "metadata": {},
   "source": [
    "2. Print the last item of the tuple1 object. **Hint: Use indexing**"
   ]
  },
  {
   "cell_type": "code",
   "execution_count": 21,
   "id": "ab4794dd",
   "metadata": {},
   "outputs": [
    {
     "data": {
      "text/plain": [
       "(5, 15, 25)"
      ]
     },
     "execution_count": 21,
     "metadata": {},
     "output_type": "execute_result"
    }
   ],
   "source": [
    "# -1 is used to identify the last item of a tuple. \n",
    "tuple1[-1]"
   ]
  },
  {
   "cell_type": "markdown",
   "id": "ba1e00b2",
   "metadata": {},
   "source": [
    "3. Change the value \"orange\" for \"pink grapefruit\". Comment the output. **Hint: Is it possible?**"
   ]
  },
  {
   "cell_type": "code",
   "execution_count": 27,
   "id": "7ea802cf",
   "metadata": {},
   "outputs": [
    {
     "name": "stdout",
     "output_type": "stream",
     "text": [
      "('Pink Grapefruit', [10, 20, 30], (5, 15, 25))\n"
     ]
    }
   ],
   "source": [
    "#It is not possible to modify a tuple. However, it is possible to modify a list.\n",
    "\n",
    "#First, convert the tuple to a list.\n",
    "list1 = list(tuple1)\n",
    "\n",
    "#Then, change the first value\n",
    "list1[0] = \"Pink Grapefruit\"\n",
    "\n",
    "#Convert the list to a tuple\n",
    "tuple1 = tuple(list1)\n",
    "\n",
    "print(tuple1)"
   ]
  },
  {
   "cell_type": "markdown",
   "id": "b99c43f6",
   "metadata": {},
   "source": [
    "4. Print the length of tuple1. **Hint: Length function**"
   ]
  },
  {
   "cell_type": "code",
   "execution_count": 29,
   "id": "40e01a65",
   "metadata": {},
   "outputs": [
    {
     "data": {
      "text/plain": [
       "3"
      ]
     },
     "execution_count": 29,
     "metadata": {},
     "output_type": "execute_result"
    }
   ],
   "source": [
    "len(tuple1)"
   ]
  },
  {
   "cell_type": "markdown",
   "id": "96372fbb",
   "metadata": {},
   "source": [
    "5. Sum all the elements of tuple2 and describe your steps and explain each of them. **Hint: Use `map` function.**"
   ]
  },
  {
   "cell_type": "code",
   "execution_count": 31,
   "id": "bc7dfdb9",
   "metadata": {},
   "outputs": [
    {
     "data": {
      "text/plain": [
       "42"
      ]
     },
     "execution_count": 31,
     "metadata": {},
     "output_type": "execute_result"
    }
   ],
   "source": [
    "#First, the map and the sum functions are used to sum the items of each list.\n",
    "#Then, the outer sum function calculates the sum of all the values obtained from the first step.\n",
    "#The result is the sum of all the elements of tuple 2.\n",
    "sum(map(sum, tuple2))"
   ]
  },
  {
   "cell_type": "markdown",
   "id": "66b947b1",
   "metadata": {},
   "source": [
    "### Numeral 6"
   ]
  },
  {
   "cell_type": "markdown",
   "id": "6679f203",
   "metadata": {},
   "source": [
    "Generate a new tuple object named as tuple3 with the half values of tuple2. This tuple should be similar as tuple2, tuple of lists. Hint: Use map funciont."
   ]
  },
  {
   "cell_type": "markdown",
   "id": "31de3dda",
   "metadata": {},
   "source": [
    "##### Solución: "
   ]
  },
  {
   "cell_type": "markdown",
   "id": "8508ba15",
   "metadata": {},
   "source": [
    "First, we define the function \"half_v\" to divide the elements of a list by two."
   ]
  },
  {
   "cell_type": "code",
   "execution_count": 2,
   "id": "d50489ad",
   "metadata": {},
   "outputs": [],
   "source": [
    "def half_v(list1):\n",
    "  return [x * 0.5 for x in list1]"
   ]
  },
  {
   "cell_type": "markdown",
   "id": "7e8a0b30",
   "metadata": {},
   "source": [
    "Then, we use the \"map\" function and the \"half_v\" function to divide all the elements of the lists that are in tuple2."
   ]
  },
  {
   "cell_type": "code",
   "execution_count": 3,
   "id": "7f4a47db",
   "metadata": {},
   "outputs": [],
   "source": [
    " half_values= map(half_v, tuple2)"
   ]
  },
  {
   "cell_type": "markdown",
   "id": "8bd19ab5",
   "metadata": {},
   "source": [
    "Tuple3 is created with the values of the elements of the lists in tuple2 (contained in \"half_values\") in half."
   ]
  },
  {
   "cell_type": "code",
   "execution_count": 4,
   "id": "e5bbfe1f",
   "metadata": {},
   "outputs": [],
   "source": [
    "tuple3 = tuple(half_values)"
   ]
  },
  {
   "cell_type": "markdown",
   "id": "0668366c",
   "metadata": {},
   "source": [
    "A print of tuple3 is made to see the elements."
   ]
  },
  {
   "cell_type": "code",
   "execution_count": 5,
   "id": "171a272e",
   "metadata": {},
   "outputs": [
    {
     "name": "stdout",
     "output_type": "stream",
     "text": [
      "([3.5, 4.0], [4.5, 0.5], [5.0, 3.5])\n"
     ]
    }
   ],
   "source": [
    "print(tuple3)"
   ]
  },
  {
   "cell_type": "markdown",
   "id": "703c0ef1",
   "metadata": {},
   "source": [
    "It is verified that tuple3 is a tuple."
   ]
  },
  {
   "cell_type": "code",
   "execution_count": 6,
   "id": "b231b7e2",
   "metadata": {},
   "outputs": [
    {
     "name": "stdout",
     "output_type": "stream",
     "text": [
      "<class 'tuple'>\n"
     ]
    }
   ],
   "source": [
    "print(type(tuple3))"
   ]
  },
  {
   "cell_type": "markdown",
   "id": "4d51c9a4",
   "metadata": {},
   "source": [
    "## Problem 1.2"
   ]
  },
  {
   "cell_type": "code",
   "execution_count": 7,
   "id": "12f04795",
   "metadata": {},
   "outputs": [],
   "source": [
    "import numpy as np"
   ]
  },
  {
   "cell_type": "code",
   "execution_count": 8,
   "id": "ef76a84e",
   "metadata": {},
   "outputs": [],
   "source": [
    "f_list = [np.nan , np.nan, \"Austria\", \"Germany\", np.nan, \"Pakistan\", \"np.nan\", np.nan ]"
   ]
  },
  {
   "cell_type": "code",
   "execution_count": 9,
   "id": "3a4f7c2b",
   "metadata": {},
   "outputs": [],
   "source": [
    "text1 = ['My', 'teacher', 'assistant', 'is', 'so', 'boring.']"
   ]
  },
  {
   "cell_type": "code",
   "execution_count": 10,
   "id": "e38d83bf",
   "metadata": {},
   "outputs": [],
   "source": [
    "p2_list = [ 2 , 3, 4, 5 ]"
   ]
  },
  {
   "cell_type": "code",
   "execution_count": 11,
   "id": "5a926f95",
   "metadata": {},
   "outputs": [],
   "source": [
    "values1 = [ 86, 86, 85, 85, 85, 83, 23, 0, 84, 1 ] "
   ]
  },
  {
   "cell_type": "code",
   "execution_count": null,
   "id": "2c327235",
   "metadata": {},
   "outputs": [],
   "source": [
    "# These two lists a\n",
    "last_and_name = [ \"CORNEJO SANCHEZ, CHRISTIAN SANTOS\", \"ORELLANA QUISPE, CRISTIAN NASSER\", \"MORALES CHOQUEHUANCA, ANGELICA KARINA\", \"GUIMARAY RIBEYRO, JOSE ROBERTO\", \"CAMACHO GAVIDIA, ABEL FERNANDO\", \"TINTAYA ORIHUELA, MEIR ALVARO\", \"CHAVEZ MARTINEZ, JOSELIN ALEXANDRA\", \"FIGUEROA MURO, LEONEL ARTURO\", \"GOMEZ CRIBILLERO, JOSE FELIPE\", \"PALOMINO SEGUÍN, AFRANIA\", \"LUZON CUEVA, BIANCA MARIETTE\", \"SUAÑA ZEGARRA, ADRIAN ANDRE\", \"SOTO POMACHAGUA, DORKAS YOMIRA JHERMY\", \"FIORENTINO MARTINEZ, LADY ALY\", \"LAMA MAVILA, HECTOR ANDRE\", \"MEZA HINOJO, GUSTAVO\", \"LOZADA MURILLO, PERSEO MARCELO\", \"ZAMBRANO JIMENEZ, MIGUEL ALONZO\", \"JACOBS LUQUE, NICOLAS\", \"VIDAL VIDAL, ROCIO GABRIELA\", \"TORRES ANICAMA, JANE CAMILA\", \"LOPEZ ESTRADA, MARIA ELISA\", \"BOYCO ORAMS, ALEJANDRO\", \"DIAZ BERROSPI, KARLINE ROSMELI\", \"RIEGA ESCALANTE, STEPHY ROSARIO\", \"LEVANO TORRES, VALERIA CECILIA\", \"ESQUIVES BRAVO, SEBASTIAN RENATO\", \"PEREZ GONZALES, JUAN CARLOS\", \"OTERO MAGUIÑA, MARIANA\", \"CLAVO CAMPOS, ANDREA BRIZETH\", \"AGUILAR GARCIA, ERICK JOSUE\", \"CALDAS VELASQUEZ, JOSUE DANIEL\", \"SALAS NUÑEZ BORJA, FABIO MANUEL\", \"PIZARRO VILLANES, FERNANDA NICOLLE\", \"QUILLATUPA MORALES, ANGELA ADELINA\", \"HUANCAYA IDONE, CESAR DANTE\", \"CALVO PORTOCARRERO, GABRIELA ISABEL\", \"IBAÑEZ ABANTO, ANGEL MAURICIO\", \"MELÉNDEZ APONTE, JUAN DIEGO\", \"CRISTIAN SERRANO, ARONE\", \"HINOJOSA CAHUANA, PERCY ALBERTH\", \"ANGLAS GARCÍA, KEVIN ARTURO\", \"ALDAVE ACOSTA, CESAR ERNESTO\", \"NÚÑEZ HUAMÁN, CÉSAR AGUSTO\", \"OBREGON HUAMAN, DIANA EDITH\", \"SOTO PACHERRES, RODRIGO FRANCO\", \"INGARUCA RIVERA, GRETTEL ALEXANDRA\", \"ROJAS HUAMAN, ROSA ANGELA\", \"NEYRA SALAS, DANTE OMAR\", \"HUERTA ESPINOZA, YAJAIRA ALEXANDRA\", \"HUANCA MARTINEZ, JORGE ALBERTO\", \"FLORES CADILLO, ALEXIS\" ]\n",
    "emails = [\"cscornejo@pucp.edu.pe\", \"orellana.cn@pucp.edu.pe\", \"karina.morales@pucp.edu.pe\", \"a20083223@pucp.pe\", \"abel.camacho@pucp.pe\", \"mtintaya@pucp.edu.pe\""
   ]
  },
  {
   "cell_type": "markdown",
   "id": "5f14d19f",
   "metadata": {},
   "source": [
    "### Numeral 1:"
   ]
  },
  {
   "cell_type": "markdown",
   "id": "8c611ff9",
   "metadata": {},
   "source": [
    "Show the indices of the np.nan values in the f_list list. We want to see this output: The indices 0, 1, 4, 7 have np.nan values. Hint: Use print function and f-strings to insert the indices values."
   ]
  },
  {
   "cell_type": "markdown",
   "id": "36e4c1d0",
   "metadata": {},
   "source": [
    "##### Solución: "
   ]
  },
  {
   "cell_type": "markdown",
   "id": "2dffe9a9",
   "metadata": {},
   "source": [
    "First, we find the first nan element with the index function."
   ]
  },
  {
   "cell_type": "code",
   "execution_count": 12,
   "id": "2d1bcf57",
   "metadata": {},
   "outputs": [],
   "source": [
    "nan_value_1 = f_list.index(np.nan)"
   ]
  },
  {
   "cell_type": "markdown",
   "id": "56da8843",
   "metadata": {},
   "source": [
    "Then, with the index function we find the second nan element starting at the first position."
   ]
  },
  {
   "cell_type": "code",
   "execution_count": 13,
   "id": "a06e9a18",
   "metadata": {},
   "outputs": [],
   "source": [
    "nan_value_2 = f_list.index(np.nan,1)"
   ]
  },
  {
   "cell_type": "markdown",
   "id": "871b2b4a",
   "metadata": {},
   "source": [
    "We find with the index function the third nan element starting in the second position."
   ]
  },
  {
   "cell_type": "code",
   "execution_count": 14,
   "id": "55023a34",
   "metadata": {},
   "outputs": [],
   "source": [
    "nan_value_3 = f_list.index(np.nan,2)"
   ]
  },
  {
   "cell_type": "markdown",
   "id": "6c1d3904",
   "metadata": {},
   "source": [
    "Finally, we find with the index function the last nan element starting in the fifth position."
   ]
  },
  {
   "cell_type": "code",
   "execution_count": 15,
   "id": "06a75fa3",
   "metadata": {},
   "outputs": [],
   "source": [
    "nan_value_4 = f_list.index(np.nan,5)"
   ]
  },
  {
   "cell_type": "markdown",
   "id": "e4819919",
   "metadata": {},
   "source": [
    "We make a print with the f-string function declaring in \"format\" all the values of type \"int\" found previously."
   ]
  },
  {
   "cell_type": "code",
   "execution_count": 16,
   "id": "e85b15d8",
   "metadata": {},
   "outputs": [
    {
     "name": "stdout",
     "output_type": "stream",
     "text": [
      "The indices 0, 1, 4, 7 have np.nan values\n"
     ]
    }
   ],
   "source": [
    "print(\"The indices {}, {}, {}, {} have np.nan values\".format(nan_value_1, nan_value_2, nan_value_3, nan_value_4))"
   ]
  },
  {
   "cell_type": "markdown",
   "id": "17c854cb",
   "metadata": {},
   "source": [
    "### Numeral 2:"
   ]
  },
  {
   "cell_type": "markdown",
   "id": "90aab686",
   "metadata": {},
   "source": [
    "Replicate 4 times the values of the list p2_list.Hint: Use multiplication functi on in lists and see the output."
   ]
  },
  {
   "cell_type": "markdown",
   "id": "93b6c715",
   "metadata": {},
   "source": [
    "##### Solución: "
   ]
  },
  {
   "cell_type": "markdown",
   "id": "41b6ec4c",
   "metadata": {},
   "source": [
    "First, we import \"operator\".\n",
    "Then, we create the list with the replica 4 times.\n",
    "Finally, we make a print to verify the elements of the list."
   ]
  },
  {
   "cell_type": "code",
   "execution_count": 17,
   "id": "43324163",
   "metadata": {},
   "outputs": [
    {
     "name": "stdout",
     "output_type": "stream",
     "text": [
      "[2, 3, 4, 5, 2, 3, 4, 5, 2, 3, 4, 5, 2, 3, 4, 5]\n"
     ]
    }
   ],
   "source": [
    "import operator\n",
    "multi_1 = operator.mul(p2_list,4)\n",
    "print(multi_1)"
   ]
  },
  {
   "cell_type": "markdown",
   "id": "47a0b45d",
   "metadata": {},
   "source": [
    "### Numeral 3:"
   ]
  },
  {
   "cell_type": "markdown",
   "id": "1366ebf5",
   "metadata": {},
   "source": [
    "Print the length of f_list. Hint: Length function"
   ]
  },
  {
   "cell_type": "markdown",
   "id": "a1448120",
   "metadata": {},
   "source": [
    "##### Solución:"
   ]
  },
  {
   "cell_type": "markdown",
   "id": "f5aba1bc",
   "metadata": {},
   "source": [
    "We use the length function and the print in the f_list."
   ]
  },
  {
   "cell_type": "code",
   "execution_count": 18,
   "id": "19997b50",
   "metadata": {},
   "outputs": [
    {
     "name": "stdout",
     "output_type": "stream",
     "text": [
      "8\n"
     ]
    }
   ],
   "source": [
    "print(len(f_list))"
   ]
  },
  {
   "cell_type": "markdown",
   "id": "b9658219",
   "metadata": {},
   "source": [
    "### Numeral 4:"
   ]
  },
  {
   "cell_type": "markdown",
   "id": "3c812cde",
   "metadata": {},
   "source": [
    "Print My teacher assistant is so boring. using text1 list. Hint: Use the join function"
   ]
  },
  {
   "cell_type": "markdown",
   "id": "8d7e9139",
   "metadata": {},
   "source": [
    "##### Solución: "
   ]
  },
  {
   "cell_type": "markdown",
   "id": "057adc06",
   "metadata": {},
   "source": [
    "First, we use the \"join\" function by prepending the respective space for the list phrase \"text1\"."
   ]
  },
  {
   "cell_type": "code",
   "execution_count": 19,
   "id": "57e1c0cc",
   "metadata": {},
   "outputs": [],
   "source": [
    "text1_str = ' '.join(text1)"
   ]
  },
  {
   "cell_type": "markdown",
   "id": "29a121a9",
   "metadata": {},
   "source": [
    "Finally, we perform the print."
   ]
  },
  {
   "cell_type": "code",
   "execution_count": 20,
   "id": "e2287bdd",
   "metadata": {},
   "outputs": [
    {
     "name": "stdout",
     "output_type": "stream",
     "text": [
      "My teacher assistant is so boring.\n"
     ]
    }
   ],
   "source": [
    "print(text1_str)"
   ]
  },
  {
   "cell_type": "markdown",
   "id": "f44e63c3",
   "metadata": {},
   "source": [
    "# 1.2 Lists"
   ]
  },
  {
   "cell_type": "markdown",
   "id": "c080f5f5",
   "metadata": {},
   "source": [
    "#### 5. Print My TA is so boring, but is very funny. using text1 list. Hint: Use the join function, and extend method."
   ]
  },
  {
   "cell_type": "code",
   "execution_count": 1,
   "id": "dc3028bc",
   "metadata": {},
   "outputs": [
    {
     "data": {
      "text/plain": [
       "'My TA is so boring, but is very funny'"
      ]
     },
     "execution_count": 1,
     "metadata": {},
     "output_type": "execute_result"
    }
   ],
   "source": [
    "###PROCEDURE 1###\n",
    "# First, we mention the list called text_1\n",
    "text_1 = ['My','TA','is','so','boring,','but','is','very','funny']\n",
    "## Second, we should run the sentence using .join function\n",
    "' '.join(text_1)"
   ]
  },
  {
   "cell_type": "code",
   "execution_count": 2,
   "id": "83500174",
   "metadata": {},
   "outputs": [
    {
     "name": "stdout",
     "output_type": "stream",
     "text": [
      "['My', 'TA', 'is', 'so', 'boring', 'but', 'is', 'very', 'funny']\n"
     ]
    },
    {
     "data": {
      "text/plain": [
       "'My TA is so boring but is very funny'"
      ]
     },
     "execution_count": 2,
     "metadata": {},
     "output_type": "execute_result"
    }
   ],
   "source": [
    "###PROCEDURE 2###\n",
    "# First we divide the list given called text_1 into two lists called sentence_1 and sentence_2:\n",
    "sentence_1 = ['My', 'TA', 'is','so', 'boring']\n",
    "sentence_2 = ['but', 'is', 'very', 'funny']\n",
    "\n",
    "## Then we have to use the .extend method in order to add sentence_2 to sentence_1:\n",
    "sentence_1.extend(sentence_2)\n",
    "\n",
    "### Finally, we run the sentence complete using the .join function:\n",
    "print(sentence_1)\n",
    "' '.join(sentence_1)"
   ]
  },
  {
   "cell_type": "markdown",
   "id": "a424c9cf",
   "metadata": {},
   "source": [
    "#### 6. Print\n",
    "The max value of values1 is 86 and is located in the 0 index.\n",
    "The min value of values1 is 0 and is located in the 7 index.\n",
    "Hint: Use the f-string, min, and max functions."
   ]
  },
  {
   "cell_type": "code",
   "execution_count": 3,
   "id": "b2324588",
   "metadata": {},
   "outputs": [],
   "source": [
    "# First we mention the list called values1\n",
    "values1 = [86, 86, 85, 85, 85, 83, 23, 0, 84, 1]"
   ]
  },
  {
   "cell_type": "code",
   "execution_count": 4,
   "id": "c38cef7f",
   "metadata": {},
   "outputs": [
    {
     "data": {
      "text/plain": [
       "0"
      ]
     },
     "execution_count": 4,
     "metadata": {},
     "output_type": "execute_result"
    }
   ],
   "source": [
    "## Then we declare the minimun and maximum value of the list\n",
    "min(values1)"
   ]
  },
  {
   "cell_type": "code",
   "execution_count": 5,
   "id": "a2f17357",
   "metadata": {},
   "outputs": [
    {
     "data": {
      "text/plain": [
       "86"
      ]
     },
     "execution_count": 5,
     "metadata": {},
     "output_type": "execute_result"
    }
   ],
   "source": [
    "max(values1)"
   ]
  },
  {
   "cell_type": "code",
   "execution_count": 6,
   "id": "28f45fb5",
   "metadata": {},
   "outputs": [
    {
     "name": "stdout",
     "output_type": "stream",
     "text": [
      "7\n"
     ]
    }
   ],
   "source": [
    "### Now we must ask for the position of the values in the list values1, and then print them\n",
    "min_index = values1.index(min(values1))\n",
    "print(min_index)"
   ]
  },
  {
   "cell_type": "code",
   "execution_count": 7,
   "id": "6a0e2cc4",
   "metadata": {},
   "outputs": [
    {
     "name": "stdout",
     "output_type": "stream",
     "text": [
      "0\n"
     ]
    }
   ],
   "source": [
    "max_index = values1.index(max(values1))\n",
    "print(max_index)"
   ]
  },
  {
   "cell_type": "code",
   "execution_count": 8,
   "id": "8a6c6223",
   "metadata": {},
   "outputs": [
    {
     "data": {
      "text/plain": [
       "'the max value of values1 is 86 and is located in the 0 index'"
      ]
     },
     "execution_count": 8,
     "metadata": {},
     "output_type": "execute_result"
    }
   ],
   "source": [
    "#### Finally, we run the sentences using the fstring function:\n",
    "f'the max value of values1 is {max(values1)} and is located in the {max_index} index'"
   ]
  },
  {
   "cell_type": "code",
   "execution_count": 9,
   "id": "7b286502",
   "metadata": {},
   "outputs": [
    {
     "data": {
      "text/plain": [
       "'the min value of values1 is 0 and is located in the 7 index'"
      ]
     },
     "execution_count": 9,
     "metadata": {},
     "output_type": "execute_result"
    }
   ],
   "source": [
    "f'the min value of values1 is {min(values1)} and is located in the {min_index} index'"
   ]
  },
  {
   "cell_type": "markdown",
   "id": "51688814",
   "metadata": {},
   "source": [
    "#### 7. Get two lists: `names` and `last_names` using `last_and_name` list. **Hint: Use `map` and `split`.**"
   ]
  },
  {
   "cell_type": "code",
   "execution_count": 10,
   "id": "4e99026b",
   "metadata": {},
   "outputs": [
    {
     "name": "stdout",
     "output_type": "stream",
     "text": [
      "Names: ['CORNEJO SANCHEZ', 'ORELLANA QUISPE', 'MORALES CHOQUEHUANCA', 'GUIMARAY RIBEYRO', 'CAMACHO GAVIDIA', 'TINTAYA ORIHUELA', 'CHAVEZ MARTINEZ', 'FIGUEROA MURO', 'GOMEZ CRIBILLERO', 'PALOMINO SEGUÍN', 'LUZON CUEVA', 'SUAÑA ZEGARRA', 'SOTO POMACHAGUA', 'FIORENTINO MARTINEZ', 'LAMA MAVILA', 'MEZA HINOJO', 'LOZADA MURILLO', 'ZAMBRANO JIMENEZ', 'JACOBS LUQUE', 'VIDAL VIDAL', 'TORRES ANICAMA', 'LOPEZ ESTRADA', 'BOYCO ORAMS', 'DIAZ BERROSPI', 'RIEGA ESCALANTE', 'LEVANO TORRES', 'ESQUIVES BRAVO', 'PEREZ GONZALES', 'OTERO MAGUIÑA', 'CLAVO CAMPOS', 'AGUILAR GARCIA', 'CALDAS VELASQUEZ', 'SALAS NUÑEZ BORJA', 'PIZARRO VILLANES', 'QUILLATUPA MORALES', 'HUANCAYA IDONE', 'CALVO PORTOCARRERO', 'IBAÑEZ ABANTO', 'MELÉNDEZ APONTE', 'CRISTIAN SERRANO', 'HINOJOSA CAHUANA', 'ANGLAS GARCÍA', 'ALDAVE ACOSTA', 'NÚÑEZ HUAMÁN', 'OBREGON HUAMAN', 'SOTO PACHERRES', 'INGARUCA RIVERA', 'ROJAS HUAMAN', 'NEYRA SALAS', 'HUERTA ESPINOZA', 'HUANCA MARTINEZ', 'FLORES CADILLO']\n",
      "Last Names: ['CHRISTIAN SANTOS', 'CRISTIAN NASSER', 'ANGELICA KARINA', 'JOSE ROBERTO', 'ABEL FERNANDO', 'MEIR ALVARO', 'JOSELIN ALEXANDRA', 'LEONEL ARTURO', 'JOSE FELIPE', 'AFRANIA', 'BIANCA MARIETTE', 'ADRIAN ANDRE', 'DORKAS YOMIRA JHERMY', 'LADY ALY', 'HECTOR ANDRE', 'GUSTAVO', 'PERSEO MARCELO', 'MIGUEL ALONZO', 'NICOLAS', 'ROCIO GABRIELA', 'JANE CAMILA', 'MARIA ELISA', 'ALEJANDRO', 'KARLINE ROSMELI', 'STEPHY ROSARIO', 'VALERIA CECILIA', 'SEBASTIAN RENATO', 'JUAN CARLOS', 'MARIANA', 'ANDREA BRIZETH', 'ERICK JOSUE', 'JOSUE DANIEL', 'FABIO MANUEL', 'FERNANDA NICOLLE', 'ANGELA ADELINA', 'CESAR DANTE', 'GABRIELA ISABEL', 'ANGEL MAURICIO', 'JUAN DIEGO', 'ARONE', 'PERCY ALBERTH', 'KEVIN ARTURO', 'CESAR ERNESTO', 'CÉSAR AGUSTO', 'DIANA EDITH', 'RODRIGO FRANCO', 'GRETTEL ALEXANDRA', 'ROSA ANGELA', 'DANTE OMAR', 'YAJAIRA ALEXANDRA', 'JORGE ALBERTO', 'ALEXIS']\n"
     ]
    }
   ],
   "source": [
    "# First, we mention the list last_and_name:\n",
    "last_and_name = [\"CORNEJO SANCHEZ, CHRISTIAN SANTOS\", \"ORELLANA QUISPE, CRISTIAN NASSER\", \"MORALES CHOQUEHUANCA, ANGELICA KARINA\", \"GUIMARAY RIBEYRO, JOSE ROBERTO\", \"CAMACHO GAVIDIA, ABEL FERNANDO\", \"TINTAYA ORIHUELA, MEIR ALVARO\", \"CHAVEZ MARTINEZ, JOSELIN ALEXANDRA\", \"FIGUEROA MURO, LEONEL ARTURO\", \"GOMEZ CRIBILLERO, JOSE FELIPE\", \"PALOMINO SEGUÍN, AFRANIA\", \"LUZON CUEVA, BIANCA MARIETTE\", \"SUAÑA ZEGARRA, ADRIAN ANDRE\", \"SOTO POMACHAGUA, DORKAS YOMIRA JHERMY\", \"FIORENTINO MARTINEZ, LADY ALY\", \"LAMA MAVILA, HECTOR ANDRE\", \"MEZA HINOJO, GUSTAVO\", \"LOZADA MURILLO, PERSEO MARCELO\", \"ZAMBRANO JIMENEZ, MIGUEL ALONZO\", \"JACOBS LUQUE, NICOLAS\", \"VIDAL VIDAL, ROCIO GABRIELA\", \"TORRES ANICAMA, JANE CAMILA\", \"LOPEZ ESTRADA, MARIA ELISA\", \"BOYCO ORAMS, ALEJANDRO\", \"DIAZ BERROSPI, KARLINE ROSMELI\", \"RIEGA ESCALANTE, STEPHY ROSARIO\", \"LEVANO TORRES, VALERIA CECILIA\", \"ESQUIVES BRAVO, SEBASTIAN RENATO\", \"PEREZ GONZALES, JUAN CARLOS\", \"OTERO MAGUIÑA, MARIANA\", \"CLAVO CAMPOS, ANDREA BRIZETH\", \"AGUILAR GARCIA, ERICK JOSUE\", \"CALDAS VELASQUEZ, JOSUE DANIEL\", \"SALAS NUÑEZ BORJA, FABIO MANUEL\", \"PIZARRO VILLANES, FERNANDA NICOLLE\", \"QUILLATUPA MORALES, ANGELA ADELINA\", \"HUANCAYA IDONE, CESAR DANTE\", \"CALVO PORTOCARRERO, GABRIELA ISABEL\", \"IBAÑEZ ABANTO, ANGEL MAURICIO\", \"MELÉNDEZ APONTE, JUAN DIEGO\", \"CRISTIAN SERRANO, ARONE\", \"HINOJOSA CAHUANA, PERCY ALBERTH\", \"ANGLAS GARCÍA, KEVIN ARTURO\", \"ALDAVE ACOSTA, CESAR ERNESTO\", \"NÚÑEZ HUAMÁN, CÉSAR AGUSTO\", \"OBREGON HUAMAN, DIANA EDITH\", \"SOTO PACHERRES, RODRIGO FRANCO\", \"INGARUCA RIVERA, GRETTEL ALEXANDRA\", \"ROJAS HUAMAN, ROSA ANGELA\", \"NEYRA SALAS, DANTE OMAR\", \"HUERTA ESPINOZA, YAJAIRA ALEXANDRA\", \"HUANCA MARTINEZ, JORGE ALBERTO\", \"FLORES CADILLO, ALEXIS\"]\n",
    "\n",
    "## Then, we must use the .split function and zip to divide names and last names:\n",
    "names, last_names = zip(*(name.split(', ') for name in last_and_name))\n",
    "\n",
    "### Now, we should convert the results to lists and call them names and last_names:\n",
    "names = list(names)\n",
    "last_names = list(last_names)\n",
    "\n",
    "#### Finally, we run the results with the print function\n",
    "print(\"Names:\", names)\n",
    "print(\"Last Names:\", last_names)"
   ]
  },
  {
   "cell_type": "markdown",
   "id": "6cc5cd32",
   "metadata": {},
   "source": [
    "#### 8. Give only the last names of students who do not have email. Use the `emails` and `last_names` list. **Hint: Use `map` and `split`.**"
   ]
  },
  {
   "cell_type": "code",
   "execution_count": 11,
   "id": "504f73eb",
   "metadata": {},
   "outputs": [
    {
     "name": "stdout",
     "output_type": "stream",
     "text": [
      "Last Names of Students Without Email:\n",
      "['HUANCAYA IDONE', 'CALVO PORTOCARRERO', 'IBAÑEZ ABANTO', 'MELÉNDEZ APONTE', 'CRISTIAN SERRANO', 'ANGLAS GARCÍA', 'ALDAVE ACOSTA', 'NÚÑEZ HUAMÁN', 'OBREGON HUAMAN', 'SOTO PACHERRES', 'INGARUCA RIVERA', 'ROJAS HUAMAN', 'NEYRA SALAS', 'HUERTA ESPINOZA', 'HUANCA MARTINEZ']\n"
     ]
    }
   ],
   "source": [
    "# First, we mention the lists last_and_name and emails:\n",
    "\n",
    "last_and_name = [\"CORNEJO SANCHEZ, CHRISTIAN SANTOS\", \"ORELLANA QUISPE, CRISTIAN NASSER\", \"MORALES CHOQUEHUANCA, ANGELICA KARINA\", \"GUIMARAY RIBEYRO, JOSE ROBERTO\", \"CAMACHO GAVIDIA, ABEL FERNANDO\", \"TINTAYA ORIHUELA, MEIR ALVARO\", \"CHAVEZ MARTINEZ, JOSELIN ALEXANDRA\", \"FIGUEROA MURO, LEONEL ARTURO\", \"GOMEZ CRIBILLERO, JOSE FELIPE\", \"PALOMINO SEGUÍN, AFRANIA\", \"LUZON CUEVA, BIANCA MARIETTE\", \"SUAÑA ZEGARRA, ADRIAN ANDRE\", \"SOTO POMACHAGUA, DORKAS YOMIRA JHERMY\", \"FIORENTINO MARTINEZ, LADY ALY\", \"LAMA MAVILA, HECTOR ANDRE\", \"MEZA HINOJO, GUSTAVO\", \"LOZADA MURILLO, PERSEO MARCELO\", \"ZAMBRANO JIMENEZ, MIGUEL ALONZO\", \"JACOBS LUQUE, NICOLAS\", \"VIDAL VIDAL, ROCIO GABRIELA\", \"TORRES ANICAMA, JANE CAMILA\", \"LOPEZ ESTRADA, MARIA ELISA\", \"BOYCO ORAMS, ALEJANDRO\", \"DIAZ BERROSPI, KARLINE ROSMELI\", \"RIEGA ESCALANTE, STEPHY ROSARIO\", \"LEVANO TORRES, VALERIA CECILIA\", \"ESQUIVES BRAVO, SEBASTIAN RENATO\", \"PEREZ GONZALES, JUAN CARLOS\", \"OTERO MAGUIÑA, MARIANA\", \"CLAVO CAMPOS, ANDREA BRIZETH\", \"AGUILAR GARCIA, ERICK JOSUE\", \"CALDAS VELASQUEZ, JOSUE DANIEL\", \"SALAS NUÑEZ BORJA, FABIO MANUEL\", \"PIZARRO VILLANES, FERNANDA NICOLLE\", \"QUILLATUPA MORALES, ANGELA ADELINA\", \"HUANCAYA IDONE, CESAR DANTE\", \"CALVO PORTOCARRERO, GABRIELA ISABEL\", \"IBAÑEZ ABANTO, ANGEL MAURICIO\", \"MELÉNDEZ APONTE, JUAN DIEGO\", \"CRISTIAN SERRANO, ARONE\", \"HINOJOSA CAHUANA, PERCY ALBERTH\", \"ANGLAS GARCÍA, KEVIN ARTURO\", \"ALDAVE ACOSTA, CESAR ERNESTO\", \"NÚÑEZ HUAMÁN, CÉSAR AGUSTO\", \"OBREGON HUAMAN, DIANA EDITH\", \"SOTO PACHERRES, RODRIGO FRANCO\", \"INGARUCA RIVERA, GRETTEL ALEXANDRA\", \"ROJAS HUAMAN, ROSA ANGELA\", \"NEYRA SALAS, DANTE OMAR\", \"HUERTA ESPINOZA, YAJAIRA ALEXANDRA\", \"HUANCA MARTINEZ, JORGE ALBERTO\", \"FLORES CADILLO, ALEXIS\"]\n",
    "\n",
    "emails = [\"cscornejo@pucp.edu.pe\", \"orellana.cn@pucp.edu.pe\", \"karina.morales@pucp.edu.pe\", \"a20083223@pucp.pe\", \"abel.camacho@pucp.pe\", \"mtintaya@pucp.edu.pe\", \"joselin.chavez@pucp.edu.pe\", \"a20105737@pucp.pe\", \"jfgomezc@pucp.pe\", \"afrania.palomino@pucp.pe\", \"luzon.bianca@pucp.pe\", \"adrian.suanaz@pucp.pe\", \"soto.y@pucp.edu.pe\", \"a20132766@pucp.pe\", \"andre.lama@pucp.edu.pe\", \"gustavo.meza@pucp.edu.pe\", \"pmlozada@pucp.edu.pe\", \"m.zambranoj@pucp.edu.pe\", \"nicolas.jacobs@pucp.edu.pe\", \"gvidal@pucp.edu.pe\", \"jane.torres@pucp.edu.pe\", \"m.lopez@pucp.edu.pe\", \"alejandro.boyco@pucp.edu.pe\", \"a20167070@pucp.edu.pe\", \"riega.stephy@pucp.edu.pe\", \"vlevanot@pucp.edu.pe\", \"sesquives@pucp.edu.pe\", \"perez.juanc@pucp.edu.pe\", \"mariana.otero@pucp.edu.pe\", \"aclavo@pucp.edu.pe\", \"a20182474@pucp.edu.pe\", \"josue.caldas@pucp.edu.pe\", \"fabio.salas@pucp.edu.pe\", \"fernanda.pizarro@pucp.edu.pe\", \"aquillatupa@pucp.pe\", \"\", \"\", \"\", \"\", \"\", \"f0873079@pucp.edu.pe\", \"\", \"\", \"\", \"\", \"\", \"\", \"\", \"\", \"\", \"\", \"flores.alexis@pucp.edu.pe\"]\n",
    "\n",
    "## Second, we filter students without email addresses\n",
    "students_without_email = [name.split(', ')[0] for name, email in zip(last_and_name, emails) if not email]\n",
    "\n",
    "### Third, we print the last names of students without email addresses\n",
    "print(\"Last Names of Students Without Email:\")\n",
    "print(students_without_email)"
   ]
  },
  {
   "cell_type": "markdown",
   "id": "65f9b58c",
   "metadata": {},
   "source": [
    "## 1.3 Strings"
   ]
  },
  {
   "cell_type": "markdown",
   "id": "6b65033d",
   "metadata": {},
   "source": [
    "1. Drop the duplicated blank spaces in `str1`. Do not use the regular expresions. Do not use the code shown in class. Explain your steps.**Hint: Use `split` method and `join` function.** "
   ]
  },
  {
   "cell_type": "code",
   "execution_count": 17,
   "id": "7d89d7cc",
   "metadata": {},
   "outputs": [],
   "source": [
    "str1 = 'I am                            too                                                        old'"
   ]
  },
  {
   "cell_type": "code",
   "execution_count": 18,
   "id": "d95eb499",
   "metadata": {},
   "outputs": [],
   "source": [
    "paso1 = str1.split() #separo cada una de las palabras en una lista, eliminando de esta forma los espacios"
   ]
  },
  {
   "cell_type": "code",
   "execution_count": 19,
   "id": "63ee27ad",
   "metadata": {},
   "outputs": [
    {
     "name": "stdout",
     "output_type": "stream",
     "text": [
      "['I', 'am', 'too', 'old']\n"
     ]
    }
   ],
   "source": [
    "print(paso1) #llamo para verificar los elementos"
   ]
  },
  {
   "cell_type": "code",
   "execution_count": 20,
   "id": "72805385",
   "metadata": {},
   "outputs": [],
   "source": [
    "paso2 = \" \".join(paso1) #unimos con un solo espcio de por medio"
   ]
  },
  {
   "cell_type": "code",
   "execution_count": 21,
   "id": "88832d2c",
   "metadata": {},
   "outputs": [
    {
     "data": {
      "text/plain": [
       "'I am too old'"
      ]
     },
     "execution_count": 21,
     "metadata": {},
     "output_type": "execute_result"
    }
   ],
   "source": [
    "paso2"
   ]
  },
  {
   "cell_type": "markdown",
   "id": "f56ca563",
   "metadata": {},
   "source": [
    "2. Get the number of letters in the string .**Hint: Use `len`function.**\n"
   ]
  },
  {
   "cell_type": "code",
   "execution_count": 22,
   "id": "a116051a",
   "metadata": {},
   "outputs": [
    {
     "data": {
      "text/plain": [
       "9"
      ]
     },
     "execution_count": 22,
     "metadata": {},
     "output_type": "execute_result"
    }
   ],
   "source": [
    "len(paso2) - paso2.count(\" \") #al total de caracteres de la frase le restamos el número de espacios para determinar el número de letras"
   ]
  },
  {
   "cell_type": "markdown",
   "id": "a0e1fd6c",
   "metadata": {},
   "source": [
    "3. Get the number of blank spaces (all of them) in the string .**Hint: Use `len`function.**\n"
   ]
  },
  {
   "cell_type": "code",
   "execution_count": 23,
   "id": "7e72f0a4",
   "metadata": {},
   "outputs": [
    {
     "data": {
      "text/plain": [
       "85"
      ]
     },
     "execution_count": 23,
     "metadata": {},
     "output_type": "execute_result"
    }
   ],
   "source": [
    "str1.count(\" \") #con esta forma podemos determinar directamente el número de espacios"
   ]
  },
  {
   "cell_type": "markdown",
   "id": "f6d57dd3",
   "metadata": {},
   "source": [
    "4. Get the position of `@` in each string in the emails list. **Hint: Use `map`function and `find` method.**\n"
   ]
  },
  {
   "cell_type": "code",
   "execution_count": 24,
   "id": "a56c58a8",
   "metadata": {},
   "outputs": [],
   "source": [
    "emails = [\"cscornejo@pucp.edu.pe\", \"orellana.cn@pucp.edu.pe\", \"karina.morales@pucp.edu.pe\", \"a20083223@pucp.pe\", \"abel.camacho@pucp.pe\", \"mtintaya@pucp.edu.pe\", \"joselin.chavez@pucp.edu.pe\", \"a20105737@pucp.pe\", \"jfgomezc@pucp.pe\", \"afrania.palomino@pucp.pe\", \"luzon.bianca@pucp.pe\", \"adrian.suanaz@pucp.pe\", \"soto.y@pucp.edu.pe\", \"a20132766@pucp.pe\", \"andre.lama@pucp.edu.pe\", \"gustavo.meza@pucp.edu.pe\", \"pmlozada@pucp.edu.pe\", \"m.zambranoj@pucp.edu.pe\", \"nicolas.jacobs@pucp.edu.pe\", \"gvidal@pucp.edu.pe\", \"jane.torres@pucp.edu.pe\", \"m.lopez@pucp.edu.pe\", \"alejandro.boyco@pucp.edu.pe\", \"a20167070@pucp.edu.pe\", \"riega.stephy@pucp.edu.pe\", \"vlevanot@pucp.edu.pe\", \"sesquives@pucp.edu.pe\", \"perez.juanc@pucp.edu.pe\", \"mariana.otero@pucp.edu.pe\", \"aclavo@pucp.edu.pe\", \"a20182474@pucp.edu.pe\", \"josue.caldas@pucp.edu.pe\", \"fabio.salas@pucp.edu.pe\", \"fernanda.pizarro@pucp.edu.pe\", \"aquillatupa@pucp.pe\"]"
   ]
  },
  {
   "cell_type": "code",
   "execution_count": 25,
   "id": "e35ad680",
   "metadata": {},
   "outputs": [],
   "source": [
    "def buscar_caracter(emails): return emails.find('@') # definimos la función buscar_caracter a partir del objeto \"emails\" y pedimos que nos encuentre los \"@\" de los elementos."
   ]
  },
  {
   "cell_type": "code",
   "execution_count": 26,
   "id": "2b4e38f8",
   "metadata": {},
   "outputs": [],
   "source": [
    "positions = list(map(buscar_caracter, emails)) #Posteriormente, creamos el objeto \"positions\" el que representa la búsqueda de los \"@\" en cada uno de los elementos, lo cual se logra con la función \"map\""
   ]
  },
  {
   "cell_type": "code",
   "execution_count": 27,
   "id": "35260092",
   "metadata": {},
   "outputs": [
    {
     "name": "stdout",
     "output_type": "stream",
     "text": [
      "[9, 11, 14, 9, 12, 8, 14, 9, 8, 16, 12, 13, 6, 9, 10, 12, 8, 11, 14, 6, 11, 7, 15, 9, 12, 8, 9, 11, 13, 6, 9, 12, 11, 16, 11]\n"
     ]
    }
   ],
   "source": [
    "print(positions) #hacemos el llamado del resultado, el cual nos devuelve la posición de los \"@\" en cada elemento"
   ]
  },
  {
   "cell_type": "markdown",
   "id": "efa78a12",
   "metadata": {},
   "source": [
    "5. Identifies if exists `.edu.`  in each string in the `emails` list. Get a list of Booleans. **Hint: Use `map`function and `find` method.**"
   ]
  },
  {
   "cell_type": "code",
   "execution_count": 28,
   "id": "7ab5a94f",
   "metadata": {},
   "outputs": [],
   "source": [
    "def validar_edu(email): return \".edu.\" in email #al igual que en el ejercicio anterios, se define una función la cual busca identificar \".edu.\" en cada uno de los elementos"
   ]
  },
  {
   "cell_type": "code",
   "execution_count": 29,
   "id": "b1aa46d3",
   "metadata": {},
   "outputs": [],
   "source": [
    "existe_edu = list(map(validar_edu, emails)) #Creamos el objeto que identifica si existe o no la función usando map para la iteración"
   ]
  },
  {
   "cell_type": "code",
   "execution_count": 30,
   "id": "2fd33aa6",
   "metadata": {},
   "outputs": [
    {
     "name": "stdout",
     "output_type": "stream",
     "text": [
      "[True, True, True, False, False, True, True, False, False, False, False, False, True, False, True, True, True, True, True, True, True, True, True, True, True, True, True, True, True, True, True, True, True, True, False]\n"
     ]
    }
   ],
   "source": [
    "print(existe_edu) #hacemos el llamado de los resultados"
   ]
  }
 ],
 "metadata": {
  "kernelspec": {
   "display_name": "Python 3 (ipykernel)",
   "language": "python",
   "name": "python3"
  },
  "language_info": {
   "codemirror_mode": {
    "name": "ipython",
    "version": 3
   },
   "file_extension": ".py",
   "mimetype": "text/x-python",
   "name": "python",
   "nbconvert_exporter": "python",
   "pygments_lexer": "ipython3",
   "version": "3.11.5"
  }
 },
 "nbformat": 4,
 "nbformat_minor": 5
}
