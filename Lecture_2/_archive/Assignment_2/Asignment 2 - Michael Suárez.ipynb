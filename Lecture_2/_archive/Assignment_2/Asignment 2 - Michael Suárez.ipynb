{
 "cells": [
  {
   "cell_type": "code",
   "execution_count": 2,
   "id": "f2c22a69",
   "metadata": {},
   "outputs": [
    {
     "name": "stdout",
     "output_type": "stream",
     "text": [
      "['cscornejo@pucp.edu.pe', 'orellana.cn@pucp.edu.pe', 'karina.morales@pucp.edu.pe', 'a20083223@pucp.pe', 'abel.camacho@pucp.pe', 'mtintaya@pucp.edu.pe', 'joselin.chavez@pucp.edu.pe', 'a20105737@pucp.pe', 'jfgomezc@pucp.pe', 'afrania.palomino@pucp.pe', 'luzon.bianca@pucp.pe', 'adrian.suanaz@pucp.pe', 'soto.y@pucp.edu.pe', 'a20132766@pucp.pe', 'andre.lama@pucp.edu.pe', 'gustavo.meza@pucp.edu.pe', 'pmlozada@pucp.edu.pe', 'm.zambranoj@pucp.edu.pe', 'nicolas.jacobs@pucp.edu.pe', 'gvidal@pucp.edu.pe', 'jane.torres@pucp.edu.pe', 'm.lopez@pucp.edu.pe', 'alejandro.boyco@pucp.edu.pe', 'a20167070@pucp.edu.pe', 'riega.stephy@pucp.edu.pe', 'vlevanot@pucp.edu.pe', 'sesquives@pucp.edu.pe', 'perez.juanc@pucp.edu.pe', 'mariana.otero@pucp.edu.pe', 'aclavo@pucp.edu.pe', 'a20182474@pucp.edu.pe', 'josue.caldas@pucp.edu.pe', 'fabio.salas@pucp.edu.pe', 'fernanda.pizarro@pucp.edu.pe', 'aquillatupa@pucp.pe']\n"
     ]
    }
   ],
   "source": [
    "str1 = 'I am                            too                                                        old'\n",
    "emails = [\"cscornejo@pucp.edu.pe\", \"orellana.cn@pucp.edu.pe\", \"karina.morales@pucp.edu.pe\", \"a20083223@pucp.pe\", \"abel.camacho@pucp.pe\", \"mtintaya@pucp.edu.pe\", \"joselin.chavez@pucp.edu.pe\", \"a20105737@pucp.pe\", \"jfgomezc@pucp.pe\", \"afrania.palomino@pucp.pe\", \"luzon.bianca@pucp.pe\", \"adrian.suanaz@pucp.pe\", \"soto.y@pucp.edu.pe\", \"a20132766@pucp.pe\", \"andre.lama@pucp.edu.pe\", \"gustavo.meza@pucp.edu.pe\", \"pmlozada@pucp.edu.pe\", \"m.zambranoj@pucp.edu.pe\", \"nicolas.jacobs@pucp.edu.pe\", \"gvidal@pucp.edu.pe\", \"jane.torres@pucp.edu.pe\", \"m.lopez@pucp.edu.pe\", \"alejandro.boyco@pucp.edu.pe\", \"a20167070@pucp.edu.pe\", \"riega.stephy@pucp.edu.pe\", \"vlevanot@pucp.edu.pe\", \"sesquives@pucp.edu.pe\", \"perez.juanc@pucp.edu.pe\", \"mariana.otero@pucp.edu.pe\", \"aclavo@pucp.edu.pe\", \"a20182474@pucp.edu.pe\", \"josue.caldas@pucp.edu.pe\", \"fabio.salas@pucp.edu.pe\", \"fernanda.pizarro@pucp.edu.pe\", \"aquillatupa@pucp.pe\"]\n",
    "\n",
    "str1\n",
    "print(emails)"
   ]
  },
  {
   "cell_type": "markdown",
   "id": "f93d3cb6",
   "metadata": {},
   "source": [
    "1.3. Strings\n",
    "Drop the duplicated blank spaces in str1. Do not use the regular expresions. Do not use the code shown in class. \n",
    "Explain your steps.Hint: Use split method and join function.\n"
   ]
  },
  {
   "cell_type": "code",
   "execution_count": 3,
   "id": "51e840f4",
   "metadata": {},
   "outputs": [
    {
     "name": "stdout",
     "output_type": "stream",
     "text": [
      "['I', 'am', 'too', 'old']\n",
      "Resulting string: I am too old\n"
     ]
    }
   ],
   "source": [
    "str_divided = str1.split()\n",
    "print(str_divided)\n",
    "# I use the split method to divide the given string and save the returned list in a new variable\n",
    "# By default, this method divides strings based on white spaces (otherwise I would have put a delimiter in parenthesis)\n",
    "\n",
    "str_joined = \" \".join(str_divided)\n",
    "print(\"Resulting string:\", str_joined)\n",
    "# I joined the characters in the list with join. I put \" \" before join to specify that I want to use white spaces as a glue"
   ]
  },
  {
   "cell_type": "markdown",
   "id": "7b81d6dc",
   "metadata": {},
   "source": [
    "Get the number of letters in the string. Hint: Use len function"
   ]
  },
  {
   "cell_type": "code",
   "execution_count": 4,
   "id": "2ae7577d",
   "metadata": {},
   "outputs": [
    {
     "name": "stdout",
     "output_type": "stream",
     "text": [
      "Iamtooold\n",
      "The number of letters is 9\n"
     ]
    }
   ],
   "source": [
    "str_joined_nowhites = \"\".join(str_divided)\n",
    "print(str_joined_nowhites)\n",
    "# I joined the aforementioned string, this time without white spaces (otherwise a white space would count as a character)\n",
    "\n",
    "print(\"The number of letters is\", len(str_joined_nowhites))\n",
    "# The len function returns the number of letters"
   ]
  },
  {
   "cell_type": "markdown",
   "id": "c879686b",
   "metadata": {},
   "source": [
    "Get the number of blank spaces (all of them) in the string .Hint: Use lenfunction."
   ]
  },
  {
   "cell_type": "code",
   "execution_count": 17,
   "id": "2ebeed72",
   "metadata": {},
   "outputs": [
    {
     "name": "stdout",
     "output_type": "stream",
     "text": [
      "The number of characters in total is 94\n",
      "The number of blank spaces in total is 85\n"
     ]
    }
   ],
   "source": [
    "print(\"The number of characters in total is\", len(str1))\n",
    "print(\"The number of blank spaces in total is\", len(str1) - len(str_joined_nowhites))\n",
    "#  We can obtain the number of blank spaces by substracting the already known the number of letters\n",
    "# from the total number of characters in the string."
   ]
  },
  {
   "cell_type": "markdown",
   "id": "4294a9d0",
   "metadata": {},
   "source": [
    "Get the position of @ in each string in the emails list. Hint: Use mapfunction and find method.\n"
   ]
  },
  {
   "cell_type": "code",
   "execution_count": 6,
   "id": "3ebaa850",
   "metadata": {},
   "outputs": [
    {
     "name": "stdout",
     "output_type": "stream",
     "text": [
      "[9, 11, 14, 9, 12, 8, 14, 9, 8, 16, 12, 13, 6, 9, 10, 12, 8, 11, 14, 6, 11, 7, 15, 9, 12, 8, 9, 11, 13, 6, 9, 12, 11, 16, 11]\n"
     ]
    }
   ],
   "source": [
    "print(list(map(lambda char:char.find(\"@\"), emails)))\n",
    "# First of all, my lambda function specifies that I want to find the location of the @ in a given string\n",
    "# This function is applied to every element of the list \"emails\" thanks to the map function, which iterates through a list \n",
    "# The printed result is a list of characters with the position of the @ in every email.\n"
   ]
  },
  {
   "cell_type": "markdown",
   "id": "8f65d6b7",
   "metadata": {},
   "source": [
    "Identifies if exists .edu. in each string in the emails list. Get a list of Booleans. Hint: Use mapfunction and find method."
   ]
  },
  {
   "cell_type": "code",
   "execution_count": 7,
   "id": "8edda5b6",
   "metadata": {},
   "outputs": [
    {
     "name": "stdout",
     "output_type": "stream",
     "text": [
      "[14, 16, 19, -1, -1, 13, 19, -1, -1, -1, -1, -1, 11, -1, 15, 17, 13, 16, 19, 11, 16, 12, 20, 14, 17, 13, 14, 16, 18, 11, 14, 17, 16, 21, -1]\n",
      "[True, True, True, False, False, True, True, False, False, False, False, False, True, False, True, True, True, True, True, True, True, True, True, True, True, True, True, True, True, True, True, True, True, True, False]\n"
     ]
    }
   ],
   "source": [
    "print(list(map(lambda char:char.find(\".edu.\"), emails)))\n",
    "# I tried the same function but with the find(\".edu.\") instead to see how the language would treat not finding what is specified\n",
    "# I noticed that the emails that didn't have .edu. had a -1 as position\n",
    "\n",
    "position_list = list(map(lambda char:char.find(\".edu.\"), emails))\n",
    "# I save the position list\n",
    "\n",
    "print(list(map(lambda position:position != -1, position_list)))\n",
    "# So I basically made a new line of code to automatically get a False if the position is -1 (as in saying there is no .edu.)\n"
   ]
  },
  {
   "cell_type": "markdown",
   "id": "7c993194",
   "metadata": {},
   "source": [
    "Get all the strings before the first dot .in each string in the emails list. Identifies how many of them has @. Hint: Use mapfunction and find method. "
   ]
  },
  {
   "cell_type": "code",
   "execution_count": 13,
   "id": "1a6b9b23",
   "metadata": {},
   "outputs": [
    {
     "name": "stdout",
     "output_type": "stream",
     "text": [
      "['cscornejo@pucp', 'orellana', 'karina', 'a20083223@pucp', 'abel', 'mtintaya@pucp', 'joselin', 'a20105737@pucp', 'jfgomezc@pucp', 'afrania', 'luzon', 'adrian', 'soto', 'a20132766@pucp', 'andre', 'gustavo', 'pmlozada@pucp', 'm', 'nicolas', 'gvidal@pucp', 'jane', 'm', 'alejandro', 'a20167070@pucp', 'riega', 'vlevanot@pucp', 'sesquives@pucp', 'perez', 'mariana', 'aclavo@pucp', 'a20182474@pucp', 'josue', 'fabio', 'fernanda', 'aquillatupa@pucp']\n",
      "[9, -1, -1, 9, -1, 8, -1, 9, 8, -1, -1, -1, -1, 9, -1, -1, 8, -1, -1, 6, -1, -1, -1, 9, -1, 8, 9, -1, -1, 6, 9, -1, -1, -1, 11]\n",
      "[True, False, False, True, False, True, False, True, True, False, False, False, False, True, False, False, True, False, False, True, False, False, False, True, False, True, True, False, False, True, True, False, False, False, True]\n",
      "14  emails have @ before the first dot\n"
     ]
    }
   ],
   "source": [
    "splitted_emails = list(map(lambda str:str.split(\".\"), emails))\n",
    "# This first one is to split the email whenever there is a dot. The result is a list of splitted emails, way too messy to print\n",
    "\n",
    "print(list(map(lambda lst:lst[0], splitted_emails)))\n",
    "splitted_emails = list(map(lambda lst:lst[0], splitted_emails))\n",
    "# This second line is to just retrieve the characters that come before the first dot, and ditch the rest of the email.\n",
    "\n",
    "print(list(map(lambda char:char.find(\"@\"), splitted_emails)))\n",
    "splitted_emails_position = list(map(lambda char:char.find(\"@\"), splitted_emails))\n",
    "# I use the same method as the question before, where I retrieve the position of the @. If there is no @, I get a -1.\n",
    "\n",
    "print(list(map(lambda position:position != -1, splitted_emails_position)))\n",
    "final_list = list(map(lambda position:position != -1, splitted_emails_position))\n",
    "# Now to convert those -1 to False, and the rest to True, to specify \n",
    "\n",
    "print(final_list.count(True), \" emails have @ before the first dot\")\n",
    "# Now to counting. I'm sure there is an easier, faster, and more readable method than mine..."
   ]
  },
  {
   "cell_type": "code",
   "execution_count": null,
   "id": "8476e934",
   "metadata": {},
   "outputs": [],
   "source": []
  }
 ],
 "metadata": {
  "kernelspec": {
   "display_name": "Python 3 (ipykernel)",
   "language": "python",
   "name": "python3"
  },
  "language_info": {
   "codemirror_mode": {
    "name": "ipython",
    "version": 3
   },
   "file_extension": ".py",
   "mimetype": "text/x-python",
   "name": "python",
   "nbconvert_exporter": "python",
   "pygments_lexer": "ipython3",
   "version": "3.9.12"
  }
 },
 "nbformat": 4,
 "nbformat_minor": 5
}
