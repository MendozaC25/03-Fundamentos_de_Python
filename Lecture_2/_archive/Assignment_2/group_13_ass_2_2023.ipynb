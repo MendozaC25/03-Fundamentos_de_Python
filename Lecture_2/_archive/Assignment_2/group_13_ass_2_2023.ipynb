{
 "cells": [
  {
   "cell_type": "markdown",
   "id": "cfaa0d8a",
   "metadata": {},
   "source": [
    "# Trabajo grupal de Python"
   ]
  },
  {
   "cell_type": "markdown",
   "id": "ca423ddd",
   "metadata": {},
   "source": [
    "## Pregunta 1"
   ]
  },
  {
   "cell_type": "code",
   "execution_count": 2,
   "id": "f0f68fbf",
   "metadata": {},
   "outputs": [],
   "source": [
    "tuple1 = (\"Orange\", [10, 20, 30], (5, 15, 25))\n",
    "tuple2 = ([7, 8], [9, 1], [10, 7])"
   ]
  },
  {
   "cell_type": "markdown",
   "id": "1f274d0a",
   "metadata": {},
   "source": [
    "### Pregunta 1.A"
   ]
  },
  {
   "cell_type": "code",
   "execution_count": 3,
   "id": "ff399985",
   "metadata": {},
   "outputs": [
    {
     "name": "stdout",
     "output_type": "stream",
     "text": [
      "El primer elemento de la seguda tupla es 10\n"
     ]
    }
   ],
   "source": [
    "print(f'El primer elemento de la seguda tupla es {tuple1[1][0]}')"
   ]
  },
  {
   "cell_type": "markdown",
   "id": "cb2d3c56",
   "metadata": {},
   "source": [
    "### Pregunta 1.B"
   ]
  },
  {
   "cell_type": "code",
   "execution_count": 4,
   "id": "d51355d3",
   "metadata": {},
   "outputs": [
    {
     "name": "stdout",
     "output_type": "stream",
     "text": [
      "the last item of the tuple1 object is 25\n"
     ]
    }
   ],
   "source": [
    "print(f'the last item of the tuple1 object is {tuple1[2][-1]}')"
   ]
  },
  {
   "cell_type": "markdown",
   "id": "b4e53040",
   "metadata": {},
   "source": [
    "### Pregunta 1.C\n",
    "\n",
    "Change the value \"orange\" for \"pink grapefruit\". Comment the output. Hint: Is it possible?"
   ]
  },
  {
   "cell_type": "markdown",
   "id": "150e0554",
   "metadata": {},
   "source": [
    "Tuples are immutable, when the tuple is created, its values cannot be changed."
   ]
  },
  {
   "cell_type": "code",
   "execution_count": 5,
   "id": "2c7ca1a2",
   "metadata": {},
   "outputs": [
    {
     "name": "stdout",
     "output_type": "stream",
     "text": [
      "Tuples are immutable\n"
     ]
    }
   ],
   "source": [
    "try:\n",
    "  tuple1[0] = \"pink grapefruit\"\n",
    "  print(tuple1)\n",
    "except Exception as e:\n",
    "  print('Tuples are immutable')"
   ]
  },
  {
   "cell_type": "markdown",
   "id": "196a700e",
   "metadata": {},
   "source": [
    "### Pregunta 1.D\n",
    "Print the length of tuple1. Hint: Length function"
   ]
  },
  {
   "cell_type": "code",
   "execution_count": 6,
   "id": "b74744fc",
   "metadata": {},
   "outputs": [
    {
     "name": "stdout",
     "output_type": "stream",
     "text": [
      "the length of tuple1 is 3\n"
     ]
    }
   ],
   "source": [
    "print(f'the length of tuple1 is {len(tuple1)}')"
   ]
  },
  {
   "cell_type": "markdown",
   "id": "31375e35",
   "metadata": {},
   "source": [
    "### Pregunta 1.E\n",
    "Sum all the elements of tuple2 and describe your steps and explain each of them. Hint: Use map function."
   ]
  },
  {
   "cell_type": "code",
   "execution_count": 7,
   "id": "0ee50602",
   "metadata": {},
   "outputs": [
    {
     "name": "stdout",
     "output_type": "stream",
     "text": [
      "42\n"
     ]
    }
   ],
   "source": [
    "# create function to sum \n",
    "def suma(l):\n",
    "  return sum(l)\n",
    "\n",
    "# Apply function to each sublist of tuple2 using the `map()`\n",
    "r = map(suma, tuple2)\n",
    "\n",
    "# Convert the `map` object to a list and calculate the overall sum\n",
    "sumaTotal = sum(r)\n",
    "\n",
    "print(sumaTotal)"
   ]
  },
  {
   "cell_type": "markdown",
   "id": "e7ceb530",
   "metadata": {},
   "source": [
    "### Pregunta 1.F\n",
    "Generate a new tuple object named as tuple3 with the half values of tuple2. This tuple should be similar as tuple2, tuple of lists. Hint: Use map funciont."
   ]
  },
  {
   "cell_type": "code",
   "execution_count": 8,
   "id": "c3e5436e",
   "metadata": {},
   "outputs": [
    {
     "name": "stdout",
     "output_type": "stream",
     "text": [
      "([3.5, 4.0], [4.5, 0.5], [5.0, 3.5])\n"
     ]
    }
   ],
   "source": [
    "# function to halve the elements of a list\n",
    "def mitad(lista):\n",
    "  return [e / 2 for e in lista]\n",
    "\n",
    "# Apply the `mitad` function to each sublist of tuple2 using the `map()` function\n",
    "mitad_valores = map(mitad, tuple2)\n",
    "\n",
    "# Convert the `map` object to a list and create a new tuple named `tuple3`\n",
    "tuple3 = tuple(mitad_valores)\n",
    "\n",
    "print(tuple3)"
   ]
  },
  {
   "cell_type": "markdown",
   "id": "df7c06fd",
   "metadata": {},
   "source": [
    "## Pregunta 3"
   ]
  },
  {
   "cell_type": "code",
   "execution_count": 1,
   "id": "5e396b0f",
   "metadata": {},
   "outputs": [],
   "source": [
    "str1 = 'I am                            too                                                        old'"
   ]
  },
  {
   "cell_type": "code",
   "execution_count": 3,
   "id": "f68e289d",
   "metadata": {},
   "outputs": [],
   "source": [
    "emails = [\"cscornejo@pucp.edu.pe\", \"orellana.cn@pucp.edu.pe\", \"karina.morales@pucp.edu.pe\", \"a20083223@pucp.pe\", \"abel.camacho@pucp.pe\", \"mtintaya@pucp.edu.pe\", \"joselin.chavez@pucp.edu.pe\", \"a20105737@pucp.pe\", \"jfgomezc@pucp.pe\", \"afrania.palomino@pucp.pe\", \"luzon.bianca@pucp.pe\", \"adrian.suanaz@pucp.pe\", \"soto.y@pucp.edu.pe\", \"a20132766@pucp.pe\", \"andre.lama@pucp.edu.pe\", \"gustavo.meza@pucp.edu.pe\", \"pmlozada@pucp.edu.pe\", \"m.zambranoj@pucp.edu.pe\", \"nicolas.jacobs@pucp.edu.pe\", \"gvidal@pucp.edu.pe\", \"jane.torres@pucp.edu.pe\", \"m.lopez@pucp.edu.pe\", \"alejandro.boyco@pucp.edu.pe\", \"a20167070@pucp.edu.pe\", \"riega.stephy@pucp.edu.pe\", \"vlevanot@pucp.edu.pe\", \"sesquives@pucp.edu.pe\", \"perez.juanc@pucp.edu.pe\", \"mariana.otero@pucp.edu.pe\", \"aclavo@pucp.edu.pe\", \"a20182474@pucp.edu.pe\", \"josue.caldas@pucp.edu.pe\", \"fabio.salas@pucp.edu.pe\", \"fernanda.pizarro@pucp.edu.pe\", \"aquillatupa@pucp.pe\"]"
   ]
  },
  {
   "cell_type": "markdown",
   "id": "2a95ba27",
   "metadata": {},
   "source": [
    "### Pregunta 3.A"
   ]
  },
  {
   "cell_type": "code",
   "execution_count": 8,
   "id": "dbe1c433",
   "metadata": {},
   "outputs": [
    {
     "name": "stdout",
     "output_type": "stream",
     "text": [
      "I am too old\n"
     ]
    }
   ],
   "source": [
    "#we use the split method with the default space separator and save the strings as a list\n",
    "str1_split = str1.split()\n",
    "#we use the join method using a space as a seaprator and save it as a new string  \n",
    "new_str1 = \" \".join(str1_split)\n",
    "\n",
    "print(new_str1)"
   ]
  },
  {
   "cell_type": "markdown",
   "id": "f7a10e98",
   "metadata": {},
   "source": [
    "### Pregunta 3.B"
   ]
  },
  {
   "cell_type": "code",
   "execution_count": 33,
   "id": "5f017f38",
   "metadata": {},
   "outputs": [
    {
     "name": "stdout",
     "output_type": "stream",
     "text": [
      "The number of letters in new_str1 is 9\n"
     ]
    }
   ],
   "source": [
    "#code that counts the lenght of each chararter in str_1, if the character is alphabetic\n",
    "num_letters = len([char for char in new_str1 if char.isalpha()])\n",
    "\n",
    "print(f'The number of letters in new_str1 is {num_letters}')\n"
   ]
  },
  {
   "cell_type": "markdown",
   "id": "037e3726",
   "metadata": {},
   "source": [
    "### Pregunta 3.C"
   ]
  },
  {
   "cell_type": "code",
   "execution_count": 37,
   "id": "8258974a",
   "metadata": {},
   "outputs": [
    {
     "name": "stdout",
     "output_type": "stream",
     "text": [
      "The number of blanck spaces in str1 is 3\n"
     ]
    }
   ],
   "source": [
    "num_char = len([char for char in new_str1])\n",
    "\n",
    "print(f'The number of blanck spaces in str1 is {num_char - num_letters}')"
   ]
  },
  {
   "cell_type": "markdown",
   "id": "4053a83d",
   "metadata": {},
   "source": [
    "### Pregunta 3.D"
   ]
  },
  {
   "cell_type": "code",
   "execution_count": 40,
   "id": "69171f89",
   "metadata": {},
   "outputs": [
    {
     "name": "stdout",
     "output_type": "stream",
     "text": [
      "[9, 11, 14, 9, 12, 8, 14, 9, 8, 16, 12, 13, 6, 9, 10, 12, 8, 11, 14, 6, 11, 7, 15, 9, 12, 8, 9, 11, 13, 6, 9, 12, 11, 16, 11]\n"
     ]
    }
   ],
   "source": [
    "#we define the function find_arroba to give us the position of the @ in each email\n",
    "def find_arroba(email):\n",
    "  return email.find('@')\n",
    "\n",
    "# we use the map function to aply find_arroba in each element of the emails list\n",
    "positions = list(map(find_arroba,emails))\n",
    "\n",
    "print(positions)"
   ]
  },
  {
   "cell_type": "markdown",
   "id": "3df21502",
   "metadata": {},
   "source": [
    "### Pregunta 3.E"
   ]
  },
  {
   "cell_type": "code",
   "execution_count": 41,
   "id": "f5f311c1",
   "metadata": {},
   "outputs": [
    {
     "name": "stdout",
     "output_type": "stream",
     "text": [
      "[True, True, True, False, False, True, True, False, False, False, False, False, True, False, True, True, True, True, True, True, True, True, True, True, True, True, True, True, True, True, True, True, True, True, False]\n"
     ]
    }
   ],
   "source": [
    "#we define a function to give us a true if email is in the string and false if is not\n",
    "def punto_edu(email):\n",
    "    if \".edu.\" in email:\n",
    "       return True\n",
    "    else:\n",
    "       return False\n",
    "\n",
    "emails_edu = list(map(punto_edu,emails))\n",
    "print(emails_edu)"
   ]
  },
  {
   "cell_type": "markdown",
   "id": "8b7bbe6b",
   "metadata": {},
   "source": [
    "### Pregunta 3.F"
   ]
  },
  {
   "cell_type": "code",
   "execution_count": 42,
   "id": "e680ff42",
   "metadata": {},
   "outputs": [
    {
     "name": "stdout",
     "output_type": "stream",
     "text": [
      "['cscornejo@pucp', 'orellana', 'karina', 'a20083223@pucp', 'abel', 'mtintaya@pucp', 'joselin', 'a20105737@pucp', 'jfgomezc@pucp', 'afrania', 'luzon', 'adrian', 'soto', 'a20132766@pucp', 'andre', 'gustavo', 'pmlozada@pucp', 'm', 'nicolas', 'gvidal@pucp', 'jane', 'm', 'alejandro', 'a20167070@pucp', 'riega', 'vlevanot@pucp', 'sesquives@pucp', 'perez', 'mariana', 'aclavo@pucp', 'a20182474@pucp', 'josue', 'fabio', 'fernanda', 'aquillatupa@pucp']\n"
     ]
    }
   ],
   "source": [
    "def substring_dot(email):\n",
    "    dot_index = email.find('.')\n",
    "    if dot_index != -1:\n",
    "      return email[:dot_index]\n",
    "    else:\n",
    "       return email\n",
    "\n",
    "emails_before_dot = list(map(substring_dot, emails))\n",
    "print(emails_before_dot)\n",
    " "
   ]
  },
  {
   "cell_type": "code",
   "execution_count": 48,
   "id": "c5743c54",
   "metadata": {},
   "outputs": [
    {
     "name": "stdout",
     "output_type": "stream",
     "text": [
      "Te number of emails with an @ after removing the strings after the first dot are 14\n"
     ]
    }
   ],
   "source": [
    "# we create a function with a boolean return: if @ is in email it returns 1 if not 0\n",
    "def has_at(email):\n",
    "  return '@' in email\n",
    "# we use map function to sum the list of 1 and 0 and obtain the total number of emails with @ \n",
    "number_emails_at = sum(map(has_at,emails_before_dot))\n",
    "print(f'Te number of emails with an @ after removing the strings after the first dot are {number_emails_at}')\n",
    "     "
   ]
  },
  {
   "cell_type": "code",
   "execution_count": null,
   "id": "200e2e57",
   "metadata": {},
   "outputs": [],
   "source": []
  },
  {
   "cell_type": "markdown",
   "id": "debbbdfd",
   "metadata": {},
   "source": [
    "## Pregunta 3"
   ]
  },
  {
   "cell_type": "code",
   "execution_count": 1,
   "id": "846c2c1a",
   "metadata": {},
   "outputs": [],
   "source": [
    "str1 = 'I am                            too                                                        old'"
   ]
  },
  {
   "cell_type": "code",
   "execution_count": 3,
   "id": "dcbb0e72",
   "metadata": {},
   "outputs": [],
   "source": [
    "emails = [\"cscornejo@pucp.edu.pe\", \"orellana.cn@pucp.edu.pe\", \"karina.morales@pucp.edu.pe\", \"a20083223@pucp.pe\", \"abel.camacho@pucp.pe\", \"mtintaya@pucp.edu.pe\", \"joselin.chavez@pucp.edu.pe\", \"a20105737@pucp.pe\", \"jfgomezc@pucp.pe\", \"afrania.palomino@pucp.pe\", \"luzon.bianca@pucp.pe\", \"adrian.suanaz@pucp.pe\", \"soto.y@pucp.edu.pe\", \"a20132766@pucp.pe\", \"andre.lama@pucp.edu.pe\", \"gustavo.meza@pucp.edu.pe\", \"pmlozada@pucp.edu.pe\", \"m.zambranoj@pucp.edu.pe\", \"nicolas.jacobs@pucp.edu.pe\", \"gvidal@pucp.edu.pe\", \"jane.torres@pucp.edu.pe\", \"m.lopez@pucp.edu.pe\", \"alejandro.boyco@pucp.edu.pe\", \"a20167070@pucp.edu.pe\", \"riega.stephy@pucp.edu.pe\", \"vlevanot@pucp.edu.pe\", \"sesquives@pucp.edu.pe\", \"perez.juanc@pucp.edu.pe\", \"mariana.otero@pucp.edu.pe\", \"aclavo@pucp.edu.pe\", \"a20182474@pucp.edu.pe\", \"josue.caldas@pucp.edu.pe\", \"fabio.salas@pucp.edu.pe\", \"fernanda.pizarro@pucp.edu.pe\", \"aquillatupa@pucp.pe\"]"
   ]
  },
  {
   "cell_type": "markdown",
   "id": "7561c891",
   "metadata": {},
   "source": [
    "### Pregunta 3.A"
   ]
  },
  {
   "cell_type": "code",
   "execution_count": 8,
   "id": "50ae22d4",
   "metadata": {},
   "outputs": [
    {
     "name": "stdout",
     "output_type": "stream",
     "text": [
      "I am too old\n"
     ]
    }
   ],
   "source": [
    "#we use the split method with the default space separator and save the strings as a list\n",
    "str1_split = str1.split()\n",
    "#we use the join method using a space as a seaprator and save it as a new string  \n",
    "new_str1 = \" \".join(str1_split)\n",
    "\n",
    "print(new_str1)"
   ]
  },
  {
   "cell_type": "markdown",
   "id": "f3627a17",
   "metadata": {},
   "source": [
    "### Pregunta 3.B"
   ]
  },
  {
   "cell_type": "code",
   "execution_count": 33,
   "id": "f8e713ef",
   "metadata": {},
   "outputs": [
    {
     "name": "stdout",
     "output_type": "stream",
     "text": [
      "The number of letters in new_str1 is 9\n"
     ]
    }
   ],
   "source": [
    "#code that counts the lenght of each chararter in str_1, if the character is alphabetic\n",
    "num_letters = len([char for char in new_str1 if char.isalpha()])\n",
    "\n",
    "print(f'The number of letters in new_str1 is {num_letters}')\n"
   ]
  },
  {
   "cell_type": "markdown",
   "id": "155f656e",
   "metadata": {},
   "source": [
    "### Pregunta 3.C"
   ]
  },
  {
   "cell_type": "code",
   "execution_count": 37,
   "id": "1ebcc028",
   "metadata": {},
   "outputs": [
    {
     "name": "stdout",
     "output_type": "stream",
     "text": [
      "The number of blanck spaces in str1 is 3\n"
     ]
    }
   ],
   "source": [
    "num_char = len([char for char in new_str1])\n",
    "\n",
    "print(f'The number of blanck spaces in str1 is {num_char - num_letters}')"
   ]
  },
  {
   "cell_type": "markdown",
   "id": "f8b27b8c",
   "metadata": {},
   "source": [
    "### Pregunta 3.D"
   ]
  },
  {
   "cell_type": "code",
   "execution_count": 40,
   "id": "3eec6791",
   "metadata": {},
   "outputs": [
    {
     "name": "stdout",
     "output_type": "stream",
     "text": [
      "[9, 11, 14, 9, 12, 8, 14, 9, 8, 16, 12, 13, 6, 9, 10, 12, 8, 11, 14, 6, 11, 7, 15, 9, 12, 8, 9, 11, 13, 6, 9, 12, 11, 16, 11]\n"
     ]
    }
   ],
   "source": [
    "#we define the function find_arroba to give us the position of the @ in each email\n",
    "def find_arroba(email):\n",
    "  return email.find('@')\n",
    "\n",
    "# we use the map function to aply find_arroba in each element of the emails list\n",
    "positions = list(map(find_arroba,emails))\n",
    "\n",
    "print(positions)"
   ]
  },
  {
   "cell_type": "markdown",
   "id": "dec2bf35",
   "metadata": {},
   "source": [
    "### Pregunta 3.E"
   ]
  },
  {
   "cell_type": "code",
   "execution_count": 41,
   "id": "7fd7d54a",
   "metadata": {},
   "outputs": [
    {
     "name": "stdout",
     "output_type": "stream",
     "text": [
      "[True, True, True, False, False, True, True, False, False, False, False, False, True, False, True, True, True, True, True, True, True, True, True, True, True, True, True, True, True, True, True, True, True, True, False]\n"
     ]
    }
   ],
   "source": [
    "#we define a function to give us a true if email is in the string and false if is not\n",
    "def punto_edu(email):\n",
    "    if \".edu.\" in email:\n",
    "       return True\n",
    "    else:\n",
    "       return False\n",
    "\n",
    "emails_edu = list(map(punto_edu,emails))\n",
    "print(emails_edu)"
   ]
  },
  {
   "cell_type": "markdown",
   "id": "f528e167",
   "metadata": {},
   "source": [
    "### Pregunta 3.F"
   ]
  },
  {
   "cell_type": "code",
   "execution_count": 42,
   "id": "d8d4c6af",
   "metadata": {},
   "outputs": [
    {
     "name": "stdout",
     "output_type": "stream",
     "text": [
      "['cscornejo@pucp', 'orellana', 'karina', 'a20083223@pucp', 'abel', 'mtintaya@pucp', 'joselin', 'a20105737@pucp', 'jfgomezc@pucp', 'afrania', 'luzon', 'adrian', 'soto', 'a20132766@pucp', 'andre', 'gustavo', 'pmlozada@pucp', 'm', 'nicolas', 'gvidal@pucp', 'jane', 'm', 'alejandro', 'a20167070@pucp', 'riega', 'vlevanot@pucp', 'sesquives@pucp', 'perez', 'mariana', 'aclavo@pucp', 'a20182474@pucp', 'josue', 'fabio', 'fernanda', 'aquillatupa@pucp']\n"
     ]
    }
   ],
   "source": [
    "def substring_dot(email):\n",
    "    dot_index = email.find('.')\n",
    "    if dot_index != -1:\n",
    "      return email[:dot_index]\n",
    "    else:\n",
    "       return email\n",
    "\n",
    "emails_before_dot = list(map(substring_dot, emails))\n",
    "print(emails_before_dot)\n",
    " "
   ]
  },
  {
   "cell_type": "code",
   "execution_count": 48,
   "id": "bad2af0b",
   "metadata": {},
   "outputs": [
    {
     "name": "stdout",
     "output_type": "stream",
     "text": [
      "Te number of emails with an @ after removing the strings after the first dot are 14\n"
     ]
    }
   ],
   "source": [
    "# we create a function with a boolean return: if @ is in email it returns 1 if not 0\n",
    "def has_at(email):\n",
    "  return '@' in email\n",
    "# we use map function to sum the list of 1 and 0 and obtain the total number of emails with @ \n",
    "number_emails_at = sum(map(has_at,emails_before_dot))\n",
    "print(f'Te number of emails with an @ after removing the strings after the first dot are {number_emails_at}')\n",
    "     "
   ]
  },
  {
   "cell_type": "markdown",
   "id": "596936d1",
   "metadata": {},
   "source": [
    "## Pregunta 2"
   ]
  },
  {
   "cell_type": "markdown",
   "id": "dafea206",
   "metadata": {},
   "source": []
  },
  {
   "cell_type": "code",
   "execution_count": 1,
   "id": "a0b0ce59",
   "metadata": {},
   "outputs": [],
   "source": [
    "import numpy as np\n",
    "import pandas as pd\n",
    "f_list = [np.nan , np.nan, \"Austria\", \"Germany\", np.nan, \"Pakistan\", \"np.nan\", np.nan ]\n",
    "text1 = ['My', 'teacher', 'assistant', 'is', 'so', 'boring.']\n",
    "p2_list = [ 2 , 3, 4, 5 ]\n",
    "values1 = [ 86, 86, 85, 85, 85, 83, 23, 0, 84, 1 ] \n",
    "# These two lists a\n",
    "last_and_name = [ \"CORNEJO SANCHEZ, CHRISTIAN SANTOS\", \"ORELLANA QUISPE, CRISTIAN NASSER\", \"MORALES CHOQUEHUANCA, ANGELICA KARINA\", \"GUIMARAY RIBEYRO, JOSE ROBERTO\", \"CAMACHO GAVIDIA, ABEL FERNANDO\", \"TINTAYA ORIHUELA, MEIR ALVARO\", \"CHAVEZ MARTINEZ, JOSELIN ALEXANDRA\", \"FIGUEROA MURO, LEONEL ARTURO\", \"GOMEZ CRIBILLERO, JOSE FELIPE\", \"PALOMINO SEGUÍN, AFRANIA\", \"LUZON CUEVA, BIANCA MARIETTE\", \"SUAÑA ZEGARRA, ADRIAN ANDRE\", \"SOTO POMACHAGUA, DORKAS YOMIRA JHERMY\", \"FIORENTINO MARTINEZ, LADY ALY\", \"LAMA MAVILA, HECTOR ANDRE\", \"MEZA HINOJO, GUSTAVO\", \"LOZADA MURILLO, PERSEO MARCELO\", \"ZAMBRANO JIMENEZ, MIGUEL ALONZO\", \"JACOBS LUQUE, NICOLAS\", \"VIDAL VIDAL, ROCIO GABRIELA\", \"TORRES ANICAMA, JANE CAMILA\", \"LOPEZ ESTRADA, MARIA ELISA\", \"BOYCO ORAMS, ALEJANDRO\", \"DIAZ BERROSPI, KARLINE ROSMELI\", \"RIEGA ESCALANTE, STEPHY ROSARIO\", \"LEVANO TORRES, VALERIA CECILIA\", \"ESQUIVES BRAVO, SEBASTIAN RENATO\", \"PEREZ GONZALES, JUAN CARLOS\", \"OTERO MAGUIÑA, MARIANA\", \"CLAVO CAMPOS, ANDREA BRIZETH\", \"AGUILAR GARCIA, ERICK JOSUE\", \"CALDAS VELASQUEZ, JOSUE DANIEL\", \"SALAS NUÑEZ BORJA, FABIO MANUEL\", \"PIZARRO VILLANES, FERNANDA NICOLLE\", \"QUILLATUPA MORALES, ANGELA ADELINA\", \"HUANCAYA IDONE, CESAR DANTE\", \"CALVO PORTOCARRERO, GABRIELA ISABEL\", \"IBAÑEZ ABANTO, ANGEL MAURICIO\", \"MELÉNDEZ APONTE, JUAN DIEGO\", \"CRISTIAN SERRANO, ARONE\", \"HINOJOSA CAHUANA, PERCY ALBERTH\", \"ANGLAS GARCÍA, KEVIN ARTURO\", \"ALDAVE ACOSTA, CESAR ERNESTO\", \"NÚÑEZ HUAMÁN, CÉSAR AGUSTO\", \"OBREGON HUAMAN, DIANA EDITH\", \"SOTO PACHERRES, RODRIGO FRANCO\", \"INGARUCA RIVERA, GRETTEL ALEXANDRA\", \"ROJAS HUAMAN, ROSA ANGELA\", \"NEYRA SALAS, DANTE OMAR\", \"HUERTA ESPINOZA, YAJAIRA ALEXANDRA\", \"HUANCA MARTINEZ, JORGE ALBERTO\", \"FLORES CADILLO, ALEXIS\" ]\n",
    "emails = [\"cscornejo@pucp.edu.pe\", \"orellana.cn@pucp.edu.pe\", \"karina.morales@pucp.edu.pe\", \"a20083223@pucp.pe\", \"abel.camacho@pucp.pe\", \"mtintaya@pucp.edu.pe\", \"joselin.chavez@pucp.edu.pe\", \"a20105737@pucp.pe\", \"jfgomezc@pucp.pe\", \"afrania.palomino@pucp.pe\", \"luzon.bianca@pucp.pe\", \"adrian.suanaz@pucp.pe\", \"soto.y@pucp.edu.pe\", \"a20132766@pucp.pe\", \"andre.lama@pucp.edu.pe\", \"gustavo.meza@pucp.edu.pe\", \"pmlozada@pucp.edu.pe\", \"m.zambranoj@pucp.edu.pe\", \"nicolas.jacobs@pucp.edu.pe\", \"gvidal@pucp.edu.pe\", \"jane.torres@pucp.edu.pe\", \"m.lopez@pucp.edu.pe\", \"alejandro.boyco@pucp.edu.pe\", \"a20167070@pucp.edu.pe\", \"riega.stephy@pucp.edu.pe\", \"vlevanot@pucp.edu.pe\", \"sesquives@pucp.edu.pe\", \"perez.juanc@pucp.edu.pe\", \"mariana.otero@pucp.edu.pe\", \"aclavo@pucp.edu.pe\", \"a20182474@pucp.edu.pe\", \"josue.caldas@pucp.edu.pe\", \"fabio.salas@pucp.edu.pe\", \"fernanda.pizarro@pucp.edu.pe\", \"aquillatupa@pucp.pe\", \"\", \"\", \"\", \"\", \"\", \"f0873079@pucp.edu.pe\", \"\", \"\", \"\", \"\", \"\", \"\", \"\", \"\", \"\", \"\", \"flores.alexis@pucp.edu.pe\", ]\n"
   ]
  },
  {
   "cell_type": "markdown",
   "id": "7cf2064a",
   "metadata": {},
   "source": [
    "### Pregunta 2.1\n",
    "Show the indices of the np.nan values in the f_list list. We want to see this output: The indices 0, 1, 4, 7 have np.nan values. Hint: Use print function and f-strings to insert the indices values.\n",
    "f_list = [np.nan , np.nan, \"Austria\", \"Germany\", np.nan, \"Pakistan\", \"np.nan\", np.nan ]"
   ]
  },
  {
   "cell_type": "code",
   "execution_count": 2,
   "id": "2c2e9a0f",
   "metadata": {},
   "outputs": [
    {
     "name": "stdout",
     "output_type": "stream",
     "text": [
      "The indices 0, 1, 4, 7 have np.nan values.\n"
     ]
    }
   ],
   "source": [
    "indices = ''\n",
    "for i, v in enumerate(f_list):\n",
    "    if pd.isnull(v):\n",
    "        #indices.append(i)\n",
    "        indices=indices+str(i)+', '\n",
    "\n",
    "print(f\"The indices {indices[:-2]} have np.nan values.\")\n"
   ]
  },
  {
   "cell_type": "markdown",
   "id": "c5c03090",
   "metadata": {},
   "source": [
    "### Pregunta 2.2\n",
    "Replicate 4 times the values of the list p2_list. We expect an ouput like this: [ 2 , 3, 4, 5, 2 , 3, 4, 5, 2 , 3, 4, 5, 2 , 3, 4, 5]. Hint: Use multiplication function in listsand see the output."
   ]
  },
  {
   "cell_type": "code",
   "execution_count": 3,
   "id": "30ae3462",
   "metadata": {},
   "outputs": [
    {
     "name": "stdout",
     "output_type": "stream",
     "text": [
      "[2, 3, 4, 5, 2, 3, 4, 5, 2, 3, 4, 5, 2, 3, 4, 5]\n"
     ]
    }
   ],
   "source": [
    "print(f\"{p2_list * 4}\")"
   ]
  },
  {
   "cell_type": "markdown",
   "id": "4ff1cde9",
   "metadata": {},
   "source": [
    "### Pregunta 2.3\n",
    "Print the length of f_list. Hint: Length function"
   ]
  },
  {
   "cell_type": "code",
   "execution_count": 4,
   "id": "7177b637",
   "metadata": {},
   "outputs": [
    {
     "name": "stdout",
     "output_type": "stream",
     "text": [
      "the length of f_list is 8\n"
     ]
    }
   ],
   "source": [
    "print(f\"the length of f_list is {len(f_list)}\")"
   ]
  },
  {
   "cell_type": "markdown",
   "id": "154bb509",
   "metadata": {},
   "source": [
    "### Pregunta 2.4\n",
    "Print My teacher assistant is so boring. using text1 list. Hint: Use the join function. text1 = ['My', 'teacher', 'assistant', 'is', 'so', 'boring.']"
   ]
  },
  {
   "cell_type": "code",
   "execution_count": 5,
   "id": "3a6d7b73",
   "metadata": {},
   "outputs": [
    {
     "name": "stdout",
     "output_type": "stream",
     "text": [
      "the length of f_list is My teacher assistant is so boring.\n"
     ]
    }
   ],
   "source": [
    "print( f\"the length of f_list is {' '.join(text1)}\")"
   ]
  },
  {
   "cell_type": "markdown",
   "id": "44c50b01",
   "metadata": {},
   "source": [
    "### Pregunta 2.5\n",
    "Print My TA is so boring, but is very funny. using text1 list.Hint: Use the join function, and extend method."
   ]
  },
  {
   "cell_type": "code",
   "execution_count": 6,
   "id": "6d1ae4af",
   "metadata": {},
   "outputs": [
    {
     "name": "stdout",
     "output_type": "stream",
     "text": [
      "My teacher assistant is so boring, but is very funny.\n"
     ]
    }
   ],
   "source": [
    "text1 = ['My', 'teacher', 'assistant', 'is', 'so', 'boring.']\n",
    "\n",
    "text1.extend(['but', 'is', 'very', 'funny.'])\n",
    "\n",
    "print(' '.join(text1).replace(\".\", \",\",1))"
   ]
  },
  {
   "cell_type": "markdown",
   "id": "e14b0ad9",
   "metadata": {},
   "source": [
    "### Pregunta 2.6 Print\n",
    "The max value of values1 is 86 and is located in the 0 index.\n",
    "The min value of values1 is 0 and is located in the 7 index.\n",
    "Hint: Use the f-string, min, and max functions."
   ]
  },
  {
   "cell_type": "code",
   "execution_count": 8,
   "id": "0c381a6f",
   "metadata": {},
   "outputs": [
    {
     "name": "stdout",
     "output_type": "stream",
     "text": [
      "The max value of values1 is 86 and is located in the 0 index.\n",
      "The min value of values1 is 0 and is located in the 7 index.\n"
     ]
    }
   ],
   "source": [
    "# Find the maximum value and minimum value\n",
    "\n",
    "max_index = values1.index(max(values1))\n",
    "\n",
    "min_index = values1.index(min(values1))\n",
    "\n",
    "# Print the results using f-strings\n",
    "print(f\"The max value of values1 is {max(values1)} and is located in the {max_index} index.\")\n",
    "print(f\"The min value of values1 is {min(values1)} and is located in the {min_index} index.\")"
   ]
  },
  {
   "cell_type": "markdown",
   "id": "bfe6ca27",
   "metadata": {},
   "source": [
    "### Pregunta2.7\n",
    "Get two lists: `names` and `last_names` using `last_and_name` list. **Hint: Use `map` and `split`.**"
   ]
  },
  {
   "cell_type": "code",
   "execution_count": 12,
   "id": "ce925c16",
   "metadata": {},
   "outputs": [
    {
     "name": "stdout",
     "output_type": "stream",
     "text": [
      "los nombre ['CHRISTIAN SANTOS', 'CRISTIAN NASSER', 'ANGELICA KARINA', 'JOSE ROBERTO', 'ABEL FERNANDO', 'MEIR ALVARO', 'JOSELIN ALEXANDRA', 'LEONEL ARTURO', 'JOSE FELIPE', 'AFRANIA', 'BIANCA MARIETTE', 'ADRIAN ANDRE', 'DORKAS YOMIRA JHERMY', 'LADY ALY', 'HECTOR ANDRE', 'GUSTAVO', 'PERSEO MARCELO', 'MIGUEL ALONZO', 'NICOLAS', 'ROCIO GABRIELA', 'JANE CAMILA', 'MARIA ELISA', 'ALEJANDRO', 'KARLINE ROSMELI', 'STEPHY ROSARIO', 'VALERIA CECILIA', 'SEBASTIAN RENATO', 'JUAN CARLOS', 'MARIANA', 'ANDREA BRIZETH', 'ERICK JOSUE', 'JOSUE DANIEL', 'FABIO MANUEL', 'FERNANDA NICOLLE', 'ANGELA ADELINA', 'CESAR DANTE', 'GABRIELA ISABEL', 'ANGEL MAURICIO', 'JUAN DIEGO', 'ARONE', 'PERCY ALBERTH', 'KEVIN ARTURO', 'CESAR ERNESTO', 'CÉSAR AGUSTO', 'DIANA EDITH', 'RODRIGO FRANCO', 'GRETTEL ALEXANDRA', 'ROSA ANGELA', 'DANTE OMAR', 'YAJAIRA ALEXANDRA', 'JORGE ALBERTO', 'ALEXIS']\n",
      "los apellidos ['CORNEJO SANCHEZ', 'ORELLANA QUISPE', 'MORALES CHOQUEHUANCA', 'GUIMARAY RIBEYRO', 'CAMACHO GAVIDIA', 'TINTAYA ORIHUELA', 'CHAVEZ MARTINEZ', 'FIGUEROA MURO', 'GOMEZ CRIBILLERO', 'PALOMINO SEGUÍN', 'LUZON CUEVA', 'SUAÑA ZEGARRA', 'SOTO POMACHAGUA', 'FIORENTINO MARTINEZ', 'LAMA MAVILA', 'MEZA HINOJO', 'LOZADA MURILLO', 'ZAMBRANO JIMENEZ', 'JACOBS LUQUE', 'VIDAL VIDAL', 'TORRES ANICAMA', 'LOPEZ ESTRADA', 'BOYCO ORAMS', 'DIAZ BERROSPI', 'RIEGA ESCALANTE', 'LEVANO TORRES', 'ESQUIVES BRAVO', 'PEREZ GONZALES', 'OTERO MAGUIÑA', 'CLAVO CAMPOS', 'AGUILAR GARCIA', 'CALDAS VELASQUEZ', 'SALAS NUÑEZ BORJA', 'PIZARRO VILLANES', 'QUILLATUPA MORALES', 'HUANCAYA IDONE', 'CALVO PORTOCARRERO', 'IBAÑEZ ABANTO', 'MELÉNDEZ APONTE', 'CRISTIAN SERRANO', 'HINOJOSA CAHUANA', 'ANGLAS GARCÍA', 'ALDAVE ACOSTA', 'NÚÑEZ HUAMÁN', 'OBREGON HUAMAN', 'SOTO PACHERRES', 'INGARUCA RIVERA', 'ROJAS HUAMAN', 'NEYRA SALAS', 'HUERTA ESPINOZA', 'HUANCA MARTINEZ', 'FLORES CADILLO']\n"
     ]
    }
   ],
   "source": [
    "def separador(a):\n",
    "#a=\"CORNEJO SANCHEZ, CHRISTIAN SANTOS\"\n",
    "    a,n=a.split(',')\n",
    "    return (a.strip(),n.strip())\n",
    "t = tuple(map(separador, last_and_name))\n",
    "names=[]\n",
    "last_names=[]\n",
    "for e in t:\n",
    "    names.append(e[1])\n",
    "    last_names.append(e[0]) \n",
    "print(f'los nombre {names}')\n",
    "print(f'los apellidos {last_names}')"
   ]
  },
  {
   "cell_type": "markdown",
   "id": "7f6ee87c",
   "metadata": {},
   "source": [
    "### Pregunta 2.8\n",
    "Give only the last names of students who do not have email. Use the `emails` and `last_names` listt. **Hint: Use `map` and `split`.**"
   ]
  },
  {
   "cell_type": "code",
   "execution_count": 13,
   "id": "f0f4119f",
   "metadata": {},
   "outputs": [
    {
     "data": {
      "text/plain": [
       "['HUANCAYA IDONE',\n",
       " 'CALVO PORTOCARRERO',\n",
       " 'IBAÑEZ ABANTO',\n",
       " 'MELÉNDEZ APONTE',\n",
       " 'CRISTIAN SERRANO',\n",
       " 'ANGLAS GARCÍA',\n",
       " 'ALDAVE ACOSTA',\n",
       " 'NÚÑEZ HUAMÁN',\n",
       " 'OBREGON HUAMAN',\n",
       " 'SOTO PACHERRES',\n",
       " 'INGARUCA RIVERA',\n",
       " 'ROJAS HUAMAN',\n",
       " 'NEYRA SALAS',\n",
       " 'HUERTA ESPINOZA',\n",
       " 'HUANCA MARTINEZ']"
      ]
     },
     "execution_count": 13,
     "metadata": {},
     "output_type": "execute_result"
    }
   ],
   "source": [
    "estudiantes_sinmail=[]\n",
    "\n",
    "#for e in tuple(zip(last_names, emails)):\n",
    "estudiantes_sinmail = [a[0] for a in tuple(zip(last_names, emails)) if a[1] == '' ] \n",
    "estudiantes_sinmail"
   ]
  },
  {
   "cell_type": "code",
   "execution_count": null,
   "id": "f2370bf2",
   "metadata": {},
   "outputs": [],
   "source": []
  }
 ],
 "metadata": {
  "kernelspec": {
   "display_name": "Python 3 (ipykernel)",
   "language": "python",
   "name": "python3"
  },
  "language_info": {
   "codemirror_mode": {
    "name": "ipython",
    "version": 3
   },
   "file_extension": ".py",
   "mimetype": "text/x-python",
   "name": "python",
   "nbconvert_exporter": "python",
   "pygments_lexer": "ipython3",
   "version": "3.11.5"
  }
 },
 "nbformat": 4,
 "nbformat_minor": 5
}
