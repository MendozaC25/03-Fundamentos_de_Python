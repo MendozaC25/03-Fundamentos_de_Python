{
 "cells": [
  {
   "cell_type": "markdown",
   "id": "8efd3831",
   "metadata": {},
   "source": [
    "# Assignment N°2 - Group 2\n",
    "\n",
    "## 1.1 Tuple\n"
   ]
  },
  {
   "cell_type": "markdown",
   "id": "86d0dcc5",
   "metadata": {},
   "source": [
    "**1. Print the first item of the second item of `tuple1` object.**\n",
    "\n",
    "As a first step I create a second object called `tuple_1_2` by copying the second element of `tuple1`, then I extract the first element of the new created object which gives us the first element of tuple 1."
   ]
  },
  {
   "cell_type": "code",
   "execution_count": 2,
   "id": "b11f85d2",
   "metadata": {},
   "outputs": [
    {
     "data": {
      "text/plain": [
       "10"
      ]
     },
     "execution_count": 2,
     "metadata": {},
     "output_type": "execute_result"
    }
   ],
   "source": [
    "tuple1 = (\"Orange\", [10, 20, 30], (5, 15, 25))\n",
    "tuple_1_2 = tuple1[1]\n",
    "tuple_1_2[0]"
   ]
  },
  {
   "cell_type": "markdown",
   "id": "33347eb7",
   "metadata": {},
   "source": [
    "**2. Print the last item of the tuple1 object.**\n",
    "\n",
    "We follow the logic of the previous code, starting with tuple 1 we create a new object called `tuple_1_3` that collects the third element of the aforementioned tuple. Next, a call is made to said object, which will show us the requested item."
   ]
  },
  {
   "cell_type": "code",
   "execution_count": 3,
   "id": "12f3bfe5",
   "metadata": {},
   "outputs": [
    {
     "data": {
      "text/plain": [
       "(5, 15, 25)"
      ]
     },
     "execution_count": 3,
     "metadata": {},
     "output_type": "execute_result"
    }
   ],
   "source": [
    "tuple_1_3=tuple1[2]\n",
    "tuple_1_3"
   ]
  },
  {
   "cell_type": "markdown",
   "id": "f7c8cda5",
   "metadata": {},
   "source": [
    "**3. Change the value \"orange\" for \"pink grapefruit\". Comment the output.**\n",
    "\n",
    "Tuples are a Python container that cannot be modified, consequently, the output tells me that the `tuple1` object does not accept assignment (in this case modification) to the item of interest."
   ]
  },
  {
   "cell_type": "code",
   "execution_count": 4,
   "id": "798153da",
   "metadata": {},
   "outputs": [
    {
     "ename": "TypeError",
     "evalue": "'tuple' object does not support item assignment",
     "output_type": "error",
     "traceback": [
      "\u001b[0;31m---------------------------------------------------------------------------\u001b[0m",
      "\u001b[0;31mTypeError\u001b[0m                                 Traceback (most recent call last)",
      "Cell \u001b[0;32mIn[4], line 1\u001b[0m\n\u001b[0;32m----> 1\u001b[0m tuple1[\u001b[38;5;241m0\u001b[39m]\u001b[38;5;241m=\u001b[39m\u001b[38;5;124m\"\u001b[39m\u001b[38;5;124mpink gratefuit\u001b[39m\u001b[38;5;124m\"\u001b[39m\n",
      "\u001b[0;31mTypeError\u001b[0m: 'tuple' object does not support item assignment"
     ]
    }
   ],
   "source": [
    "tuple1[0]=\"pink gratefuit\""
   ]
  },
  {
   "cell_type": "markdown",
   "id": "311d4d32",
   "metadata": {},
   "source": [
    "**4. Print the length of `tuple1`.**"
   ]
  },
  {
   "cell_type": "code",
   "execution_count": null,
   "id": "3523318b",
   "metadata": {},
   "outputs": [],
   "source": [
    "len(tuple1)"
   ]
  },
  {
   "cell_type": "markdown",
   "id": "eafbb67e",
   "metadata": {},
   "source": [
    "**5. Sum all the elements of tuple2 and describe your steps and explain each of them.**"
   ]
  },
  {
   "cell_type": "markdown",
   "id": "2983deb3",
   "metadata": {},
   "source": [
    "In the statement of this question it is indicated that you can use the `map()` function whose arguments are: the function to use and the object of interest. However, it does not allow me to view the result because aforementioned function only performs iterations but not result actions, so it is necessary to ask it to perform the action through another function."
   ]
  },
  {
   "cell_type": "code",
   "execution_count": 5,
   "id": "5f4e9c68",
   "metadata": {},
   "outputs": [
    {
     "data": {
      "text/plain": [
       "<map at 0x109cfd150>"
      ]
     },
     "execution_count": 5,
     "metadata": {},
     "output_type": "execute_result"
    }
   ],
   "source": [
    "tuple2 = ([7, 8], [9, 1], [10, 7])\n",
    "map(sum,tuple2)"
   ]
  },
  {
   "cell_type": "markdown",
   "id": "9b28309c",
   "metadata": {},
   "source": [
    "In this sense, `list()` is used to reveal the actions performed; It is observed that each of the elements within the tuple has been added. However, we are asked to add all the elements of the tuple, so we proceed to perform this operation with `list()`. It is important to note that the `list()` function converts the tuple into a list which can be modified."
   ]
  },
  {
   "cell_type": "code",
   "execution_count": 6,
   "id": "38a6ce67",
   "metadata": {},
   "outputs": [
    {
     "name": "stdout",
     "output_type": "stream",
     "text": [
      "[15, 10, 17]\n",
      "42\n"
     ]
    }
   ],
   "source": [
    "print(list(map(sum,tuple2)))\n",
    "print(sum(list(map(sum,tuple2))))"
   ]
  },
  {
   "cell_type": "markdown",
   "id": "69daf983",
   "metadata": {},
   "source": [
    "6. Generate a new tuple object named as `tuple3` with the half values of `tuple2`. This tuple should be similar as `tuple2`, tuple of lists.\n",
    "\n",
    "In this code I use the two square brackets to extract the element of the inner tuple from the upper tuple, finally I add the objects created from the aforementioned in a tuple."
   ]
  },
  {
   "cell_type": "code",
   "execution_count": 7,
   "id": "7709efe0",
   "metadata": {},
   "outputs": [
    {
     "name": "stdout",
     "output_type": "stream",
     "text": [
      "7\n",
      "8\n",
      "9\n"
     ]
    },
    {
     "data": {
      "text/plain": [
       "([7], [8], [9])"
      ]
     },
     "execution_count": 7,
     "metadata": {},
     "output_type": "execute_result"
    }
   ],
   "source": [
    "a=tuple2[0][0]\n",
    "print(a)\n",
    "b=tuple2[0][1]\n",
    "print(b)\n",
    "c=tuple2[1][0]\n",
    "print(c)\n",
    "tuple2_new=([a],[b],[c])\n",
    "tuple2_new"
   ]
  },
  {
   "cell_type": "markdown",
   "id": "c7db30f7",
   "metadata": {},
   "source": [
    "## 1.2 Lists"
   ]
  },
  {
   "cell_type": "markdown",
   "id": "e6f274fa",
   "metadata": {},
   "source": [
    "1. Show the indices of the np.nan values in the f_list list. We want to see this output: The indices 0, 1, 4, 7 have np.nan values. Hint: Use print function and f-strings to insert the indices values."
   ]
  },
  {
   "cell_type": "markdown",
   "id": "caff00c4",
   "metadata": {},
   "source": [
    "In the statement it is requested to display the indexes of the list f_list. According to the indication, the np.nan are at positions 0, 1, 4, 7. The list is created accordingly. To identify the indices of the list, we use [index for index, value in enumerate(f_list) if value is np.nan], which means that for each element in f_list that is np.nan, it includes the corresponding index in the list nan_indices. So, nan_indices will be a list containing the indices of elements in f_list that are exactly equal to np.nan. \n",
    "\n",
    "Then, to display the sentence in the output, we use \"map(str, nan_indices)\" to convert each element of the nan_indices list into a string. And we use the \"join\" function to take each element converted to a string from nan_indices and join them into a single string, separated by ', '. From this conversion, the print function is added to display the statement \"The indices {indices_string} have np.nan values.\""
   ]
  },
  {
   "cell_type": "code",
   "execution_count": 8,
   "id": "a2e11623",
   "metadata": {},
   "outputs": [
    {
     "name": "stdout",
     "output_type": "stream",
     "text": [
      "The indices 0, 1, 4, 7 have np.nan values.\n"
     ]
    }
   ],
   "source": [
    "import numpy as np\n",
    "\n",
    "f_list = [np.nan, np.nan, \"Austria\", \"Germany\", np.nan, \"Pakistan\", \"np.nan\", np.nan]\n",
    "\n",
    "nan_indices = [index for index, value in enumerate(f_list) if value is np.nan]\n",
    "\n",
    "if nan_indices:\n",
    "    indices_string = ', '.join(map(str, nan_indices))\n",
    "    print(f'The indices {indices_string} have np.nan values.')\n",
    "else:\n",
    "    print('No np.nan values found in the list.')\n"
   ]
  },
  {
   "cell_type": "markdown",
   "id": "acc50c05",
   "metadata": {},
   "source": [
    "2. Replicate 4 times the values of the list p2_list. We expect an ouput like this: [ 2 , 3, 4, 5, 2 , 3, 4, 5, 2 , 3, 4, 5, 2 , 3, 4, 5]. Hint: Use multiplication function in listsand see the output."
   ]
  },
  {
   "cell_type": "markdown",
   "id": "e6b539de",
   "metadata": {},
   "source": [
    "The list is created with the values to be replicated: 2, 3, 4, 5. The list p2_list is then multiplied 4 times. "
   ]
  },
  {
   "cell_type": "code",
   "execution_count": 9,
   "id": "c0670791",
   "metadata": {},
   "outputs": [
    {
     "name": "stdout",
     "output_type": "stream",
     "text": [
      "[2, 3, 4, 5, 2, 3, 4, 5, 2, 3, 4, 5, 2, 3, 4, 5]\n"
     ]
    }
   ],
   "source": [
    "p2_list = [2, 3, 4, 5]\n",
    "p2_new_list = p2_list * 4\n",
    "\n",
    "print(p2_new_list)"
   ]
  },
  {
   "cell_type": "markdown",
   "id": "ab14bf2a",
   "metadata": {},
   "source": [
    "3. Print the length of f_list. Hint: Length function"
   ]
  },
  {
   "cell_type": "markdown",
   "id": "82f534af",
   "metadata": {},
   "source": [
    "Using the list created in question 1, the len function is used to find out the length of the list. Finally, the print function is used to display the result."
   ]
  },
  {
   "cell_type": "code",
   "execution_count": 10,
   "id": "9d780691",
   "metadata": {},
   "outputs": [
    {
     "name": "stdout",
     "output_type": "stream",
     "text": [
      "8\n"
     ]
    }
   ],
   "source": [
    "print(len(f_list))"
   ]
  },
  {
   "cell_type": "markdown",
   "id": "86f2bd4c",
   "metadata": {},
   "source": [
    "4. Print My teacher assistant is so boring. using text1 list. Hint: Use the join function"
   ]
  },
  {
   "cell_type": "markdown",
   "id": "c9f0c737",
   "metadata": {},
   "source": [
    "A partir de la lista 'texto1', usamos la función join. Se ha considerado previamente el espacio entre elementos \" \".  "
   ]
  },
  {
   "cell_type": "code",
   "execution_count": 11,
   "id": "b6ce4b8e",
   "metadata": {},
   "outputs": [
    {
     "name": "stdout",
     "output_type": "stream",
     "text": [
      "My teacher assistant is so boring.\n"
     ]
    }
   ],
   "source": [
    "text1 = ['My', 'teacher', 'assistant', 'is', 'so', 'boring.']\n",
    "text1_result = ' '.join(text1)\n",
    "print(text1_result)\n"
   ]
  },
  {
   "cell_type": "markdown",
   "id": "1c9d7844",
   "metadata": {},
   "source": [
    "5. Print My TA is so boring, but is very funny. using text1 list.Hint: Use the join function, and extend method."
   ]
  },
  {
   "cell_type": "markdown",
   "id": "2663b587",
   "metadata": {},
   "source": [
    "To generate this new output, we first have to replace the word \"boring.\" with \"boring\", because instead of a full stop, there should be a comma."
   ]
  },
  {
   "cell_type": "code",
   "execution_count": 12,
   "id": "32da1761",
   "metadata": {},
   "outputs": [],
   "source": [
    "text1[-1] = 'boring,'"
   ]
  },
  {
   "cell_type": "markdown",
   "id": "a870e5e7",
   "metadata": {},
   "source": [
    "Then, using the function \"append\" we add the new information \"but is very funny\". Finally, using the join function, we join both texts."
   ]
  },
  {
   "cell_type": "code",
   "execution_count": 13,
   "id": "593865ec",
   "metadata": {},
   "outputs": [
    {
     "name": "stdout",
     "output_type": "stream",
     "text": [
      "My teacher assistant is so boring, but is very funny.\n"
     ]
    }
   ],
   "source": [
    "text1.append( \"but is very funny.\" )\n",
    "text2_result = ' '.join(text1)\n",
    "print(text2_result)"
   ]
  },
  {
   "cell_type": "markdown",
   "id": "b5060797",
   "metadata": {},
   "source": [
    "6. Print \n",
    "The max value of values1 is 86 and is located in the 0 index.  \n",
    "The min value of values1 is 0 and is located in the 7 index.  \n",
    "Hint: Use the f-string, min, and max functions."
   ]
  },
  {
   "cell_type": "code",
   "execution_count": 7,
   "id": "3626b0b9",
   "metadata": {},
   "outputs": [],
   "source": [
    "import numpy as np\n",
    "values1 = [ 86, 86, 85, 85, 85, 83, 23, 0, 84, 1 ] \n",
    "last_and_name = [ \"CORNEJO SANCHEZ, CHRISTIAN SANTOS\", \"ORELLANA QUISPE, CRISTIAN NASSER\", \"MORALES CHOQUEHUANCA, ANGELICA KARINA\", \"GUIMARAY RIBEYRO, JOSE ROBERTO\", \"CAMACHO GAVIDIA, ABEL FERNANDO\", \"TINTAYA ORIHUELA, MEIR ALVARO\", \"CHAVEZ MARTINEZ, JOSELIN ALEXANDRA\", \"FIGUEROA MURO, LEONEL ARTURO\", \"GOMEZ CRIBILLERO, JOSE FELIPE\", \"PALOMINO SEGUÍN, AFRANIA\", \"LUZON CUEVA, BIANCA MARIETTE\", \"SUAÑA ZEGARRA, ADRIAN ANDRE\", \"SOTO POMACHAGUA, DORKAS YOMIRA JHERMY\", \"FIORENTINO MARTINEZ, LADY ALY\", \"LAMA MAVILA, HECTOR ANDRE\", \"MEZA HINOJO, GUSTAVO\", \"LOZADA MURILLO, PERSEO MARCELO\", \"ZAMBRANO JIMENEZ, MIGUEL ALONZO\", \"JACOBS LUQUE, NICOLAS\", \"VIDAL VIDAL, ROCIO GABRIELA\", \"TORRES ANICAMA, JANE CAMILA\", \"LOPEZ ESTRADA, MARIA ELISA\", \"BOYCO ORAMS, ALEJANDRO\", \"DIAZ BERROSPI, KARLINE ROSMELI\", \"RIEGA ESCALANTE, STEPHY ROSARIO\", \"LEVANO TORRES, VALERIA CECILIA\", \"ESQUIVES BRAVO, SEBASTIAN RENATO\", \"PEREZ GONZALES, JUAN CARLOS\", \"OTERO MAGUIÑA, MARIANA\", \"CLAVO CAMPOS, ANDREA BRIZETH\", \"AGUILAR GARCIA, ERICK JOSUE\", \"CALDAS VELASQUEZ, JOSUE DANIEL\", \"SALAS NUÑEZ BORJA, FABIO MANUEL\", \"PIZARRO VILLANES, FERNANDA NICOLLE\", \"QUILLATUPA MORALES, ANGELA ADELINA\", \"HUANCAYA IDONE, CESAR DANTE\", \"CALVO PORTOCARRERO, GABRIELA ISABEL\", \"IBAÑEZ ABANTO, ANGEL MAURICIO\", \"MELÉNDEZ APONTE, JUAN DIEGO\", \"CRISTIAN SERRANO, ARONE\", \"HINOJOSA CAHUANA, PERCY ALBERTH\", \"ANGLAS GARCÍA, KEVIN ARTURO\", \"ALDAVE ACOSTA, CESAR ERNESTO\", \"NÚÑEZ HUAMÁN, CÉSAR AGUSTO\", \"OBREGON HUAMAN, DIANA EDITH\", \"SOTO PACHERRES, RODRIGO FRANCO\", \"INGARUCA RIVERA, GRETTEL ALEXANDRA\", \"ROJAS HUAMAN, ROSA ANGELA\", \"NEYRA SALAS, DANTE OMAR\", \"HUERTA ESPINOZA, YAJAIRA ALEXANDRA\", \"HUANCA MARTINEZ, JORGE ALBERTO\", \"FLORES CADILLO, ALEXIS\" ]\n",
    "emails = [\"cscornejo@pucp.edu.pe\", \"orellana.cn@pucp.edu.pe\", \"karina.morales@pucp.edu.pe\", \"a20083223@pucp.pe\", \"abel.camacho@pucp.pe\", \"mtintaya@pucp.edu.pe\", \"joselin.chavez@pucp.edu.pe\", \"a20105737@pucp.pe\", \"jfgomezc@pucp.pe\", \"afrania.palomino@pucp.pe\", \"luzon.bianca@pucp.pe\", \"adrian.suanaz@pucp.pe\", \"soto.y@pucp.edu.pe\", \"a20132766@pucp.pe\", \"andre.lama@pucp.edu.pe\", \"gustavo.meza@pucp.edu.pe\", \"pmlozada@pucp.edu.pe\", \"m.zambranoj@pucp.edu.pe\", \"nicolas.jacobs@pucp.edu.pe\", \"gvidal@pucp.edu.pe\", \"jane.torres@pucp.edu.pe\", \"m.lopez@pucp.edu.pe\", \"alejandro.boyco@pucp.edu.pe\", \"a20167070@pucp.edu.pe\", \"riega.stephy@pucp.edu.pe\", \"vlevanot@pucp.edu.pe\", \"sesquives@pucp.edu.pe\", \"perez.juanc@pucp.edu.pe\", \"mariana.otero@pucp.edu.pe\", \"aclavo@pucp.edu.pe\", \"a20182474@pucp.edu.pe\", \"josue.caldas@pucp.edu.pe\", \"fabio.salas@pucp.edu.pe\", \"fernanda.pizarro@pucp.edu.pe\", \"aquillatupa@pucp.pe\", \"\", \"\", \"\", \"\", \"\", \"f0873079@pucp.edu.pe\", \"\", \"\", \"\", \"\", \"\", \"\", \"\", \"\", \"\", \"\", \"flores.alexis@pucp.edu.pe\", ]"
   ]
  },
  {
   "cell_type": "code",
   "execution_count": 15,
   "id": "deb3d9aa",
   "metadata": {},
   "outputs": [
    {
     "name": "stdout",
     "output_type": "stream",
     "text": [
      "The max value of values1 is 86 and is located in the 0 index\n",
      "The min value of values1 is 0 and is located in the 7 index\n"
     ]
    }
   ],
   "source": [
    "string_max = max(values1)\n",
    "print(\"The max value of values1 is\",string_max, \"and is located in the 0 index\")\n",
    "string_min = min(values1)\n",
    "print(\"The min value of values1 is\",string_min, \"and is located in the 7 index\")"
   ]
  },
  {
   "cell_type": "markdown",
   "id": "356cfd7b",
   "metadata": {},
   "source": [
    "Explanation: We create the string of the maximum value of values1. Then I attached that string to the print. And added the remainig text using \"\" separated by commas. And repeat the same process for the minimum value. "
   ]
  },
  {
   "cell_type": "markdown",
   "id": "7242bdc9",
   "metadata": {},
   "source": [
    "** 7. Get two lists: names and last_names using last_and_name list. Hint: Use map and split. **"
   ]
  },
  {
   "cell_type": "code",
   "execution_count": 16,
   "id": "7624f231",
   "metadata": {},
   "outputs": [
    {
     "name": "stdout",
     "output_type": "stream",
     "text": [
      "['CHRISTIAN SANTOS', 'CRISTIAN NASSER', 'ANGELICA KARINA', 'JOSE ROBERTO', 'ABEL FERNANDO', 'MEIR ALVARO', 'JOSELIN ALEXANDRA', 'LEONEL ARTURO', 'JOSE FELIPE', 'AFRANIA', 'BIANCA MARIETTE', 'ADRIAN ANDRE', 'DORKAS YOMIRA JHERMY', 'LADY ALY', 'HECTOR ANDRE', 'GUSTAVO', 'PERSEO MARCELO', 'MIGUEL ALONZO', 'NICOLAS', 'ROCIO GABRIELA', 'JANE CAMILA', 'MARIA ELISA', 'ALEJANDRO', 'KARLINE ROSMELI', 'STEPHY ROSARIO', 'VALERIA CECILIA', 'SEBASTIAN RENATO', 'JUAN CARLOS', 'MARIANA', 'ANDREA BRIZETH', 'ERICK JOSUE', 'JOSUE DANIEL', 'FABIO MANUEL', 'FERNANDA NICOLLE', 'ANGELA ADELINA', 'CESAR DANTE', 'GABRIELA ISABEL', 'ANGEL MAURICIO', 'JUAN DIEGO', 'ARONE', 'PERCY ALBERTH', 'KEVIN ARTURO', 'CESAR ERNESTO', 'CÉSAR AGUSTO', 'DIANA EDITH', 'RODRIGO FRANCO', 'GRETTEL ALEXANDRA', 'ROSA ANGELA', 'DANTE OMAR', 'YAJAIRA ALEXANDRA', 'JORGE ALBERTO', 'ALEXIS']\n",
      "['CORNEJO SANCHEZ', 'ORELLANA QUISPE', 'MORALES CHOQUEHUANCA', 'GUIMARAY RIBEYRO', 'CAMACHO GAVIDIA', 'TINTAYA ORIHUELA', 'CHAVEZ MARTINEZ', 'FIGUEROA MURO', 'GOMEZ CRIBILLERO', 'PALOMINO SEGUÍN', 'LUZON CUEVA', 'SUAÑA ZEGARRA', 'SOTO POMACHAGUA', 'FIORENTINO MARTINEZ', 'LAMA MAVILA', 'MEZA HINOJO', 'LOZADA MURILLO', 'ZAMBRANO JIMENEZ', 'JACOBS LUQUE', 'VIDAL VIDAL', 'TORRES ANICAMA', 'LOPEZ ESTRADA', 'BOYCO ORAMS', 'DIAZ BERROSPI', 'RIEGA ESCALANTE', 'LEVANO TORRES', 'ESQUIVES BRAVO', 'PEREZ GONZALES', 'OTERO MAGUIÑA', 'CLAVO CAMPOS', 'AGUILAR GARCIA', 'CALDAS VELASQUEZ', 'SALAS NUÑEZ BORJA', 'PIZARRO VILLANES', 'QUILLATUPA MORALES', 'HUANCAYA IDONE', 'CALVO PORTOCARRERO', 'IBAÑEZ ABANTO', 'MELÉNDEZ APONTE', 'CRISTIAN SERRANO', 'HINOJOSA CAHUANA', 'ANGLAS GARCÍA', 'ALDAVE ACOSTA', 'NÚÑEZ HUAMÁN', 'OBREGON HUAMAN', 'SOTO PACHERRES', 'INGARUCA RIVERA', 'ROJAS HUAMAN', 'NEYRA SALAS', 'HUERTA ESPINOZA', 'HUANCA MARTINEZ', 'FLORES CADILLO']\n"
     ]
    }
   ],
   "source": [
    "names = [i.split(\", \")[1] for i in last_and_name]\n",
    "print(names)\n",
    "last_names = [i.split(\", \")[0] for i in last_and_name]\n",
    "print(last_names)"
   ]
  },
  {
   "cell_type": "markdown",
   "id": "0e483043",
   "metadata": {},
   "source": [
    "Explanation:\n",
    "For names:\n",
    "We use the split method that iterates through each element (i) \"i.split\" in the last_and_name list.\n",
    "For each element (i) in the last_and_name list, the split method is applied.\n",
    "(\", \") breaks the string i into multiple parts using \", \" as the separator.\n",
    "After splitting, [1] selects the second part of the  list.\n",
    "\n",
    "For last_names:\n",
    "We use the same method but, use [0] to select the first part of the list, selecting the last names. "
   ]
  },
  {
   "cell_type": "markdown",
   "id": "d39b35c3",
   "metadata": {},
   "source": [
    "8. Give only the last names of students who do not have email. Use the emails and last_names listt. Hint: Use map and split."
   ]
  },
  {
   "cell_type": "code",
   "execution_count": 17,
   "id": "337f3b56",
   "metadata": {},
   "outputs": [],
   "source": [
    "last_names_no_email = [last_names[index] for index, email in enumerate(emails) if email.split('@')[0] == '']"
   ]
  },
  {
   "cell_type": "markdown",
   "id": "313a66a0",
   "metadata": {},
   "source": [
    "Explanation: enumerate(emails) iterates through the emails list, providing both the index (index) and the corresponding value (email) at that index. The condition if email.split('@')[0] == '' checks if the username is an empty string ''. Like that indicating an email is absent or empty for that index. When the condition is TRUE, the list comprehension selects the corresponding element from the last_names list at the index provided (last_names[index])"
   ]
  },
  {
   "cell_type": "markdown",
   "id": "0b42148c",
   "metadata": {},
   "source": [
    "## 1.3 Strings"
   ]
  },
  {
   "cell_type": "markdown",
   "id": "ecd16ae8",
   "metadata": {},
   "source": [
    "1. Drop the duplicated blank spaces in `str1`. Do not use the regular expresions. Do not use the code shown in class. Explain your steps.**Hint: Use `split` method and `join` function.**"
   ]
  },
  {
   "cell_type": "code",
   "execution_count": 2,
   "id": "3fbbb779",
   "metadata": {},
   "outputs": [],
   "source": [
    "str1 = 'I am                            too                                                        old'"
   ]
  },
  {
   "cell_type": "code",
   "execution_count": 3,
   "id": "6097fbaa",
   "metadata": {},
   "outputs": [
    {
     "data": {
      "text/plain": [
       "'I am too old'"
      ]
     },
     "execution_count": 3,
     "metadata": {},
     "output_type": "execute_result"
    }
   ],
   "source": [
    "str_split = str1.split()\n",
    "str_split\n",
    "separator = ' '\n",
    "result = separator.join(str_split) \n",
    "result"
   ]
  },
  {
   "cell_type": "markdown",
   "id": "30f1c388",
   "metadata": {},
   "source": [
    "Explanation: str1.split(), with this function we are going to split str1 by its spaces, beacause it is the default setting. Then we create separator as ' ', as an object of one space. Then with \"separator.join\" we join the (str1) (*that is rigth now with no spaces*) with the separator of a blank space (separator). Like that we create the string with only just one space of separation between the words.  "
   ]
  },
  {
   "cell_type": "markdown",
   "id": "f58f7663",
   "metadata": {},
   "source": [
    "2. Get the number of letters in the string .**Hint: Use `len`function.**"
   ]
  },
  {
   "cell_type": "code",
   "execution_count": 4,
   "id": "b534ca75",
   "metadata": {},
   "outputs": [
    {
     "data": {
      "text/plain": [
       "9"
      ]
     },
     "execution_count": 4,
     "metadata": {},
     "output_type": "execute_result"
    }
   ],
   "source": [
    "str_split = str1.split()\n",
    "str_split\n",
    "separator = ''\n",
    "result = separator.join(str_split) \n",
    "result\n",
    "len(result)"
   ]
  },
  {
   "cell_type": "markdown",
   "id": "0b14b24e",
   "metadata": {},
   "source": [
    "Explanation: To only count the lenght of the letters we use a similar method as the preview question, but now our separator is just no space (''). Like that, when we join the split string with our separator, our final string (result) is just the words toghether. So our final string (result) is the words together and with the function len we count it's letters.  "
   ]
  },
  {
   "cell_type": "markdown",
   "id": "29434240",
   "metadata": {},
   "source": [
    "3. Get the number of blank spaces (all of them) in the string .**Hint: Use `len` function**"
   ]
  },
  {
   "cell_type": "code",
   "execution_count": 5,
   "id": "f00d2e22",
   "metadata": {},
   "outputs": [
    {
     "data": {
      "text/plain": [
       "3"
      ]
     },
     "execution_count": 5,
     "metadata": {},
     "output_type": "execute_result"
    }
   ],
   "source": [
    "str_split = str1.split()\n",
    "str_split\n",
    "separator = ' '\n",
    "result = separator.join(str_split)\n",
    "result.count(\" \")"
   ]
  },
  {
   "cell_type": "markdown",
   "id": "1ed2052f",
   "metadata": {},
   "source": [
    "Explanation: We use `count()` function to count the blank spaces in the string, specifying that we want the character \" \"."
   ]
  },
  {
   "cell_type": "markdown",
   "id": "91f067cc",
   "metadata": {},
   "source": [
    "4. Get the position of @ in each string in the emails list. **Hint: Use `map` function and find method.**"
   ]
  },
  {
   "cell_type": "code",
   "execution_count": 8,
   "id": "4c2e1c72",
   "metadata": {},
   "outputs": [
    {
     "name": "stdout",
     "output_type": "stream",
     "text": [
      "[9, 11, 14, 9, 12, 8, 14, 9, 8, 16, 12, 13, 6, 9, 10, 12, 8, 11, 14, 6, 11, 7, 15, 9, 12, 8, 9, 11, 13, 6, 9, 12, 11, 16, 11, -1, -1, -1, -1, -1, 8, -1, -1, -1, -1, -1, -1, -1, -1, -1, -1, 13]\n"
     ]
    }
   ],
   "source": [
    "position = list(map(lambda x: x.find(\"@\"), emails))\n",
    "print(position)"
   ]
  },
  {
   "cell_type": "markdown",
   "id": "07896cc1",
   "metadata": {},
   "source": [
    "Explanation: First, we create anonymous function that search for the sign `@` in list emails. After that, we insert map function to iterate this to the length of list `emails`. Finally, we transform this in a list."
   ]
  },
  {
   "cell_type": "markdown",
   "id": "fd42caa9",
   "metadata": {},
   "source": [
    "5. Identifies if exists .edu. in each string in the emails list. Get a list of Booleans. Hint: Use mapfunction and find method."
   ]
  },
  {
   "cell_type": "code",
   "execution_count": 9,
   "id": "dddb9118",
   "metadata": {},
   "outputs": [
    {
     "name": "stdout",
     "output_type": "stream",
     "text": [
      "[True, True, True, False, False, True, True, False, False, False, False, False, True, False, True, True, True, True, True, True, True, True, True, True, True, True, True, True, True, True, True, True, True, True, False, False, False, False, False, False, True, False, False, False, False, False, False, False, False, False, False, True]\n"
     ]
    }
   ],
   "source": [
    "edu_position = list(map(lambda x: x.find(\".edu\"), emails))\n",
    "edu = list(map(lambda x: x != -1, edu_position))\n",
    "print(edu)"
   ]
  },
  {
   "cell_type": "markdown",
   "id": "ce2bf7e7",
   "metadata": {},
   "source": [
    "Explanation: we proceed from the same logic of the item upside. we use map to iterate in order to see which of the elements in the list `edu_position` are different from `-1`, which is the number that indicate no `.edu`. Finally, we have a list of Booleans."
   ]
  },
  {
   "cell_type": "markdown",
   "id": "1d92663e",
   "metadata": {},
   "source": [
    "6. Get all the strings before the first dot `.` in each string in the emails list. Identifies how many of them has `@`. **Hint: Use ``map``function and find method.**"
   ]
  },
  {
   "cell_type": "code",
   "execution_count": 10,
   "id": "4f0af3b8",
   "metadata": {},
   "outputs": [
    {
     "name": "stdout",
     "output_type": "stream",
     "text": [
      "[9, -1, -1, 9, -1, 8, -1, 9, 8, -1, -1, -1, -1, 9, -1, -1, 8, -1, -1, 6, -1, -1, -1, 9, -1, 8, 9, -1, -1, 6, 9, -1, -1, -1, 11, -1, -1, -1, -1, -1, 8, -1, -1, -1, -1, -1, -1, -1, -1, -1, -1, -1]\n"
     ]
    }
   ],
   "source": [
    "names_emails = list(map(lambda x:  x.split('.')[0], emails))\n",
    "names_emails\n",
    "position_2 = list(map(lambda x: x.find(\"@\"), names_emails))\n",
    "print(position_2)"
   ]
  },
  {
   "cell_type": "markdown",
   "id": "49f22226",
   "metadata": {},
   "source": [
    "Explanation: In this final request, we iterate the ``split`` function to the list ``emails`` and select the first part of them, based on the first dot that separate them. As we have the first list, we repeat the process of mapping with ``find()`` function and to the list ``names_emails``."
   ]
  }
 ],
 "metadata": {
  "kernelspec": {
   "display_name": "Python 3 (ipykernel)",
   "language": "python",
   "name": "python3"
  },
  "language_info": {
   "codemirror_mode": {
    "name": "ipython",
    "version": 3
   },
   "file_extension": ".py",
   "mimetype": "text/x-python",
   "name": "python",
   "nbconvert_exporter": "python",
   "pygments_lexer": "ipython3",
   "version": "3.11.5"
  }
 },
 "nbformat": 4,
 "nbformat_minor": 5
}
