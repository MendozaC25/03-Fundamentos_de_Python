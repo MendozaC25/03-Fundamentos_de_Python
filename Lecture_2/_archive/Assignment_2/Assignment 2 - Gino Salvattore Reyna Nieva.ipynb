{
 "cells": [
  {
   "cell_type": "markdown",
   "id": "8c605f44",
   "metadata": {},
   "source": [
    "# Assignment 2 - Gino Salvattore Reyna Nieva (gino.reyna@pucp.pe)"
   ]
  },
  {
   "cell_type": "code",
   "execution_count": 2,
   "id": "fbae9193",
   "metadata": {},
   "outputs": [],
   "source": [
    "import numpy as np #import the numpy library\n",
    "f_list = [np.nan , np.nan, \"Austria\", \"Germany\", np.nan, \"Pakistan\", \"np.nan\", np.nan ]\n",
    "text1 = ['My', 'teacher', 'assistant', 'is', 'so', 'boring.']\n",
    "p2_list = [ 2 , 3, 4, 5 ]\n",
    "values1 = [ 86, 86, 85, 85, 85, 83, 23, 0, 84, 1 ] \n",
    "# These two lists a\n",
    "last_and_name = [ \"CORNEJO SANCHEZ, CHRISTIAN SANTOS\", \"ORELLANA QUISPE, CRISTIAN NASSER\", \"MORALES CHOQUEHUANCA, ANGELICA KARINA\", \"GUIMARAY RIBEYRO, JOSE ROBERTO\", \"CAMACHO GAVIDIA, ABEL FERNANDO\", \"TINTAYA ORIHUELA, MEIR ALVARO\", \"CHAVEZ MARTINEZ, JOSELIN ALEXANDRA\", \"FIGUEROA MURO, LEONEL ARTURO\", \"GOMEZ CRIBILLERO, JOSE FELIPE\", \"PALOMINO SEGUÍN, AFRANIA\", \"LUZON CUEVA, BIANCA MARIETTE\", \"SUAÑA ZEGARRA, ADRIAN ANDRE\", \"SOTO POMACHAGUA, DORKAS YOMIRA JHERMY\", \"FIORENTINO MARTINEZ, LADY ALY\", \"LAMA MAVILA, HECTOR ANDRE\", \"MEZA HINOJO, GUSTAVO\", \"LOZADA MURILLO, PERSEO MARCELO\", \"ZAMBRANO JIMENEZ, MIGUEL ALONZO\", \"JACOBS LUQUE, NICOLAS\", \"VIDAL VIDAL, ROCIO GABRIELA\", \"TORRES ANICAMA, JANE CAMILA\", \"LOPEZ ESTRADA, MARIA ELISA\", \"BOYCO ORAMS, ALEJANDRO\", \"DIAZ BERROSPI, KARLINE ROSMELI\", \"RIEGA ESCALANTE, STEPHY ROSARIO\", \"LEVANO TORRES, VALERIA CECILIA\", \"ESQUIVES BRAVO, SEBASTIAN RENATO\", \"PEREZ GONZALES, JUAN CARLOS\", \"OTERO MAGUIÑA, MARIANA\", \"CLAVO CAMPOS, ANDREA BRIZETH\", \"AGUILAR GARCIA, ERICK JOSUE\", \"CALDAS VELASQUEZ, JOSUE DANIEL\", \"SALAS NUÑEZ BORJA, FABIO MANUEL\", \"PIZARRO VILLANES, FERNANDA NICOLLE\", \"QUILLATUPA MORALES, ANGELA ADELINA\", \"HUANCAYA IDONE, CESAR DANTE\", \"CALVO PORTOCARRERO, GABRIELA ISABEL\", \"IBAÑEZ ABANTO, ANGEL MAURICIO\", \"MELÉNDEZ APONTE, JUAN DIEGO\", \"CRISTIAN SERRANO, ARONE\", \"HINOJOSA CAHUANA, PERCY ALBERTH\", \"ANGLAS GARCÍA, KEVIN ARTURO\", \"ALDAVE ACOSTA, CESAR ERNESTO\", \"NÚÑEZ HUAMÁN, CÉSAR AGUSTO\", \"OBREGON HUAMAN, DIANA EDITH\", \"SOTO PACHERRES, RODRIGO FRANCO\", \"INGARUCA RIVERA, GRETTEL ALEXANDRA\", \"ROJAS HUAMAN, ROSA ANGELA\", \"NEYRA SALAS, DANTE OMAR\", \"HUERTA ESPINOZA, YAJAIRA ALEXANDRA\", \"HUANCA MARTINEZ, JORGE ALBERTO\", \"FLORES CADILLO, ALEXIS\" ]\n",
    "emails = [\"cscornejo@pucp.edu.pe\", \"orellana.cn@pucp.edu.pe\", \"karina.morales@pucp.edu.pe\", \"a20083223@pucp.pe\", \"abel.camacho@pucp.pe\", \"mtintaya@pucp.edu.pe\", \"joselin.chavez@pucp.edu.pe\", \"a20105737@pucp.pe\", \"jfgomezc@pucp.pe\", \"afrania.palomino@pucp.pe\", \"luzon.bianca@pucp.pe\", \"adrian.suanaz@pucp.pe\", \"soto.y@pucp.edu.pe\", \"a20132766@pucp.pe\", \"andre.lama@pucp.edu.pe\", \"gustavo.meza@pucp.edu.pe\", \"pmlozada@pucp.edu.pe\", \"m.zambranoj@pucp.edu.pe\", \"nicolas.jacobs@pucp.edu.pe\", \"gvidal@pucp.edu.pe\", \"jane.torres@pucp.edu.pe\", \"m.lopez@pucp.edu.pe\", \"alejandro.boyco@pucp.edu.pe\", \"a20167070@pucp.edu.pe\", \"riega.stephy@pucp.edu.pe\", \"vlevanot@pucp.edu.pe\", \"sesquives@pucp.edu.pe\", \"perez.juanc@pucp.edu.pe\", \"mariana.otero@pucp.edu.pe\", \"aclavo@pucp.edu.pe\", \"a20182474@pucp.edu.pe\", \"josue.caldas@pucp.edu.pe\", \"fabio.salas@pucp.edu.pe\", \"fernanda.pizarro@pucp.edu.pe\", \"aquillatupa@pucp.pe\", \"\", \"\", \"\", \"\", \"\", \"f0873079@pucp.edu.pe\", \"\", \"\", \"\", \"\", \"\", \"\", \"\", \"\", \"\", \"\", \"flores.alexis@pucp.edu.pe\", ]"
   ]
  },
  {
   "cell_type": "markdown",
   "id": "0de09887",
   "metadata": {},
   "source": [
    "5. Print My TA is so boring, but is very funny. using text1 list.Hint: Use the join function, and extend method.\n"
   ]
  },
  {
   "cell_type": "code",
   "execution_count": 3,
   "id": "d90d757e",
   "metadata": {},
   "outputs": [
    {
     "name": "stdout",
     "output_type": "stream",
     "text": [
      "My TA is so boring, but is very funny.\n"
     ]
    }
   ],
   "source": [
    "# Step 1: define the variable to use by copying the initial list with a new name\n",
    "text1_2_5=text1.copy()\n",
    "# Step 2: replace the initial words with the desired words\n",
    "text1_2_5[1]='TA'\n",
    "text1_2_5[5]='boring,'\n",
    "# Step 3: removes the word that will not be used\n",
    "del text1_2_5[2]\n",
    "# Step 4: join the list elements into a text string\n",
    "sentence5=' '.join(text1_2_5)\n",
    "# Step 5: a complementary 'string' type variable is created to be concatenated later\n",
    "complement=' but is very funny.'\n",
    "# Step 6: convert 'string' type variables into 'list' type variables\n",
    "sentence5_list=list(sentence5)\n",
    "complement_list=list(complement)\n",
    "# Step 7: the 'extend' function is used to join both lists.\n",
    "sentence5_list.extend(complement_list)\n",
    "# Step 8: join the list elements into a text string\n",
    "sentence5_list=''.join(sentence5_list)\n",
    "# Step 9: print the value of the text string\n",
    "print(sentence5_list)\n"
   ]
  },
  {
   "cell_type": "markdown",
   "id": "ede9dbb4",
   "metadata": {},
   "source": [
    "6. Print:\n",
    "\n",
    "        The max value of values1 is 86 and is located in the 0 index.\n",
    "        The min value of values1 is 0 and is located in the 7 index.\n",
    "        Hint: Use the f-string, min, and max functions."
   ]
  },
  {
   "cell_type": "code",
   "execution_count": 4,
   "id": "97e9f6e9",
   "metadata": {},
   "outputs": [
    {
     "name": "stdout",
     "output_type": "stream",
     "text": [
      "The max value of values1 is 86 and is located in the 0 index.\n",
      "The min value of values1 is 0 and is located in the 7 index.\n"
     ]
    }
   ],
   "source": [
    "# Step 1: The variable max is defined, which corresponds to the maximum value of the list, so the function max (to obtain the maximum value) from the numpy library and min (to obtain the minimum value) are used. Additionally\n",
    "max=np.max(values1)\n",
    "# Step 2: The variable that contains the index value of the maximum value is defined\n",
    "index_max=values1.index(max)\n",
    "# Step 3: The variable min is defined, which corresponds to the minimum value of the list, so the function min is used (to obtain the minimum value) from the numpy library\n",
    "min=np.min(values1)\n",
    "# Step 4: The variable that contains the index value of the minimum value is defined\n",
    "index_min=values1.index(min)\n",
    "# Step 5: The 'f-string' function is used to concatenate text strings with variables of type 'int'\n",
    "sentmax=f'The max value of values1 is {max} and is located in the {index_max} index.'\n",
    "sentmin=f'The min value of values1 is {min} and is located in the {index_min} index.'\n",
    "# Step 6: The results are printed\n",
    "print(sentmax)\n",
    "print(sentmin)"
   ]
  },
  {
   "cell_type": "markdown",
   "id": "7544ac2b",
   "metadata": {},
   "source": [
    "7. Get two lists: `names` and `last_names` using `last_and_name` list. **Hint: Use `map` and `split`.**"
   ]
  },
  {
   "cell_type": "code",
   "execution_count": 5,
   "id": "5034434b",
   "metadata": {},
   "outputs": [
    {
     "name": "stdout",
     "output_type": "stream",
     "text": [
      "Last Names: ['CORNEJO SANCHEZ', 'ORELLANA QUISPE', 'MORALES CHOQUEHUANCA', 'GUIMARAY RIBEYRO', 'CAMACHO GAVIDIA', 'TINTAYA ORIHUELA', 'CHAVEZ MARTINEZ', 'FIGUEROA MURO', 'GOMEZ CRIBILLERO', 'PALOMINO SEGUÍN', 'LUZON CUEVA', 'SUAÑA ZEGARRA', 'SOTO POMACHAGUA', 'FIORENTINO MARTINEZ', 'LAMA MAVILA', 'MEZA HINOJO', 'LOZADA MURILLO', 'ZAMBRANO JIMENEZ', 'JACOBS LUQUE', 'VIDAL VIDAL', 'TORRES ANICAMA', 'LOPEZ ESTRADA', 'BOYCO ORAMS', 'DIAZ BERROSPI', 'RIEGA ESCALANTE', 'LEVANO TORRES', 'ESQUIVES BRAVO', 'PEREZ GONZALES', 'OTERO MAGUIÑA', 'CLAVO CAMPOS', 'AGUILAR GARCIA', 'CALDAS VELASQUEZ', 'SALAS NUÑEZ BORJA', 'PIZARRO VILLANES', 'QUILLATUPA MORALES', 'HUANCAYA IDONE', 'CALVO PORTOCARRERO', 'IBAÑEZ ABANTO', 'MELÉNDEZ APONTE', 'CRISTIAN SERRANO', 'HINOJOSA CAHUANA', 'ANGLAS GARCÍA', 'ALDAVE ACOSTA', 'NÚÑEZ HUAMÁN', 'OBREGON HUAMAN', 'SOTO PACHERRES', 'INGARUCA RIVERA', 'ROJAS HUAMAN', 'NEYRA SALAS', 'HUERTA ESPINOZA', 'HUANCA MARTINEZ', 'FLORES CADILLO']\n",
      "Names: ['CHRISTIAN SANTOS', 'CRISTIAN NASSER', 'ANGELICA KARINA', 'JOSE ROBERTO', 'ABEL FERNANDO', 'MEIR ALVARO', 'JOSELIN ALEXANDRA', 'LEONEL ARTURO', 'JOSE FELIPE', 'AFRANIA', 'BIANCA MARIETTE', 'ADRIAN ANDRE', 'DORKAS YOMIRA JHERMY', 'LADY ALY', 'HECTOR ANDRE', 'GUSTAVO', 'PERSEO MARCELO', 'MIGUEL ALONZO', 'NICOLAS', 'ROCIO GABRIELA', 'JANE CAMILA', 'MARIA ELISA', 'ALEJANDRO', 'KARLINE ROSMELI', 'STEPHY ROSARIO', 'VALERIA CECILIA', 'SEBASTIAN RENATO', 'JUAN CARLOS', 'MARIANA', 'ANDREA BRIZETH', 'ERICK JOSUE', 'JOSUE DANIEL', 'FABIO MANUEL', 'FERNANDA NICOLLE', 'ANGELA ADELINA', 'CESAR DANTE', 'GABRIELA ISABEL', 'ANGEL MAURICIO', 'JUAN DIEGO', 'ARONE', 'PERCY ALBERTH', 'KEVIN ARTURO', 'CESAR ERNESTO', 'CÉSAR AGUSTO', 'DIANA EDITH', 'RODRIGO FRANCO', 'GRETTEL ALEXANDRA', 'ROSA ANGELA', 'DANTE OMAR', 'YAJAIRA ALEXANDRA', 'JORGE ALBERTO', 'ALEXIS']\n"
     ]
    }
   ],
   "source": [
    "# Step 1: List to use is called\n",
    "last_and_name = [\"CORNEJO SANCHEZ, CHRISTIAN SANTOS\", \"ORELLANA QUISPE, CRISTIAN NASSER\", \"MORALES CHOQUEHUANCA, ANGELICA KARINA\", \"GUIMARAY RIBEYRO, JOSE ROBERTO\", \"CAMACHO GAVIDIA, ABEL FERNANDO\", \"TINTAYA ORIHUELA, MEIR ALVARO\", \"CHAVEZ MARTINEZ, JOSELIN ALEXANDRA\", \"FIGUEROA MURO, LEONEL ARTURO\", \"GOMEZ CRIBILLERO, JOSE FELIPE\", \"PALOMINO SEGUÍN, AFRANIA\", \"LUZON CUEVA, BIANCA MARIETTE\", \"SUAÑA ZEGARRA, ADRIAN ANDRE\", \"SOTO POMACHAGUA, DORKAS YOMIRA JHERMY\", \"FIORENTINO MARTINEZ, LADY ALY\", \"LAMA MAVILA, HECTOR ANDRE\", \"MEZA HINOJO, GUSTAVO\", \"LOZADA MURILLO, PERSEO MARCELO\", \"ZAMBRANO JIMENEZ, MIGUEL ALONZO\", \"JACOBS LUQUE, NICOLAS\", \"VIDAL VIDAL, ROCIO GABRIELA\", \"TORRES ANICAMA, JANE CAMILA\", \"LOPEZ ESTRADA, MARIA ELISA\", \"BOYCO ORAMS, ALEJANDRO\", \"DIAZ BERROSPI, KARLINE ROSMELI\", \"RIEGA ESCALANTE, STEPHY ROSARIO\", \"LEVANO TORRES, VALERIA CECILIA\", \"ESQUIVES BRAVO, SEBASTIAN RENATO\", \"PEREZ GONZALES, JUAN CARLOS\", \"OTERO MAGUIÑA, MARIANA\", \"CLAVO CAMPOS, ANDREA BRIZETH\", \"AGUILAR GARCIA, ERICK JOSUE\", \"CALDAS VELASQUEZ, JOSUE DANIEL\", \"SALAS NUÑEZ BORJA, FABIO MANUEL\", \"PIZARRO VILLANES, FERNANDA NICOLLE\", \"QUILLATUPA MORALES, ANGELA ADELINA\", \"HUANCAYA IDONE, CESAR DANTE\", \"CALVO PORTOCARRERO, GABRIELA ISABEL\", \"IBAÑEZ ABANTO, ANGEL MAURICIO\", \"MELÉNDEZ APONTE, JUAN DIEGO\", \"CRISTIAN SERRANO, ARONE\", \"HINOJOSA CAHUANA, PERCY ALBERTH\", \"ANGLAS GARCÍA, KEVIN ARTURO\", \"ALDAVE ACOSTA, CESAR ERNESTO\", \"NÚÑEZ HUAMÁN, CÉSAR AGUSTO\", \"OBREGON HUAMAN, DIANA EDITH\", \"SOTO PACHERRES, RODRIGO FRANCO\", \"INGARUCA RIVERA, GRETTEL ALEXANDRA\", \"ROJAS HUAMAN, ROSA ANGELA\", \"NEYRA SALAS, DANTE OMAR\", \"HUERTA ESPINOZA, YAJAIRA ALEXANDRA\", \"HUANCA MARTINEZ, JORGE ALBERTO\", \"FLORES CADILLO, ALEXIS\"]\n",
    "\n",
    "# Step 2: 02 lists are created. The first of surnames and the second of names\n",
    "# Likewise, the zip function is used to create a tuple that contains the elements of the list that allows us to iterate each element\n",
    "# Finally, the map and lambda functions are used to iterate the split function to each value of the tuple obtained.\n",
    "last_names, names = zip(*(map(lambda x: x.split(', ', 1), last_and_name)))\n",
    "\n",
    "# Step 3: The results are printed with a title after them\n",
    "print(\"Last Names:\", list(last_names))\n",
    "print(\"Names:\", list(names))"
   ]
  },
  {
   "cell_type": "markdown",
   "id": "eebb93f9",
   "metadata": {},
   "source": [
    "8. Give only the last names of students who do not have email. Use the emails and last_names listt. Hint: Use map and split."
   ]
  },
  {
   "cell_type": "code",
   "execution_count": 23,
   "id": "7850727b",
   "metadata": {},
   "outputs": [
    {
     "data": {
      "text/plain": [
       "[('CORNEJO SANCHEZ', 'cscornejo@pucp.edu.pe'),\n",
       " ('ORELLANA QUISPE', 'orellana.cn@pucp.edu.pe'),\n",
       " ('MORALES CHOQUEHUANCA', 'karina.morales@pucp.edu.pe'),\n",
       " ('GUIMARAY RIBEYRO', 'a20083223@pucp.pe'),\n",
       " ('CAMACHO GAVIDIA', 'abel.camacho@pucp.pe'),\n",
       " ('TINTAYA ORIHUELA', 'mtintaya@pucp.edu.pe'),\n",
       " ('CHAVEZ MARTINEZ', 'joselin.chavez@pucp.edu.pe'),\n",
       " ('FIGUEROA MURO', 'a20105737@pucp.pe'),\n",
       " ('GOMEZ CRIBILLERO', 'jfgomezc@pucp.pe'),\n",
       " ('PALOMINO SEGUÍN', 'afrania.palomino@pucp.pe'),\n",
       " ('LUZON CUEVA', 'luzon.bianca@pucp.pe'),\n",
       " ('SUAÑA ZEGARRA', 'adrian.suanaz@pucp.pe'),\n",
       " ('SOTO POMACHAGUA', 'soto.y@pucp.edu.pe'),\n",
       " ('FIORENTINO MARTINEZ', 'a20132766@pucp.pe'),\n",
       " ('LAMA MAVILA', 'andre.lama@pucp.edu.pe'),\n",
       " ('MEZA HINOJO', 'gustavo.meza@pucp.edu.pe'),\n",
       " ('LOZADA MURILLO', 'pmlozada@pucp.edu.pe'),\n",
       " ('ZAMBRANO JIMENEZ', 'm.zambranoj@pucp.edu.pe'),\n",
       " ('JACOBS LUQUE', 'nicolas.jacobs@pucp.edu.pe'),\n",
       " ('VIDAL VIDAL', 'gvidal@pucp.edu.pe'),\n",
       " ('TORRES ANICAMA', 'jane.torres@pucp.edu.pe'),\n",
       " ('LOPEZ ESTRADA', 'm.lopez@pucp.edu.pe'),\n",
       " ('BOYCO ORAMS', 'alejandro.boyco@pucp.edu.pe'),\n",
       " ('DIAZ BERROSPI', 'a20167070@pucp.edu.pe'),\n",
       " ('RIEGA ESCALANTE', 'riega.stephy@pucp.edu.pe'),\n",
       " ('LEVANO TORRES', 'vlevanot@pucp.edu.pe'),\n",
       " ('ESQUIVES BRAVO', 'sesquives@pucp.edu.pe'),\n",
       " ('PEREZ GONZALES', 'perez.juanc@pucp.edu.pe'),\n",
       " ('OTERO MAGUIÑA', 'mariana.otero@pucp.edu.pe'),\n",
       " ('CLAVO CAMPOS', 'aclavo@pucp.edu.pe'),\n",
       " ('AGUILAR GARCIA', 'a20182474@pucp.edu.pe'),\n",
       " ('CALDAS VELASQUEZ', 'josue.caldas@pucp.edu.pe'),\n",
       " ('SALAS NUÑEZ BORJA', 'fabio.salas@pucp.edu.pe'),\n",
       " ('PIZARRO VILLANES', 'fernanda.pizarro@pucp.edu.pe'),\n",
       " ('QUILLATUPA MORALES', 'aquillatupa@pucp.pe'),\n",
       " ('HUANCAYA IDONE', ''),\n",
       " ('CALVO PORTOCARRERO', ''),\n",
       " ('IBAÑEZ ABANTO', ''),\n",
       " ('MELÉNDEZ APONTE', ''),\n",
       " ('CRISTIAN SERRANO', ''),\n",
       " ('HINOJOSA CAHUANA', 'f0873079@pucp.edu.pe'),\n",
       " ('ANGLAS GARCÍA', ''),\n",
       " ('ALDAVE ACOSTA', ''),\n",
       " ('NÚÑEZ HUAMÁN', ''),\n",
       " ('OBREGON HUAMAN', ''),\n",
       " ('SOTO PACHERRES', ''),\n",
       " ('INGARUCA RIVERA', ''),\n",
       " ('ROJAS HUAMAN', ''),\n",
       " ('NEYRA SALAS', ''),\n",
       " ('HUERTA ESPINOZA', ''),\n",
       " ('HUANCA MARTINEZ', ''),\n",
       " ('FLORES CADILLO', 'flores.alexis@pucp.edu.pe')]"
      ]
     },
     "execution_count": 23,
     "metadata": {},
     "output_type": "execute_result"
    }
   ],
   "source": [
    "# Step 1: A list object is generated that contains the last names along with the emails, which allows us to notice the names that do not have an associated email\n",
    "matrix = list(zip(last_names, emails))\n",
    "matrix\n"
   ]
  },
  {
   "cell_type": "code",
   "execution_count": 39,
   "id": "74e0a659",
   "metadata": {},
   "outputs": [
    {
     "name": "stdout",
     "output_type": "stream",
     "text": [
      "Last names of students without an email:  ['HUANCAYA IDONE', 'CALVO PORTOCARRERO', 'IBAÑEZ ABANTO', 'MELÉNDEZ APONTE', 'CRISTIAN SERRANO', 'ANGLAS GARCÍA', 'ALDAVE ACOSTA', 'NÚÑEZ HUAMÁN', 'OBREGON HUAMAN', 'SOTO PACHERRES', 'INGARUCA RIVERA', 'ROJAS HUAMAN', 'NEYRA SALAS', 'HUERTA ESPINOZA', 'HUANCA MARTINEZ']\n"
     ]
    }
   ],
   "source": [
    "# Step 2: Filter students without an email using the lambda function to locate all last names from the 'array' list that are along with an empty email\n",
    "# x[1] makes reference to the second string in each element of the matrix\n",
    "students_we = filter(lambda x: not x[1], matrix)\n",
    "\n",
    "# Step 3: Extract last names from the filtered students\n",
    "# x[0] makes reference to the first string in each element of the list\n",
    "last_names_we = map(lambda x: x[0].split(', ')[0], students_we)\n",
    "\n",
    "# Step 4: Print the last names of students without an email\n",
    "print('Last names of students without an email: ', list(last_names_we))"
   ]
  },
  {
   "cell_type": "markdown",
   "id": "09ace6d5",
   "metadata": {},
   "source": [
    "# 1.3 Strings"
   ]
  },
  {
   "cell_type": "markdown",
   "id": "5eca7941",
   "metadata": {},
   "source": [
    "1. Drop the duplicated blank spaces in str1. Do not use the regular expresions. Do not use the code shown in class. Explain your steps.Hint: Use split method and join function."
   ]
  },
  {
   "cell_type": "code",
   "execution_count": 7,
   "id": "1b4d4c97",
   "metadata": {},
   "outputs": [
    {
     "data": {
      "text/plain": [
       "str"
      ]
     },
     "execution_count": 7,
     "metadata": {},
     "output_type": "execute_result"
    }
   ],
   "source": [
    "# Step 1: The variable is called and its type is observed\n",
    "str1 = 'I am                            too                                                        old'\n",
    "type(str1)"
   ]
  },
  {
   "cell_type": "code",
   "execution_count": 8,
   "id": "e2311983",
   "metadata": {},
   "outputs": [
    {
     "name": "stdout",
     "output_type": "stream",
     "text": [
      "I am too old\n"
     ]
    }
   ],
   "source": [
    "# Step 2: The variable string is transformed into a list with the words that will make up the sentence\n",
    "wd=str1.split('                            ')\n",
    "# Step 3: Empty spaces are removed\n",
    "wd_without=list(wd)\n",
    "wd_without.remove('')\n",
    "# Step 4: The values of the list are concatenated in the searched sentence\n",
    "wd_concatenate=' '.join(wd_without)\n",
    "# Step 5: The results are printed\n",
    "print(wd_concatenate)\n"
   ]
  }
 ],
 "metadata": {
  "kernelspec": {
   "display_name": "Python 3 (ipykernel)",
   "language": "python",
   "name": "python3"
  },
  "language_info": {
   "codemirror_mode": {
    "name": "ipython",
    "version": 3
   },
   "file_extension": ".py",
   "mimetype": "text/x-python",
   "name": "python",
   "nbconvert_exporter": "python",
   "pygments_lexer": "ipython3",
   "version": "3.11.5"
  }
 },
 "nbformat": 4,
 "nbformat_minor": 5
}
