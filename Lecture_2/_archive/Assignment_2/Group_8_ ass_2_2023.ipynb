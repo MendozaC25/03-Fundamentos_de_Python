{
 "cells": [
  {
   "cell_type": "markdown",
   "id": "a3403422",
   "metadata": {},
   "source": [
    "# 1 Assignment\n",
    "It is totally prohibited to use any kind of loop. You can use stackoverflow. If you copy codes from previous answers, explain each step. No explanation is `0 points`.\n",
    "\n",
    "## 1.1 Tuple\n",
    "1. Print the first item of the second item of `tuple1` object. **Hint: Use indexing**<br><br>\n",
    "2. Print the last item of the `tuple1` object.**Hint: Use indexing**<br><br>\n",
    "3. Change the value \"orange\" for \"pink grapefruit\". Comment the output. **Hint: Is it possible?** <br><br>\n",
    "4. Print the length of `tuple1`. **Hint: Length function**<br><br>\n",
    "5. Sum all the elements of tuple2 and describe your steps and explain each of them. **Hint: Use `map` function.**<br><br>\n",
    "6. Generate a new tuple object named as `tuple3` with the half values of `tuple2`. This tuple should be similar as `tuple2`, tuple of lists.  **Hint: Use `map` funciont.**<br><br>\n"
   ]
  },
  {
   "cell_type": "code",
   "execution_count": 1,
   "id": "9ef4da4d",
   "metadata": {},
   "outputs": [],
   "source": [
    "tuple1 = (\"Orange\", [10, 20, 30], (5, 15, 25))\n",
    "tuple2 = ([7, 8], [9, 1], [10, 7])"
   ]
  },
  {
   "cell_type": "code",
   "execution_count": 2,
   "id": "7ffb24d5",
   "metadata": {},
   "outputs": [
    {
     "name": "stdout",
     "output_type": "stream",
     "text": [
      "10\n"
     ]
    }
   ],
   "source": [
    "#1.1.1.\n",
    "print(tuple1[1][0]) \n",
    "\n",
    "#se selecciona el elemento que se quiere mostrar "
   ]
  },
  {
   "cell_type": "code",
   "execution_count": 3,
   "id": "6c5c1a23",
   "metadata": {},
   "outputs": [
    {
     "name": "stdout",
     "output_type": "stream",
     "text": [
      "(5, 15, 25)\n"
     ]
    }
   ],
   "source": [
    "#1.1.2.\n",
    "print(tuple1[2]) \n",
    "\n",
    "#Se selecciona el último item"
   ]
  },
  {
   "cell_type": "code",
   "execution_count": 4,
   "id": "11395fac",
   "metadata": {},
   "outputs": [
    {
     "data": {
      "text/plain": [
       "2"
      ]
     },
     "execution_count": 4,
     "metadata": {},
     "output_type": "execute_result"
    }
   ],
   "source": [
    "tuple1.index((5, 15, 25))"
   ]
  },
  {
   "cell_type": "code",
   "execution_count": 5,
   "id": "23128efc",
   "metadata": {},
   "outputs": [
    {
     "ename": "SyntaxError",
     "evalue": "unterminated string literal (detected at line 2) (557721765.py, line 2)",
     "output_type": "error",
     "traceback": [
      "\u001b[1;36m  Cell \u001b[1;32mIn[5], line 2\u001b[1;36m\u001b[0m\n\u001b[1;33m    tuple1[0] = \"Pink Grapefruit\"\"\u001b[0m\n\u001b[1;37m                                 ^\u001b[0m\n\u001b[1;31mSyntaxError\u001b[0m\u001b[1;31m:\u001b[0m unterminated string literal (detected at line 2)\n"
     ]
    }
   ],
   "source": [
    "#1.1.3. Rpta: Los tuples no pueden ser modificados. \n",
    "tuple1[0] = \"Pink Grapefruit\"\"\n",
    "tuple1"
   ]
  },
  {
   "cell_type": "code",
   "execution_count": 6,
   "id": "ad774586",
   "metadata": {},
   "outputs": [
    {
     "name": "stdout",
     "output_type": "stream",
     "text": [
      "Pink Grapefruit\n"
     ]
    }
   ],
   "source": [
    "#La otra salida sería volver a crear el tuple con el nombre cambiado:\n",
    "tuplemodif = (\"Pink Grapefruit\", [10, 20, 30], (5, 15, 25))\n",
    "print(tuplemodif[0])"
   ]
  },
  {
   "cell_type": "code",
   "execution_count": 7,
   "id": "7bfd5aa1",
   "metadata": {},
   "outputs": [
    {
     "data": {
      "text/plain": [
       "3"
      ]
     },
     "execution_count": 7,
     "metadata": {},
     "output_type": "execute_result"
    }
   ],
   "source": [
    "#1.1.4.\n",
    "len(tuple1)"
   ]
  },
  {
   "cell_type": "code",
   "execution_count": 8,
   "id": "41844b26",
   "metadata": {},
   "outputs": [
    {
     "data": {
      "text/plain": [
       "42"
      ]
     },
     "execution_count": 8,
     "metadata": {},
     "output_type": "execute_result"
    }
   ],
   "source": [
    "#1.1.5.\n",
    "sum(list(map(sum,list(tuple2))))"
   ]
  },
  {
   "cell_type": "code",
   "execution_count": 9,
   "id": "10e9d540",
   "metadata": {},
   "outputs": [
    {
     "name": "stdout",
     "output_type": "stream",
     "text": [
      "([3, 4], [4, 0], [5, 3])\n"
     ]
    }
   ],
   "source": [
    "#1.1.6.\n",
    "tuple3 = tuple(map(lambda x: [y//2 for y in x], tuple2))\n",
    "print(tuple3)"
   ]
  },
  {
   "cell_type": "markdown",
   "id": "3a9b9920",
   "metadata": {},
   "source": [
    "## 1.2 Lists\n",
    "1. Show the indices of the `np.nan` values  in the `f_list` list. We want to see this output: `The indices 0, 1, 4, 7 have np.nan values.` **Hint: Use print function and [f-strings](https://realpython.com/python-f-strings/) to insert the indices values.**<br><br>\n",
    "\n",
    "2. Replicate 4 times the values of the list `p2_list`. We expect an ouput like this: `[ 2 , 3, 4, 5, 2 , 3, 4, 5, 2 , 3, 4, 5, 2 , 3, 4, 5]`.  **Hint: Use multiplication function in `lists`and see the output.**<br><br>\n",
    "3. Print the length of `f_list`. **Hint: Length function**<br><br>\n",
    "4. Print `My teacher assistant is so boring.` using `text1` list. **Hint: Use the [`join` function](https://stackoverflow.com/questions/493819/why-is-it-string-joinlist-instead-of-list-joinstring)**<br><br>\n",
    "5. Print `My TA is so boring, but is very funny.` using `text1` list.**Hint: Use the `join` function, and `extend` method.**<br><br>\n",
    "6. Print <br>\n",
    "`The max value of values1 is 86 and is located in the 0 index. ` <br>\n",
    "`The min value of values1 is 0 and is located in the 7 index. ` <br> **Hint: Use the `f-string`, `min`, and `max` functions.**\n",
    "<br>\n",
    "7. Get two lists: `names` and `last_names` using `last_and_name` list. **Hint: Use `map` and `split`.**\n",
    "<br>\n",
    "8. Give only the last names of students who do not have email. Use the `emails` and `last_names` listt. **Hint: Use `map` and `split`.**\n",
    "<br>"
   ]
  },
  {
   "cell_type": "code",
   "execution_count": 10,
   "id": "329745ba",
   "metadata": {},
   "outputs": [],
   "source": [
    "import numpy as np"
   ]
  },
  {
   "cell_type": "code",
   "execution_count": 11,
   "id": "b7ebce86",
   "metadata": {},
   "outputs": [],
   "source": [
    "f_list = [np.nan , np.nan, \"Austria\", \"Germany\", np.nan, \"Pakistan\", \"np.nan\", np.nan ]"
   ]
  },
  {
   "cell_type": "code",
   "execution_count": 12,
   "id": "f162633c",
   "metadata": {},
   "outputs": [],
   "source": [
    "text1 = ['My', 'teacher', 'assistant', 'is', 'so', 'boring.']"
   ]
  },
  {
   "cell_type": "code",
   "execution_count": 13,
   "id": "7b789862",
   "metadata": {},
   "outputs": [],
   "source": [
    "p2_list = [ 2 , 3, 4, 5 ]"
   ]
  },
  {
   "cell_type": "code",
   "execution_count": 14,
   "id": "1fd2db77",
   "metadata": {},
   "outputs": [],
   "source": [
    "values1 = [ 86, 86, 85, 85, 85, 83, 23, 0, 84, 1 ] "
   ]
  },
  {
   "cell_type": "code",
   "execution_count": 15,
   "id": "be726f7e",
   "metadata": {},
   "outputs": [],
   "source": [
    "# These two lists a\n",
    "last_and_name = [ \"CORNEJO SANCHEZ, CHRISTIAN SANTOS\", \"ORELLANA QUISPE, CRISTIAN NASSER\", \"MORALES CHOQUEHUANCA, ANGELICA KARINA\", \"GUIMARAY RIBEYRO, JOSE ROBERTO\", \"CAMACHO GAVIDIA, ABEL FERNANDO\", \"TINTAYA ORIHUELA, MEIR ALVARO\", \"CHAVEZ MARTINEZ, JOSELIN ALEXANDRA\", \"FIGUEROA MURO, LEONEL ARTURO\", \"GOMEZ CRIBILLERO, JOSE FELIPE\", \"PALOMINO SEGUÍN, AFRANIA\", \"LUZON CUEVA, BIANCA MARIETTE\", \"SUAÑA ZEGARRA, ADRIAN ANDRE\", \"SOTO POMACHAGUA, DORKAS YOMIRA JHERMY\", \"FIORENTINO MARTINEZ, LADY ALY\", \"LAMA MAVILA, HECTOR ANDRE\", \"MEZA HINOJO, GUSTAVO\", \"LOZADA MURILLO, PERSEO MARCELO\", \"ZAMBRANO JIMENEZ, MIGUEL ALONZO\", \"JACOBS LUQUE, NICOLAS\", \"VIDAL VIDAL, ROCIO GABRIELA\", \"TORRES ANICAMA, JANE CAMILA\", \"LOPEZ ESTRADA, MARIA ELISA\", \"BOYCO ORAMS, ALEJANDRO\", \"DIAZ BERROSPI, KARLINE ROSMELI\", \"RIEGA ESCALANTE, STEPHY ROSARIO\", \"LEVANO TORRES, VALERIA CECILIA\", \"ESQUIVES BRAVO, SEBASTIAN RENATO\", \"PEREZ GONZALES, JUAN CARLOS\", \"OTERO MAGUIÑA, MARIANA\", \"CLAVO CAMPOS, ANDREA BRIZETH\", \"AGUILAR GARCIA, ERICK JOSUE\", \"CALDAS VELASQUEZ, JOSUE DANIEL\", \"SALAS NUÑEZ BORJA, FABIO MANUEL\", \"PIZARRO VILLANES, FERNANDA NICOLLE\", \"QUILLATUPA MORALES, ANGELA ADELINA\", \"HUANCAYA IDONE, CESAR DANTE\", \"CALVO PORTOCARRERO, GABRIELA ISABEL\", \"IBAÑEZ ABANTO, ANGEL MAURICIO\", \"MELÉNDEZ APONTE, JUAN DIEGO\", \"CRISTIAN SERRANO, ARONE\", \"HINOJOSA CAHUANA, PERCY ALBERTH\", \"ANGLAS GARCÍA, KEVIN ARTURO\", \"ALDAVE ACOSTA, CESAR ERNESTO\", \"NÚÑEZ HUAMÁN, CÉSAR AGUSTO\", \"OBREGON HUAMAN, DIANA EDITH\", \"SOTO PACHERRES, RODRIGO FRANCO\", \"INGARUCA RIVERA, GRETTEL ALEXANDRA\", \"ROJAS HUAMAN, ROSA ANGELA\", \"NEYRA SALAS, DANTE OMAR\", \"HUERTA ESPINOZA, YAJAIRA ALEXANDRA\", \"HUANCA MARTINEZ, JORGE ALBERTO\", \"FLORES CADILLO, ALEXIS\" ]\n",
    "emails = [\"cscornejo@pucp.edu.pe\", \"orellana.cn@pucp.edu.pe\", \"karina.morales@pucp.edu.pe\", \"a20083223@pucp.pe\", \"abel.camacho@pucp.pe\", \"mtintaya@pucp.edu.pe\", \"joselin.chavez@pucp.edu.pe\", \"a20105737@pucp.pe\", \"jfgomezc@pucp.pe\", \"afrania.palomino@pucp.pe\", \"luzon.bianca@pucp.pe\", \"adrian.suanaz@pucp.pe\", \"soto.y@pucp.edu.pe\", \"a20132766@pucp.pe\", \"andre.lama@pucp.edu.pe\", \"gustavo.meza@pucp.edu.pe\", \"pmlozada@pucp.edu.pe\", \"m.zambranoj@pucp.edu.pe\", \"nicolas.jacobs@pucp.edu.pe\", \"gvidal@pucp.edu.pe\", \"jane.torres@pucp.edu.pe\", \"m.lopez@pucp.edu.pe\", \"alejandro.boyco@pucp.edu.pe\", \"a20167070@pucp.edu.pe\", \"riega.stephy@pucp.edu.pe\", \"vlevanot@pucp.edu.pe\", \"sesquives@pucp.edu.pe\", \"perez.juanc@pucp.edu.pe\", \"mariana.otero@pucp.edu.pe\", \"aclavo@pucp.edu.pe\", \"a20182474@pucp.edu.pe\", \"josue.caldas@pucp.edu.pe\", \"fabio.salas@pucp.edu.pe\", \"fernanda.pizarro@pucp.edu.pe\", \"aquillatupa@pucp.pe\", \"\", \"\", \"\", \"\", \"\", \"f0873079@pucp.edu.pe\", \"\", \"\", \"\", \"\", \"\", \"\", \"\", \"\", \"\", \"\", \"flores.alexis@pucp.edu.pe\", ]"
   ]
  },
  {
   "cell_type": "code",
   "execution_count": 16,
   "id": "81caa894",
   "metadata": {},
   "outputs": [
    {
     "name": "stdout",
     "output_type": "stream",
     "text": [
      "The indices [0 1 4 7] have np.nan values\n"
     ]
    }
   ],
   "source": [
    "#1.2.1.\n",
    "flist2= np.where(np.array(f_list) == str (np.nan))\n",
    "flist2 = flist2[ 0 ]\n",
    "print(f\"The indices {flist2} have np.nan values\")\n",
    "#The indices 0, 1, 4, 7 have np.nan values"
   ]
  },
  {
   "cell_type": "code",
   "execution_count": 17,
   "id": "3e253313",
   "metadata": {},
   "outputs": [
    {
     "data": {
      "text/plain": [
       "[2, 3, 4, 5, 2, 3, 4, 5, 2, 3, 4, 5, 2, 3, 4, 5]"
      ]
     },
     "execution_count": 17,
     "metadata": {},
     "output_type": "execute_result"
    }
   ],
   "source": [
    "#1.2.2.\n",
    "\n",
    "p3_list= p2_list*4\n",
    "p3_list"
   ]
  },
  {
   "cell_type": "code",
   "execution_count": 18,
   "id": "e6471503",
   "metadata": {},
   "outputs": [
    {
     "data": {
      "text/plain": [
       "8"
      ]
     },
     "execution_count": 18,
     "metadata": {},
     "output_type": "execute_result"
    }
   ],
   "source": [
    "#1.2.3.\n",
    "len(f_list)"
   ]
  },
  {
   "cell_type": "code",
   "execution_count": 19,
   "id": "8504630d",
   "metadata": {},
   "outputs": [
    {
     "name": "stdout",
     "output_type": "stream",
     "text": [
      "My teacher assistant is so boring.\n"
     ]
    }
   ],
   "source": [
    "#1.2.4. forma 1 sin join\n",
    "print(text1[0] + \" \"+ text1[1] + \" \" + text1[2]+ \" \" +text1[3]+ \" \" +text1[4]+ \" \"+text1[5] )\n",
    "\n",
    "# forma2 con join\n"
   ]
  },
  {
   "cell_type": "code",
   "execution_count": 20,
   "id": "ee5cd140",
   "metadata": {},
   "outputs": [
    {
     "name": "stdout",
     "output_type": "stream",
     "text": [
      "My TA is so boring., but it's very funny.\n"
     ]
    }
   ],
   "source": [
    "#1.2.5.\n",
    "print(text1[0] + \" \"+ \"TA\" + \" \" +text1[3]+ \" \" +text1[4]+ \" \"+text1[5]+\", but it's very funny.\" )"
   ]
  },
  {
   "cell_type": "code",
   "execution_count": 21,
   "id": "0ba89211",
   "metadata": {},
   "outputs": [
    {
     "name": "stdout",
     "output_type": "stream",
     "text": [
      "The max value of values1 is 86 and is located in the 0 index.\n",
      "The min value of values1 is 0 and is located in the 7 index.\n"
     ]
    }
   ],
   "source": [
    "#1.2.6. Se numeran los valores mayores y menores, con la función max y min para los valores de values1. luego se imprime los statements solicitados.\n",
    "max_index, max_value = max(enumerate(values1), key=lambda x: x[1])\n",
    "\n",
    "min_index, min_value = min(enumerate(values1), key=lambda x: x[1])\n",
    "\n",
    "print(f\"The max value of values1 is {max_value} and is located in the {max_index} index.\")\n",
    "print(f\"The min value of values1 is {min_value} and is located in the {min_index} index.\")"
   ]
  },
  {
   "cell_type": "code",
   "execution_count": 22,
   "id": "c953e29c",
   "metadata": {},
   "outputs": [
    {
     "name": "stdout",
     "output_type": "stream",
     "text": [
      "('CORNEJO SANCHEZ', 'ORELLANA QUISPE', 'MORALES CHOQUEHUANCA', 'GUIMARAY RIBEYRO', 'CAMACHO GAVIDIA', 'TINTAYA ORIHUELA', 'CHAVEZ MARTINEZ', 'FIGUEROA MURO', 'GOMEZ CRIBILLERO', 'PALOMINO SEGUÍN', 'LUZON CUEVA', 'SUAÑA ZEGARRA', 'SOTO POMACHAGUA', 'FIORENTINO MARTINEZ', 'LAMA MAVILA', 'MEZA HINOJO', 'LOZADA MURILLO', 'ZAMBRANO JIMENEZ', 'JACOBS LUQUE', 'VIDAL VIDAL', 'TORRES ANICAMA', 'LOPEZ ESTRADA', 'BOYCO ORAMS', 'DIAZ BERROSPI', 'RIEGA ESCALANTE', 'LEVANO TORRES', 'ESQUIVES BRAVO', 'PEREZ GONZALES', 'OTERO MAGUIÑA', 'CLAVO CAMPOS', 'AGUILAR GARCIA', 'CALDAS VELASQUEZ', 'SALAS NUÑEZ BORJA', 'PIZARRO VILLANES', 'QUILLATUPA MORALES', 'HUANCAYA IDONE', 'CALVO PORTOCARRERO', 'IBAÑEZ ABANTO', 'MELÉNDEZ APONTE', 'CRISTIAN SERRANO', 'HINOJOSA CAHUANA', 'ANGLAS GARCÍA', 'ALDAVE ACOSTA', 'NÚÑEZ HUAMÁN', 'OBREGON HUAMAN', 'SOTO PACHERRES', 'INGARUCA RIVERA', 'ROJAS HUAMAN', 'NEYRA SALAS', 'HUERTA ESPINOZA', 'HUANCA MARTINEZ', 'FLORES CADILLO')\n",
      "(' CHRISTIAN SANTOS', ' CRISTIAN NASSER', ' ANGELICA KARINA', ' JOSE ROBERTO', ' ABEL FERNANDO', ' MEIR ALVARO', ' JOSELIN ALEXANDRA', ' LEONEL ARTURO', ' JOSE FELIPE', ' AFRANIA', ' BIANCA MARIETTE', ' ADRIAN ANDRE', ' DORKAS YOMIRA JHERMY', ' LADY ALY', ' HECTOR ANDRE', ' GUSTAVO', ' PERSEO MARCELO', ' MIGUEL ALONZO', ' NICOLAS', ' ROCIO GABRIELA', ' JANE CAMILA', ' MARIA ELISA', ' ALEJANDRO', ' KARLINE ROSMELI', ' STEPHY ROSARIO', ' VALERIA CECILIA', ' SEBASTIAN RENATO', ' JUAN CARLOS', ' MARIANA', ' ANDREA BRIZETH', ' ERICK JOSUE', ' JOSUE DANIEL', ' FABIO MANUEL', ' FERNANDA NICOLLE', ' ANGELA ADELINA', ' CESAR DANTE', ' GABRIELA ISABEL', ' ANGEL MAURICIO', ' JUAN DIEGO', ' ARONE', ' PERCY ALBERTH', ' KEVIN ARTURO', ' CESAR ERNESTO', ' CÉSAR AGUSTO', ' DIANA EDITH', ' RODRIGO FRANCO', ' GRETTEL ALEXANDRA', ' ROSA ANGELA', ' DANTE OMAR', ' YAJAIRA ALEXANDRA', ' JORGE ALBERTO', ' ALEXIS')\n"
     ]
    }
   ],
   "source": [
    "#1.2.7.\n",
    "split_names = map(lambda x: x.split(\",\"), last_and_name)\n",
    "\n",
    "last_names, names = zip(*split_names)\n",
    "\n",
    "print(last_names)\n",
    "print(names)"
   ]
  },
  {
   "cell_type": "code",
   "execution_count": 23,
   "id": "80e4beb3",
   "metadata": {},
   "outputs": [
    {
     "data": {
      "text/plain": [
       "['HUANCAYA IDONE',\n",
       " 'CALVO PORTOCARRERO',\n",
       " 'IBAÑEZ ABANTO',\n",
       " 'MELÉNDEZ APONTE',\n",
       " 'CRISTIAN SERRANO',\n",
       " 'ANGLAS GARCÍA',\n",
       " 'ALDAVE ACOSTA',\n",
       " 'NÚÑEZ HUAMÁN',\n",
       " 'OBREGON HUAMAN',\n",
       " 'SOTO PACHERRES',\n",
       " 'INGARUCA RIVERA',\n",
       " 'ROJAS HUAMAN',\n",
       " 'NEYRA SALAS',\n",
       " 'HUERTA ESPINOZA',\n",
       " 'HUANCA MARTINEZ']"
      ]
     },
     "execution_count": 23,
     "metadata": {},
     "output_type": "execute_result"
    }
   ],
   "source": [
    "No_email = [names.split(', ')[0] for names, emails in zip(last_names, emails) if not emails]\n",
    "#Filtramos a los estudiantes que no tienen correo por medio de la función split\n",
    "No_email"
   ]
  },
  {
   "cell_type": "markdown",
   "id": "7e02c5b6",
   "metadata": {},
   "source": [
    "## 1.3 Strings\n",
    "1. Drop the duplicated blank spaces in `str1`. Do not use the regular expresions. Do not use the code shown in class. Explain your steps.**Hint: Use `split` method and `join` function.**\n",
    "\n",
    "2. Get the number of letters in the string .**Hint: Use `len`function.**\n",
    "\n",
    "3. Get the number of blank spaces (all of them) in the string .**Hint: Use `len`function.**\n",
    "\n",
    "4. Get the position of `@` in each string in the emails list. **Hint: Use `map`function and `find` method.**\n",
    "\n",
    "5. Identifies if exists `.edu.`  in each string in the `emails` list. Get a list of Booleans. **Hint: Use `map`function and `find` method.**\n",
    "\n",
    "6. Get all the strings before the first dot `.`in each string in the `emails` list. Identifies how many of them has `@`. **Hint: Use `map`function and `find` method.**"
   ]
  },
  {
   "cell_type": "code",
   "execution_count": 24,
   "id": "9ddef5a5",
   "metadata": {},
   "outputs": [
    {
     "data": {
      "text/plain": [
       "'Tengo         mucho       sueño'"
      ]
     },
     "execution_count": 24,
     "metadata": {},
     "output_type": "execute_result"
    }
   ],
   "source": [
    "#1.3.1\n",
    "#Definimos str1\n",
    "str1= \"Tengo         mucho       sueño\"\n",
    "str1"
   ]
  },
  {
   "cell_type": "code",
   "execution_count": 25,
   "id": "98dc7e66",
   "metadata": {},
   "outputs": [
    {
     "data": {
      "text/plain": [
       "['Tengo', 'mucho', 'sueño']"
      ]
     },
     "execution_count": 25,
     "metadata": {},
     "output_type": "execute_result"
    }
   ],
   "source": [
    "#Para poder eliminar los espacios se puede dividir el str1 por medio de la función split\n",
    "str2=str1.split()\n",
    "str2"
   ]
  },
  {
   "cell_type": "code",
   "execution_count": 26,
   "id": "b6a28e6d",
   "metadata": {},
   "outputs": [
    {
     "data": {
      "text/plain": [
       "'Tengomuchosueño'"
      ]
     },
     "execution_count": 26,
     "metadata": {},
     "output_type": "execute_result"
    }
   ],
   "source": [
    "str4= \"\".join(str2)\n",
    "str4"
   ]
  },
  {
   "cell_type": "code",
   "execution_count": 27,
   "id": "cb3fa778",
   "metadata": {},
   "outputs": [
    {
     "data": {
      "text/plain": [
       "'Tengo mucho sueño'"
      ]
     },
     "execution_count": 27,
     "metadata": {},
     "output_type": "execute_result"
    }
   ],
   "source": [
    "#Para volver a unir las palabras sin el espacio se usa la función join (se añade un espacio)\n",
    "str3 = \" \".join (str2)\n",
    "str3"
   ]
  },
  {
   "cell_type": "code",
   "execution_count": 28,
   "id": "35e9078b",
   "metadata": {},
   "outputs": [
    {
     "data": {
      "text/plain": [
       "15"
      ]
     },
     "execution_count": 28,
     "metadata": {},
     "output_type": "execute_result"
    }
   ],
   "source": [
    "#Contamos el total de caracteres pero restamos el espaciado\n",
    "len(str3) - str3.count(\" \") "
   ]
  },
  {
   "cell_type": "code",
   "execution_count": 29,
   "id": "00f95797",
   "metadata": {},
   "outputs": [
    {
     "data": {
      "text/plain": [
       "2"
      ]
     },
     "execution_count": 29,
     "metadata": {},
     "output_type": "execute_result"
    }
   ],
   "source": [
    "#Contamos el total de espacios en la primera y última \n",
    "str3.count(\" \") "
   ]
  },
  {
   "cell_type": "code",
   "execution_count": 30,
   "id": "8d5e3d1c",
   "metadata": {},
   "outputs": [
    {
     "data": {
      "text/plain": [
       "16"
      ]
     },
     "execution_count": 30,
     "metadata": {},
     "output_type": "execute_result"
    }
   ],
   "source": [
    "str1.count(\" \") "
   ]
  },
  {
   "cell_type": "code",
   "execution_count": 31,
   "id": "a666778e",
   "metadata": {},
   "outputs": [],
   "source": [
    "#1.3.4\n",
    "#Por medio de la función map definimos y creamos una lista con el resultado\n",
    "def arroba_correo(x): \n",
    "    return x.find('@')"
   ]
  },
  {
   "cell_type": "code",
   "execution_count": 32,
   "id": "c90553e7",
   "metadata": {},
   "outputs": [
    {
     "data": {
      "text/plain": [
       "[9,\n",
       " 11,\n",
       " 14,\n",
       " 9,\n",
       " 12,\n",
       " 8,\n",
       " 14,\n",
       " 9,\n",
       " 8,\n",
       " 16,\n",
       " 12,\n",
       " 13,\n",
       " 6,\n",
       " 9,\n",
       " 10,\n",
       " 12,\n",
       " 8,\n",
       " 11,\n",
       " 14,\n",
       " 6,\n",
       " 11,\n",
       " 7,\n",
       " 15,\n",
       " 9,\n",
       " 12,\n",
       " 8,\n",
       " 9,\n",
       " 11,\n",
       " 13,\n",
       " 6,\n",
       " 9,\n",
       " 12,\n",
       " 11,\n",
       " 16,\n",
       " 11,\n",
       " -1,\n",
       " -1,\n",
       " -1,\n",
       " -1,\n",
       " -1,\n",
       " 8,\n",
       " -1,\n",
       " -1,\n",
       " -1,\n",
       " -1,\n",
       " -1,\n",
       " -1,\n",
       " -1,\n",
       " -1,\n",
       " -1,\n",
       " -1,\n",
       " 13]"
      ]
     },
     "execution_count": 32,
     "metadata": {},
     "output_type": "execute_result"
    }
   ],
   "source": [
    "posicion_arroba = list(map(arroba_correo, emails))\n",
    "posicion_arroba"
   ]
  },
  {
   "cell_type": "code",
   "execution_count": 33,
   "id": "beca60f1",
   "metadata": {},
   "outputs": [
    {
     "name": "stdout",
     "output_type": "stream",
     "text": [
      "[True, True, True, False, False, True, True, False, False, False, False, False, True, False, True, True, True, True, True, True, True, True, True, True, True, True, True, True, True, True, True, True, True, True, False, False, False, False, False, False, True, False, False, False, False, False, False, False, False, False, False, True]\n"
     ]
    }
   ],
   "source": [
    "#Con la función map, definimos y luego hacemos la busqueda con la función find\n",
    "def buscar_edu(x):\n",
    "    return x.find('.edu.') != -1\n",
    "\n",
    "correo_edu = list(map(buscar_edu, emails)) \n",
    "print(correo_edu)"
   ]
  },
  {
   "cell_type": "code",
   "execution_count": 34,
   "id": "d1f8e0b4",
   "metadata": {},
   "outputs": [
    {
     "data": {
      "text/plain": [
       "15"
      ]
     },
     "execution_count": 34,
     "metadata": {},
     "output_type": "execute_result"
    }
   ],
   "source": [
    "#Para definir que correos tienen el arroba antes del punto se deben definir dos funciones. \n",
    "#En la primera se define la busqueda del punto \n",
    "\n",
    "def correo_punto(x):\n",
    "    return x[:x.find('.')]\n",
    "\n",
    "#En la segunda se define la posición del arroba por la que se junta la función map junto con la función count\n",
    "def arroba_correo2(x):\n",
    "    return x.count('@')\n",
    "\n",
    "\n",
    "Cantidad_total = sum(map(arroba_correo2, list(map(correo_punto, emails))))\n",
    "Cantidad_total "
   ]
  },
  {
   "cell_type": "markdown",
   "id": "c1b75721",
   "metadata": {},
   "source": [
    "Desde la pregunta 1.1 hasta la pregunta 1.2.7 las realizó Andrés \n",
    "Desde la pregunta 1.2.8 hasta la pregunta 1.3.6 las realizó Antuané "
   ]
  }
 ],
 "metadata": {
  "kernelspec": {
   "display_name": "Python 3 (ipykernel)",
   "language": "python",
   "name": "python3"
  },
  "language_info": {
   "codemirror_mode": {
    "name": "ipython",
    "version": 3
   },
   "file_extension": ".py",
   "mimetype": "text/x-python",
   "name": "python",
   "nbconvert_exporter": "python",
   "pygments_lexer": "ipython3",
   "version": "3.11.5"
  }
 },
 "nbformat": 4,
 "nbformat_minor": 5
}
