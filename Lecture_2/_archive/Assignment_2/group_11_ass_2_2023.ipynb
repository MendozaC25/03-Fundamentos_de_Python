{
 "cells": [
  {
   "cell_type": "markdown",
   "id": "a7ccca30",
   "metadata": {},
   "source": [
    "# 1 Assignment"
   ]
  },
  {
   "cell_type": "markdown",
   "id": "1c27eb97",
   "metadata": {},
   "source": [
    "## 1.1 Tuples"
   ]
  },
  {
   "cell_type": "code",
   "execution_count": 1,
   "id": "5373c40b",
   "metadata": {},
   "outputs": [],
   "source": [
    "tuple1 = (\"Orange\", [10, 20, 30], (5, 15, 25))\n",
    "tuple2 = ([7, 8], [9, 1], [10, 7])"
   ]
  },
  {
   "cell_type": "markdown",
   "id": "c9a14c9a",
   "metadata": {},
   "source": [
    "1. Print the first item of the second item of tuple 1 object"
   ]
  },
  {
   "cell_type": "code",
   "execution_count": 2,
   "id": "8a1e4e28",
   "metadata": {},
   "outputs": [],
   "source": [
    "item2 = tuple1[1] #create item2 is the second item of tuple1"
   ]
  },
  {
   "cell_type": "code",
   "execution_count": 3,
   "id": "51f945e1",
   "metadata": {},
   "outputs": [],
   "source": [
    "first_item = item2[0] #first item is the first item of item2"
   ]
  },
  {
   "cell_type": "code",
   "execution_count": 4,
   "id": "0b0ccbaf",
   "metadata": {},
   "outputs": [
    {
     "name": "stdout",
     "output_type": "stream",
     "text": [
      "the first item of the second item is:  10\n"
     ]
    }
   ],
   "source": [
    "print(\"the first item of the second item is: \",first_item) "
   ]
  },
  {
   "cell_type": "markdown",
   "id": "f45b10ca",
   "metadata": {},
   "source": [
    "2. Print the last item of the tuple1"
   ]
  },
  {
   "cell_type": "code",
   "execution_count": 5,
   "id": "6cea4833",
   "metadata": {},
   "outputs": [],
   "source": [
    "last_item = tuple1 [-1] #last item is the first item starting backwards from tuple1"
   ]
  },
  {
   "cell_type": "code",
   "execution_count": 6,
   "id": "ca44879d",
   "metadata": {},
   "outputs": [
    {
     "name": "stdout",
     "output_type": "stream",
     "text": [
      "the last item is:  (5, 15, 25)\n"
     ]
    }
   ],
   "source": [
    "print(\"the last item is: \", last_item) "
   ]
  },
  {
   "cell_type": "markdown",
   "id": "958ea035",
   "metadata": {},
   "source": [
    "3. Change the value \"orange\" for \"pink grapefruit\""
   ]
  },
  {
   "cell_type": "code",
   "execution_count": 7,
   "id": "a7b0ff41",
   "metadata": {},
   "outputs": [
    {
     "ename": "TypeError",
     "evalue": "'tuple' object does not support item assignment",
     "output_type": "error",
     "traceback": [
      "\u001b[1;31m---------------------------------------------------------------------------\u001b[0m",
      "\u001b[1;31mTypeError\u001b[0m                                 Traceback (most recent call last)",
      "Cell \u001b[1;32mIn[7], line 1\u001b[0m\n\u001b[1;32m----> 1\u001b[0m tuple1[\u001b[38;5;241m0\u001b[39m]\u001b[38;5;241m=\u001b[39m \u001b[38;5;124m\"\u001b[39m\u001b[38;5;124mpink grapefruit\u001b[39m\u001b[38;5;124m\"\u001b[39m\n",
      "\u001b[1;31mTypeError\u001b[0m: 'tuple' object does not support item assignment"
     ]
    }
   ],
   "source": [
    "tuple1[0]= \"pink grapefruit\" #attempt to change the first item of the tuple1 "
   ]
  },
  {
   "cell_type": "code",
   "execution_count": null,
   "id": "723ca3e9",
   "metadata": {},
   "outputs": [],
   "source": [
    "print(tuple1)"
   ]
  },
  {
   "cell_type": "code",
   "execution_count": null,
   "id": "7d1b1ce0",
   "metadata": {},
   "outputs": [],
   "source": [
    "###This is a error because tuples are inmutable,this means it cannot be changed"
   ]
  },
  {
   "cell_type": "markdown",
   "id": "778bb964",
   "metadata": {},
   "source": [
    "4. Print the length of tuple1"
   ]
  },
  {
   "cell_type": "code",
   "execution_count": 9,
   "id": "23df2581",
   "metadata": {},
   "outputs": [],
   "source": [
    "length = len(tuple1) #create new object that is the length of the tuple1"
   ]
  },
  {
   "cell_type": "code",
   "execution_count": 10,
   "id": "4c8248f8",
   "metadata": {},
   "outputs": [
    {
     "name": "stdout",
     "output_type": "stream",
     "text": [
      "the lengh of tuple1 is: 3\n"
     ]
    }
   ],
   "source": [
    "print(\"the lengh of tuple1 is:\", length)"
   ]
  },
  {
   "cell_type": "markdown",
   "id": "8c766886",
   "metadata": {},
   "source": [
    "5. Sum all the elements of tuple2 and describe the steps"
   ]
  },
  {
   "cell_type": "code",
   "execution_count": 11,
   "id": "3f07f6f2",
   "metadata": {},
   "outputs": [],
   "source": [
    "sum_tuple2= sum(list(map(sum,tuple2))) #new object named sum_tuple"
   ]
  },
  {
   "cell_type": "code",
   "execution_count": 12,
   "id": "e04ebfa2",
   "metadata": {},
   "outputs": [
    {
     "name": "stdout",
     "output_type": "stream",
     "text": [
      "the answer is: 42\n"
     ]
    }
   ],
   "source": [
    "print(\"the answer is:\", sum_tuple2)"
   ]
  },
  {
   "cell_type": "code",
   "execution_count": 13,
   "id": "5acc1ca5",
   "metadata": {},
   "outputs": [],
   "source": [
    "#the fist line creates a new object named sum_tuple2 then i used 'map' to sum each item in tuple2, \n",
    "#so we get 3 partial sums this gives us a map object than later is changed to a list with the function 'list'\n",
    "#this allows to sum the partial sums with the function 'sum' finally i print the answer"
   ]
  },
  {
   "cell_type": "markdown",
   "id": "377c20d1",
   "metadata": {},
   "source": [
    "6. Generate a new tuple object named as `tuple3` with the half values of `tuple2`. This tuple should be similar as `tuple2`, tuple of lists.  **Hint: Use `map` funciont.**<br><br>"
   ]
  },
  {
   "cell_type": "code",
   "execution_count": 1,
   "id": "a68f9145",
   "metadata": {},
   "outputs": [],
   "source": [
    "tuple1 = (\"Orange\", [10, 20, 30], (5, 15, 25))\n",
    "tuple2 = ([7, 8], [9, 1], [10, 7])"
   ]
  },
  {
   "cell_type": "code",
   "execution_count": 2,
   "id": "2f11450a",
   "metadata": {},
   "outputs": [
    {
     "name": "stdout",
     "output_type": "stream",
     "text": [
      "([7, 8], [9, 1], [10, 7])\n",
      "([3.5, 4.0], [4.5, 0.5], [5.0, 3.5])\n"
     ]
    }
   ],
   "source": [
    "# Obtain half values of tuple2\n",
    "tuple3 = tuple(map(lambda lista: list(map(lambda x: x / 2, lista)), tuple2)) \n",
    "\n",
    "# First we obtain half of each element of the lists \n",
    "# Then generate tuple3 with the new lists.\n",
    "\n",
    "# Print the results\n",
    "print(tuple2)\n",
    "print(tuple3)"
   ]
  },
  {
   "cell_type": "markdown",
   "id": "469a11ec",
   "metadata": {},
   "source": [
    "## 1.2. Lists"
   ]
  },
  {
   "cell_type": "code",
   "execution_count": 4,
   "id": "6a54d8f9",
   "metadata": {},
   "outputs": [],
   "source": [
    "import numpy as np"
   ]
  },
  {
   "cell_type": "code",
   "execution_count": 5,
   "id": "8cb1f9e7",
   "metadata": {},
   "outputs": [],
   "source": [
    "f_list = [np.nan , np.nan, \"Austria\", \"Germany\", np.nan, \"Pakistan\", \"np.nan\", np.nan ]"
   ]
  },
  {
   "cell_type": "code",
   "execution_count": 10,
   "id": "d7318c5e",
   "metadata": {},
   "outputs": [],
   "source": [
    "text1 = ['My', 'teacher', 'assistant', 'is', 'so', 'boring.']"
   ]
  },
  {
   "cell_type": "code",
   "execution_count": 7,
   "id": "ef412a1e",
   "metadata": {},
   "outputs": [],
   "source": [
    "p2_list = [ 2 , 3, 4, 5 ]"
   ]
  },
  {
   "cell_type": "code",
   "execution_count": 7,
   "id": "a939876d",
   "metadata": {},
   "outputs": [],
   "source": [
    "values1 = [ 86, 86, 85, 85, 85, 83, 23, 0, 84, 1 ] "
   ]
  },
  {
   "cell_type": "code",
   "execution_count": 12,
   "id": "1993a5f8",
   "metadata": {},
   "outputs": [],
   "source": [
    "# These two lists a\n",
    "last_and_name = [ \"CORNEJO SANCHEZ, CHRISTIAN SANTOS\", \"ORELLANA QUISPE, CRISTIAN NASSER\", \"MORALES CHOQUEHUANCA, ANGELICA KARINA\", \"GUIMARAY RIBEYRO, JOSE ROBERTO\", \"CAMACHO GAVIDIA, ABEL FERNANDO\", \"TINTAYA ORIHUELA, MEIR ALVARO\", \"CHAVEZ MARTINEZ, JOSELIN ALEXANDRA\", \"FIGUEROA MURO, LEONEL ARTURO\", \"GOMEZ CRIBILLERO, JOSE FELIPE\", \"PALOMINO SEGUÍN, AFRANIA\", \"LUZON CUEVA, BIANCA MARIETTE\", \"SUAÑA ZEGARRA, ADRIAN ANDRE\", \"SOTO POMACHAGUA, DORKAS YOMIRA JHERMY\", \"FIORENTINO MARTINEZ, LADY ALY\", \"LAMA MAVILA, HECTOR ANDRE\", \"MEZA HINOJO, GUSTAVO\", \"LOZADA MURILLO, PERSEO MARCELO\", \"ZAMBRANO JIMENEZ, MIGUEL ALONZO\", \"JACOBS LUQUE, NICOLAS\", \"VIDAL VIDAL, ROCIO GABRIELA\", \"TORRES ANICAMA, JANE CAMILA\", \"LOPEZ ESTRADA, MARIA ELISA\", \"BOYCO ORAMS, ALEJANDRO\", \"DIAZ BERROSPI, KARLINE ROSMELI\", \"RIEGA ESCALANTE, STEPHY ROSARIO\", \"LEVANO TORRES, VALERIA CECILIA\", \"ESQUIVES BRAVO, SEBASTIAN RENATO\", \"PEREZ GONZALES, JUAN CARLOS\", \"OTERO MAGUIÑA, MARIANA\", \"CLAVO CAMPOS, ANDREA BRIZETH\", \"AGUILAR GARCIA, ERICK JOSUE\", \"CALDAS VELASQUEZ, JOSUE DANIEL\", \"SALAS NUÑEZ BORJA, FABIO MANUEL\", \"PIZARRO VILLANES, FERNANDA NICOLLE\", \"QUILLATUPA MORALES, ANGELA ADELINA\", \"HUANCAYA IDONE, CESAR DANTE\", \"CALVO PORTOCARRERO, GABRIELA ISABEL\", \"IBAÑEZ ABANTO, ANGEL MAURICIO\", \"MELÉNDEZ APONTE, JUAN DIEGO\", \"CRISTIAN SERRANO, ARONE\", \"HINOJOSA CAHUANA, PERCY ALBERTH\", \"ANGLAS GARCÍA, KEVIN ARTURO\", \"ALDAVE ACOSTA, CESAR ERNESTO\", \"NÚÑEZ HUAMÁN, CÉSAR AGUSTO\", \"OBREGON HUAMAN, DIANA EDITH\", \"SOTO PACHERRES, RODRIGO FRANCO\", \"INGARUCA RIVERA, GRETTEL ALEXANDRA\", \"ROJAS HUAMAN, ROSA ANGELA\", \"NEYRA SALAS, DANTE OMAR\", \"HUERTA ESPINOZA, YAJAIRA ALEXANDRA\", \"HUANCA MARTINEZ, JORGE ALBERTO\", \"FLORES CADILLO, ALEXIS\" ]\n",
    "emails = [\"cscornejo@pucp.edu.pe\", \"orellana.cn@pucp.edu.pe\", \"karina.morales@pucp.edu.pe\", \"a20083223@pucp.pe\", \"abel.camacho@pucp.pe\", \"mtintaya@pucp.edu.pe\", \"joselin.chavez@pucp.edu.pe\", \"a20105737@pucp.pe\", \"jfgomezc@pucp.pe\", \"afrania.palomino@pucp.pe\", \"luzon.bianca@pucp.pe\", \"adrian.suanaz@pucp.pe\", \"soto.y@pucp.edu.pe\", \"a20132766@pucp.pe\", \"andre.lama@pucp.edu.pe\", \"gustavo.meza@pucp.edu.pe\", \"pmlozada@pucp.edu.pe\", \"m.zambranoj@pucp.edu.pe\", \"nicolas.jacobs@pucp.edu.pe\", \"gvidal@pucp.edu.pe\", \"jane.torres@pucp.edu.pe\", \"m.lopez@pucp.edu.pe\", \"alejandro.boyco@pucp.edu.pe\", \"a20167070@pucp.edu.pe\", \"riega.stephy@pucp.edu.pe\", \"vlevanot@pucp.edu.pe\", \"sesquives@pucp.edu.pe\", \"perez.juanc@pucp.edu.pe\", \"mariana.otero@pucp.edu.pe\", \"aclavo@pucp.edu.pe\", \"a20182474@pucp.edu.pe\", \"josue.caldas@pucp.edu.pe\", \"fabio.salas@pucp.edu.pe\", \"fernanda.pizarro@pucp.edu.pe\", \"aquillatupa@pucp.pe\", \"\", \"\", \"\", \"\", \"\", \"f0873079@pucp.edu.pe\", \"\", \"\", \"\", \"\", \"\", \"\", \"\", \"\", \"\", \"\", \"flores.alexis@pucp.edu.pe\", ]"
   ]
  },
  {
   "cell_type": "markdown",
   "id": "c6becc2f",
   "metadata": {},
   "source": [
    "1. Show the indices of the `np.nan` values  in the `f_list` list. We want to see this output: `The indices 0, 1, 4, 7 have np.nan values.` **Hint: Use print function and [f-strings](https://realpython.com/python-f-strings/) to insert the indices values.**<br><br>"
   ]
  },
  {
   "cell_type": "code",
   "execution_count": 6,
   "id": "176ce08d",
   "metadata": {},
   "outputs": [
    {
     "name": "stdout",
     "output_type": "stream",
     "text": [
      "The indices 0, 1, 4, 6, 7 have np.nan values.\n"
     ]
    }
   ],
   "source": [
    "# Use list comprehension to find indices of np.nan values\n",
    "nan_indices = [i for i, value in enumerate(f_list) if isinstance(value, float) and np.isnan(value)]\n",
    "\n",
    "# Check if there are any np.nan values and print the result\n",
    "if nan_indices:\n",
    "    print(f\"The indices {', '.join(map(str, nan_indices))} have np.nan values.\")\n",
    "else:\n",
    "    print(\"No np.nan values found in the list.\")"
   ]
  },
  {
   "cell_type": "markdown",
   "id": "6447af06",
   "metadata": {},
   "source": [
    "2. Replicate 4 times the values of the list `p2_list`. We expect an ouput like this: `[ 2 , 3, 4, 5, 2 , 3, 4, 5, 2 , 3, 4, 5, 2 , 3, 4, 5]`.  **Hint: Use multiplication function in `lists`and see the output.**<br><br>"
   ]
  },
  {
   "cell_type": "code",
   "execution_count": 8,
   "id": "7f9660ef",
   "metadata": {},
   "outputs": [
    {
     "name": "stdout",
     "output_type": "stream",
     "text": [
      "[2, 3, 4, 5, 2, 3, 4, 5, 2, 3, 4, 5, 2, 3, 4, 5]\n"
     ]
    }
   ],
   "source": [
    "# Replicate list 4 times\n",
    "list_replication = p2_list * 4 \n",
    "\n",
    "#Print results\n",
    "print(list_replication)"
   ]
  },
  {
   "cell_type": "markdown",
   "id": "9cc74833",
   "metadata": {},
   "source": [
    "3. Print the length of `f_list`. **Hint: Length function**<br><br>"
   ]
  },
  {
   "cell_type": "code",
   "execution_count": 9,
   "id": "0ec5387d",
   "metadata": {},
   "outputs": [
    {
     "name": "stdout",
     "output_type": "stream",
     "text": [
      "The length of f_list is: 8\n"
     ]
    }
   ],
   "source": [
    "# Print the length of the f_list\n",
    "print(f\"The length of f_list is: {len(f_list)}\")"
   ]
  },
  {
   "cell_type": "markdown",
   "id": "9eb79318",
   "metadata": {},
   "source": [
    "4. Print `My teacher assistant is so boring.` using `text1` list. **Hint: Use the [`join` function](https://stackoverflow.com/questions/493819/why-is-it-string-joinlist-instead-of-list-joinstring)**<br><br>\n"
   ]
  },
  {
   "cell_type": "code",
   "execution_count": 13,
   "id": "14bbc8f3",
   "metadata": {},
   "outputs": [
    {
     "name": "stdout",
     "output_type": "stream",
     "text": [
      "My teacher assistant is so boring.\n"
     ]
    }
   ],
   "source": [
    "# join text1 using join function, to join with spaces\n",
    "new_text =' '.join(text1) \n",
    "\n",
    "#Print results\n",
    "print(new_text)"
   ]
  },
  {
   "cell_type": "markdown",
   "id": "acbb2e07",
   "metadata": {},
   "source": [
    "5. Print My TA is so boring, but is very funny. using text1 list.Hint: Use the join function, and extend method."
   ]
  },
  {
   "cell_type": "code",
   "execution_count": 90,
   "id": "adc851f8",
   "metadata": {},
   "outputs": [
    {
     "name": "stdout",
     "output_type": "stream",
     "text": [
      "My teacher assistant is so boring, but is very funny\n"
     ]
    }
   ],
   "source": [
    "text1 = ['My', 'teacher', 'assistant', 'is', 'so', 'boring.'] \n",
    "text2 = ['My', 'teacher', 'assistant', 'is', 'so', 'boring,'] #creamos la lista \"texto2\" en la que se quita el punto, para colocarle una coma con el fin de crear la oración completa\n",
    "text9 = ['but', 'is', 'very', 'funny'] #se crea la lista \"text9\", la cual contiene lasegunda parte de la oración\n",
    "\n",
    "text2.extend(text9) #se utiliza la función extend para agregar las palabras faltantes a a text2\n",
    "\n",
    "' '.join(text2) #se utiliza la función join para crear una oración continua, separada por \" \" (espacios)\n",
    "\n",
    "n5 = ' '.join(text2) #se crea \"n5\", contiene la oración completa\n",
    "print(n5)"
   ]
  },
  {
   "cell_type": "markdown",
   "id": "9b9f8fcc",
   "metadata": {},
   "source": [
    "6. Print\n",
    "\n",
    "    * The max value of values1 is 86 and is located in the 0 index.\n",
    "    * The min value of values1 is 0 and is located in the 7 index.\n",
    "        * Hint: Use the f-string, min, and max functions."
   ]
  },
  {
   "cell_type": "code",
   "execution_count": 52,
   "id": "4720dab5",
   "metadata": {},
   "outputs": [
    {
     "name": "stdout",
     "output_type": "stream",
     "text": [
      "The max value of values is 86 and is located in the 0 index.\n",
      "The max value of values is 0 and is located in the 7 index.\n"
     ]
    }
   ],
   "source": [
    "values1 = [ 86, 86, 85, 85, 85, 83, 23, 0, 84, 1 ] \n",
    "\n",
    "text_a = max(values1) #con el comando max hallamos el máximo valor en la lista \"values1\"\n",
    "text_b = values1.index(max(values1)) #con el comando index hallamos la posición \n",
    "text_c = min(values1) #con el comando min hallamos el mínimo valor de la values1\n",
    "text_d = values1.index(min(values1)) #encontramos la posición del mínimo valor\n",
    "\n",
    "print(f\"The max value of values is {text_a} and is located in the {text_b} index.\") #mostramos la oración completa utilizando f-string \n",
    "print(f\"The max value of values is {text_c} and is located in the {text_d} index.\")"
   ]
  },
  {
   "cell_type": "markdown",
   "id": "2eec4b3d",
   "metadata": {},
   "source": [
    "7. Get two lists: `names` and `last_names` using `last_and_name` list. **Hint: Use `map` and `split`.**"
   ]
  },
  {
   "cell_type": "code",
   "execution_count": 86,
   "id": "96024f44",
   "metadata": {},
   "outputs": [
    {
     "name": "stdout",
     "output_type": "stream",
     "text": [
      "['CHRISTIAN SANTOS', 'CRISTIAN NASSER', 'ANGELICA KARINA', 'JOSE ROBERTO', 'ABEL FERNANDO', 'MEIR ALVARO', 'JOSELIN ALEXANDRA', 'LEONEL ARTURO', 'JOSE FELIPE', 'AFRANIA', 'BIANCA MARIETTE', 'ADRIAN ANDRE', 'DORKAS YOMIRA JHERMY', 'LADY ALY', 'HECTOR ANDRE', 'GUSTAVO', 'PERSEO MARCELO', 'MIGUEL ALONZO', 'NICOLAS', 'ROCIO GABRIELA', 'JANE CAMILA', 'MARIA ELISA', 'ALEJANDRO', 'KARLINE ROSMELI', 'STEPHY ROSARIO', 'VALERIA CECILIA', 'SEBASTIAN RENATO', 'JUAN CARLOS', 'MARIANA', 'ANDREA BRIZETH', 'ERICK JOSUE', 'JOSUE DANIEL', 'FABIO MANUEL', 'FERNANDA NICOLLE', 'ANGELA ADELINA', 'CESAR DANTE', 'GABRIELA ISABEL', 'ANGEL MAURICIO', 'JUAN DIEGO', 'ARONE', 'PERCY ALBERTH', 'KEVIN ARTURO', 'CESAR ERNESTO', 'CÉSAR AGUSTO', 'DIANA EDITH', 'RODRIGO FRANCO', 'GRETTEL ALEXANDRA', 'ROSA ANGELA', 'DANTE OMAR', 'YAJAIRA ALEXANDRA', 'JORGE ALBERTO', 'ALEXIS']\n",
      "['CORNEJO SANCHEZ', 'ORELLANA QUISPE', 'MORALES CHOQUEHUANCA', 'GUIMARAY RIBEYRO', 'CAMACHO GAVIDIA', 'TINTAYA ORIHUELA', 'CHAVEZ MARTINEZ', 'FIGUEROA MURO', 'GOMEZ CRIBILLERO', 'PALOMINO SEGUÍN', 'LUZON CUEVA', 'SUAÑA ZEGARRA', 'SOTO POMACHAGUA', 'FIORENTINO MARTINEZ', 'LAMA MAVILA', 'MEZA HINOJO', 'LOZADA MURILLO', 'ZAMBRANO JIMENEZ', 'JACOBS LUQUE', 'VIDAL VIDAL', 'TORRES ANICAMA', 'LOPEZ ESTRADA', 'BOYCO ORAMS', 'DIAZ BERROSPI', 'RIEGA ESCALANTE', 'LEVANO TORRES', 'ESQUIVES BRAVO', 'PEREZ GONZALES', 'OTERO MAGUIÑA', 'CLAVO CAMPOS', 'AGUILAR GARCIA', 'CALDAS VELASQUEZ', 'SALAS NUÑEZ BORJA', 'PIZARRO VILLANES', 'QUILLATUPA MORALES', 'HUANCAYA IDONE', 'CALVO PORTOCARRERO', 'IBAÑEZ ABANTO', 'MELÉNDEZ APONTE', 'CRISTIAN SERRANO', 'HINOJOSA CAHUANA', 'ANGLAS GARCÍA', 'ALDAVE ACOSTA', 'NÚÑEZ HUAMÁN', 'OBREGON HUAMAN', 'SOTO PACHERRES', 'INGARUCA RIVERA', 'ROJAS HUAMAN', 'NEYRA SALAS', 'HUERTA ESPINOZA', 'HUANCA MARTINEZ', 'FLORES CADILLO']\n"
     ]
    }
   ],
   "source": [
    "last_and_name = [ \"CORNEJO SANCHEZ, CHRISTIAN SANTOS\", \"ORELLANA QUISPE, CRISTIAN NASSER\", \"MORALES CHOQUEHUANCA, ANGELICA KARINA\", \"GUIMARAY RIBEYRO, JOSE ROBERTO\", \"CAMACHO GAVIDIA, ABEL FERNANDO\", \"TINTAYA ORIHUELA, MEIR ALVARO\", \"CHAVEZ MARTINEZ, JOSELIN ALEXANDRA\", \"FIGUEROA MURO, LEONEL ARTURO\", \"GOMEZ CRIBILLERO, JOSE FELIPE\", \"PALOMINO SEGUÍN, AFRANIA\", \"LUZON CUEVA, BIANCA MARIETTE\", \"SUAÑA ZEGARRA, ADRIAN ANDRE\", \"SOTO POMACHAGUA, DORKAS YOMIRA JHERMY\", \"FIORENTINO MARTINEZ, LADY ALY\", \"LAMA MAVILA, HECTOR ANDRE\", \"MEZA HINOJO, GUSTAVO\", \"LOZADA MURILLO, PERSEO MARCELO\", \"ZAMBRANO JIMENEZ, MIGUEL ALONZO\", \"JACOBS LUQUE, NICOLAS\", \"VIDAL VIDAL, ROCIO GABRIELA\", \"TORRES ANICAMA, JANE CAMILA\", \"LOPEZ ESTRADA, MARIA ELISA\", \"BOYCO ORAMS, ALEJANDRO\", \"DIAZ BERROSPI, KARLINE ROSMELI\", \"RIEGA ESCALANTE, STEPHY ROSARIO\", \"LEVANO TORRES, VALERIA CECILIA\", \"ESQUIVES BRAVO, SEBASTIAN RENATO\", \"PEREZ GONZALES, JUAN CARLOS\", \"OTERO MAGUIÑA, MARIANA\", \"CLAVO CAMPOS, ANDREA BRIZETH\", \"AGUILAR GARCIA, ERICK JOSUE\", \"CALDAS VELASQUEZ, JOSUE DANIEL\", \"SALAS NUÑEZ BORJA, FABIO MANUEL\", \"PIZARRO VILLANES, FERNANDA NICOLLE\", \"QUILLATUPA MORALES, ANGELA ADELINA\", \"HUANCAYA IDONE, CESAR DANTE\", \"CALVO PORTOCARRERO, GABRIELA ISABEL\", \"IBAÑEZ ABANTO, ANGEL MAURICIO\", \"MELÉNDEZ APONTE, JUAN DIEGO\", \"CRISTIAN SERRANO, ARONE\", \"HINOJOSA CAHUANA, PERCY ALBERTH\", \"ANGLAS GARCÍA, KEVIN ARTURO\", \"ALDAVE ACOSTA, CESAR ERNESTO\", \"NÚÑEZ HUAMÁN, CÉSAR AGUSTO\", \"OBREGON HUAMAN, DIANA EDITH\", \"SOTO PACHERRES, RODRIGO FRANCO\", \"INGARUCA RIVERA, GRETTEL ALEXANDRA\", \"ROJAS HUAMAN, ROSA ANGELA\", \"NEYRA SALAS, DANTE OMAR\", \"HUERTA ESPINOZA, YAJAIRA ALEXANDRA\", \"HUANCA MARTINEZ, JORGE ALBERTO\", \"FLORES CADILLO, ALEXIS\" ]\n",
    "\n",
    "\n",
    "nombres_apellidos = map(lambda nala: nala.split(\", \"), last_and_name) #se utiliza lambda y split para separar a cada nombre y apellido por \", \"\n",
    "na_la = list(nombres_apellidos) #se convierte a lista con los nombres y apellidos, dentro cada elemento tiene una sublista con el nombre y apellido por separado\n",
    "\n",
    "names = map(lambda name: name[1], na_la) #se utiliza map nuevamente para seleccionar el segundo elemento de cada lista, el cual es el nombre\n",
    "names = list(names) #se convierte a lista todos los nombres\n",
    "\n",
    "last_names = map(lambda last_name: last_name[0], na_la) #se utiliza map para seleccionar el primer elemento de la lista, aquì están los apellidos\n",
    "last_names = list(last_names) #los apellidos están dentro de una nueva lista\n",
    "\n",
    "print(names) #se muestran los nombres en la lista\n",
    "print(last_names) #apellidos en otra lista"
   ]
  },
  {
   "cell_type": "markdown",
   "id": "c6ca47e7",
   "metadata": {},
   "source": [
    "## 1.3. Strings"
   ]
  },
  {
   "cell_type": "code",
   "execution_count": 1,
   "id": "4ba1cbd5",
   "metadata": {},
   "outputs": [],
   "source": [
    "str1 = 'I am                            too                                                        old'"
   ]
  },
  {
   "cell_type": "code",
   "execution_count": 2,
   "id": "7149f211",
   "metadata": {},
   "outputs": [],
   "source": [
    "emails = [\"cscornejo@pucp.edu.pe\", \"orellana.cn@pucp.edu.pe\", \"karina.morales@pucp.edu.pe\", \"a20083223@pucp.pe\", \"abel.camacho@pucp.pe\", \"mtintaya@pucp.edu.pe\", \"joselin.chavez@pucp.edu.pe\", \"a20105737@pucp.pe\", \"jfgomezc@pucp.pe\", \"afrania.palomino@pucp.pe\", \"luzon.bianca@pucp.pe\", \"adrian.suanaz@pucp.pe\", \"soto.y@pucp.edu.pe\", \"a20132766@pucp.pe\", \"andre.lama@pucp.edu.pe\", \"gustavo.meza@pucp.edu.pe\", \"pmlozada@pucp.edu.pe\", \"m.zambranoj@pucp.edu.pe\", \"nicolas.jacobs@pucp.edu.pe\", \"gvidal@pucp.edu.pe\", \"jane.torres@pucp.edu.pe\", \"m.lopez@pucp.edu.pe\", \"alejandro.boyco@pucp.edu.pe\", \"a20167070@pucp.edu.pe\", \"riega.stephy@pucp.edu.pe\", \"vlevanot@pucp.edu.pe\", \"sesquives@pucp.edu.pe\", \"perez.juanc@pucp.edu.pe\", \"mariana.otero@pucp.edu.pe\", \"aclavo@pucp.edu.pe\", \"a20182474@pucp.edu.pe\", \"josue.caldas@pucp.edu.pe\", \"fabio.salas@pucp.edu.pe\", \"fernanda.pizarro@pucp.edu.pe\", \"aquillatupa@pucp.pe\"]"
   ]
  },
  {
   "cell_type": "markdown",
   "id": "3eae6bf2",
   "metadata": {},
   "source": [
    "1. Drop the duplicated blank spaces in str1. Do not use the regular expresions. Do not use the code shown in class. Explain your steps.Hint: Use split method and join function."
   ]
  },
  {
   "cell_type": "code",
   "execution_count": 94,
   "id": "29952dce",
   "metadata": {},
   "outputs": [
    {
     "name": "stdout",
     "output_type": "stream",
     "text": [
      "I am too old\n"
     ]
    }
   ],
   "source": [
    "str1new = str1.split() #se utiliza split para eliminar los espacios en blanco porque representan delimitadores para el comando\n",
    "str1new \n",
    "\n",
    "str1new2 = \" \".join(str1new) #se utiliza join para unir las palabras, pero con un espacio \" \"\n",
    "print(str1new2)"
   ]
  },
  {
   "cell_type": "markdown",
   "id": "dce359f6",
   "metadata": {},
   "source": [
    "2. Get the number of letters in the string. **Hint: Use `len` function.**"
   ]
  },
  {
   "cell_type": "code",
   "execution_count": 3,
   "id": "dce1f3e0",
   "metadata": {},
   "outputs": [
    {
     "data": {
      "text/plain": [
       "9"
      ]
     },
     "execution_count": 3,
     "metadata": {},
     "output_type": "execute_result"
    }
   ],
   "source": [
    "##Getting the number of letters in the string\n",
    "resultado = str1.split()##split function divides the string into a list of substrings using the whitespace as a delimiter.\n",
    "len(''.join(resultado)) ##Join function concatenates elements of the list with the delimiter (a space in this case). Then, len function is used to get the number of characters in the string resultado, which is 9 (without spaces and punctuation)"
   ]
  },
  {
   "cell_type": "markdown",
   "id": "9feaf9ed",
   "metadata": {},
   "source": [
    "3. Get the number of blank spaces (all of them) in the string. **Hint: Use `len` function.**"
   ]
  },
  {
   "cell_type": "code",
   "execution_count": 4,
   "id": "eb706fd5",
   "metadata": {},
   "outputs": [
    {
     "data": {
      "text/plain": [
       "85"
      ]
     },
     "execution_count": 4,
     "metadata": {},
     "output_type": "execute_result"
    }
   ],
   "source": [
    "##Getting the number of blank spaces (all of them) in the string\n",
    "totalstr1 = len(str1) ##getting the number of the all of the characters in the string str1(including spaces)\n",
    "resultado = str1.split() ##we use split to remove the blank spaces on str1\n",
    "totalLetras = len(''.join(resultado)) ## Then, we get only the number of letters in resultado\n",
    "totalstr1 - totalLetras ##Finally, subtract the number of letters from the all of the characters in str1"
   ]
  },
  {
   "cell_type": "markdown",
   "id": "13a08079",
   "metadata": {},
   "source": [
    "4. Get the position of `@` in each string in the emails list. **Hint: Use  `map` function and `find` method.**"
   ]
  },
  {
   "cell_type": "code",
   "execution_count": 5,
   "id": "3a06c104",
   "metadata": {},
   "outputs": [
    {
     "name": "stdout",
     "output_type": "stream",
     "text": [
      "[9, 11, 14, 9, 12, 8, 14, 9, 8, 16, 12, 13, 6, 9, 10, 12, 8, 11, 14, 6, 11, 7, 15, 9, 12, 8, 9, 11, 13, 6, 9, 12, 11, 16, 11]\n"
     ]
    }
   ],
   "source": [
    "##3.4 Get the position of @ in each string in the emails list. Hint: Use mapfunction and find method.\n",
    "def buscarArroba (cadena):\n",
    "  return cadena.find('@')##Find the position of @\n",
    "\n",
    "result = map(buscarArroba, emails) ##This code will define a function that finds the position, then using map() to apply that function to each item in the emails list\n",
    "print(list(result))"
   ]
  },
  {
   "cell_type": "markdown",
   "id": "11a20e8d",
   "metadata": {},
   "source": [
    "5. Identifies if exists `.edu.` in each string in the `emails` list. Get a list of Booleans. **Hint: Use `map` function and `find` method.**"
   ]
  },
  {
   "cell_type": "code",
   "execution_count": 6,
   "id": "2ecc7a35",
   "metadata": {},
   "outputs": [
    {
     "name": "stdout",
     "output_type": "stream",
     "text": [
      "[True, True, True, False, False, True, True, False, False, False, False, False, True, False, True, True, True, True, True, True, True, True, True, True, True, True, True, True, True, True, True, True, True, True, False]\n"
     ]
    }
   ],
   "source": [
    "#3.5 Check if there are any .edu. and returns if the result exists with true or false using map() applying that function to each item in the emails list\n",
    "def buscarEdu(cadena):\n",
    "  if cadena.find('.edu.') != -1 :\n",
    "    return True\n",
    "  else:\n",
    "    return False\n",
    "\n",
    "result = map(buscarEdu, emails)\n",
    "print(list(result))"
   ]
  },
  {
   "cell_type": "markdown",
   "id": "73c1ea2d",
   "metadata": {},
   "source": [
    "6. Get all the strings before the first dot `.` in each string in the `emails` list. Identifies how many of them has `@`. **Hint: Use `map` function and `find` method.**"
   ]
  },
  {
   "cell_type": "code",
   "execution_count": 7,
   "id": "0d6e1d94",
   "metadata": {},
   "outputs": [
    {
     "name": "stdout",
     "output_type": "stream",
     "text": [
      "The number of strings that have @ before the first dot is 14\n"
     ]
    }
   ],
   "source": [
    "##3.6 Get all the strings before the first dot .in each string in the emails list. Identifies how many of them has @. Hint: Use mapfunction and find method.\n",
    "def buscarPunto(cadena):\n",
    "    return cadena.find('.')##Find the position of the first dot in the string and return the position of the point or -1 if not found\n",
    "\n",
    "def buscarArrobaAntesDelPunto(cadena):\n",
    "    end = buscarPunto(cadena)\n",
    "    nueva_cadena = cadena[0:end]\n",
    "    if buscarArroba(nueva_cadena) != -1:##Searches for the position of the first @ in the string and returns the position of the at or -1 if not found.\n",
    "        return True\n",
    "    else:\n",
    "        return False\n",
    "\n",
    "def buscarArroba(cadena):\n",
    "    return cadena.find('@')\n",
    "\n",
    "result = map(buscarArrobaAntesDelPunto, emails) ##Using map to apply the function buscarArrobaAntesDelPunto to each element of the list emails and the result is an iterator containing True or False values depending on whether there is an arrow before the dot.\n",
    "\n",
    "# Count the number of True in the result\n",
    "conteo_true = sum(result) ## We use sum to count the number of True values in the result iterator.\n",
    "\n",
    "print(\"The number of strings that have @ before the first dot is\", conteo_true)\n"
   ]
  }
 ],
 "metadata": {
  "kernelspec": {
   "display_name": "Python 3 (ipykernel)",
   "language": "python",
   "name": "python3"
  },
  "language_info": {
   "codemirror_mode": {
    "name": "ipython",
    "version": 3
   },
   "file_extension": ".py",
   "mimetype": "text/x-python",
   "name": "python",
   "nbconvert_exporter": "python",
   "pygments_lexer": "ipython3",
   "version": "3.11.5"
  }
 },
 "nbformat": 4,
 "nbformat_minor": 5
}
