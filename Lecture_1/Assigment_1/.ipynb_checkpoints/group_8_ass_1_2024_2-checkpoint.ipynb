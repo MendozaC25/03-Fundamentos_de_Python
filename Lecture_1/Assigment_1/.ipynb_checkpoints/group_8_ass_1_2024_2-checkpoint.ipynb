{
 "cells": [
  {
   "cell_type": "markdown",
   "id": "207238fa-278e-4f57-a1e4-ffaaa85e7e6c",
   "metadata": {},
   "source": [
    "# My favorite song"
   ]
  },
  {
   "cell_type": "raw",
   "id": "df149445-f9e8-4966-a804-4d2008a22392",
   "metadata": {
    "jp-MarkdownHeadingCollapsed": true
   },
   "source": [
    "Fernando Mendoza : \"Space Oddity-David Bowie\" \n",
    "Ground Control to Major Tom\n",
    "Ground Control to Major Tom\n",
    "Take your protein pills and put your helmet on\n",
    "\n",
    "Ground Control to Major Tom\n",
    "Commencing countdown, engines on\n",
    "Check ignition and may God's love be with you\n",
    "\n",
    "Ten, Nine, Eight, Seven, Six, Five, Four, Three, Two, One, Lift off\n",
    "\n",
    "This is Ground Control to Major Tom\n",
    "You've really made the grade\n",
    "And the papers want to know whose shirts you wear\n",
    "Now it's time to leave the capsule if you dare\n",
    "\n",
    "This is Major Tom to Ground Control\n",
    "I'm stepping through the door\n",
    "And I'm floating in a most peculiar way\n",
    "And the stars look very different today\n",
    "\n",
    "For here\n",
    "Am I sitting in a tin can\n",
    "Far above the world\n",
    "Planet Earth is blue\n",
    "And there's nothing I can do\n",
    "\n",
    "Though I'm past one hundred thousand miles\n",
    "I'm feeling very still\n",
    "And I think my spaceship knows which way to go\n",
    "Tell my wife I love her very much she knows\n",
    "\n",
    "Ground Control to Major Tom\n",
    "Your circuit's dead, there's something wrong\n",
    "Can you hear me, Major Tom?\n",
    "Can you hear me, Major Tom?\n",
    "Can you hear me, Major Tom?\n",
    "Can you...\n",
    "\n",
    "Here am I floating round my tin can\n",
    "Far above the Moon\n",
    "Planet Earth is blue\n",
    "And there's nothing I can do"
   ]
  },
  {
   "cell_type": "raw",
   "id": "e6707805-39b7-4839-a983-6985c9e88590",
   "metadata": {},
   "source": []
  },
  {
   "cell_type": "raw",
   "id": "346d565b-36e4-4d44-bbef-2377a053e8d8",
   "metadata": {},
   "source": []
  },
  {
   "cell_type": "raw",
   "id": "8be5610a-89ec-42d1-99d5-c88d5e9d78dc",
   "metadata": {},
   "source": []
  }
 ],
 "metadata": {
  "kernelspec": {
   "display_name": "Python 3 (ipykernel)",
   "language": "python",
   "name": "python3"
  },
  "language_info": {
   "codemirror_mode": {
    "name": "ipython",
    "version": 3
   },
   "file_extension": ".py",
   "mimetype": "text/x-python",
   "name": "python",
   "nbconvert_exporter": "python",
   "pygments_lexer": "ipython3",
   "version": "3.11.5"
  }
 },
 "nbformat": 4,
 "nbformat_minor": 5
}
