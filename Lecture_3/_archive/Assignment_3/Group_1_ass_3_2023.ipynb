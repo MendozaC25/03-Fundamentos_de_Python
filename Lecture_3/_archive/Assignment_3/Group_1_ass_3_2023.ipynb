{
 "cells": [
  {
   "cell_type": "markdown",
   "id": "1adc52f1",
   "metadata": {},
   "source": [
    "# Assigment 3\n",
    "## Students:\n",
    "### Fiorella\n",
    "### Vivian\n",
    "### Julissa\n",
    "### César"
   ]
  },
  {
   "cell_type": "code",
   "execution_count": 1,
   "id": "e7639eaa",
   "metadata": {},
   "outputs": [],
   "source": [
    "import os\n",
    "import os\n",
    "import pickle\n",
    "import pandas as pd\n",
    "import numpy as np\n",
    "import urllib.request"
   ]
  },
  {
   "cell_type": "markdown",
   "id": "303b14e9",
   "metadata": {},
   "source": [
    "1. Import the REC0111.sav, RE223132.sav and RE516171.sav files and their variables and values labels from this path \"../../_data/endes/2019\". The name of imported files should be named as rec_1, rec_2 and rec_3 for files REC0111.sav, RE223132.sav and RE516171.sav respectively. The name of the variable and value labels should be var_labels1 and value_labels1 for rec1, var_labels2 and value_labels2 for rec2, and var_labels3 and value_labels3 for rec3. Hint: See the section 3.3.4 of the lecture 3"
   ]
  },
  {
   "cell_type": "code",
   "execution_count": 2,
   "id": "41f439a8",
   "metadata": {},
   "outputs": [
    {
     "name": "stdout",
     "output_type": "stream",
     "text": [
      "Requirement already satisfied: pyreadstat in c:\\users\\julis\\anaconda3\\lib\\site-packages (1.2.5)\n",
      "Requirement already satisfied: pandas>=1.2.0 in c:\\users\\julis\\anaconda3\\lib\\site-packages (from pyreadstat) (2.0.3)\n",
      "Requirement already satisfied: python-dateutil>=2.8.2 in c:\\users\\julis\\anaconda3\\lib\\site-packages (from pandas>=1.2.0->pyreadstat) (2.8.2)\n",
      "Requirement already satisfied: pytz>=2020.1 in c:\\users\\julis\\anaconda3\\lib\\site-packages (from pandas>=1.2.0->pyreadstat) (2023.3.post1)\n",
      "Requirement already satisfied: tzdata>=2022.1 in c:\\users\\julis\\anaconda3\\lib\\site-packages (from pandas>=1.2.0->pyreadstat) (2023.3)\n",
      "Requirement already satisfied: numpy>=1.21.0 in c:\\users\\julis\\anaconda3\\lib\\site-packages (from pandas>=1.2.0->pyreadstat) (1.24.3)\n",
      "Requirement already satisfied: six>=1.5 in c:\\users\\julis\\anaconda3\\lib\\site-packages (from python-dateutil>=2.8.2->pandas>=1.2.0->pyreadstat) (1.16.0)\n",
      "Requirement already satisfied: savReaderWriter in c:\\users\\julis\\anaconda3\\lib\\site-packages (3.4.2)\n"
     ]
    }
   ],
   "source": [
    "!pip install pyreadstat\n",
    "!pip install savReaderWriter"
   ]
  },
  {
   "cell_type": "markdown",
   "id": "550858cb",
   "metadata": {},
   "source": [
    "2. Select the following columns for each data set:\n",
    "Data\tColumns\n",
    "rec1\tCASEID, V000, V001, V002, V003, V004, V007, V008, V009, V010, V011, V012, V024, V102, V120, V121, V122, V123, V124, V125, V127, V133\n",
    "rec2\tCASEID, V201, V218, V301, V302, V323, V323A, V325A, V326, V327, V337, V359, V360, V361, V362, V363, V364, V367, V372, V372A, V375A, V376, V376A, V379, V380\n",
    "rec3\tCASEID, V501, V502, V503, V504, V505, V506, V507, V508, V509, V510, V511, V512, V513, V525, V613, V714, V715\n",
    "Additioanlly, you should update the variables and value labels objects. They must have information only for the selected columns. The new dataframes should be name as rec1_1, rec2_1, and rec3_1. The new varible labels objects should be named as new_var_labels1, new_var_labels2, and new_var_labels3. The new value labels objects should be named as new_value_labels1, new_value_labels2, and new_value_labels3 Hint: Use the loc and column names to filter. Update the dictionary."
   ]
  },
  {
   "cell_type": "code",
   "execution_count": 3,
   "id": "809472e1",
   "metadata": {},
   "outputs": [],
   "source": [
    "path = 'C:\\\\Users\\\\julis\\\\Documents\\\\GitHub\\\\Diplomado_PUCP\\\\_data\\\\endes\\\\2019'\n",
    "\n",
    "import pandas as pd\n",
    "import pyreadstat\n",
    "import os\n",
    "\n",
    "path = 'C:\\\\Users\\\\julis\\\\Documents\\\\GitHub\\\\Diplomado_PUCP\\\\_data\\\\endes\\\\2019'\n",
    "\n",
    "file_names = [\"REC0111.sav\", \"RE223132.sav\", \"RE516171.sav\"]\n",
    "\n",
    "rec_data = {}\n",
    "var_labels = {}\n",
    "value_labels = {}\n",
    "\n",
    "for idx, file_name in enumerate(file_names):\n",
    "    file_path = os.path.join(path, file_name)\n",
    "    \n",
    "    df, meta = pyreadstat.read_sav(file_path)\n",
    "    \n",
    "    rec_data[f\"rec_{idx+1}\"] = df\n",
    "    \n",
    "    var_labels[f\"var_labels{idx+1}\"] = meta.column_labels\n",
    "    value_labels[f\"value_labels{idx+1}\"] = meta.variable_value_labels\n",
    "\n",
    "rec_1 = rec_data[\"rec_1\"]\n",
    "rec_2 = rec_data[\"rec_2\"]\n",
    "rec_3 = rec_data[\"rec_3\"]\n",
    "\n",
    "var_labels1 = var_labels[\"var_labels1\"]\n",
    "var_labels2 = var_labels[\"var_labels2\"]\n",
    "var_labels3 = var_labels[\"var_labels3\"]\n",
    "\n",
    "value_labels1 = value_labels[\"value_labels1\"]\n",
    "value_labels2 = value_labels[\"value_labels2\"]\n",
    "value_labels3 = value_labels[\"value_labels3\"]"
   ]
  },
  {
   "cell_type": "code",
   "execution_count": 4,
   "id": "427a1d23",
   "metadata": {},
   "outputs": [],
   "source": [
    "columns_rec1 = ['CASEID', 'V000', 'V001', 'V002', 'V003', 'V004', 'V007', 'V008', 'V009', 'V010',\n",
    "                'V011', 'V012', 'V024', 'V102', 'V120', 'V121', 'V122', 'V123', 'V124', 'V125', 'V127', 'V133']\n",
    "rec1_selected = rec_1[columns_rec1]\n",
    "\n",
    "columns_rec2 = ['CASEID', 'V201', 'V218', 'V301', 'V302', 'V323', 'V323A', 'V325A', 'V326', 'V327',\n",
    "                'V337', 'V359', 'V360', 'V361', 'V362', 'V363', 'V364', 'V367', 'V372', 'V372A',\n",
    "                'V375A', 'V376', 'V376A', 'V379', 'V380']\n",
    "rec2_selected = rec_2[columns_rec2]\n",
    "\n",
    "columns_rec3 = ['CASEID', 'V501', 'V502', 'V503', 'V504', 'V505', 'V506', 'V507', 'V508', 'V509',\n",
    "                'V510', 'V511', 'V512', 'V513', 'V525', 'V613', 'V714', 'V715']\n",
    "rec3_selected = rec_3[columns_rec3]"
   ]
  },
  {
   "cell_type": "code",
   "execution_count": 5,
   "id": "73095158",
   "metadata": {},
   "outputs": [],
   "source": [
    "new_var_labels1 = [label for label in var_labels1 if label in columns_rec1]\n",
    "new_value_labels1 = [value_label for value_label in value_labels1 if value_label in columns_rec1]\n",
    "new_var_labels2 = [label for label in var_labels2 if label in columns_rec2]\n",
    "new_value_labels2 = [value_label for value_label in value_labels2 if value_label in columns_rec2]\n",
    "new_var_labels3 = [label for label in var_labels3 if label in columns_rec3]\n",
    "new_value_labels3 = [value_label for value_label in value_labels3 if value_label in columns_rec3]\n",
    "\n",
    "rec1_1 = rec_1[columns_rec1]\n",
    "rec2_1 = rec_2[columns_rec2]\n",
    "rec3_1 = rec_3[columns_rec3]"
   ]
  },
  {
   "cell_type": "markdown",
   "id": "c61cf208",
   "metadata": {},
   "source": [
    "3. Generate a new column for rec1_1 named as year. It should be equal to 2019. Also, you must update this new variable for the var_labels dictionary. Generate a new key for new_var_labels1 and the value for this key should be \"Year of the survey\" Hint: Use loc and update method."
   ]
  },
  {
   "cell_type": "code",
   "execution_count": 7,
   "id": "825b6046",
   "metadata": {},
   "outputs": [
    {
     "name": "stdout",
     "output_type": "stream",
     "text": [
      "               CASEID V000  V001  V002  V003  V004    V007    V008  V009  \\\n",
      "0        000100201  2  PE6   1.0   2.0   2.0   1.0  2019.0  1434.0   4.0   \n",
      "1        000100201  3  PE6   1.0   2.0   3.0   1.0  2019.0  1434.0   1.0   \n",
      "2        000102801  2  PE6   1.0  28.0   2.0   1.0  2019.0  1434.0   6.0   \n",
      "3        000102801  6  PE6   1.0  28.0   6.0   1.0  2019.0  1434.0   3.0   \n",
      "4        000104801  2  PE6   1.0  48.0   2.0   1.0  2019.0  1434.0   5.0   \n",
      "\n",
      "     V010  ...  V102  V120  V121  V122  V123  V124  V125  V127  V133  year  \n",
      "0  1986.0  ...   1.0   1.0   1.0   1.0   0.0   0.0   0.0  33.0  16.0  2019  \n",
      "1  2007.0  ...   1.0   1.0   1.0   1.0   0.0   0.0   0.0  33.0   6.0  2019  \n",
      "2  1983.0  ...   1.0   1.0   1.0   1.0   1.0   1.0   1.0  33.0  16.0  2019  \n",
      "3  1970.0  ...   1.0   1.0   1.0   1.0   1.0   1.0   1.0  33.0   4.0  2019  \n",
      "4  1991.0  ...   1.0   0.0   0.0   0.0   0.0   0.0   0.0  34.0   1.0  2019  \n",
      "\n",
      "[5 rows x 23 columns]\n",
      "{'year': 'Year of the survey'}\n"
     ]
    },
    {
     "name": "stderr",
     "output_type": "stream",
     "text": [
      "C:\\Users\\julis\\AppData\\Local\\Temp\\ipykernel_10348\\1626478686.py:4: SettingWithCopyWarning: \n",
      "A value is trying to be set on a copy of a slice from a DataFrame.\n",
      "Try using .loc[row_indexer,col_indexer] = value instead\n",
      "\n",
      "See the caveats in the documentation: https://pandas.pydata.org/pandas-docs/stable/user_guide/indexing.html#returning-a-view-versus-a-copy\n",
      "  rec1_1['year'] = 2019  # Updating the 'year' column in rec1_1 to have the value 2019\n"
     ]
    }
   ],
   "source": [
    "new_var_labels1 = {'year': \"Year of the survey\"}\n",
    "\n",
    "# Assuming rec1_1 is your DataFrame\n",
    "rec1_1['year'] = 2019  # Updating the 'year' column in rec1_1 to have the value 2019\n",
    "\n",
    "# Update variable labels for the 'year' column\n",
    "new_var_labels1['year'] = \"Year of the survey\"\n",
    "\n",
    "# Display the updated DataFrame and variable labels\n",
    "print(rec1_1.head())  # Display the first few records of the DataFrame rec1_1\n",
    "print(new_var_labels1)  # Display the updated variable labels"
   ]
  },
  {
   "cell_type": "code",
   "execution_count": null,
   "id": "5bf0c7f4",
   "metadata": {},
   "outputs": [],
   "source": []
  }
 ],
 "metadata": {
  "kernelspec": {
   "display_name": "Python 3 (ipykernel)",
   "language": "python",
   "name": "python3"
  },
  "language_info": {
   "codemirror_mode": {
    "name": "ipython",
    "version": 3
   },
   "file_extension": ".py",
   "mimetype": "text/x-python",
   "name": "python",
   "nbconvert_exporter": "python",
   "pygments_lexer": "ipython3",
   "version": "3.11.5"
  }
 },
 "nbformat": 4,
 "nbformat_minor": 5
}
